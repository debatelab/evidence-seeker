{
 "cells": [
  {
   "cell_type": "code",
   "execution_count": 3,
   "metadata": {},
   "outputs": [
    {
     "name": "stdout",
     "output_type": "stream",
     "text": [
      "🌍 To view the Phoenix app in your browser, visit http://localhost:6006/\n",
      "📖 For more information on how to use Phoenix, check out https://docs.arize.com/phoenix\n"
     ]
    },
    {
     "data": {
      "text/plain": [
       "<phoenix.session.session.ThreadSession at 0x74d0edb5e950>"
      ]
     },
     "execution_count": 3,
     "metadata": {},
     "output_type": "execute_result"
    }
   ],
   "source": [
    "# observability\n",
    "import phoenix as px\n",
    "px.launch_app()\n"
   ]
  },
  {
   "cell_type": "code",
   "execution_count": 4,
   "metadata": {},
   "outputs": [],
   "source": [
    "import llama_index.core\n",
    "llama_index.core.set_global_handler(\"arize_phoenix\", endpoint=\"http://localhost:6006/v1/traces\")"
   ]
  },
  {
   "cell_type": "code",
   "execution_count": null,
   "metadata": {},
   "outputs": [
    {
     "name": "stderr",
     "output_type": "stream",
     "text": [
      "\u001b[32m2025-06-30 10:21:22.652\u001b[0m | \u001b[33m\u001b[1mWARNING \u001b[0m | \u001b[36mevidence_seeker.retrieval.config\u001b[0m:\u001b[36mcheck_hub_token_name\u001b[0m:\u001b[36m112\u001b[0m - \u001b[33m\u001b[1mCheck whether you need a HF hub token for saving/loading your index to/from the Hugging Face Hub. If you need one, set an `hub_key_name` in the retriever config and provide the token as an environment variable with that name.\u001b[0m\n",
      "\u001b[32m2025-06-30 10:21:22.653\u001b[0m | \u001b[33m\u001b[1mWARNING \u001b[0m | \u001b[36mevidence_seeker.retrieval.config\u001b[0m:\u001b[36mload_env_file\u001b[0m:\u001b[36m138\u001b[0m - \u001b[33m\u001b[1mNo environment file with API keys specified for retriever. Please set 'env_file' to a valid path if you want to load environment variables from a file.\u001b[0m\n"
     ]
    },
    {
     "data": {
      "text/plain": [
       "534"
      ]
     },
     "execution_count": 3,
     "metadata": {},
     "output_type": "execute_result"
    }
   ],
   "source": [
    "# save default config\n",
    "\n",
    "import pathlib\n",
    "import yaml\n",
    "\n",
    "from evidence_seeker import RetrievalConfig\n",
    "\n",
    "#configfile = pathlib.Path(\"../configs/retrieval_config_default.yaml\")\n",
    "#configfile = pathlib.Path(\"../src/evidence_seeker/package_data/config/retrieval_config.yaml\")\n",
    "\n",
    "default_config = RetrievalConfig(\n",
    "    index_persist_path=\"../TMP/APUZ_PART/storage\",\n",
    ")\n",
    "default_config_dict = default_config.model_dump()\n",
    "\n",
    "configfile.write_text(yaml.dump(default_config_dict))"
   ]
  },
  {
   "cell_type": "code",
   "execution_count": 4,
   "metadata": {},
   "outputs": [
    {
     "name": "stderr",
     "output_type": "stream",
     "text": [
      "WARNING: All log messages before absl::InitializeLog() is called are written to STDERR\n",
      "I0000 00:00:1733235587.689908   36823 fork_posix.cc:75] Other threads are currently calling into gRPC, skipping fork() handlers\n",
      "I0000 00:00:1733235588.305768   36823 fork_posix.cc:75] Other threads are currently calling into gRPC, skipping fork() handlers\n"
     ]
    },
    {
     "name": "stdout",
     "output_type": "stream",
     "text": [
      "  % Total    % Received % Xferd  Average Speed   Time    Time     Time  Current\n",
      "                                 Dload  Upload   Total   Spent    Left  Speed\n",
      "100 30.9M  100 30.9M    0     0  23.0M      0  0:00:01  0:00:01 --:--:-- 23.1M\n"
     ]
    }
   ],
   "source": [
    "# Download IPCC report\n",
    "!mkdir -p ../TMP\n",
    "!curl https://www.ipcc.ch/report/ar6/wg1/downloads/report/IPCC_AR6_WGI_TS.pdf --output ../TMP/IPCC_AR6_WGI_TS.pdf"
   ]
  },
  {
   "cell_type": "code",
   "execution_count": 1,
   "metadata": {},
   "outputs": [
    {
     "data": {
      "application/vnd.jupyter.widget-view+json": {
       "model_id": "c6184ecbcb9747dd858ab906798bbcdb",
       "version_major": 2,
       "version_minor": 0
      },
      "text/plain": [
       "modules.json:   0%|          | 0.00/349 [00:00<?, ?B/s]"
      ]
     },
     "metadata": {},
     "output_type": "display_data"
    },
    {
     "data": {
      "application/vnd.jupyter.widget-view+json": {
       "model_id": "679581245bfa463aafb7cc74188eb764",
       "version_major": 2,
       "version_minor": 0
      },
      "text/plain": [
       "config_sentence_transformers.json:   0%|          | 0.00/124 [00:00<?, ?B/s]"
      ]
     },
     "metadata": {},
     "output_type": "display_data"
    },
    {
     "data": {
      "application/vnd.jupyter.widget-view+json": {
       "model_id": "81d1372b465947e1a5c1a1d6f46b52a5",
       "version_major": 2,
       "version_minor": 0
      },
      "text/plain": [
       "README.md: 0.00B [00:00, ?B/s]"
      ]
     },
     "metadata": {},
     "output_type": "display_data"
    },
    {
     "data": {
      "application/vnd.jupyter.widget-view+json": {
       "model_id": "b0d71bb96594412493aa18a186daf9e1",
       "version_major": 2,
       "version_minor": 0
      },
      "text/plain": [
       "sentence_bert_config.json:   0%|          | 0.00/52.0 [00:00<?, ?B/s]"
      ]
     },
     "metadata": {},
     "output_type": "display_data"
    },
    {
     "data": {
      "application/vnd.jupyter.widget-view+json": {
       "model_id": "b1d28c71d9d64a36a1664925464e52f2",
       "version_major": 2,
       "version_minor": 0
      },
      "text/plain": [
       "config.json:   0%|          | 0.00/743 [00:00<?, ?B/s]"
      ]
     },
     "metadata": {},
     "output_type": "display_data"
    },
    {
     "data": {
      "application/vnd.jupyter.widget-view+json": {
       "model_id": "a7bb7176ca2b4da287897dd5cb68e532",
       "version_major": 2,
       "version_minor": 0
      },
      "text/plain": [
       "model.safetensors:   0%|          | 0.00/133M [00:00<?, ?B/s]"
      ]
     },
     "metadata": {},
     "output_type": "display_data"
    },
    {
     "data": {
      "application/vnd.jupyter.widget-view+json": {
       "model_id": "77ef59116b444a1ba13e3a5babed749d",
       "version_major": 2,
       "version_minor": 0
      },
      "text/plain": [
       "tokenizer_config.json:   0%|          | 0.00/366 [00:00<?, ?B/s]"
      ]
     },
     "metadata": {},
     "output_type": "display_data"
    },
    {
     "data": {
      "application/vnd.jupyter.widget-view+json": {
       "model_id": "974cf72c0c0e486890eb88a4e59a9d4c",
       "version_major": 2,
       "version_minor": 0
      },
      "text/plain": [
       "vocab.txt: 0.00B [00:00, ?B/s]"
      ]
     },
     "metadata": {},
     "output_type": "display_data"
    },
    {
     "data": {
      "application/vnd.jupyter.widget-view+json": {
       "model_id": "5ecf910117124eb69c1447b2f2d6ef89",
       "version_major": 2,
       "version_minor": 0
      },
      "text/plain": [
       "tokenizer.json: 0.00B [00:00, ?B/s]"
      ]
     },
     "metadata": {},
     "output_type": "display_data"
    },
    {
     "data": {
      "application/vnd.jupyter.widget-view+json": {
       "model_id": "e74fdc091cbb4b88b65d5ba799d33c98",
       "version_major": 2,
       "version_minor": 0
      },
      "text/plain": [
       "special_tokens_map.json:   0%|          | 0.00/125 [00:00<?, ?B/s]"
      ]
     },
     "metadata": {},
     "output_type": "display_data"
    },
    {
     "data": {
      "application/vnd.jupyter.widget-view+json": {
       "model_id": "8124e07330bc40f5b5cea1e8cf4a84c7",
       "version_major": 2,
       "version_minor": 0
      },
      "text/plain": [
       "config.json:   0%|          | 0.00/190 [00:00<?, ?B/s]"
      ]
     },
     "metadata": {},
     "output_type": "display_data"
    }
   ],
   "source": [
    "from llama_index.embeddings.huggingface import HuggingFaceEmbedding\n",
    "\n",
    "# loads https://huggingface.co/BAAI/bge-small-en-v1.5\n",
    "embed_model = HuggingFaceEmbedding(model_name=\"BAAI/bge-small-en-v1.5\", token=False)"
   ]
  },
  {
   "cell_type": "code",
   "execution_count": null,
   "metadata": {},
   "outputs": [
    {
     "name": "stderr",
     "output_type": "stream",
     "text": [
      "\u001b[32m2025-07-20 16:39:17.751\u001b[0m | \u001b[1mINFO    \u001b[0m | \u001b[36mevidence_seeker.retrieval.config\u001b[0m:\u001b[36mload_env_file\u001b[0m:\u001b[36m159\u001b[0m - \u001b[1mLoaded environment variables from '../.env'\u001b[0m\n",
      "\u001b[32m2025-07-20 16:39:17.795\u001b[0m | \u001b[1mINFO    \u001b[0m | \u001b[36mevidence_seeker.retrieval.config\u001b[0m:\u001b[36mload_env_file\u001b[0m:\u001b[36m159\u001b[0m - \u001b[1mLoaded environment variables from '../.env'\u001b[0m\n",
      "\u001b[32m2025-07-20 16:39:17.801\u001b[0m | \u001b[1mINFO    \u001b[0m | \u001b[36mevidence_seeker.retrieval.base\u001b[0m:\u001b[36mload_index\u001b[0m:\u001b[36m164\u001b[0m - \u001b[1mUsing index persist path: ../TMP/APUZ/storage\u001b[0m\n",
      "\u001b[32m2025-07-20 16:39:17.817\u001b[0m | \u001b[1mINFO    \u001b[0m | \u001b[36mevidence_seeker.retrieval.base\u001b[0m:\u001b[36mload_index\u001b[0m:\u001b[36m192\u001b[0m - \u001b[1mLoading index from disk at ../TMP/APUZ/storage/index\u001b[0m\n"
     ]
    },
    {
     "name": "stdout",
     "output_type": "stream",
     "text": [
      "Loading llama_index.core.storage.kvstore.simple_kvstore from ../TMP/APUZ/storage/index/docstore.json.\n",
      "Loading llama_index.core.storage.kvstore.simple_kvstore from ../TMP/APUZ/storage/index/index_store.json.\n"
     ]
    }
   ],
   "source": [
    "from evidence_seeker import (\n",
    "    RetrievalConfig,\n",
    "    DocumentRetriever,\n",
    "    CheckedClaim,\n",
    ")\n",
    "\n",
    "config_inference_api = RetrievalConfig(\n",
    "    embed_backend_type=\"huggingface_inference_api\",\n",
    "    embed_model_name=\"sentence-transformers/paraphrase-multilingual-mpnet-base-v2\",\n",
    "    embed_base_url=\"https://router.huggingface.co/hf-inference/models/sentence-transformers/paraphrase-multilingual-mpnet-base-v2\",\n",
    "    api_key_name=\"hf_debatelab_inference_provider\",\n",
    "    bill_to=\"DebateLabKIT\",\n",
    "    ### PATHS and keys ### \n",
    "    index_hub_path=\"DebateLabKIT/apuz-index-es\",\n",
    "    index_persist_path=\"../TMP/APUZ/storage\",\n",
    "    # index_persist_path=None,  # use tmp directory\n",
    "    hub_key_name=\"hf_evse_data\",\n",
    "    env_file=\"../.env\"\n",
    ")\n",
    "config_local_retriever = RetrievalConfig(\n",
    "    ### Local model (via Huggingface) ###\n",
    "    embed_backend_type=\"huggingface\",\n",
    "    embed_model_name=\"sentence-transformers/paraphrase-multilingual-mpnet-base-v2\",\n",
    "    ### Local model via Ollama ###\n",
    "    # embed_base_url=\"http://localhost:11434\",\n",
    "    # embed_backend_type=\"ollama\",\n",
    "    # embed_model_name=\"bge-m3\"\n",
    "    ### PATHS and keys ### \n",
    "    index_hub_path=\"DebateLabKIT/apuz-index-es\",\n",
    "    index_persist_path=\"../TMP/APUZ/storage\",\n",
    "    # index_persist_path=None,  # use tmp directory\n",
    "    hub_key_name=\"hf_evse_data\",\n",
    "    env_file=\"../.env\"\n",
    ")\n",
    "\n",
    "retriever = DocumentRetriever(\n",
    "    config=config_inference_api,\n",
    "    # config=config_local_retriever,\n",
    ")"
   ]
  },
  {
   "cell_type": "code",
   "execution_count": 2,
   "metadata": {},
   "outputs": [],
   "source": [
    "claim = CheckedClaim(\n",
    "    text=\"Die Osterweiterung der EU hat zu einer Schwächung der EU geführt\",\n",
    "    negation=\"Die Osterweiterung der EU hat nicht zu einer Schwächung der EU geführt\",\n",
    "    uid=\"123\"\n",
    ")\n",
    "claim = CheckedClaim(\n",
    "    text=\"Die russische Regierung verbreitet keine Desinformation\",\n",
    "    negation=\"Die russische Regierung verbreitet keine Desinformation\",\n",
    "    uid=\"123\"\n",
    ")\n",
    "docs = await retriever.retrieve_documents(claim)"
   ]
  },
  {
   "cell_type": "code",
   "execution_count": 3,
   "metadata": {},
   "outputs": [
    {
     "data": {
      "text/plain": [
       "[Document(text='[4]\\nSchätzungsweise 90 Prozent der Bewohnerinnen und Bewohner Transnistriens besitzen einen moldauischen Pass, und auch die Anzahl der beantragten\\nmoldauische Führerscheine steigt beständig.  Die Loyalität der transnistrischen Bevölkerung gegenüber den Behörden in ihrer Hauptstadt Tiraspol oder\\ngegenüber Russland scheint zudem fraglich zu sein, was sich auch daran festmachen lässt, dass es Menschen gab, die die abtrünnige Region verließen, nachdem\\neine Meldung über eine Mobilmachung in Umlauf geriet, was sich später als Fehlinformation herausstellen sollte.  In der in Transnistrien stationierten russischen\\n\"Friedenstruppe\" gibt es keine Rotation, und die meisten \"Friedensschützer\" bestehen aus in Transnistrien ansässigen Personen mit russischer\\nStaatsbürgerschaft. [5] Dennoch ist die Bevölkerung nach wie vor empfänglich für Desinformation, und es steht zu befürchten, dass der Kreml dies weiter\\nausnutzt.  Ein Beispiel dafür war etwa der Abgeordnetenkongress in Tiraspol im Februar 2024, der internationale Spekulationen darüber auslöste, ob Transnistrien\\nRussland um formale Anerkennung und eine militärische \"Schutzintervention\" bitten würde.  Es kam nicht dazu, die Delegierten beschäftigten sich in erster Linie\\nmit der Verschlechterung der Wirtschaftslage.  Hintergrund war die Entscheidung der Behörden in Chișinău, die Zollbefreiungen für transnistrische Unternehmen\\naufzuheben und sie damit den Unternehmen am rechten Ufer des Dnister-Flusses gleichzustellen. ', uid='405d9ac7-209d-4e39-ab07-1838a338974c', metadata={'page_label': '2', 'file_name': 'anastasia_fragile_2024.pdf', 'author': 'Anastasia, Pociumban', 'title': 'Fragile {Stabilität}', 'url': 'https://www.bpb.de/shop/zeitschriften/apuz/republik-moldau-2024/550126/fragile-stabilitaet/', 'year': '2024', 'month': 'July', 'journal': 'Aus Politik und Zeitgeschichte (APuZ)', 'original_text': '[5] Dennoch ist die Bevölkerung nach wie vor empfänglich für Desinformation, und es steht zu befürchten, dass der Kreml dies weiter\\nausnutzt. '}),\n",
       " Document(text='Schaffung einer neuen, künstlichen Identität\\nWenn sich die Identität eines Menschen verändert, ist dieser Wandel vielleicht nicht auf den ersten Blick sichtbar, aber er bestimmt künftige Verhaltensmuster.  Auch Gruppen können\\neinem solchen Wandel ausgesetzt sein, wenn man ihnen das Wertvollste – ihre Freiheit – nimmt und sie unterwirft und belügt.  So verfährt Russland mit den Bewohnern der Krim, denn es\\nempfindet ihre ausgeprägte ukrainische und krimtatarische Identität als bedrohlich.\\n Von Anfang an unterdrückte Russland die Meinungsfreiheit, um die Verbreitung von unabhängigen Informationen zu verhindern.  Bis 2014 hatte es einen Boom krimtatarischer Medien\\ngegeben, der maßgeblich zur Belebung der krimtatarischen Kultur beitrug.  Hörer und Leser konnten zahlreiche Beiträge zu den unterschiedlichsten Themen in ihrer Muttersprache\\nrezipieren.  Gleichzeitig wurden ukrainischsprachige Medien gegründet, und die ukrainischen Leitmedien unterhielten Niederlassungen auf der Halbinsel. ', uid='4a98452a-86c1-4b6c-99d2-f563de757aef', metadata={'page_label': '3', 'file_name': 'aliev_zwischen_2024.pdf', 'author': 'Aliev, Alim', 'title': 'Zwischen {Angst} und {Widerstand}', 'url': 'https://www.bpb.de/shop/zeitschriften/apuz/krim-2024/545056/zwischen-angst-und-widerstand/', 'year': '2024', 'month': 'February', 'journal': 'Aus Politik und Zeitgeschichte (APuZ)', 'original_text': 'Von Anfang an unterdrückte Russland die Meinungsfreiheit, um die Verbreitung von unabhängigen Informationen zu verhindern. '}),\n",
       " Document(text='Die lokalen\\nAnhänger Russlands, und davon gab es in Sewastopol sicherlich mehr als an jedem anderen ukrainischen Ort, nannten ihren Widerstand „gegen die Ukrainisierung“ die „dritte\\nVerteidigung“ von Sewastopol.  Nach der Annexion wurde dieser Begriff zu einem Teil des offiziellen Narrativs. [9]\\n„Die Krim war schon immer russisch“\\nDass die Krim „schon immer russisch“ gewesen sei, ist wohl der am weitesten verbreitete Krim-Mythos.  Die Tatsache, dass sich eine solche Sichtweise trotz ihrer offensichtlichen\\nahistorischen Absurdität etablieren konnte, zeugt von Russlands außerordentlicher Effizienz beim Vertreiben der Völker und beim Umschreiben der Geschichte.  Die muslimischen\\nKrimtataren passten von Anfang an nicht ins Bild vom Garten Eden.  Die neue Macht wollte das eroberte Land nicht nur unterwerfen, sie wollte es vor allem mit neuen Inhalten und\\nneuen Menschen füllen.  So begann schon Grigori Potjomkin, die Krimtataren zu vertreiben und orthodoxe Christen auf die Krim zu bringen.', uid='8fd27544-33dc-434d-a70a-4c37756d5f00', metadata={'page_label': '2', 'file_name': 'klimeniouk_gibt_2024.pdf', 'author': 'Klimeniouk, Nikolai', 'title': 'Gibt es ein {Russland} ohne {Krim}?', 'url': 'https://www.bpb.de/shop/zeitschriften/apuz/krim-2024/545058/gibt-es-ein-russland-ohne-krim/', 'year': '2024', 'month': 'February', 'journal': 'Aus Politik und Zeitgeschichte (APuZ)', 'original_text': 'Die Tatsache, dass sich eine solche Sichtweise trotz ihrer offensichtlichen\\nahistorischen Absurdität etablieren konnte, zeugt von Russlands außerordentlicher Effizienz beim Vertreiben der Völker und beim Umschreiben der Geschichte. '}),\n",
       " Document(text='Gleichzeitig wurden ukrainischsprachige Medien gegründet, und die ukrainischen Leitmedien unterhielten Niederlassungen auf der Halbinsel.  Nach 2014 mussten diese\\nMedien aufgrund des umfassenden Drucks, der Repressionen gegen Journalisten und des Entzugs von Sende- und Drucklizenzen durch die russische Regulierungsbehörde entweder\\nnach Kyjiw übersiedeln, wie etwa der erste krimtatarische Fernsehsender ATR, die Schwarzmeer-TV-und-Radio-Gesellschaft und die Nachrichtenagentur QHA, oder im Eigenverlag mit\\nkleinen Auflagen und ohne Vertriebsnetz halblegal weiterarbeiten.  Viele freie Journalisten haben die Halbinsel verlassen; wer geblieben ist, schreibt zumeist unter Pseudonym, andere\\nhaben ihren Beruf aufgegeben.  Die Besatzungsbehörden haben inzwischen neue ukrainische und krimtatarische Medien ins Leben gerufen, die russische Propaganda verbreiten und auf\\nDesinformation programmiert sind.  Dies war der erste Schritt zur Isolierung der Halbinsel und zur Formung kremltreuer Untertanen.\\n Darüber hinaus setzt die russische neoimperiale Politik darauf, die historischen und kulturellen Bindungen der Krim an das ukrainische Festland zu zerstören und die Halbinsel in allen\\nBelangen Russland zu unterwerfen.  So wurde etwa der Besuch der Wahllokale bei der Wahl zu den Gemeinderäten der Russländischen Föderation überwacht. ', uid='54192164-9916-4843-9bee-62e55ffa7f1f', metadata={'page_label': '3', 'file_name': 'aliev_zwischen_2024.pdf', 'author': 'Aliev, Alim', 'title': 'Zwischen {Angst} und {Widerstand}', 'url': 'https://www.bpb.de/shop/zeitschriften/apuz/krim-2024/545056/zwischen-angst-und-widerstand/', 'year': '2024', 'month': 'February', 'journal': 'Aus Politik und Zeitgeschichte (APuZ)', 'original_text': 'Die Besatzungsbehörden haben inzwischen neue ukrainische und krimtatarische Medien ins Leben gerufen, die russische Propaganda verbreiten und auf\\nDesinformation programmiert sind. '}),\n",
       " Document(text='Es handelt sich zwar um eine prorussische Exklave mit russischem Militär, zugleich besteht – zumindest\\nbislang – keine Verkehrsverbindung zu Russland.  Die Schließung der Grenze zur Ukraine nach Beginn der russischen Großinvasion ermöglicht es der Republik\\nMoldau, durch ökonomischen Druck eine Wiedereingliederung Transnistriens in die Republik Moldau voranzutreiben.\\n Beide abtrünnigen Territorien bilden zugleich Gefahrenherde für die moldauische Demokratie und die Pläne für eine europäische Integration.  Russland\\nunternimmt große Kraftanstrengungen, um durch Desinformation Einfluss zu nehmen – allerdings beschränkt sich diese nicht auf die beiden separatistischen\\nGebiete, sondern wirkt in der gesamten Republik Moldau.  Zugleich versucht Letztere mit Unterstützung der EU und den USA dem entgegenzuwirken und bis\\n2030 tatsächlich Teil der Union zu werden.  Die Präsidentschaftswahlen und das Referendum im Herbst 2024 dürften bestimmend dafür sein.  Derzeit zeichnet sich\\njedenfalls trotz Russlands Bemühungen ein \"Ja\" zum EU-Beitritt in der Bevölkerung ab.\\n', uid='05b98b75-478e-44d6-92db-171ef00c4e52', metadata={'page_label': '4', 'file_name': 'yelizaveta_teile_2024.pdf', 'author': 'Yelizaveta, Landenberger', 'title': 'Teile und herrsche', 'url': 'https://www.bpb.de/shop/zeitschriften/apuz/republik-moldau-2024/550128/teile-und-herrsche/', 'year': '2024', 'month': 'July', 'journal': 'Aus Politik und Zeitgeschichte (APuZ)', 'original_text': 'Russland\\nunternimmt große Kraftanstrengungen, um durch Desinformation Einfluss zu nehmen – allerdings beschränkt sich diese nicht auf die beiden separatistischen\\nGebiete, sondern wirkt in der gesamten Republik Moldau. '}),\n",
       " Document(text='Innenpolitisch steht an oberster Stelle die Stärkung des gesellschaftlichen Zusammenhalts.  Denn eine weitere Fragmentierung der Gesellschaft und\\nAbdriften gesellschaftlicher Gruppen oder gar ganzer Landesteile bedeutet nicht nur eine Schwächung der nationalen Identität, sondern birgt letztlich auch ein\\nSicherheitsrisiko. [30] Russland versucht das Land weiter zu destabilisieren, um es in den eigenen Einflussbereich zurückzuziehen.  So wurden im Frühjahr 2023\\ninterne Strategiepapiere aus dem Kreml bekannt, die Pläne offenbarten, wie die russische Einflussnahme in zentralen staatlichen Bereichen ausgeweitet und der\\nEinfluss anderer externer Akteure zurückgedrängt werden könnte. [31]\\nZentral für die politische Entwicklung sowie Ausrichtung der moldauischen Sicherheits- und Verteidigungspolitik bleibt die in Artikel 11, Absatz 1 der Verfassung\\nfestgeschriebene permanente Neutralität.  Verfassungsrechtlich umfasst dies ein ausdrückliches Verbot, ausländische Truppen auf dem Staatsgebiet zu\\nstationieren.  Das Neutralitätsgebot wird im Land seit einigen Jahren kontrovers diskutiert. ', uid='14f3ca3f-35fd-495a-8851-a0067611a08a', metadata={'page_label': '4', 'file_name': 'nadja_machtfragen_2024.pdf', 'author': 'Nadja, Douglas', 'title': 'Machtfragen und ihre {Aushandlung}', 'url': 'https://www.bpb.de/shop/zeitschriften/apuz/republik-moldau-2024/550127/machtfragen-und-ihre-aushandlung/', 'year': '2024', 'month': 'July', 'journal': 'Aus Politik und Zeitgeschichte (APuZ)', 'original_text': 'So wurden im Frühjahr 2023\\ninterne Strategiepapiere aus dem Kreml bekannt, die Pläne offenbarten, wie die russische Einflussnahme in zentralen staatlichen Bereichen ausgeweitet und der\\nEinfluss anderer externer Akteure zurückgedrängt werden könnte.'}),\n",
       " Document(text='Obwohl der Başkan von Amtes wegen Mitglied der moldauischen Regierung ist,\\nhat Präsidentin Maia Sandu die gewählte Gouverneurin Evghenia Guțul immer noch nicht in die Regierung aufgenommen.  Diese Verzögerung ist möglich, da das\\nGesetz keinen konkreten Zeitrahmen vorgibt, innerhalb dessen die Aufnahme erfolgen muss.\\n Die Wahlen in dem kleinen Gagausien wurden in russischen Staatsmedien ausführlich und einseitig behandelt.  Es waren offensichtliche Parallelen zur russischen\\nBerichterstattung über die Ukraine zu beobachten: Das \"Regime Maia Sandus\" wurde beschuldigt, die russischsprachige Bevölkerung in Gagausien zu\\nbenachteiligen, politische Gegner zu unterdrücken und \"russophob\" zu sein.  Die staatliche russische Nachrichtenagentur RIA Novosti titelte sogar am 5.  Mai:\\n\"Fatale Entscheidung.  Moldau bewegt sich auf einen Bürgerkrieg zu.', uid='01cbffe3-412e-4394-8b56-b3a468c6d198', metadata={'page_label': '3', 'file_name': 'yelizaveta_teile_2024.pdf', 'author': 'Yelizaveta, Landenberger', 'title': 'Teile und herrsche', 'url': 'https://www.bpb.de/shop/zeitschriften/apuz/republik-moldau-2024/550128/teile-und-herrsche/', 'year': '2024', 'month': 'July', 'journal': 'Aus Politik und Zeitgeschichte (APuZ)', 'original_text': 'Es waren offensichtliche Parallelen zur russischen\\nBerichterstattung über die Ukraine zu beobachten: Das \"Regime Maia Sandus\" wurde beschuldigt, die russischsprachige Bevölkerung in Gagausien zu\\nbenachteiligen, politische Gegner zu unterdrücken und \"russophob\" zu sein. '}),\n",
       " Document(text='Sie empfanden das als Verrat und machten Chruschtschow persönlich dafür verantwortlich.  Eine Generation\\nspäter waren diese schmerzhaften Erfahrungen nicht mehr akut, die Kränkung aber blieb im kollektiven Gedächtnis und wurde auf den Transfer der Krim an die Ukraine als die\\neinzige nachhaltige Folge der Reformen projiziert.  Eine Rolle mag auch gespielt haben, dass Chruschtschows Nachfolger ihn als exzentrisch und „voluntaristisch“ darstellten.  Wenn\\nalso heute die Vertreter der offiziellen Linie behaupten, die russische Bevölkerung der Krim habe die Übertragung an die Ukraine immer als illegitim betrachtet, haben sie nicht ganz\\nunrecht. [19]\\nPutin knüpfte in seiner Annexions-Rede 2014 ebenfalls an die Tradition an, Chruschtschow zum Sündenbock für alles Mögliche zu machen: „Ob es ihm darum ging, die\\nUnterstützung der ukrainischen Nomenklatura zu gewinnen oder die Organisation der Massenrepressionen in der Ukraine in den 1930er Jahren wiedergutzumachen – damit sollen\\nsich die Historiker befassen.  Für uns ist noch etwas anderes wichtig: Diese Entscheidung wurde unter klarer Verletzung der schon damals geltenden Verfassungsnormen\\ngetroffen. \"[20]\\nGibt es ein Russland ohne Krim? ', uid='c49cd3c2-ddb2-4a64-9990-9fa1eb7cfcc3', metadata={'page_label': '3', 'file_name': 'klimeniouk_gibt_2024.pdf', 'author': 'Klimeniouk, Nikolai', 'title': 'Gibt es ein {Russland} ohne {Krim}?', 'url': 'https://www.bpb.de/shop/zeitschriften/apuz/krim-2024/545058/gibt-es-ein-russland-ohne-krim/', 'year': '2024', 'month': 'February', 'journal': 'Aus Politik und Zeitgeschichte (APuZ)', 'original_text': 'Wenn\\nalso heute die Vertreter der offiziellen Linie behaupten, die russische Bevölkerung der Krim habe die Übertragung an die Ukraine immer als illegitim betrachtet, haben sie nicht ganz\\nunrecht.'})]"
      ]
     },
     "execution_count": 3,
     "metadata": {},
     "output_type": "execute_result"
    }
   ],
   "source": [
    "docs"
   ]
  },
  {
   "cell_type": "code",
   "execution_count": 6,
   "metadata": {},
   "outputs": [
    {
     "data": {
      "text/markdown": [
       "- `yelizaveta_teile_2024.pdf` (S. 4): \"Russland\n",
       "unternimmt große Kraftanstrengungen, um durch Desinformation Einfluss zu nehmen – allerdings beschränkt sich diese nicht auf die beiden separatistischen\n",
       "Gebiete, sondern wirkt in der gesamten Republik Moldau. \"\n",
       "- `anastasia_fragile_2024.pdf` (S. 2): \"[5] Dennoch ist die Bevölkerung nach wie vor empfänglich für Desinformation, und es steht zu befürchten, dass der Kreml dies weiter\n",
       "ausnutzt. \"\n",
       "- `anastasia_fragile_2024.pdf` (S. 1): \"Desinformationskampagnen Russlands und schwindender Konsens im\n",
       "Land schwächen den proeuropäischen Kurs der Regierung.\n",
       "\"\n",
       "- `m_krieg_2024.pdf` (S. 4): \"Aus internen Kreml-Dokumenten, die westliche Geheimdienste im Frühjahr 2024 veröffentlichten, ging hervor, dass im Rahmen einer laufenden\n",
       "Desinformationskampagne politische Strategen und Internet-Trolle Tausende von gefälschten Nachrichtenartikeln, Beiträgen in sozialen Medien und\n",
       "Kommentaren produzierten. \"\n",
       "- `yelizaveta_teile_2024.pdf` (S. 3): \"Es waren offensichtliche Parallelen zur russischen\n",
       "Berichterstattung über die Ukraine zu beobachten: Das \"Regime Maia Sandus\" wurde beschuldigt, die russischsprachige Bevölkerung in Gagausien zu\n",
       "benachteiligen, politische Gegner zu unterdrücken und \"russophob\" zu sein. \"\n",
       "- `nadja_machtfragen_2024.pdf` (S. 4): \"Russische Desinformationskampagnen und populistische Forderungen von\n",
       "Șor fielen auf fruchtbaren Boden.\n",
       "\"\n",
       "- `m_krieg_2024.pdf` (S. 5): \"Support for Ukraine, Kremlin Documents Show, 8.4.2024, http://www.washingtonpost.com/\n",
       "world/2024/04/08/russia-propaganda-us-ukraine.\n",
       "\"\n",
       "- `yelizaveta_teile_2024.pdf` (S. 2): \"Das Ergebnis hängt stark davon ab, inwieweit es Russland und seinen Lügen gelingt, die\n",
       "moldauischen Wähler*innen mit Desinformation zu beeinflussen.\"\n"
      ],
      "text/plain": [
       "<IPython.core.display.Markdown object>"
      ]
     },
     "metadata": {},
     "output_type": "display_data"
    }
   ],
   "source": [
    "from IPython.display import Markdown, display\n",
    "template_added_metadata = ('- {author}: \"{original_text}\" [(Quelle)]({url})\\n')\n",
    "template_automated_metadata = ('- `{file_name}` (S. {page_label}): \"{original_text}\"\\n')\n",
    "t = ''\n",
    "if \"url\" in docs[0].metadata.keys():\n",
    "    document_template = template_added_metadata\n",
    "else:\n",
    "    document_template = template_automated_metadata\n",
    "for doc in docs:\n",
    "    t += (document_template.format(**doc.metadata))\n",
    "display(Markdown(t))"
   ]
  }
 ],
 "metadata": {
  "kernelspec": {
   "display_name": "evse-dev_env.py3.12",
   "language": "python",
   "name": "python3"
  },
  "language_info": {
   "codemirror_mode": {
    "name": "ipython",
    "version": 3
   },
   "file_extension": ".py",
   "mimetype": "text/x-python",
   "name": "python",
   "nbconvert_exporter": "python",
   "pygments_lexer": "ipython3",
   "version": "3.12.9"
  }
 },
 "nbformat": 4,
 "nbformat_minor": 2
}
