{
 "cells": [
  {
   "cell_type": "code",
   "execution_count": 3,
   "metadata": {},
   "outputs": [
    {
     "name": "stdout",
     "output_type": "stream",
     "text": [
      "🌍 To view the Phoenix app in your browser, visit http://localhost:6006/\n",
      "📖 For more information on how to use Phoenix, check out https://docs.arize.com/phoenix\n"
     ]
    },
    {
     "data": {
      "text/plain": [
       "<phoenix.session.session.ThreadSession at 0x74d0edb5e950>"
      ]
     },
     "execution_count": 3,
     "metadata": {},
     "output_type": "execute_result"
    }
   ],
   "source": [
    "# observability\n",
    "import phoenix as px\n",
    "px.launch_app()\n"
   ]
  },
  {
   "cell_type": "code",
   "execution_count": 4,
   "metadata": {},
   "outputs": [],
   "source": [
    "import llama_index.core\n",
    "llama_index.core.set_global_handler(\"arize_phoenix\", endpoint=\"http://localhost:6006/v1/traces\")"
   ]
  },
  {
   "cell_type": "code",
   "execution_count": null,
   "metadata": {},
   "outputs": [
    {
     "name": "stderr",
     "output_type": "stream",
     "text": [
      "None of PyTorch, TensorFlow >= 2.0, or Flax have been found. Models won't be available and only tokenizers, configuration and file/data utilities can be used.\n"
     ]
    },
    {
     "data": {
      "text/plain": [
       "556"
      ]
     },
     "execution_count": 1,
     "metadata": {},
     "output_type": "execute_result"
    }
   ],
   "source": [
    "# save default config\n",
    "\n",
    "import pathlib\n",
    "import yaml\n",
    "\n",
    "from evidence_seeker.retrieval import RetrievalConfig\n",
    "\n",
    "configfile = pathlib.Path(\"../configs/retrieval_config_default.yaml\")\n",
    "\n",
    "default_config = RetrievalConfig()\n",
    "default_config_dict = default_config.model_dump()\n",
    "\n",
    "#configfile.write_text(yaml.dump(default_config_dict))"
   ]
  },
  {
   "cell_type": "code",
   "execution_count": 4,
   "metadata": {},
   "outputs": [
    {
     "name": "stderr",
     "output_type": "stream",
     "text": [
      "WARNING: All log messages before absl::InitializeLog() is called are written to STDERR\n",
      "I0000 00:00:1733235587.689908   36823 fork_posix.cc:75] Other threads are currently calling into gRPC, skipping fork() handlers\n",
      "I0000 00:00:1733235588.305768   36823 fork_posix.cc:75] Other threads are currently calling into gRPC, skipping fork() handlers\n"
     ]
    },
    {
     "name": "stdout",
     "output_type": "stream",
     "text": [
      "  % Total    % Received % Xferd  Average Speed   Time    Time     Time  Current\n",
      "                                 Dload  Upload   Total   Spent    Left  Speed\n",
      "100 30.9M  100 30.9M    0     0  23.0M      0  0:00:01  0:00:01 --:--:-- 23.1M\n"
     ]
    }
   ],
   "source": [
    "# Download IPCC report\n",
    "!mkdir -p ../TMP\n",
    "!curl https://www.ipcc.ch/report/ar6/wg1/downloads/report/IPCC_AR6_WGI_TS.pdf --output ../TMP/IPCC_AR6_WGI_TS.pdf"
   ]
  },
  {
   "cell_type": "code",
   "execution_count": 2,
   "metadata": {},
   "outputs": [
    {
     "data": {
      "text/plain": [
       "True"
      ]
     },
     "execution_count": 2,
     "metadata": {},
     "output_type": "execute_result"
    }
   ],
   "source": [
    "import dotenv\n",
    "import os\n",
    "dotenv.load_dotenv()\n",
    "\"HF_TOKEN\" in os.environ or print(\"Please set the HF_TOKEN environment variable in .env file\")"
   ]
  },
  {
   "cell_type": "code",
   "execution_count": 1,
   "metadata": {},
   "outputs": [
    {
     "name": "stderr",
     "output_type": "stream",
     "text": [
      "\u001b[32m2025-05-16 10:20:07.806\u001b[0m | \u001b[1mINFO    \u001b[0m | \u001b[36mevidence_seeker.retrieval.base\u001b[0m:\u001b[36mload_index\u001b[0m:\u001b[36m127\u001b[0m - \u001b[1mLoading index from disk at ../TMP/APUZ/storage/index\u001b[0m\n"
     ]
    }
   ],
   "source": [
    "from evidence_seeker.retrieval import RetrievalConfig\n",
    "from evidence_seeker.retrieval import DocumentRetriever\n",
    "from evidence_seeker.datamodels import CheckedClaim\n",
    "\n",
    "config = RetrievalConfig(\n",
    "    # Huggingface API\n",
    "    #embed_base_url=\"https://ibpp4xgm0kspxkjb.us-east-1.aws.endpoints.huggingface.cloud\",\n",
    "    #embed_base_url=\"http://127.0.0.1:1234/v1\",\n",
    "    #embed_model_name=\"sentence-transformers/paraphrase-multilingual-mpnet-base-v2\",\n",
    "    #index_persist_path=\"../../apuz-index-es/index\",\n",
    "    # Local model (via Huggingface API)\n",
    "    embed_backend_type=\"huggingface\",\n",
    "    embed_model_name=\"sentence-transformers/paraphrase-multilingual-mpnet-base-v2\",\n",
    "    #index_persist_path=\"../TMP/APUZ_PART/storage\",\n",
    "    index_persist_path=\"../TMP/APUZ/storage\",\n",
    "    # Local model via Ollama\n",
    "    #base_url=\"http://localhost:11434\",\n",
    "    #embed_backend_type=\"ollama\",\n",
    "    #embed_model_name=\"bge-m3\"\n",
    ")\n",
    "retriever = DocumentRetriever(\n",
    "    config=config,\n",
    ")"
   ]
  },
  {
   "cell_type": "code",
   "execution_count": 2,
   "metadata": {},
   "outputs": [],
   "source": [
    "claim = CheckedClaim(\n",
    "    text=\"Die Osterweiterung der EU hat zu einer Schwächung der EU geführt\",\n",
    "    negation=\"Die Osterweiterung der EU hat nicht zu einer Schwächung der EU geführt\",\n",
    "    uid=\"123\"\n",
    ")\n",
    "claim = CheckedClaim(\n",
    "    text=\"Die russische Regierung verbreitet keine Desinformation\",\n",
    "    negation=\"Die russische Regierung verbreitet keine Desinformation\",\n",
    "    uid=\"123\"\n",
    ")\n",
    "docs = await retriever.retrieve_documents(claim)"
   ]
  },
  {
   "cell_type": "code",
   "execution_count": 3,
   "metadata": {},
   "outputs": [
    {
     "data": {
      "text/plain": [
       "[Document(text='Es handelt sich zwar um eine prorussische Exklave mit russischem Militär, zugleich besteht – zumindest\\nbislang – keine Verkehrsverbindung zu Russland.  Die Schließung der Grenze zur Ukraine nach Beginn der russischen Großinvasion ermöglicht es der Republik\\nMoldau, durch ökonomischen Druck eine Wiedereingliederung Transnistriens in die Republik Moldau voranzutreiben.\\n Beide abtrünnigen Territorien bilden zugleich Gefahrenherde für die moldauische Demokratie und die Pläne für eine europäische Integration.  Russland\\nunternimmt große Kraftanstrengungen, um durch Desinformation Einfluss zu nehmen – allerdings beschränkt sich diese nicht auf die beiden separatistischen\\nGebiete, sondern wirkt in der gesamten Republik Moldau.  Zugleich versucht Letztere mit Unterstützung der EU und den USA dem entgegenzuwirken und bis\\n2030 tatsächlich Teil der Union zu werden.  Die Präsidentschaftswahlen und das Referendum im Herbst 2024 dürften bestimmend dafür sein.  Derzeit zeichnet sich\\njedenfalls trotz Russlands Bemühungen ein \"Ja\" zum EU-Beitritt in der Bevölkerung ab.\\n', uid='cc5ad3ce-f54a-4743-8a24-c26d00c1d78d', metadata={'page_label': '4', 'file_name': 'yelizaveta_teile_2024.pdf', 'original_text': 'Russland\\nunternimmt große Kraftanstrengungen, um durch Desinformation Einfluss zu nehmen – allerdings beschränkt sich diese nicht auf die beiden separatistischen\\nGebiete, sondern wirkt in der gesamten Republik Moldau. '}),\n",
       " Document(text='[4]\\nSchätzungsweise 90 Prozent der Bewohnerinnen und Bewohner Transnistriens besitzen einen moldauischen Pass, und auch die Anzahl der beantragten\\nmoldauische Führerscheine steigt beständig.  Die Loyalität der transnistrischen Bevölkerung gegenüber den Behörden in ihrer Hauptstadt Tiraspol oder\\ngegenüber Russland scheint zudem fraglich zu sein, was sich auch daran festmachen lässt, dass es Menschen gab, die die abtrünnige Region verließen, nachdem\\neine Meldung über eine Mobilmachung in Umlauf geriet, was sich später als Fehlinformation herausstellen sollte.  In der in Transnistrien stationierten russischen\\n\"Friedenstruppe\" gibt es keine Rotation, und die meisten \"Friedensschützer\" bestehen aus in Transnistrien ansässigen Personen mit russischer\\nStaatsbürgerschaft. [5] Dennoch ist die Bevölkerung nach wie vor empfänglich für Desinformation, und es steht zu befürchten, dass der Kreml dies weiter\\nausnutzt.  Ein Beispiel dafür war etwa der Abgeordnetenkongress in Tiraspol im Februar 2024, der internationale Spekulationen darüber auslöste, ob Transnistrien\\nRussland um formale Anerkennung und eine militärische \"Schutzintervention\" bitten würde.  Es kam nicht dazu, die Delegierten beschäftigten sich in erster Linie\\nmit der Verschlechterung der Wirtschaftslage.  Hintergrund war die Entscheidung der Behörden in Chișinău, die Zollbefreiungen für transnistrische Unternehmen\\naufzuheben und sie damit den Unternehmen am rechten Ufer des Dnister-Flusses gleichzustellen. ', uid='8867e198-d05d-4ca7-bee0-779a62d682eb', metadata={'page_label': '2', 'file_name': 'anastasia_fragile_2024.pdf', 'original_text': '[5] Dennoch ist die Bevölkerung nach wie vor empfänglich für Desinformation, und es steht zu befürchten, dass der Kreml dies weiter\\nausnutzt. '}),\n",
       " Document(text='Die Partei des Oligarchen wurde im Sommer 2023\\nzwar für verfassungswidrig erklärt und aufgelöst, was seine Bemühungen, die politische Landschaft aufzumischen, teilweise erschwerte.  Seinem Einfluss hat dies\\njedoch keinen Abbruch getan – es entstanden neue Parteien, die mit ihm in Verbindung stehen, und die Gefahr einer Destabilisierung bleibt hoch, solange es\\neinen Zustrom von Finanzmitteln aus Moskau gibt.\\n Fragile Stabilität\\nAnastasia Pociumban\\n03.07.2024 / 14 Minuten zu lesen\\nSicherheit und wirtschaftlicher Aufschwung sind die zwei größten politischen Herausforderungen, die die\\nRepublik Moldau derzeit umtreiben.  Desinformationskampagnen Russlands und schwindender Konsens im\\nLand schwächen den proeuropäischen Kurs der Regierung.\\n Fragile Stabilität | Republik Moldau | bpb.de https://www.bpb.de/shop/zeitschriften/apuz/republik-moldau-2024/5501...\\n1 von 5 12.12.2024, 16:53', uid='c00a53dd-efc8-4b57-a9db-e77697fc91fd', metadata={'page_label': '1', 'file_name': 'anastasia_fragile_2024.pdf', 'original_text': 'Desinformationskampagnen Russlands und schwindender Konsens im\\nLand schwächen den proeuropäischen Kurs der Regierung.\\n'}),\n",
       " Document(text='Zielstaaten zu verbreiten, um dort die Polarisierung zu verstärken und neue politische Gräben aufzuwerfen. [12] Das ist oft bemerkenswert einfach, da politische\\nAkteure im Inland dieselben nichtfaktischen Informationen verbreiten, mitunter verwenden sie sogar unwissentlich Material, das von außen bereitgestellt wurde.\\n Aus internen Kreml-Dokumenten, die westliche Geheimdienste im Frühjahr 2024 veröffentlichten, ging hervor, dass im Rahmen einer laufenden\\nDesinformationskampagne politische Strategen und Internet-Trolle Tausende von gefälschten Nachrichtenartikeln, Beiträgen in sozialen Medien und\\nKommentaren produzierten.  Alle sollten Ängste in Bezug auf die Grenzsicherheit schüren und die wirtschaftlichen Sorgen und rassistischen Spannungen in den\\nZielländern verschärfen. [13] Ein wesentliches Ziel der Kampagne bestand darin, Politikerinnen und Politiker in Europa und den USA dazu zu bringen, die vom\\nKreml erstellten fiktiven Geschichten zu wiederholen und den Falschmeldungen so mehr Autorität und Legitimität zu verleihen.  Die auf Angst basierenden\\nBotschaften über Migration, Kriminalität und mangelnden Grenzschutz erhalten dadurch noch mehr Gewicht. ', uid='e9de8888-f84e-4740-b274-7fbb87097153', metadata={'page_label': '4', 'file_name': 'm_krieg_2024.pdf', 'original_text': 'Aus internen Kreml-Dokumenten, die westliche Geheimdienste im Frühjahr 2024 veröffentlichten, ging hervor, dass im Rahmen einer laufenden\\nDesinformationskampagne politische Strategen und Internet-Trolle Tausende von gefälschten Nachrichtenartikeln, Beiträgen in sozialen Medien und\\nKommentaren produzierten. '}),\n",
       " Document(text='Obwohl der Başkan von Amtes wegen Mitglied der moldauischen Regierung ist,\\nhat Präsidentin Maia Sandu die gewählte Gouverneurin Evghenia Guțul immer noch nicht in die Regierung aufgenommen.  Diese Verzögerung ist möglich, da das\\nGesetz keinen konkreten Zeitrahmen vorgibt, innerhalb dessen die Aufnahme erfolgen muss.\\n Die Wahlen in dem kleinen Gagausien wurden in russischen Staatsmedien ausführlich und einseitig behandelt.  Es waren offensichtliche Parallelen zur russischen\\nBerichterstattung über die Ukraine zu beobachten: Das \"Regime Maia Sandus\" wurde beschuldigt, die russischsprachige Bevölkerung in Gagausien zu\\nbenachteiligen, politische Gegner zu unterdrücken und \"russophob\" zu sein.  Die staatliche russische Nachrichtenagentur RIA Novosti titelte sogar am 5.  Mai:\\n\"Fatale Entscheidung.  Moldau bewegt sich auf einen Bürgerkrieg zu.', uid='e486d519-2fc1-4af0-b9ea-9ec9027b87f5', metadata={'page_label': '3', 'file_name': 'yelizaveta_teile_2024.pdf', 'original_text': 'Es waren offensichtliche Parallelen zur russischen\\nBerichterstattung über die Ukraine zu beobachten: Das \"Regime Maia Sandus\" wurde beschuldigt, die russischsprachige Bevölkerung in Gagausien zu\\nbenachteiligen, politische Gegner zu unterdrücken und \"russophob\" zu sein. '}),\n",
       " Document(text='Die Polizeigewalt erreichte eine neue Dimension, so auch die Politisierung der\\nPolizei und des Innenministeriums unter der von Plahotniuc kontollierten PDM-Regierung. [29]\\nIm Winter 2022/23 kam es infolge des Krieges in der Ukraine, der galoppierenden Inflation, die zeitweilig bei 25 Prozent lag, und vor allem wegen der hohen\\nEnergiepreise erneut zu massiven sozialen Protesten, die Tausende auf die Straße brachten.  Diese Proteste waren zwar spontan, wurden aber teilweise von\\nprorussischen Kräften im Land, vornehmlich der Șor-Partei, befeuert und gesteuert.  Russische Desinformationskampagnen und populistische Forderungen von\\nȘor fielen auf fruchtbaren Boden.\\n Künftige Herausforderungen\\nDie demokratische Entwicklung der Republik Moldau steht in den kommenden Jahren vor gewaltigen Herausforderungen.  2024 werden entscheidende Weichen\\ngestellt.  Innenpolitisch steht an oberster Stelle die Stärkung des gesellschaftlichen Zusammenhalts. ', uid='5c38390a-97d1-41f6-90ce-89875c1539ea', metadata={'page_label': '4', 'file_name': 'nadja_machtfragen_2024.pdf', 'original_text': 'Russische Desinformationskampagnen und populistische Forderungen von\\nȘor fielen auf fruchtbaren Boden.\\n'}),\n",
       " Document(text='Leaked Records Detail Vast Russian Influence Campaign Targeting Ukraine, EU, 17.9.2024, http://www.rferl.org/a/33123498.html.\\n [13]\\nVgl.  Catherine Belton/Joseph Menn, Russian Trolls Target U.S.  Support for Ukraine, Kremlin Documents Show, 8.4.2024, http://www.washingtonpost.com/\\nworld/2024/04/08/russia-propaganda-us-ukraine.\\n [14]\\nVgl.  Kelly M. Greenhill, Extra-Factual Information, in: Alessandro Nai/Max Grömping/Dominique Wirz (Hrsg. ), Elgar Encyclopedia of Political Communication,\\nLondon (i.E.).\\n', uid='8c692c39-158a-4ea3-9ebc-9680cfd95f8b', metadata={'page_label': '5', 'file_name': 'm_krieg_2024.pdf', 'original_text': 'Support for Ukraine, Kremlin Documents Show, 8.4.2024, http://www.washingtonpost.com/\\nworld/2024/04/08/russia-propaganda-us-ukraine.\\n'}),\n",
       " Document(text='Der Rest ist unentschieden oder plant, nicht zu wählen. [7] Valeriu\\nPașa von WatchDog mahnt jedoch zur Vorsicht.  Auf Nachfrage hin sagt er: \"Ich glaube nicht, dass das Ergebnis völlig sicher ist, weil es eine sehr große, von\\nRussland unterstützte Kampagne gegen den EU-Beitritt gibt.  Das Ergebnis hängt stark davon ab, inwieweit es Russland und seinen Lügen gelingt, die\\nmoldauischen Wähler*innen mit Desinformation zu beeinflussen. \"[8]\\n\"Stopp EU\"\\nTatsächlich scheinen aktuell die prorussischen Kräfte im Land alles dafür zu tun, dass das ambitionierte Ziel eines EU-Beitritts der Republik Moldau bis 2030\\nnicht erreicht wird.  So fand etwa eine Woche vor der Anhörung Evghenia Guțuls, am 18.  Mai, das \"Festival der Völkerfreundschaft\" statt, wo die von Russland\\ninitiierte Eurasische Wirtschaftsunion (EAWU) als Gegenmodell zur EU beworben wurde. ', uid='5eeef44b-05e7-450b-b006-ce52f34e2abc', metadata={'page_label': '2', 'file_name': 'yelizaveta_teile_2024.pdf', 'original_text': 'Das Ergebnis hängt stark davon ab, inwieweit es Russland und seinen Lügen gelingt, die\\nmoldauischen Wähler*innen mit Desinformation zu beeinflussen.'})]"
      ]
     },
     "execution_count": 3,
     "metadata": {},
     "output_type": "execute_result"
    }
   ],
   "source": [
    "docs"
   ]
  },
  {
   "cell_type": "code",
   "execution_count": null,
   "metadata": {},
   "outputs": [],
   "source": []
  },
  {
   "cell_type": "code",
   "execution_count": null,
   "metadata": {},
   "outputs": [],
   "source": []
  }
 ],
 "metadata": {
  "kernelspec": {
   "display_name": "dev_env",
   "language": "python",
   "name": "python3"
  },
  "language_info": {
   "codemirror_mode": {
    "name": "ipython",
    "version": 3
   },
   "file_extension": ".py",
   "mimetype": "text/x-python",
   "name": "python",
   "nbconvert_exporter": "python",
   "pygments_lexer": "ipython3",
   "version": "3.10.16"
  }
 },
 "nbformat": 4,
 "nbformat_minor": 2
}
