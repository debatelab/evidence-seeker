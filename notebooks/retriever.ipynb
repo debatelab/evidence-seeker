{
 "cells": [
  {
   "cell_type": "code",
   "execution_count": 2,
   "metadata": {},
   "outputs": [
    {
     "name": "stdout",
     "output_type": "stream",
     "text": [
      "🌍 To view the Phoenix app in your browser, visit http://localhost:6006/\n",
      "📖 For more information on how to use Phoenix, check out https://docs.arize.com/phoenix\n"
     ]
    },
    {
     "data": {
      "text/plain": [
       "<phoenix.session.session.ThreadSession at 0x10b7797f0>"
      ]
     },
     "execution_count": 2,
     "metadata": {},
     "output_type": "execute_result"
    }
   ],
   "source": [
    "# observability\n",
    "import phoenix as px\n",
    "px.launch_app()\n"
   ]
  },
  {
   "cell_type": "code",
   "execution_count": 3,
   "metadata": {},
   "outputs": [],
   "source": [
    "import llama_index.core\n",
    "llama_index.core.set_global_handler(\"arize_phoenix\", endpoint=\"http://localhost:6006/v1/traces\")"
   ]
  },
  {
   "cell_type": "code",
   "execution_count": 1,
   "metadata": {},
   "outputs": [
    {
     "name": "stderr",
     "output_type": "stream",
     "text": [
      "None of PyTorch, TensorFlow >= 2.0, or Flax have been found. Models won't be available and only tokenizers, configuration and file/data utilities can be used.\n"
     ]
    },
    {
     "data": {
      "text/plain": [
       "556"
      ]
     },
     "execution_count": 1,
     "metadata": {},
     "output_type": "execute_result"
    }
   ],
   "source": [
    "# save default config\n",
    "\n",
    "import pathlib\n",
    "import yaml\n",
    "\n",
    "from evidence_seeker.retrieval import RetrievalConfig\n",
    "\n",
    "configfile = pathlib.Path(\"../configs/retrieval_config_default.yaml\")\n",
    "\n",
    "default_config = RetrievalConfig()\n",
    "default_config_dict = default_config.model_dump()\n",
    "\n",
    "configfile.write_text(yaml.dump(default_config_dict))"
   ]
  },
  {
   "cell_type": "code",
   "execution_count": 1,
   "metadata": {},
   "outputs": [
    {
     "name": "stderr",
     "output_type": "stream",
     "text": [
      "None of PyTorch, TensorFlow >= 2.0, or Flax have been found. Models won't be available and only tokenizers, configuration and file/data utilities can be used.\n"
     ]
    }
   ],
   "source": [
    "from evidence_seeker.retrieval import DocumentRetriever\n",
    "from evidence_seeker.datamodels import CheckedClaim"
   ]
  },
  {
   "cell_type": "code",
   "execution_count": 4,
   "metadata": {},
   "outputs": [
    {
     "name": "stderr",
     "output_type": "stream",
     "text": [
      "WARNING: All log messages before absl::InitializeLog() is called are written to STDERR\n",
      "I0000 00:00:1733235587.689908   36823 fork_posix.cc:75] Other threads are currently calling into gRPC, skipping fork() handlers\n",
      "I0000 00:00:1733235588.305768   36823 fork_posix.cc:75] Other threads are currently calling into gRPC, skipping fork() handlers\n"
     ]
    },
    {
     "name": "stdout",
     "output_type": "stream",
     "text": [
      "  % Total    % Received % Xferd  Average Speed   Time    Time     Time  Current\n",
      "                                 Dload  Upload   Total   Spent    Left  Speed\n",
      "100 30.9M  100 30.9M    0     0  23.0M      0  0:00:01  0:00:01 --:--:-- 23.1M\n"
     ]
    }
   ],
   "source": [
    "# Download IPCC report\n",
    "!mkdir -p ../TMP\n",
    "!curl https://www.ipcc.ch/report/ar6/wg1/downloads/report/IPCC_AR6_WGI_TS.pdf --output ../TMP/IPCC_AR6_WGI_TS.pdf"
   ]
  },
  {
   "cell_type": "code",
   "execution_count": 2,
   "metadata": {},
   "outputs": [
    {
     "data": {
      "text/plain": [
       "True"
      ]
     },
     "execution_count": 2,
     "metadata": {},
     "output_type": "execute_result"
    }
   ],
   "source": [
    "import dotenv\n",
    "import os\n",
    "dotenv.load_dotenv()\n",
    "\"HF_TOKEN\" in os.environ or print(\"Please set the HF_TOKEN environment variable in .env file\")"
   ]
  },
  {
   "cell_type": "code",
   "execution_count": 1,
   "metadata": {},
   "outputs": [
    {
     "name": "stdout",
     "output_type": "stream",
     "text": [
      "Package                                          Version        Editable project location\n",
      "------------------------------------------------ -------------- ---------------------------------\n",
      "aiohappyeyeballs                                 2.4.3\n",
      "aiohttp                                          3.11.7\n",
      "aioitertools                                     0.12.0\n",
      "aiosignal                                        1.3.1\n",
      "aiosqlite                                        0.20.0\n",
      "alembic                                          1.14.0\n",
      "annotated-types                                  0.7.0\n",
      "anyio                                            4.6.2.post1\n",
      "appnope                                          0.1.4\n",
      "argon2-cffi                                      23.1.0\n",
      "argon2-cffi-bindings                             21.2.0\n",
      "arize-phoenix                                    6.0.0\n",
      "arize-phoenix-evals                              0.17.5\n",
      "arize-phoenix-otel                               0.6.1\n",
      "arrow                                            1.3.0\n",
      "asttokens                                        3.0.0\n",
      "async-lru                                        2.0.4\n",
      "attrs                                            24.2.0\n",
      "Authlib                                          1.3.2\n",
      "babel                                            2.16.0\n",
      "beautifulsoup4                                   4.12.3\n",
      "bleach                                           6.2.0\n",
      "cachetools                                       5.5.0\n",
      "certifi                                          2024.8.30\n",
      "cffi                                             1.17.1\n",
      "charset-normalizer                               3.4.0\n",
      "click                                            8.1.7\n",
      "comm                                             0.2.2\n",
      "cryptography                                     44.0.0\n",
      "dataclasses-json                                 0.6.7\n",
      "debugpy                                          1.8.9\n",
      "decorator                                        5.1.1\n",
      "defusedxml                                       0.7.1\n",
      "Deprecated                                       1.2.15\n",
      "dirtyjson                                        1.0.8\n",
      "distro                                           1.9.0\n",
      "evidence-seeker                                  0.0.1          /Users/ggbetz/git/evidence-seeker\n",
      "executing                                        2.1.0\n",
      "fastapi                                          0.115.5\n",
      "fastjsonschema                                   2.21.1\n",
      "filelock                                         3.16.1\n",
      "filetype                                         1.2.0\n",
      "fqdn                                             1.5.1\n",
      "frozenlist                                       1.5.0\n",
      "fsspec                                           2024.10.0\n",
      "googleapis-common-protos                         1.66.0\n",
      "graphql-core                                     3.2.5\n",
      "greenlet                                         3.1.1\n",
      "grpc-interceptor                                 0.15.4\n",
      "grpcio                                           1.68.1\n",
      "h11                                              0.14.0\n",
      "httpcore                                         1.0.7\n",
      "httpx                                            0.27.2\n",
      "huggingface-hub                                  0.26.3\n",
      "idna                                             3.10\n",
      "importlib_metadata                               8.5.0\n",
      "iniconfig                                        2.0.0\n",
      "ipykernel                                        6.29.5\n",
      "ipython                                          8.30.0\n",
      "ipywidgets                                       8.1.5\n",
      "isoduration                                      20.11.0\n",
      "jedi                                             0.19.2\n",
      "Jinja2                                           3.1.4\n",
      "jiter                                            0.7.1\n",
      "joblib                                           1.4.2\n",
      "json5                                            0.10.0\n",
      "jsonpickle                                       4.0.0\n",
      "jsonpointer                                      3.0.0\n",
      "jsonschema                                       4.23.0\n",
      "jsonschema-specifications                        2024.10.1\n",
      "jupyter                                          1.1.1\n",
      "jupyter_client                                   8.6.3\n",
      "jupyter-console                                  6.6.3\n",
      "jupyter_core                                     5.7.2\n",
      "jupyter-events                                   0.10.0\n",
      "jupyter-lsp                                      2.2.5\n",
      "jupyter_server                                   2.14.2\n",
      "jupyter_server_terminals                         0.5.3\n",
      "jupyterlab                                       4.2.6\n",
      "jupyterlab_pygments                              0.3.0\n",
      "jupyterlab_server                                2.27.3\n",
      "jupyterlab_widgets                               3.0.13\n",
      "llama-cloud                                      0.1.5\n",
      "llama-index                                      0.12.1\n",
      "llama-index-agent-openai                         0.4.0\n",
      "llama-index-callbacks-arize-phoenix              0.3.0\n",
      "llama-index-cli                                  0.4.0\n",
      "llama-index-core                                 0.12.1\n",
      "llama-index-embeddings-openai                    0.3.0\n",
      "llama-index-embeddings-text-embeddings-inference 0.3.0\n",
      "llama-index-indices-managed-llama-cloud          0.6.2\n",
      "llama-index-legacy                               0.9.48.post4\n",
      "llama-index-llms-openai                          0.3.2\n",
      "llama-index-llms-openai-like                     0.3.0\n",
      "llama-index-multi-modal-llms-openai              0.3.0\n",
      "llama-index-program-openai                       0.3.1\n",
      "llama-index-question-gen-openai                  0.3.0\n",
      "llama-index-readers-file                         0.4.0\n",
      "llama-index-readers-llama-parse                  0.4.0\n",
      "llama-index-utils-huggingface                    0.3.0\n",
      "llama-index-utils-workflow                       0.3.0\n",
      "llama-parse                                      0.5.15\n",
      "loguru                                           0.7.3\n",
      "Mako                                             1.3.6\n",
      "MarkupSafe                                       3.0.2\n",
      "marshmallow                                      3.23.1\n",
      "matplotlib-inline                                0.1.7\n",
      "mistune                                          3.0.2\n",
      "multidict                                        6.1.0\n",
      "mypy-extensions                                  1.0.0\n",
      "nbclient                                         0.10.1\n",
      "nbconvert                                        7.16.4\n",
      "nbformat                                         5.10.4\n",
      "nest-asyncio                                     1.6.0\n",
      "networkx                                         3.4.2\n",
      "nltk                                             3.9.1\n",
      "notebook                                         7.2.2\n",
      "notebook_shim                                    0.2.4\n",
      "numpy                                            2.1.3\n",
      "openai                                           1.55.1\n",
      "openinference-instrumentation                    0.1.19\n",
      "openinference-instrumentation-llama-index        3.0.4\n",
      "openinference-semantic-conventions               0.1.12\n",
      "opentelemetry-api                                1.28.2\n",
      "opentelemetry-exporter-otlp                      1.28.2\n",
      "opentelemetry-exporter-otlp-proto-common         1.28.2\n",
      "opentelemetry-exporter-otlp-proto-grpc           1.28.2\n",
      "opentelemetry-exporter-otlp-proto-http           1.28.2\n",
      "opentelemetry-instrumentation                    0.49b2\n",
      "opentelemetry-proto                              1.28.2\n",
      "opentelemetry-sdk                                1.28.2\n",
      "opentelemetry-semantic-conventions               0.49b2\n",
      "overrides                                        7.7.0\n",
      "packaging                                        24.2\n",
      "pandas                                           2.2.3\n",
      "pandocfilters                                    1.5.1\n",
      "parso                                            0.8.4\n",
      "pexpect                                          4.9.0\n",
      "pillow                                           11.0.0\n",
      "pip                                              24.0\n",
      "platformdirs                                     4.3.6\n",
      "pluggy                                           1.5.0\n",
      "prometheus_client                                0.21.0\n",
      "prompt_toolkit                                   3.0.48\n",
      "propcache                                        0.2.0\n",
      "protobuf                                         5.29.0\n",
      "psutil                                           6.1.0\n",
      "ptyprocess                                       0.7.0\n",
      "pure_eval                                        0.2.3\n",
      "pyarrow                                          18.1.0\n",
      "pycparser                                        2.22\n",
      "pydantic                                         2.9.2\n",
      "pydantic_core                                    2.23.4\n",
      "Pygments                                         2.18.0\n",
      "pypdf                                            5.1.0\n",
      "pytest                                           8.3.3\n",
      "python-dateutil                                  2.9.0.post0\n",
      "python-dotenv                                    1.0.1\n",
      "python-json-logger                               2.0.7\n",
      "python-multipart                                 0.0.19\n",
      "pytz                                             2024.2\n",
      "pyvis                                            0.3.2\n",
      "PyYAML                                           6.0.2\n",
      "pyzmq                                            26.2.0\n",
      "referencing                                      0.35.1\n",
      "regex                                            2024.11.6\n",
      "requests                                         2.32.3\n",
      "rfc3339-validator                                0.1.4\n",
      "rfc3986-validator                                0.1.1\n",
      "rpds-py                                          0.22.0\n",
      "safetensors                                      0.4.5\n",
      "scikit-learn                                     1.5.2\n",
      "scipy                                            1.14.1\n",
      "Send2Trash                                       1.8.3\n",
      "setuptools                                       75.6.0\n",
      "six                                              1.16.0\n",
      "sniffio                                          1.3.1\n",
      "soupsieve                                        2.6\n",
      "SQLAlchemy                                       2.0.36\n",
      "sqlean.py                                        3.47.0\n",
      "stack-data                                       0.6.3\n",
      "starlette                                        0.41.3\n",
      "strawberry-graphql                               0.243.1\n",
      "striprtf                                         0.0.26\n",
      "tenacity                                         8.5.0\n",
      "terminado                                        0.18.1\n",
      "threadpoolctl                                    3.5.0\n",
      "tiktoken                                         0.8.0\n",
      "tinycss2                                         1.4.0\n",
      "tokenizers                                       0.20.3\n",
      "tornado                                          6.4.2\n",
      "tqdm                                             4.67.1\n",
      "traitlets                                        5.14.3\n",
      "transformers                                     4.46.3\n",
      "types-python-dateutil                            2.9.0.20241003\n",
      "typing_extensions                                4.12.2\n",
      "typing-inspect                                   0.9.0\n",
      "tzdata                                           2024.2\n",
      "uri-template                                     1.3.0\n",
      "urllib3                                          2.2.3\n",
      "uvicorn                                          0.32.1\n",
      "wcwidth                                          0.2.13\n",
      "webcolors                                        24.11.1\n",
      "webencodings                                     0.5.1\n",
      "websocket-client                                 1.8.0\n",
      "websockets                                       14.1\n",
      "widgetsnbextension                               4.0.13\n",
      "wrapt                                            1.16.0\n",
      "yarl                                             1.18.0\n",
      "zipp                                             3.21.0\n",
      "\n",
      "\u001b[1m[\u001b[0m\u001b[34;49mnotice\u001b[0m\u001b[1;39;49m]\u001b[0m\u001b[39;49m A new release of pip is available: \u001b[0m\u001b[31;49m24.0\u001b[0m\u001b[39;49m -> \u001b[0m\u001b[32;49m24.3.1\u001b[0m\n",
      "\u001b[1m[\u001b[0m\u001b[34;49mnotice\u001b[0m\u001b[1;39;49m]\u001b[0m\u001b[39;49m To update, run: \u001b[0m\u001b[32;49mpip install --upgrade pip\u001b[0m\n"
     ]
    }
   ],
   "source": [
    "!pip list"
   ]
  },
  {
   "cell_type": "code",
   "execution_count": 3,
   "metadata": {},
   "outputs": [],
   "source": [
    "claim = CheckedClaim(\n",
    "    text=\"Die Osterweiterung der EU hat zu einer Schwächung der EU geführt\",\n",
    "    negation=\"Die Osterweiterung der EU hat nicht zu einer Schwächung der EU geführt\",\n",
    "    uid=\"123\"\n",
    ")"
   ]
  },
  {
   "cell_type": "code",
   "execution_count": 4,
   "metadata": {},
   "outputs": [
    {
     "name": "stderr",
     "output_type": "stream",
     "text": [
      "\u001b[32m2024-12-14 15:24:17.182\u001b[0m | \u001b[1mINFO    \u001b[0m | \u001b[36mevidence_seeker.retrieval.base\u001b[0m:\u001b[36mload_index\u001b[0m:\u001b[36m94\u001b[0m - \u001b[1mLoading index from disk at ../TMP/APUZ/storage/index\u001b[0m\n"
     ]
    }
   ],
   "source": [
    "from evidence_seeker.retrieval import RetrievalConfig\n",
    "\n",
    "config = RetrievalConfig(\n",
    "    embed_base_url=\"https://ibpp4xgm0kspxkjb.us-east-1.aws.endpoints.huggingface.cloud\",\n",
    "    embed_model_name=\"sentence-transformers/paraphrase-multilingual-mpnet-base-v2\",\n",
    "    index_persist_path=\"../TMP/APUZ/storage/index\",\n",
    ")\n",
    "\n",
    "retriever = DocumentRetriever(\n",
    "    config=config,\n",
    ")"
   ]
  },
  {
   "cell_type": "code",
   "execution_count": 5,
   "metadata": {},
   "outputs": [],
   "source": [
    "docs = await retriever.retrieve_documents(claim)"
   ]
  },
  {
   "cell_type": "code",
   "execution_count": 6,
   "metadata": {},
   "outputs": [
    {
     "data": {
      "text/plain": [
       "[Document(text='Erst ein Abkommen mit der Türkei und eine Kaskade von Grenzschließungen im März und April 2016 brachten den Zustrom zum Erliegen.  Die\\nMassenankunft von syrischen Bürgerkriegsflüchtlingen, gemischt mit Flüchtenden und Migrant:innen aus verschiedenen anderen Krisengebieten Asiens und\\nAfrikas, aber auch aus Albanien und Kosovo, brachten verschiedene Schwachstellen des GEAS zutage.\\n Ein erster Befund in der Rückschau auf 2015 ist das Scheitern der Dublin-Regelung, also der Bestimmung der Zuständigkeit zur Durchführung von Asylverfahren,\\ndie jeweils bei dem Staat der Erstankunft innerhalb der Europäischen Union liegt.  Die Schwachstellen dieser mehrfach reformierten Regelung sind mit der EU-\\nErweiterung quasi mitgewachsen.  Denn während bei der Einführung der Dublin-Regelung noch eine überschaubare Gruppe von Mitgliedstaaten mit relativ\\nähnlichem Wohlstandsniveau Teil des Systems war, verlagerte sich die EU-Außengrenze und damit die Zuständigkeit für die Durchführung des Asylverfahrens\\n(zumindest bei einer Einreise über den Land- oder Seeweg) immer stärker in Staaten und Regionen, die im Wohlstandsniveau, aber auch in ihren asyl- und\\nmigrationsrechtlichen Kompetenzen, erheblich hinter den EU-Gründungsmitgliedern hinterherhinkten.  Die Folge waren Weiterreisen von Geflüchteten aus\\nErstankunftsländern wie Griechenland und wachsende Schwierigkeiten, Asylsuchende tatsächlich in die Staaten der Ersteinreise zurückzusenden, um dort das\\nAsylverfahren durchzuführen.  Das dafür vorgesehene Verfahren muss innerhalb von sechs Monaten nach der Einreise abgeschlossen sein und erfordert die\\nIdentifikation der Asylsuchenden und ihres Reiseweges, bestenfalls anhand von in der Europäischen Fingerabdruckdatenbank EURODAC hinterlegten Treffern,\\ndas Stellen eines Übernahmeersuchens an den EU-Staat der Ersteinreise, dessen Zustimmung und schließlich die Überführung der Asylsuchenden.\\n', uid='103a571b-15ae-4f1a-9639-ae833d6fb797', metadata={'page_label': '2', 'file_name': 'birgit_eu-migrations-_2024.pdf', 'original_text': 'Die Schwachstellen dieser mehrfach reformierten Regelung sind mit der EU-\\nErweiterung quasi mitgewachsen. '}),\n",
       " Document(text='[1] Die EU reagiert,\\nwenn Regierungen einen Antrag auf Aufnahme ihres Landes stellen oder dies ankündigen.  An Aspiranten gab und gibt es dabei keinen Mangel.  In allen\\nErweiterungsrunden seit 1973 machten sich zwar einzelne Mitgliedstaaten für den Beitritt des einen oder anderen Landes stark, aber von einer\\ngemeinschaftlichen, proaktiven Strategie gegenüber ausgesuchten europäischen Drittstaaten konnte nicht die Rede sein.  So spricht die EU traditionell von\\nErweiterung im Sinne einer Vergrößerung, jedoch nicht von Expansion, die eine zielgerichtete Aufnahme oder gar Rekrutierung von Ländern verfolgt. [2] Auch die\\nPraxis, mehrere Länder zum selben Zeitpunkt aufzunehmen, entsprang nicht einem geopolitischen Ansatz, wie es die Bezeichnungen \"Nord-\" oder\\n\"Süderweiterung\" nahelegen könnten.  Ohnehin befasste sich die EU im Zeichen von Grenzabbau und Transnationalität kaum mit der territorial-physischen\\nDimension des Binnenmarkts oder des Raums der Freiheit, der Sicherheit und des Rechts. [3]\\nErst mit Blick auf die nach 1989 möglich gewordene Osterweiterung entwickelte die EU eine umfassende Strategie, die die Europäische Kommission in der\\n\"Agenda 2000\"[4] skizzierte. ', uid='6b3fe8b3-839b-4724-a34c-e6654b9b4d45', metadata={'page_label': '1', 'file_name': 'barbara_strategische_2024.pdf', 'original_text': 'So spricht die EU traditionell von\\nErweiterung im Sinne einer Vergrößerung, jedoch nicht von Expansion, die eine zielgerichtete Aufnahme oder gar Rekrutierung von Ländern verfolgt.'}),\n",
       " Document(text='Die Erweiterungspolitik der EU und ihrer Vorläufergemeinschaften war bis zur Aufnahme der EFTA-Länder 1995 kaum strategisch angelegt. [1] Die EU reagiert,\\nwenn Regierungen einen Antrag auf Aufnahme ihres Landes stellen oder dies ankündigen.  An Aspiranten gab und gibt es dabei keinen Mangel.  In allen\\nErweiterungsrunden seit 1973 machten sich zwar einzelne Mitgliedstaaten für den Beitritt des einen oder anderen Landes stark, aber von einer\\ngemeinschaftlichen, proaktiven Strategie gegenüber ausgesuchten europäischen Drittstaaten konnte nicht die Rede sein. ', uid='9ebcf179-a44d-4e68-88c6-41d1dd3b6e8c', metadata={'page_label': '1', 'file_name': 'barbara_strategische_2024.pdf', 'original_text': 'Die Erweiterungspolitik der EU und ihrer Vorläufergemeinschaften war bis zur Aufnahme der EFTA-Länder 1995 kaum strategisch angelegt.'}),\n",
       " Document(text='Die Aufnahme von Beitrittsverhandlungen mit\\nder Ukraine und Moldau als Antwort auf Russlands Krieg seit 2022 könnte eine strategische Wende der Erweiterungspolitik einläuten, von der auch die sechs\\nLänder des Westbalkans – Montenegro, Serbien, Nordmazedonien, Albanien, Bosnien-Herzegowina und Kosovo – profitieren.\\n Erweiterung und postsowjetischer Raum\\nDie Öffnung Osteuropas nach dem Fall der Mauer 1989 brachte erste Anstöße für eine planvolle Erweiterungspolitik.  Denn die EU musste sich mit der Perspektive\\nauseinandersetzen, dass im Sinne von Artikel O EUV (Vertrag von Maastricht, heute Artikel 49 EUV) jeder europäische Staat einen Antrag auf Mitgliedschaft\\nstellen konnte.  Angesichts der Transformationsprozesse in den Ländern, die den Rat für gegenseitige Wirtschaftshilfe und den Warschauer Pakt hinter sich\\ngelassen hatten, wurde prinzipiell eine kontinentale Ausdehnung der EU auf mehr als 30 Länder möglich.  Dabei unterließ es die Gemeinschaft bewusst, die\\nGrenzen Europas zu definieren, und betonte vielmehr ihre Entscheidungsautonomie und prinzipielle Offenheit gegenüber Ländern, die ihre Werte – Demokratie,\\nRechtstaatlichkeit, Menschen- und Minderheitenrechte – und Regelwerke teilen. [5] Ihr Angebot zur Unterstützung der Transformationsprozesse durch das\\nHilfsprogramm PHARE richtete die EU zunächst an zehn ostmitteleuropäische Länder und dehnte es, ergänzt um das Schwesterprogramm CARDS, sukzessive\\nauf die Nachfolgestaaten Jugoslawiens und Albanien aus.  Anfang der 1990er Jahre zeichneten sich damit die Umrisse eines möglichen Erweiterungsraums ab.', uid='98482ff7-65d9-4ae5-a135-c31ade2c3a8f', metadata={'page_label': '1', 'file_name': 'barbara_strategische_2024.pdf', 'original_text': 'Angesichts der Transformationsprozesse in den Ländern, die den Rat für gegenseitige Wirtschaftshilfe und den Warschauer Pakt hinter sich\\ngelassen hatten, wurde prinzipiell eine kontinentale Ausdehnung der EU auf mehr als 30 Länder möglich. '}),\n",
       " Document(text='Dies ist ein Beispiel für die schrittweise Integration, die sich nun auch auf die Gemeinsamen Sicherheits- und Verteidigungspolitik und ihren\\nUnterbau bezieht.\\n Schrittweise Integration\\nIn den meisten Ländern des Westbalkans ist – anders als in Moldau und selbst unter Kriegsbedingungen in der Ukraine – wenig Momentum für Reformen zu\\nerkennen.  Auch deswegen entwickelt die EU ihre Erweiterungsmethode inkrementell weiter.  Sie stellte im Juni 2022 etwa die Weichen für eine gradualistische\\nErweiterungspolitik, um \"die schrittweise Integration zwischen der Europäischen Union und der Region [dem Westbalkan] bereits während des\\nErweiterungsprozesses auf umkehrbare und leistungsorientierte Weise weiter voranzubringen\". [26] Durch solche Zwischenschritte sollen Fortschritte in\\neinzelnen Sektoren unmittelbar, also vor dem förmlichen Beitritt eines Landes, durch Finanzhilfen, Zugang zu Teilen des Binnenmarkts sowie die Teilhabe an\\nProgrammen und Agenturen der EU belohnt werden.  Schon die AA/DCFTA haben diese Möglichkeiten eröffnet, aber die EU will dies nun für alle Kandidaten\\nsystematischer betreiben.  Der neue Wachstumsplan für den Westbalkan mit seinen vier Pfeilern geht in diese Richtung.', uid='f4bb7e8d-c8d5-44a8-bc03-0ac5bae2a3c5', metadata={'page_label': '4', 'file_name': 'barbara_strategische_2024.pdf', 'original_text': 'Sie stellte im Juni 2022 etwa die Weichen für eine gradualistische\\nErweiterungspolitik, um \"die schrittweise Integration zwischen der Europäischen Union und der Region [dem Westbalkan] bereits während des\\nErweiterungsprozesses auf umkehrbare und leistungsorientierte Weise weiter voranzubringen\".'}),\n",
       " Document(text='Zum anderen geriet die EU in die Rolle einer Transformationshelferin für die ostmitteleuropäischen Länder, die den\\nSystemwechsel zu Demokratie und Marktwirtschaft mit der Perspektive einer späteren EU-Mitgliedschaft bewerkstelligen wollten.  Dazu gab ihnen die EU einen\\nFahrplan an die Hand, der im Wesentlichen die Übernahme des politischen und rechtlichen Besitzstands der EU (Acquis) zum Inhalt hatten und an dessen Ende\\ndie Mitgliedschaft mit allen Rechten und Pflichten stand.  EU-Erweiterung war ein normativ-politisches Konzept, und nicht auf die Errichtung von Einflusszonen,\\nHegemonie oder Machtbildung gegenüber Nachbarn ausgerichtet.  Mit Ausnahme des Beitritts von Kroatien 2013 gelang es der EU trotz aller Bemühungen nicht,\\ndie Erweiterungsprozesse zu dynamisieren und diese Erfolgsgeschichte in Südost- und Osteuropa fortzuschreiben.  Die Aufnahme von Beitrittsverhandlungen mit\\nder Ukraine und Moldau als Antwort auf Russlands Krieg seit 2022 könnte eine strategische Wende der Erweiterungspolitik einläuten, von der auch die sechs\\nLänder des Westbalkans – Montenegro, Serbien, Nordmazedonien, Albanien, Bosnien-Herzegowina und Kosovo – profitieren.\\n Erweiterung und postsowjetischer Raum\\nDie Öffnung Osteuropas nach dem Fall der Mauer 1989 brachte erste Anstöße für eine planvolle Erweiterungspolitik.  Denn die EU musste sich mit der Perspektive\\nauseinandersetzen, dass im Sinne von Artikel O EUV (Vertrag von Maastricht, heute Artikel 49 EUV) jeder europäische Staat einen Antrag auf Mitgliedschaft\\nstellen konnte. ', uid='cc016412-490a-4db1-9319-1c0f8eb406aa', metadata={'page_label': '1', 'file_name': 'barbara_strategische_2024.pdf', 'original_text': 'Mit Ausnahme des Beitritts von Kroatien 2013 gelang es der EU trotz aller Bemühungen nicht,\\ndie Erweiterungsprozesse zu dynamisieren und diese Erfolgsgeschichte in Südost- und Osteuropa fortzuschreiben. '}),\n",
       " Document(text='Das betraf in Südosteuropa auch die zwischen der\\nUkraine und Rumänien gelegene Republik Moldau, obwohl das Land historisch, kulturell und ethnisch eng mit Rumänien verbunden ist.  Aus EU-Sicht war der\\nRaum östlich ihrer Grenzen dreigeteilt: Ostmitteleuropa als unmittelbarer, Südosteuropa bis zur Türkei sowie Zypern und Malta als potenzieller Erweiterungsraum\\nund außerhalb davon die GUS.\\n Strategische Wende?\\n EU-Erweiterungspolitik in Südost- und Osteuropa\\nBarbara Lippert\\n03.07.2024 / 17 Minuten zu lesen\\nBedingt durch außen- und sicherheitspolitische Gründe, will die EU die Beitrittsprozesse der Republik\\nMoldau, der Ukraine oder des Westbalkans beschleunigen, ohne auf bewährte Kriterien zu verzichten.  Eine\\nschrittweise Integration soll Zielkonflikte abmildern.\\n Strategische Wende?  | Republik Moldau | bpb.de https://www.bpb.de/shop/zeitschriften/apuz/republik-moldau-2024/5501...\\n1 von 5 12.12.2024, 16:54', uid='71626d26-b0c0-443f-8aee-ed22ac4c760d', metadata={'page_label': '1', 'file_name': 'barbara_strategische_2024.pdf', 'original_text': 'EU-Erweiterungspolitik in Südost- und Osteuropa\\nBarbara Lippert\\n03.07.2024 / 17 Minuten zu lesen\\nBedingt durch außen- und sicherheitspolitische Gründe, will die EU die Beitrittsprozesse der Republik\\nMoldau, der Ukraine oder des Westbalkans beschleunigen, ohne auf bewährte Kriterien zu verzichten. '}),\n",
       " Document(text='Als politisches Signal kann das sinnvoll sein, praktisch und auch politisch dürfte sich diese Maxime aber weder zügig noch treffsicher umsetzen lassen.\\n Schrittweise Integration böte aber ein Sicherheitsnetz, sollten Beitrittsverhandlungen stillstehen oder gar scheitern.\\n Ausblick\\nEine geopolitische Wende in der Erweiterungspolitik sollte keinen Bruch mit der Konditionalitätspolitik herbeiführen.  Denn das wäre integrationspolitisch brisant\\nund würde die Funktionsfähigkeit und den Zusammenhalt der EU gefährden.  Die Europäische Kommission hat seit Februar 2022 die geopolitische Dimension der\\nErweiterungspolitik und die Verzahnung der GSVP mit den Gemeinschaftspolitiken vorangetrieben.  Dennoch ziehen die EU-27 nicht an einem Strang und setzen\\ndie Prioritäten zwischen geo- und integrationspolitischen Zielen unterschiedlich.  Die vereinbarte schrittweise Integration ist eine Kompromissformel, die die\\nUnterschiede abmildern und zugleich die Beitrittsprozesse beschleunigen könnte. ', uid='8398a914-d4e9-4a8c-96dc-d4a68efeed8b', metadata={'page_label': '4', 'file_name': 'barbara_strategische_2024.pdf', 'original_text': 'Denn das wäre integrationspolitisch brisant\\nund würde die Funktionsfähigkeit und den Zusammenhalt der EU gefährden. '})]"
      ]
     },
     "execution_count": 6,
     "metadata": {},
     "output_type": "execute_result"
    }
   ],
   "source": [
    "docs"
   ]
  },
  {
   "cell_type": "code",
   "execution_count": null,
   "metadata": {},
   "outputs": [],
   "source": []
  }
 ],
 "metadata": {
  "kernelspec": {
   "display_name": "evidence-seeker",
   "language": "python",
   "name": "python3"
  },
  "language_info": {
   "codemirror_mode": {
    "name": "ipython",
    "version": 3
   },
   "file_extension": ".py",
   "mimetype": "text/x-python",
   "name": "python",
   "nbconvert_exporter": "python",
   "pygments_lexer": "ipython3",
   "version": "3.12.3"
  }
 },
 "nbformat": 4,
 "nbformat_minor": 2
}
