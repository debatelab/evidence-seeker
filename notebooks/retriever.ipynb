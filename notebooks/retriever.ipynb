{
 "cells": [
  {
   "cell_type": "code",
   "execution_count": 3,
   "metadata": {},
   "outputs": [
    {
     "name": "stdout",
     "output_type": "stream",
     "text": [
      "🌍 To view the Phoenix app in your browser, visit http://localhost:6006/\n",
      "📖 For more information on how to use Phoenix, check out https://docs.arize.com/phoenix\n"
     ]
    },
    {
     "data": {
      "text/plain": [
       "<phoenix.session.session.ThreadSession at 0x74d0edb5e950>"
      ]
     },
     "execution_count": 3,
     "metadata": {},
     "output_type": "execute_result"
    }
   ],
   "source": [
    "# observability\n",
    "import phoenix as px\n",
    "px.launch_app()\n"
   ]
  },
  {
   "cell_type": "code",
   "execution_count": 4,
   "metadata": {},
   "outputs": [],
   "source": [
    "import llama_index.core\n",
    "llama_index.core.set_global_handler(\"arize_phoenix\", endpoint=\"http://localhost:6006/v1/traces\")"
   ]
  },
  {
   "cell_type": "code",
   "execution_count": null,
   "metadata": {},
   "outputs": [
    {
     "name": "stderr",
     "output_type": "stream",
     "text": [
      "None of PyTorch, TensorFlow >= 2.0, or Flax have been found. Models won't be available and only tokenizers, configuration and file/data utilities can be used.\n"
     ]
    },
    {
     "data": {
      "text/plain": [
       "556"
      ]
     },
     "execution_count": 1,
     "metadata": {},
     "output_type": "execute_result"
    }
   ],
   "source": [
    "# save default config\n",
    "\n",
    "import pathlib\n",
    "import yaml\n",
    "\n",
    "from evidence_seeker.retrieval import RetrievalConfig\n",
    "\n",
    "configfile = pathlib.Path(\"../configs/retrieval_config_default.yaml\")\n",
    "\n",
    "default_config = RetrievalConfig()\n",
    "default_config_dict = default_config.model_dump()\n",
    "\n",
    "#configfile.write_text(yaml.dump(default_config_dict))"
   ]
  },
  {
   "cell_type": "code",
   "execution_count": 4,
   "metadata": {},
   "outputs": [
    {
     "name": "stderr",
     "output_type": "stream",
     "text": [
      "WARNING: All log messages before absl::InitializeLog() is called are written to STDERR\n",
      "I0000 00:00:1733235587.689908   36823 fork_posix.cc:75] Other threads are currently calling into gRPC, skipping fork() handlers\n",
      "I0000 00:00:1733235588.305768   36823 fork_posix.cc:75] Other threads are currently calling into gRPC, skipping fork() handlers\n"
     ]
    },
    {
     "name": "stdout",
     "output_type": "stream",
     "text": [
      "  % Total    % Received % Xferd  Average Speed   Time    Time     Time  Current\n",
      "                                 Dload  Upload   Total   Spent    Left  Speed\n",
      "100 30.9M  100 30.9M    0     0  23.0M      0  0:00:01  0:00:01 --:--:-- 23.1M\n"
     ]
    }
   ],
   "source": [
    "# Download IPCC report\n",
    "!mkdir -p ../TMP\n",
    "!curl https://www.ipcc.ch/report/ar6/wg1/downloads/report/IPCC_AR6_WGI_TS.pdf --output ../TMP/IPCC_AR6_WGI_TS.pdf"
   ]
  },
  {
   "cell_type": "code",
   "execution_count": 2,
   "metadata": {},
   "outputs": [
    {
     "data": {
      "text/plain": [
       "True"
      ]
     },
     "execution_count": 2,
     "metadata": {},
     "output_type": "execute_result"
    }
   ],
   "source": [
    "import dotenv\n",
    "import os\n",
    "dotenv.load_dotenv()\n",
    "\"HF_TOKEN\" in os.environ or print(\"Please set the HF_TOKEN environment variable in .env file\")"
   ]
  },
  {
   "cell_type": "code",
   "execution_count": null,
   "metadata": {},
   "outputs": [
    {
     "name": "stderr",
     "output_type": "stream",
     "text": [
      "\u001b[32m2025-03-22 14:06:18.306\u001b[0m | \u001b[1mINFO    \u001b[0m | \u001b[36mevidence_seeker.retrieval.base\u001b[0m:\u001b[36mload_index\u001b[0m:\u001b[36m123\u001b[0m - \u001b[1mLoading index from disk at ../TMP/APUZ_PART/storage/index\u001b[0m\n"
     ]
    }
   ],
   "source": [
    "from evidence_seeker.retrieval import RetrievalConfig\n",
    "from evidence_seeker.retrieval import DocumentRetriever\n",
    "from evidence_seeker.datamodels import CheckedClaim\n",
    "\n",
    "config = RetrievalConfig(\n",
    "    #embed_base_url=\"https://ibpp4xgm0kspxkjb.us-east-1.aws.endpoints.huggingface.cloud\",\n",
    "    #embed_base_url=\"http://127.0.0.1:1234/v1\",\n",
    "    #embed_model_name=\"sentence-transformers/paraphrase-multilingual-mpnet-base-v2\",\n",
    "    #index_persist_path=\"../../apuz-index-es/index\",\n",
    "    embed_backend_type=\"huggingface\",\n",
    "    embed_model_name=\"sentence-transformers/paraphrase-multilingual-mpnet-base-v2\",\n",
    "    #index_persist_path=\"../TMP/APUZ_PART/storage\",\n",
    "    index_persist_path=\"../TMP/APUZ/storage\",\n",
    "    #base_url=\"http://localhost:11434\",\n",
    "    #embed_backend_type=\"ollama\",\n",
    "    #embed_model_name=\"bge-m3\"\n",
    ")\n",
    "retriever = DocumentRetriever(\n",
    "    config=config,\n",
    ")"
   ]
  },
  {
   "cell_type": "code",
   "execution_count": 2,
   "metadata": {},
   "outputs": [],
   "source": [
    "claim = CheckedClaim(\n",
    "    text=\"Die Osterweiterung der EU hat zu einer Schwächung der EU geführt\",\n",
    "    negation=\"Die Osterweiterung der EU hat nicht zu einer Schwächung der EU geführt\",\n",
    "    uid=\"123\"\n",
    ")\n",
    "claim = CheckedClaim(\n",
    "    text=\"Die russische Regierung verbreitet keine Desinformation\",\n",
    "    negation=\"Die russische Regierung verbreitet keine Desinformation\",\n",
    "    uid=\"123\"\n",
    ")\n",
    "docs = await retriever.retrieve_documents(claim)"
   ]
  },
  {
   "cell_type": "code",
   "execution_count": 3,
   "metadata": {},
   "outputs": [
    {
     "data": {
      "text/plain": [
       "[Document(text='Das bedeutet, dass die Erfolgsaussichten umso größer sind, je breiter ein Wahlbündnis aufgestellt ist.  Szenarien zeigen, dass sogar eine noch\\nbreitere Allianz als die zwischen PD, AVS und M5S nötig wäre, um die amtierende Rechts-mitte-Koalition numerisch zu überflügeln, nämlich eine, die auch die\\nKleinparteien des terzo polo integriert,[21] was zurzeit jedoch politisch jeder Grundlage entbehrt.\\n Zugleich lässt sich anhand der Ergebnisse der Europawahl 2024 sagen, dass ein großer Teil des italienischen „Rechtsrucks“ mit der FdI als stärkster Kraft von der\\nsozialen Mitte und der Oberschicht getragen wird.  Maßnahmen wie die weitgehende Streichung der Grundsicherung haben der Partei der Ministerpräsidentin\\ninsofern nicht geschadet, als ein Teil der Stimmen der sogenannten Abgehängten im Regierungslager blieb, nämlich bei der strategisch weit rechtsaußen\\npositionierten Lega.  Was die FdI also bei den sozial Schwächeren verliert, sammelt die Lega teilweise wieder ein, sodass sich die Mehrheitsverhältnisse zwischen\\nrechts und Mitte-links nicht entscheidend verändern.  Zugleich ist der Abstand in der Wählergunst zwischen den einzelnen Parteien des Regierungslagers so\\ngroß, dass Melonis innerkoalitionärem Widersacher Salvini weiterhin nur die Rolle des Juniorpartners bleibt.\\n Im Vergleich zur Vorgängerregierung Draghi fällt die Zustimmung der Bevölkerung zur aktuellen Regierung zwar deutlich geringer aus, als Ministerpräsidentin\\nerzielt Meloni jedoch hohe persönliche Zustimmungswerte. ', uid='cd02995f-31b7-44bf-9c7e-a10151295998', metadata={'page_label': '5', 'file_name': 'alexander_stabil_2024.pdf', 'original_text': 'Maßnahmen wie die weitgehende Streichung der Grundsicherung haben der Partei der Ministerpräsidentin\\ninsofern nicht geschadet, als ein Teil der Stimmen der sogenannten Abgehängten im Regierungslager blieb, nämlich bei der strategisch weit rechtsaußen\\npositionierten Lega. '}),\n",
       " Document(text='Rechts der Mitte verläuft eine Trennlinie zwischen Lega und FdI, erhielt die Lega bei Menschen aus den unteren Schichten doch doppelt so viele Stimmen wie die\\nFdI.  Der Zusammenhang ist so eindeutig, dass dem Politikwissenschaftler Lorenzo De Sio und seinen Koautoren zufolge „die Zugehörigkeit zur sozialen Schicht\\neine Vorhersage darüber erlaubt, ob man Fratelli d’Italia wählt oder Lega“. [16] In der Partei der Ministerpräsidentin zeigt sich eine klare Schere: Auch wenn viele\\nArbeiter FdI gewählt haben, sind nur 10 Prozent der FdI-Wähler aus den unteren Schichten, im Vergleich zu 36 Prozent aus den mittleren und oberen Schichten.\\n Nicht nur die wahlsoziologischen Befunde und die sozialen Selbstzuschreibungen weisen in eine bestimmte Richtung.  Auch auf Basis der Einkommensverteilung\\nergibt sich ein recht klares Bild, was den Zusammenhang mit der Wahlentscheidung angeht. [17] Die größte Korrelation ergibt sich für den PD: Je höher das\\nDurchschnittseinkommen, desto eher fiel die Wahlentscheidung zugunsten dieser Partei.  Der Zusammenhang zwischen steigendem Einkommen und politischer\\nZustimmung gilt in abgeschwächtem Maße auch für FdI und AVS. ', uid='bd389834-612a-4f65-923e-4b629c3062fe', metadata={'page_label': '4', 'file_name': 'alexander_stabil_2024.pdf', 'original_text': 'Nicht nur die wahlsoziologischen Befunde und die sozialen Selbstzuschreibungen weisen in eine bestimmte Richtung. '}),\n",
       " Document(text='Insofern wären fallende Leitzinsen der Europäischen\\nZentralbank in Italien sehr willkommen, um die privaten Investitionen anzukurbeln und zugleich die staatliche Refinanzierung zu erleichtern, zumal die\\nhaushaltspolitischen Spielräume mit dem Ende der Aussetzung des europäischen Stabilitäts- und Wachstumspaktes (SWP) nicht größer werden.\\n Reform des Stabilitäts- und Wachstumspaktes\\nItalien sieht sich, wie unter anderem auch Frankreich, seit Juni 2024 wieder mit einem Defizitverfahren der EU konfrontiert, dasselbe ist für 2025 zu erwarten.\\n Voraussichtlich frühestens 2026 wird das Land ein Haushaltsdefizit von weniger als drei Prozent des BIP vorweisen können.  Meloni hatte sich zunächst\\ngeweigert, der Reform des SWP zuzustimmen und dabei die Ratifizierung der Novelle des Europäischen Stabilitätsmechanismus (ESM) als Druckmittel\\nverwendet.  Die Regierungschefin und ihr Finanzminister Giancarlo Giorgetti (Lega) kritisierten die Neuregelung des SWP als investitionsfeindlich und forderten\\nunter anderem, Investitionen im Bereich der grünen und digitalen Transformation aus der jährlichen Neuverschuldung herausrechnen zu dürfen.  Letztendlich\\nstimmte Italien jedoch im Rat der Europäischen Union zu, während sich die Regierungsparteien FdI, Lega und FI zuvor im Europäischen Parlament enthalten\\nhatten. [4]\\nDer SWP vom 30. ', uid='b2ba5a46-1284-480b-9c83-5007f6b35d1b', metadata={'page_label': '2', 'file_name': 'alexander_stabil_2024.pdf', 'original_text': 'Meloni hatte sich zunächst\\ngeweigert, der Reform des SWP zuzustimmen und dabei die Ratifizierung der Novelle des Europäischen Stabilitätsmechanismus (ESM) als Druckmittel\\nverwendet. '}),\n",
       " Document(text='Die italienische Ministerpräsidentin Giorgia Meloni und ihre rechtsnationale Regierung sind gestärkt aus den Wahlen zum Europäischen Parlament im Juni 2024\\nhervorgegangen.  Während die Regierungsparteien in Frankreich und Deutschland herbe Verluste hinnehmen mussten, konnte die Partei Melonis, Fratelli d’Italia\\n(FdI), an Stimmen zulegen, wobei sie ihre Koalitionspartner, Forza Italia (FI) und Lega, weiter distanzierte.  Obschon auch der sozialdemokratische Partito\\nDemocratico (PD) als größte Oppositionspartei einen Erfolg verbuchen konnte, sitzt die Regierungschefin scheinbar fester denn je im Sattel, was nicht nur ihre\\ninnen-, sondern auch ihre außen- und europapolitischen Gestaltungsansprüche vergrößert.\\n Gleichwohl stellt sich die Frage, in welchem sozioökonomischen Umfeld die Regierung Meloni agiert beziehungsweise welche Handlungsspielräume\\nperspektivisch bestehen.  Denn die lahmende wirtschaftliche Entwicklung und ihre sozialen Folgen gehören seit Jahren zu den zentralen, ungelösten Problemen\\ndes Landes.  Um dieses Umfeld zu skizzieren und die Perspektiven auszuloten, folgt zunächst ein Überblick über die wirtschaftliche und soziale Lage Italiens.\\n', uid='b913a4b7-483e-423c-b8e5-fd9b1ea0f0bf', metadata={'page_label': '1', 'file_name': 'alexander_stabil_2024.pdf', 'original_text': 'Obschon auch der sozialdemokratische Partito\\nDemocratico (PD) als größte Oppositionspartei einen Erfolg verbuchen konnte, sitzt die Regierungschefin scheinbar fester denn je im Sattel, was nicht nur ihre\\ninnen-, sondern auch ihre außen- und europapolitischen Gestaltungsansprüche vergrößert.\\n'}),\n",
       " Document(text='Maßnahmen wie die weitgehende Streichung der Grundsicherung haben der Partei der Ministerpräsidentin\\ninsofern nicht geschadet, als ein Teil der Stimmen der sogenannten Abgehängten im Regierungslager blieb, nämlich bei der strategisch weit rechtsaußen\\npositionierten Lega.  Was die FdI also bei den sozial Schwächeren verliert, sammelt die Lega teilweise wieder ein, sodass sich die Mehrheitsverhältnisse zwischen\\nrechts und Mitte-links nicht entscheidend verändern.  Zugleich ist der Abstand in der Wählergunst zwischen den einzelnen Parteien des Regierungslagers so\\ngroß, dass Melonis innerkoalitionärem Widersacher Salvini weiterhin nur die Rolle des Juniorpartners bleibt.\\n Im Vergleich zur Vorgängerregierung Draghi fällt die Zustimmung der Bevölkerung zur aktuellen Regierung zwar deutlich geringer aus, als Ministerpräsidentin\\nerzielt Meloni jedoch hohe persönliche Zustimmungswerte.  Derzeit ist sie die beliebteste Spitzenpolitikerin des Landes. [22] Die „Marke Meloni“ erklärt somit zum\\ngroßen Teil den Erfolg ihrer Partei.\\n Aufgrund der fragilen Gesamtentwicklung und der mittelfristig schrumpfenden haushaltspolitischen Möglichkeiten für öffentliche Investitionen werden\\nsozioökonomische Faktoren jedoch relevant bleiben und voraussichtlich alsbald wieder an Bedeutung gewinnen. ', uid='f770060b-14a2-495e-8af7-9be8dec154ba', metadata={'page_label': '5', 'file_name': 'alexander_stabil_2024.pdf', 'original_text': 'Im Vergleich zur Vorgängerregierung Draghi fällt die Zustimmung der Bevölkerung zur aktuellen Regierung zwar deutlich geringer aus, als Ministerpräsidentin\\nerzielt Meloni jedoch hohe persönliche Zustimmungswerte. '}),\n",
       " Document(text='Die sehr optimistischen\\nAnkündigungen Melonis zum SWP könnten ihr politisch auf die Füße fallen, wenn letztlich doch noch Sparmaßnahmen notwendig werden.  Es bleibt abzuwarten,\\nob die „Marke Meloni“ auch dann noch zieht.\\n Gleichwohl dürften sich die sozioökonomischen Konfliktlinien beziehungsweise deren Niederschlag in den Wahlpräferenzen zugunsten der beiden großen\\npolitischen Lager kurzfristig als relativ stabil erweisen.  Es ist derzeit nicht davon auszugehen, exogene Schocks einmal ausgenommen, dass die Politikfelder\\nWirtschaft und Soziales rasch zu einer deutlichen Verschiebung der Mehrheitsverhältnisse beitragen werden, zumal andere Fragen, wie die von Migration und\\nIdentität, weiter virulent und dominant sind.  Anders formuliert: Kurzfristig hat Meloni aus dieser Richtung wohl wenig zu befürchten, zumal sie koalitionsintern die\\nunangefochtene Führungsfigur ist.  Auf mittlere und längere Sicht allerdings wird auch ihre Regierung mehr Wachstum generieren und Arbeitsplätze schaffen,\\nkurzum: wirtschaftliche Erfolge vorweisen müssen, um nicht wie so viele vor ihr zu scheitern.\\n Fußnoten \\ue91a\\n[1]\\nSofern nicht anders ausgewiesen, beruhen alle Angaben zu Wirtschaft und Staatsfinanzen auf Daten des Istituto Nazionale di Statistica (Istat). ', uid='8b5f6201-a62c-4f04-b84a-ce61d7d24732', metadata={'page_label': '5', 'file_name': 'alexander_stabil_2024.pdf', 'original_text': 'Es ist derzeit nicht davon auszugehen, exogene Schocks einmal ausgenommen, dass die Politikfelder\\nWirtschaft und Soziales rasch zu einer deutlichen Verschiebung der Mehrheitsverhältnisse beitragen werden, zumal andere Fragen, wie die von Migration und\\nIdentität, weiter virulent und dominant sind. '}),\n",
       " Document(text='Mit sinkendem (Arbeits-)Einkommen hingegen steigt die Präferenz für FI, Lega oder M5S.\\n Vereinfacht ausgedrückt sind M5S und Lega in wirtschaftlich benachteiligten Gegenden überrepräsentiert, PD und FdI dagegen erfahren stärkere Unterstützung\\nin wohlhabenden Gebieten.  Während der PD seine überdurchschnittliche Zustimmung dabei vor allem von Wählern erhält, deren Wohlstand auf\\nArbeitseinkommen basiert, erhöht sich die Zustimmung zu FdI bei Wählern mit Kapitaleinkünften beziehungsweise Immobilienbesitz, insbesondere dort, wo\\nderen Konzentration hoch ist.  Auf den Punkt gebracht heißt das: „Arbeit tendiert zur Partei von Schlein, Rendite zur Partei von Meloni.“[18]\\nFazit und Ausblick\\nWas bedeuten die Erkenntnisse aus der Europawahl im Zusammenspiel mit dem geschilderten wirtschaftlichen und sozialen Rahmen nun für die Stabilität und\\nzukünftige Handlungsfähigkeit der italienischen Regierung einerseits und die Machtoptionen der Opposition andererseits?\\n Sozioökonomische Themen, sozialer Status beziehungsweise Einkommenssituation spielten bei der Europawahl 2024 zwar eine Rolle, waren aber nicht\\nentscheidend.  Dies ist umso bemerkenswerter, als der sozialen Frage bei den Parlamentswahlen 2018 noch eine zentrale Rolle zukam und diese ursächlich war für\\nden historischen Sieg des M5S, mit Rekordergebnissen von über 50 Prozent der Stimmen in einigen Regionen Süditaliens.  Jener Urnengang galt geradezu als\\nneue Form der Klassenwahl.', uid='3d14f78f-86cc-4af6-9ef5-fdc90dd85679', metadata={'page_label': '4', 'file_name': 'alexander_stabil_2024.pdf', 'original_text': 'Auf den Punkt gebracht heißt das: „Arbeit tendiert zur Partei von Schlein, Rendite zur Partei von Meloni.“[18]\\nFazit und Ausblick\\nWas bedeuten die Erkenntnisse aus der Europawahl im Zusammenspiel mit dem geschilderten wirtschaftlichen und sozialen Rahmen nun für die Stabilität und\\nzukünftige Handlungsfähigkeit der italienischen Regierung einerseits und die Machtoptionen der Opposition andererseits?\\n'}),\n",
       " Document(text='Es bleibt abzuwarten,\\nob die „Marke Meloni“ auch dann noch zieht.\\n Gleichwohl dürften sich die sozioökonomischen Konfliktlinien beziehungsweise deren Niederschlag in den Wahlpräferenzen zugunsten der beiden großen\\npolitischen Lager kurzfristig als relativ stabil erweisen.  Es ist derzeit nicht davon auszugehen, exogene Schocks einmal ausgenommen, dass die Politikfelder\\nWirtschaft und Soziales rasch zu einer deutlichen Verschiebung der Mehrheitsverhältnisse beitragen werden, zumal andere Fragen, wie die von Migration und\\nIdentität, weiter virulent und dominant sind.  Anders formuliert: Kurzfristig hat Meloni aus dieser Richtung wohl wenig zu befürchten, zumal sie koalitionsintern die\\nunangefochtene Führungsfigur ist.  Auf mittlere und längere Sicht allerdings wird auch ihre Regierung mehr Wachstum generieren und Arbeitsplätze schaffen,\\nkurzum: wirtschaftliche Erfolge vorweisen müssen, um nicht wie so viele vor ihr zu scheitern.\\n Fußnoten \\ue91a\\n[1]\\nSofern nicht anders ausgewiesen, beruhen alle Angaben zu Wirtschaft und Staatsfinanzen auf Daten des Istituto Nazionale di Statistica (Istat).  Siehe unter\\nanderem Rapporto annuale 2024, Rom 2024; Le prospettive per l’economia italiana nel 2024–2025, 6.6.2024, http://www.istat.it/wp-content/\\nuploads/2024/06/previsioni-2024-2025.pdf; sowie weitere Statistiken unter http://dati.istat.it.\\n', uid='3d4a7826-620a-4f18-905f-8ec4017d10a8', metadata={'page_label': '5', 'file_name': 'alexander_stabil_2024.pdf', 'original_text': 'Anders formuliert: Kurzfristig hat Meloni aus dieser Richtung wohl wenig zu befürchten, zumal sie koalitionsintern die\\nunangefochtene Führungsfigur ist. '})]"
      ]
     },
     "execution_count": 3,
     "metadata": {},
     "output_type": "execute_result"
    }
   ],
   "source": [
    "docs"
   ]
  },
  {
   "cell_type": "code",
   "execution_count": null,
   "metadata": {},
   "outputs": [],
   "source": []
  },
  {
   "cell_type": "code",
   "execution_count": null,
   "metadata": {},
   "outputs": [],
   "source": []
  }
 ],
 "metadata": {
  "kernelspec": {
   "display_name": "dev_env",
   "language": "python",
   "name": "python3"
  },
  "language_info": {
   "codemirror_mode": {
    "name": "ipython",
    "version": 3
   },
   "file_extension": ".py",
   "mimetype": "text/x-python",
   "name": "python",
   "nbconvert_exporter": "python",
   "pygments_lexer": "ipython3",
   "version": "3.10.16"
  }
 },
 "nbformat": 4,
 "nbformat_minor": 2
}
