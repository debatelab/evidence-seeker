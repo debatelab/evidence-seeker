{
 "cells": [
  {
   "cell_type": "code",
   "execution_count": 1,
   "metadata": {},
   "outputs": [
    {
     "name": "stdout",
     "output_type": "stream",
     "text": [
      "🌍 To view the Phoenix app in your browser, visit http://localhost:6006/\n",
      "📖 For more information on how to use Phoenix, check out https://docs.arize.com/phoenix\n"
     ]
    },
    {
     "data": {
      "text/plain": [
       "<phoenix.session.session.ThreadSession at 0x139a741d0>"
      ]
     },
     "execution_count": 1,
     "metadata": {},
     "output_type": "execute_result"
    }
   ],
   "source": [
    "# observability\n",
    "import phoenix as px\n",
    "px.launch_app()\n"
   ]
  },
  {
   "cell_type": "code",
   "execution_count": 2,
   "metadata": {},
   "outputs": [],
   "source": [
    "import llama_index.core\n",
    "llama_index.core.set_global_handler(\"arize_phoenix\", endpoint=\"http://localhost:6006/v1/traces\")"
   ]
  },
  {
   "cell_type": "code",
   "execution_count": 13,
   "metadata": {},
   "outputs": [
    {
     "data": {
      "text/plain": [
       "463"
      ]
     },
     "execution_count": 13,
     "metadata": {},
     "output_type": "execute_result"
    }
   ],
   "source": [
    "# save default config\n",
    "\n",
    "import pathlib\n",
    "import yaml\n",
    "\n",
    "from evidence_seeker.retrieval import RetrievalConfig\n",
    "\n",
    "configfile = pathlib.Path(\"../configs/retrieval_config_default.yaml\")\n",
    "\n",
    "default_config = RetrievalConfig()\n",
    "default_config_dict = default_config.model_dump()\n",
    "\n",
    "configfile.write_text(yaml.dump(default_config_dict))"
   ]
  },
  {
   "cell_type": "code",
   "execution_count": 1,
   "metadata": {},
   "outputs": [
    {
     "name": "stderr",
     "output_type": "stream",
     "text": [
      "None of PyTorch, TensorFlow >= 2.0, or Flax have been found. Models won't be available and only tokenizers, configuration and file/data utilities can be used.\n"
     ]
    }
   ],
   "source": [
    "from evidence_seeker.retrieval import DocumentRetriever\n",
    "from evidence_seeker.models import CheckedClaim"
   ]
  },
  {
   "cell_type": "code",
   "execution_count": 4,
   "metadata": {},
   "outputs": [
    {
     "name": "stderr",
     "output_type": "stream",
     "text": [
      "WARNING: All log messages before absl::InitializeLog() is called are written to STDERR\n",
      "I0000 00:00:1733235587.689908   36823 fork_posix.cc:75] Other threads are currently calling into gRPC, skipping fork() handlers\n",
      "I0000 00:00:1733235588.305768   36823 fork_posix.cc:75] Other threads are currently calling into gRPC, skipping fork() handlers\n"
     ]
    },
    {
     "name": "stdout",
     "output_type": "stream",
     "text": [
      "  % Total    % Received % Xferd  Average Speed   Time    Time     Time  Current\n",
      "                                 Dload  Upload   Total   Spent    Left  Speed\n",
      "100 30.9M  100 30.9M    0     0  23.0M      0  0:00:01  0:00:01 --:--:-- 23.1M\n"
     ]
    }
   ],
   "source": [
    "# Download IPCC report\n",
    "!mkdir -p ../TMP\n",
    "!curl https://www.ipcc.ch/report/ar6/wg1/downloads/report/IPCC_AR6_WGI_TS.pdf --output ../TMP/IPCC_AR6_WGI_TS.pdf"
   ]
  },
  {
   "cell_type": "code",
   "execution_count": 2,
   "metadata": {},
   "outputs": [
    {
     "data": {
      "text/plain": [
       "True"
      ]
     },
     "execution_count": 2,
     "metadata": {},
     "output_type": "execute_result"
    }
   ],
   "source": [
    "import dotenv\n",
    "import os\n",
    "dotenv.load_dotenv()\n",
    "\"HF_TOKEN\" in os.environ or print(\"Please set the HF_TOKEN environment variable in .env file\")"
   ]
  },
  {
   "cell_type": "code",
   "execution_count": 9,
   "metadata": {},
   "outputs": [
    {
     "name": "stderr",
     "output_type": "stream",
     "text": [
      "WARNING: All log messages before absl::InitializeLog() is called are written to STDERR\n",
      "I0000 00:00:1733910381.552241  113992 fork_posix.cc:75] Other threads are currently calling into gRPC, skipping fork() handlers\n"
     ]
    },
    {
     "name": "stdout",
     "output_type": "stream",
     "text": [
      "Package                                          Version        Editable project location\n",
      "------------------------------------------------ -------------- ---------------------------------\n",
      "aiohappyeyeballs                                 2.4.3\n",
      "aiohttp                                          3.11.7\n",
      "aioitertools                                     0.12.0\n",
      "aiosignal                                        1.3.1\n",
      "aiosqlite                                        0.20.0\n",
      "alembic                                          1.14.0\n",
      "annotated-types                                  0.7.0\n",
      "anyio                                            4.6.2.post1\n",
      "appnope                                          0.1.4\n",
      "argon2-cffi                                      23.1.0\n",
      "argon2-cffi-bindings                             21.2.0\n",
      "arize-phoenix                                    6.0.0\n",
      "arize-phoenix-evals                              0.17.5\n",
      "arize-phoenix-otel                               0.6.1\n",
      "arrow                                            1.3.0\n",
      "asttokens                                        3.0.0\n",
      "async-lru                                        2.0.4\n",
      "attrs                                            24.2.0\n",
      "Authlib                                          1.3.2\n",
      "babel                                            2.16.0\n",
      "beautifulsoup4                                   4.12.3\n",
      "bleach                                           6.2.0\n",
      "cachetools                                       5.5.0\n",
      "certifi                                          2024.8.30\n",
      "cffi                                             1.17.1\n",
      "charset-normalizer                               3.4.0\n",
      "click                                            8.1.7\n",
      "comm                                             0.2.2\n",
      "cryptography                                     44.0.0\n",
      "dataclasses-json                                 0.6.7\n",
      "debugpy                                          1.8.9\n",
      "decorator                                        5.1.1\n",
      "defusedxml                                       0.7.1\n",
      "Deprecated                                       1.2.15\n",
      "dirtyjson                                        1.0.8\n",
      "distro                                           1.9.0\n",
      "evidence-seeker                                  0.0.1          /Users/ggbetz/git/evidence-seeker\n",
      "executing                                        2.1.0\n",
      "fastapi                                          0.115.5\n",
      "fastjsonschema                                   2.21.1\n",
      "filelock                                         3.16.1\n",
      "filetype                                         1.2.0\n",
      "fqdn                                             1.5.1\n",
      "frozenlist                                       1.5.0\n",
      "fsspec                                           2024.10.0\n",
      "googleapis-common-protos                         1.66.0\n",
      "graphql-core                                     3.2.5\n",
      "greenlet                                         3.1.1\n",
      "grpc-interceptor                                 0.15.4\n",
      "grpcio                                           1.68.1\n",
      "h11                                              0.14.0\n",
      "httpcore                                         1.0.7\n",
      "httpx                                            0.27.2\n",
      "huggingface-hub                                  0.26.3\n",
      "idna                                             3.10\n",
      "importlib_metadata                               8.5.0\n",
      "iniconfig                                        2.0.0\n",
      "ipykernel                                        6.29.5\n",
      "ipython                                          8.30.0\n",
      "ipywidgets                                       8.1.5\n",
      "isoduration                                      20.11.0\n",
      "jedi                                             0.19.2\n",
      "Jinja2                                           3.1.4\n",
      "jiter                                            0.7.1\n",
      "joblib                                           1.4.2\n",
      "json5                                            0.10.0\n",
      "jsonpickle                                       4.0.0\n",
      "jsonpointer                                      3.0.0\n",
      "jsonschema                                       4.23.0\n",
      "jsonschema-specifications                        2024.10.1\n",
      "jupyter                                          1.1.1\n",
      "jupyter_client                                   8.6.3\n",
      "jupyter-console                                  6.6.3\n",
      "jupyter_core                                     5.7.2\n",
      "jupyter-events                                   0.10.0\n",
      "jupyter-lsp                                      2.2.5\n",
      "jupyter_server                                   2.14.2\n",
      "jupyter_server_terminals                         0.5.3\n",
      "jupyterlab                                       4.2.6\n",
      "jupyterlab_pygments                              0.3.0\n",
      "jupyterlab_server                                2.27.3\n",
      "jupyterlab_widgets                               3.0.13\n",
      "llama-cloud                                      0.1.5\n",
      "llama-index                                      0.12.1\n",
      "llama-index-agent-openai                         0.4.0\n",
      "llama-index-callbacks-arize-phoenix              0.3.0\n",
      "llama-index-cli                                  0.4.0\n",
      "llama-index-core                                 0.12.1\n",
      "llama-index-embeddings-openai                    0.3.0\n",
      "llama-index-embeddings-text-embeddings-inference 0.3.0\n",
      "llama-index-indices-managed-llama-cloud          0.6.2\n",
      "llama-index-legacy                               0.9.48.post4\n",
      "llama-index-llms-openai                          0.3.2\n",
      "llama-index-llms-openai-like                     0.3.0\n",
      "llama-index-multi-modal-llms-openai              0.3.0\n",
      "llama-index-program-openai                       0.3.1\n",
      "llama-index-question-gen-openai                  0.3.0\n",
      "llama-index-readers-file                         0.4.0\n",
      "llama-index-readers-llama-parse                  0.4.0\n",
      "llama-index-utils-huggingface                    0.3.0\n",
      "llama-index-utils-workflow                       0.3.0\n",
      "llama-parse                                      0.5.15\n",
      "Mako                                             1.3.6\n",
      "MarkupSafe                                       3.0.2\n",
      "marshmallow                                      3.23.1\n",
      "matplotlib-inline                                0.1.7\n",
      "mistune                                          3.0.2\n",
      "multidict                                        6.1.0\n",
      "mypy-extensions                                  1.0.0\n",
      "nbclient                                         0.10.1\n",
      "nbconvert                                        7.16.4\n",
      "nbformat                                         5.10.4\n",
      "nest-asyncio                                     1.6.0\n",
      "networkx                                         3.4.2\n",
      "nltk                                             3.9.1\n",
      "notebook                                         7.2.2\n",
      "notebook_shim                                    0.2.4\n",
      "numpy                                            2.1.3\n",
      "openai                                           1.55.1\n",
      "openinference-instrumentation                    0.1.19\n",
      "openinference-instrumentation-llama-index        3.0.4\n",
      "openinference-semantic-conventions               0.1.12\n",
      "opentelemetry-api                                1.28.2\n",
      "opentelemetry-exporter-otlp                      1.28.2\n",
      "opentelemetry-exporter-otlp-proto-common         1.28.2\n",
      "opentelemetry-exporter-otlp-proto-grpc           1.28.2\n",
      "opentelemetry-exporter-otlp-proto-http           1.28.2\n",
      "opentelemetry-instrumentation                    0.49b2\n",
      "opentelemetry-proto                              1.28.2\n",
      "opentelemetry-sdk                                1.28.2\n",
      "opentelemetry-semantic-conventions               0.49b2\n",
      "overrides                                        7.7.0\n",
      "packaging                                        24.2\n",
      "pandas                                           2.2.3\n",
      "pandocfilters                                    1.5.1\n",
      "parso                                            0.8.4\n",
      "pexpect                                          4.9.0\n",
      "pillow                                           11.0.0\n",
      "pip                                              24.0\n",
      "platformdirs                                     4.3.6\n",
      "pluggy                                           1.5.0\n",
      "prometheus_client                                0.21.0\n",
      "prompt_toolkit                                   3.0.48\n",
      "propcache                                        0.2.0\n",
      "protobuf                                         5.29.0\n",
      "psutil                                           6.1.0\n",
      "ptyprocess                                       0.7.0\n",
      "pure_eval                                        0.2.3\n",
      "pyarrow                                          18.1.0\n",
      "pycparser                                        2.22\n",
      "pydantic                                         2.9.2\n",
      "pydantic_core                                    2.23.4\n",
      "Pygments                                         2.18.0\n",
      "pypdf                                            5.1.0\n",
      "pytest                                           8.3.3\n",
      "python-dateutil                                  2.9.0.post0\n",
      "python-dotenv                                    1.0.1\n",
      "python-json-logger                               2.0.7\n",
      "python-multipart                                 0.0.19\n",
      "pytz                                             2024.2\n",
      "pyvis                                            0.3.2\n",
      "PyYAML                                           6.0.2\n",
      "pyzmq                                            26.2.0\n",
      "referencing                                      0.35.1\n",
      "regex                                            2024.11.6\n",
      "requests                                         2.32.3\n",
      "rfc3339-validator                                0.1.4\n",
      "rfc3986-validator                                0.1.1\n",
      "rpds-py                                          0.22.0\n",
      "safetensors                                      0.4.5\n",
      "scikit-learn                                     1.5.2\n",
      "scipy                                            1.14.1\n",
      "Send2Trash                                       1.8.3\n",
      "setuptools                                       75.6.0\n",
      "six                                              1.16.0\n",
      "sniffio                                          1.3.1\n",
      "soupsieve                                        2.6\n",
      "SQLAlchemy                                       2.0.36\n",
      "sqlean.py                                        3.47.0\n",
      "stack-data                                       0.6.3\n",
      "starlette                                        0.41.3\n",
      "strawberry-graphql                               0.243.1\n",
      "striprtf                                         0.0.26\n",
      "tenacity                                         8.5.0\n",
      "terminado                                        0.18.1\n",
      "threadpoolctl                                    3.5.0\n",
      "tiktoken                                         0.8.0\n",
      "tinycss2                                         1.4.0\n",
      "tokenizers                                       0.20.3\n",
      "tornado                                          6.4.2\n",
      "tqdm                                             4.67.1\n",
      "traitlets                                        5.14.3\n",
      "transformers                                     4.46.3\n",
      "types-python-dateutil                            2.9.0.20241003\n",
      "typing_extensions                                4.12.2\n",
      "typing-inspect                                   0.9.0\n",
      "tzdata                                           2024.2\n",
      "uri-template                                     1.3.0\n",
      "urllib3                                          2.2.3\n",
      "uvicorn                                          0.32.1\n",
      "wcwidth                                          0.2.13\n",
      "webcolors                                        24.11.1\n",
      "webencodings                                     0.5.1\n",
      "websocket-client                                 1.8.0\n",
      "websockets                                       14.1\n",
      "widgetsnbextension                               4.0.13\n",
      "wrapt                                            1.16.0\n",
      "yarl                                             1.18.0\n",
      "zipp                                             3.21.0\n",
      "\n",
      "\u001b[1m[\u001b[0m\u001b[34;49mnotice\u001b[0m\u001b[1;39;49m]\u001b[0m\u001b[39;49m A new release of pip is available: \u001b[0m\u001b[31;49m24.0\u001b[0m\u001b[39;49m -> \u001b[0m\u001b[32;49m24.3.1\u001b[0m\n",
      "\u001b[1m[\u001b[0m\u001b[34;49mnotice\u001b[0m\u001b[1;39;49m]\u001b[0m\u001b[39;49m To update, run: \u001b[0m\u001b[32;49mpip install --upgrade pip\u001b[0m\n"
     ]
    }
   ],
   "source": [
    "!pip list"
   ]
  },
  {
   "cell_type": "code",
   "execution_count": 3,
   "metadata": {},
   "outputs": [],
   "source": [
    "claim = CheckedClaim(\n",
    "    text=\"The AMOC is slowing down\",\n",
    "    negation=\"The AMOC is not changing\",\n",
    "    uid=\"123\"\n",
    ")"
   ]
  },
  {
   "cell_type": "code",
   "execution_count": 12,
   "metadata": {},
   "outputs": [],
   "source": [
    "from evidence_seeker.retrieval import RetrievalConfig\n",
    "\n",
    "def get_metadata_fn(path):\n",
    "    return {\"author\": \"IPCC Working Group I\"}\n",
    "\n",
    "config = RetrievalConfig()\n",
    "config.document_input_files = [\"../TMP/IPCC_AR6_WGI_TS.pdf\"]\n",
    "config.index_persist_path = \"../TMP/storage/index\"\n",
    "\n",
    "retriever = DocumentRetriever(\n",
    "    config=config,\n",
    "    document_file_metadata=get_metadata_fn,\n",
    ")"
   ]
  },
  {
   "cell_type": "code",
   "execution_count": 10,
   "metadata": {},
   "outputs": [],
   "source": [
    "docs = await retriever.retrieve_documents(claim)"
   ]
  },
  {
   "cell_type": "code",
   "execution_count": 11,
   "metadata": {},
   "outputs": [
    {
     "data": {
      "text/plain": [
       "[Document(text='There is high confidence that oxygen levels have \\ndropped in many regions since the mid 20th century and \\nthat the geographic range of many marine organisms has \\nchanged over the last two decades. \\n The amount of ocean warming observed since 1971 \\nwill likely at least double by 2100 under a low warming \\nscenario (SSP1-2.6) and will increase by 4–8 times under \\na high warming scenario (SSP5-8.5).  Stratification (virtually \\ncertain), acidification ( virtually certain ), deoxygenation \\n(high confidence ) and marine heatwave frequency ( high \\nconfidence) will continue to increase in the 21st century. \\n While there is low confidence in 20th century AMOC change, \\nit is very likely that AMOC will decline over the 21st century \\n(Figure TS.11).  {2.3, 3.5, 3.6, 4.3.2, 5.3, 7.2, 9.2, Box\\xa09.2, 12.4}\\nIt is virtually certain that the global ocean has warmed since at least \\n1971, representing about 90% of the increase in the global energy \\ninventory (Section TS.3.1).  The ocean is currently warming faster than \\nat any other time since at least the last deglacial transition (medium \\nconfidence), with warming extending to depths well below 2000 m \\n(very high confidence ).  It is extremely likely that human influence \\nwas the main driver of this recent ocean warming. ', uid='d5af390d-bec8-48d0-b307-353f2add8171', metadata={'page_label': '74', 'file_name': 'IPCC_AR6_WGI_TS.pdf', 'author': 'IPCC Working Group I', 'original_text': 'While there is low confidence in 20th century AMOC change, \\nit is very likely that AMOC will decline over the 21st century \\n(Figure TS.11). '}),\n",
       " Document(text='Based on recent refined \\nanalyses of the available observations, there is high confidence  \\nthat it increased by 4.9 ± 1.5% from 1970–2018, which is about \\ntwice as much as assessed in SROCC, and will continue to increase \\nthroughout the 21st century at a rate depending on the emissions \\nscenario (virtually certain).  {2.3.3, 9.2.1}\\nIt is virtually certain that since 1950 near-surface high-salinity \\nregions have become more saline, while low-salinity regions have \\nbecome fresher, with medium confidence  that this is linked to an \\nintensification of the hydrological cycle (Box TS.6).  It is extremely \\nlikely that human influence has contributed to this salinity change \\nand that the large-scale pattern will grow in amplitude over the 21st \\ncentury (medium confidence).  {2.3.3, 3.5.2, 9.2.2, 12.4.8}\\nThe AMOC was relatively stable during the past 8000 years (medium \\nconfidence).  There is low confidence in the quantification of AMOC \\nchanges in the 20th century because of low agreement in quantitative \\nreconstructed and simulated trends, missing key processes in both \\nmodels and measurements used for formulating proxies, and new \\nmodel evaluations.  Direct observational records since the mid-2000s \\nare too short to determine the relative contributions of internal \\nvariability, natural forcing and anthropogenic forcing to AMOC \\nchange (high confidence).  An AMOC decline over the 21st century \\nis very likely for all SSP scenarios (Figure TS.11b); a possible abrupt \\ndecline is assessed further in Box TS.3. ', uid='b75ae562-2573-42b6-8008-296995863bea', metadata={'page_label': '74', 'file_name': 'IPCC_AR6_WGI_TS.pdf', 'author': 'IPCC Working Group I', 'original_text': '{2.3.3, 3.5.2, 9.2.2, 12.4.8}\\nThe AMOC was relatively stable during the past 8000 years (medium \\nconfidence). '}),\n",
       " Document(text='{2.3.3, 3.5.2, 9.2.2, 12.4.8}\\nThe AMOC was relatively stable during the past 8000 years (medium \\nconfidence).  There is low confidence in the quantification of AMOC \\nchanges in the 20th century because of low agreement in quantitative \\nreconstructed and simulated trends, missing key processes in both \\nmodels and measurements used for formulating proxies, and new \\nmodel evaluations.  Direct observational records since the mid-2000s \\nare too short to determine the relative contributions of internal \\nvariability, natural forcing and anthropogenic forcing to AMOC \\nchange (high confidence).  An AMOC decline over the 21st century \\nis very likely for all SSP scenarios (Figure TS.11b); a possible abrupt \\ndecline is assessed further in Box TS.3.  {2.3.3, 3.5.4, 4.3.2, 8.6.1, \\n9.2.3, Cross-Chapter Box\\xa012.3}\\nThere is high confidence that many ocean currents will change in \\nthe 21st century in response to changes in wind stress.   There is low \\nconfidence in 21st century change of Southern Ocean circulation, \\ndespite high confidence  that it is sensitive to changes in wind \\npatterns and increased ice-shelf melt.  Western boundary currents \\nand subtropical gyres have shifted poleward since 1993 ( medium \\nconfidence). ', uid='604b1636-eb79-492e-9530-559887d27994', metadata={'page_label': '74', 'file_name': 'IPCC_AR6_WGI_TS.pdf', 'author': 'IPCC Working Group I', 'original_text': 'An AMOC decline over the 21st century \\nis very likely for all SSP scenarios (Figure TS.11b); a possible abrupt \\ndecline is assessed further in Box TS.3. '}),\n",
       " Document(text='73\\nTechnical Summary\\nTS\\nBox TS.3 (continued)\\nWhile there is medium confidence  that the projected decline in the AMOC (Section TS.2.4) will not involve an abrupt collapse \\nbefore\\xa02100, such a collapse might be triggered by an unexpected meltwater influx from the Greenland Ice Sheet.  If an AMOC collapse \\nwere to occur, it would very likely cause abrupt shifts in the regional weather patterns and water cycle, such as a southward shift in the \\ntropical rain belt, and could result in weakening of the African and Asian monsoons, strengthening of Southern Hemisphere monsoons, \\nand drying in Europe.  (See also Boxes TS.9 and TS.13).  {4.7.2, 8.6.1, 9.2.3}\\nVery rare extremes and compound or concurrent events, such as the 2018 concurrent heatwaves across the Northern Hemisphere, are \\noften associated with large impacts.  The changing climate state is already altering the likelihood of extreme events, such as decadal \\ndroughts and extreme sea levels, and will continue to do so under future warming. ', uid='7a5568b1-c7e7-419c-bcfe-0ab903d4227f', metadata={'page_label': '73', 'file_name': 'IPCC_AR6_WGI_TS.pdf', 'author': 'IPCC Working Group I', 'original_text': 'If an AMOC collapse \\nwere to occur, it would very likely cause abrupt shifts in the regional weather patterns and water cycle, such as a southward shift in the \\ntropical rain belt, and could result in weakening of the African and Asian monsoons, strengthening of Southern Hemisphere monsoons, \\nand drying in Europe. '}),\n",
       " Document(text='Some processes suspected of having tipping points, such as the Atlantic Meridional Overturning \\nCirculation (AMOC), have been found to often undergo recovery after temperature stabilization with a time delay ( low confidence). \\n However, substantial irreversibility is further substantiated for some cryosphere changes, ocean warming, sea level rise, and ocean \\nacidification.  {4.7.2, 5.3.3, 5.4.9, 9.2.2, 9.2.4, 9.4.1, 9.4.2, 9.6.3}\\nSome climate system components are slow to respond, such as the deep ocean overturning circulation and the ice sheets.  It is likely that \\nunder stabilization of global warming at 1.5°C, 2.0°C or 3.0°C relative to 1850–1900, the AMOC will continue to weaken for several \\ndecades by about 15%, 20% and 30% of its strength and then recover to pre-decline values over several centuries (medium confidence). \\n At sustained warming levels between 2°C and 3°C, there is limited evidence that the Greenland and West Antarctic ice sheets will be lost \\nalmost completely and irreversibly over multiple millennia; both the probability of their complete loss and the rate of mass loss increases \\nwith higher surface temperatures ( high confidence).  At sustained warming levels between 3°C and 5°C, near-complete loss of the \\nGreenland Ice Sheet and complete loss of the West Antarctic Ice Sheet is projected to occur irreversibly over multiple millennia (medium \\nconfidence); with substantial parts or all of Wilkes Subglacial Basin in East Antarctica lost over multiple millennia (low confidence).  Early-\\nwarning signals of accelerated sea level rise from Antarctica could possibly be observed within the next few decades. ', uid='5d3e31de-82f9-4824-98d8-dbda49324771', metadata={'page_label': '106', 'file_name': 'IPCC_AR6_WGI_TS.pdf', 'author': 'IPCC Working Group I', 'original_text': 'It is likely that \\nunder stabilization of global warming at 1.5°C, 2.0°C or 3.0°C relative to 1850–1900, the AMOC will continue to weaken for several \\ndecades by about 15%, 20% and 30% of its strength and then recover to pre-decline values over several centuries (medium confidence). \\n'}),\n",
       " Document(text='{2.3.3, 9.2.1}\\nIt is virtually certain that since 1950 near-surface high-salinity \\nregions have become more saline, while low-salinity regions have \\nbecome fresher, with medium confidence  that this is linked to an \\nintensification of the hydrological cycle (Box TS.6).  It is extremely \\nlikely that human influence has contributed to this salinity change \\nand that the large-scale pattern will grow in amplitude over the 21st \\ncentury (medium confidence).  {2.3.3, 3.5.2, 9.2.2, 12.4.8}\\nThe AMOC was relatively stable during the past 8000 years (medium \\nconfidence).  There is low confidence in the quantification of AMOC \\nchanges in the 20th century because of low agreement in quantitative \\nreconstructed and simulated trends, missing key processes in both \\nmodels and measurements used for formulating proxies, and new \\nmodel evaluations.  Direct observational records since the mid-2000s \\nare too short to determine the relative contributions of internal \\nvariability, natural forcing and anthropogenic forcing to AMOC \\nchange (high confidence).  An AMOC decline over the 21st century \\nis very likely for all SSP scenarios (Figure TS.11b); a possible abrupt \\ndecline is assessed further in Box TS.3.  {2.3.3, 3.5.4, 4.3.2, 8.6.1, \\n9.2.3, Cross-Chapter Box\\xa012.3}\\nThere is high confidence that many ocean currents will change in \\nthe 21st century in response to changes in wind stress.  ', uid='d51f1cee-24e8-4c07-83b3-51fd01346476', metadata={'page_label': '74', 'file_name': 'IPCC_AR6_WGI_TS.pdf', 'author': 'IPCC Working Group I', 'original_text': 'There is low confidence in the quantification of AMOC \\nchanges in the 20th century because of low agreement in quantitative \\nreconstructed and simulated trends, missing key processes in both \\nmodels and measurements used for formulating proxies, and new \\nmodel evaluations. '}),\n",
       " Document(text='Models that exhibit such tipping points are characterized by abrupt changes once the threshold is crossed, and even \\na return to pre-threshold surface temperatures or to atmospheric carbon dioxide concentrations does not guarantee \\nthat the tipping elements return to their pre-threshold state.  Monitoring and early warning systems are being put into \\nplace to observe tipping elements in the climate system.  {1.3, 1.4.4, 1.5, 4.3.2, Table\\xa04.10, 5.3.4, 5.4.9, 7.5.3, 9.2.2, \\n9.2.4, 9.4.1, 9.4.2, 9.6.3, Cross-chapter Box\\xa012.1}\\nUnderstanding of multi-decadal reversibility (i.e., the system returns to the previous climate state within multiple decades after \\nthe radiative forcing is removed) has improved since AR5 for many atmospheric, land surface and sea ice climate metrics following \\nsea surface temperature recovery.  Some processes suspected of having tipping points, such as the Atlantic Meridional Overturning \\nCirculation (AMOC), have been found to often undergo recovery after temperature stabilization with a time delay ( low confidence). \\n However, substantial irreversibility is further substantiated for some cryosphere changes, ocean warming, sea level rise, and ocean \\nacidification.  {4.7.2, 5.3.3, 5.4.9, 9.2.2, 9.2.4, 9.4.1, 9.4.2, 9.6.3}\\nSome climate system components are slow to respond, such as the deep ocean overturning circulation and the ice sheets.  It is likely that \\nunder stabilization of global warming at 1.5°C, 2.0°C or 3.0°C relative to 1850–1900, the AMOC will continue to weaken for several \\ndecades by about 15%, 20% and 30% of its strength and then recover to pre-decline values over several centuries (medium confidence). \\n', uid='4e88ef3e-81b2-4024-bd0c-263fa41544a4', metadata={'page_label': '106', 'file_name': 'IPCC_AR6_WGI_TS.pdf', 'author': 'IPCC Working Group I', 'original_text': 'Some processes suspected of having tipping points, such as the Atlantic Meridional Overturning \\nCirculation (AMOC), have been found to often undergo recovery after temperature stabilization with a time delay ( low confidence). \\n'}),\n",
       " Document(text='72\\nTechnical Summary\\nTS\\nBox TS.3 | Low-likelihood, High-warming Storylines\\nFuture global warming exceeding the assessed very likely range cannot be ruled out and is potentially associated \\nwith the highest risks for society and ecosystems.  Such low-likelihood, high-warming storylines tend to exhibit \\nsubstantially greater changes in the intensity of regional drying and wetting than the multi-model mean.  Even at \\nlevels of warming within the very likely range, global and regional low-likelihood outcomes might occur, such as large \\nprecipitation changes, additional sea level rise associated with collapsing ice sheets (see Box TS.4), or abrupt ocean \\ncirculation changes.  While there is medium confidence that the Atlantic Meridional Overturning Circulation (AMOC) \\nwill not experience an abrupt collapse before 2100, if it were to occur, it would very likely cause abrupt shifts in \\nregional weather patterns and water cycle.  The probability of these low-likelihood outcomes increases with higher \\nglobal warming levels.  If the real-world climate sensitivity lies at the high end of the assessed range, then global \\nand regional changes substantially outside the very likely range projections occur for a given emissions scenario. \\n With increasing global warming, some very rare extremes and some compound events (multivariate or concurrent \\nextremes) with low likelihood in past and current climate will become more frequent, and there is a\\xa0higher chance \\nthat events unprecedented in the observational record occur ( high confidence). ', uid='e39b553f-6c36-4cfc-bd8b-5c38abc39623', metadata={'page_label': '72', 'file_name': 'IPCC_AR6_WGI_TS.pdf', 'author': 'IPCC Working Group I', 'original_text': 'While there is medium confidence that the Atlantic Meridional Overturning Circulation (AMOC) \\nwill not experience an abrupt collapse before 2100, if it were to occur, it would very likely cause abrupt shifts in \\nregional weather patterns and water cycle. '})]"
      ]
     },
     "execution_count": 11,
     "metadata": {},
     "output_type": "execute_result"
    }
   ],
   "source": [
    "docs"
   ]
  },
  {
   "cell_type": "code",
   "execution_count": null,
   "metadata": {},
   "outputs": [],
   "source": []
  }
 ],
 "metadata": {
  "kernelspec": {
   "display_name": "evidence-seeker",
   "language": "python",
   "name": "python3"
  },
  "language_info": {
   "codemirror_mode": {
    "name": "ipython",
    "version": 3
   },
   "file_extension": ".py",
   "mimetype": "text/x-python",
   "name": "python",
   "nbconvert_exporter": "python",
   "pygments_lexer": "ipython3",
   "version": "3.12.3"
  }
 },
 "nbformat": 4,
 "nbformat_minor": 2
}
