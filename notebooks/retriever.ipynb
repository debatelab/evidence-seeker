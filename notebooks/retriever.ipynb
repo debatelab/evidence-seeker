{
 "cells": [
  {
   "cell_type": "code",
   "execution_count": 1,
   "metadata": {},
   "outputs": [
    {
     "name": "stdout",
     "output_type": "stream",
     "text": [
      "🌍 To view the Phoenix app in your browser, visit http://localhost:6006/\n",
      "📖 For more information on how to use Phoenix, check out https://docs.arize.com/phoenix\n"
     ]
    },
    {
     "data": {
      "text/plain": [
       "<phoenix.session.session.ThreadSession at 0x105933c50>"
      ]
     },
     "execution_count": 1,
     "metadata": {},
     "output_type": "execute_result"
    }
   ],
   "source": [
    "# observability\n",
    "import phoenix as px\n",
    "px.launch_app()\n"
   ]
  },
  {
   "cell_type": "code",
   "execution_count": 2,
   "metadata": {},
   "outputs": [],
   "source": [
    "import llama_index.core\n",
    "llama_index.core.set_global_handler(\"arize_phoenix\", endpoint=\"http://localhost:6006/v1/traces\")"
   ]
  },
  {
   "cell_type": "code",
   "execution_count": 3,
   "metadata": {},
   "outputs": [
    {
     "name": "stderr",
     "output_type": "stream",
     "text": [
      "None of PyTorch, TensorFlow >= 2.0, or Flax have been found. Models won't be available and only tokenizers, configuration and file/data utilities can be used.\n"
     ]
    }
   ],
   "source": [
    "from evidence_seeker.retrieval import DocumentRetriever\n",
    "from evidence_seeker.models import CheckedClaim"
   ]
  },
  {
   "cell_type": "code",
   "execution_count": 4,
   "metadata": {},
   "outputs": [
    {
     "name": "stderr",
     "output_type": "stream",
     "text": [
      "WARNING: All log messages before absl::InitializeLog() is called are written to STDERR\n",
      "I0000 00:00:1733235587.689908   36823 fork_posix.cc:75] Other threads are currently calling into gRPC, skipping fork() handlers\n",
      "I0000 00:00:1733235588.305768   36823 fork_posix.cc:75] Other threads are currently calling into gRPC, skipping fork() handlers\n"
     ]
    },
    {
     "name": "stdout",
     "output_type": "stream",
     "text": [
      "  % Total    % Received % Xferd  Average Speed   Time    Time     Time  Current\n",
      "                                 Dload  Upload   Total   Spent    Left  Speed\n",
      "100 30.9M  100 30.9M    0     0  23.0M      0  0:00:01  0:00:01 --:--:-- 23.1M\n"
     ]
    }
   ],
   "source": [
    "# Download IPCC report\n",
    "!mkdir -p ../TMP\n",
    "!curl https://www.ipcc.ch/report/ar6/wg1/downloads/report/IPCC_AR6_WGI_TS.pdf --output ../TMP/IPCC_AR6_WGI_TS.pdf"
   ]
  },
  {
   "cell_type": "code",
   "execution_count": 4,
   "metadata": {},
   "outputs": [
    {
     "data": {
      "text/plain": [
       "True"
      ]
     },
     "execution_count": 4,
     "metadata": {},
     "output_type": "execute_result"
    }
   ],
   "source": [
    "import dotenv\n",
    "import os\n",
    "dotenv.load_dotenv()\n",
    "\"HF_TOKEN\" in os.environ or print(\"Please set the HF_TOKEN environment variable in .env file\")"
   ]
  },
  {
   "cell_type": "code",
   "execution_count": 5,
   "metadata": {},
   "outputs": [],
   "source": [
    "claim = CheckedClaim(\n",
    "    text=\"The AMOC is slowing down\",\n",
    "    negation=\"The AMOC is not changing\",\n",
    "    uid=\"123\"\n",
    ")"
   ]
  },
  {
   "cell_type": "code",
   "execution_count": 6,
   "metadata": {},
   "outputs": [],
   "source": [
    "retriever = DocumentRetriever(\n",
    "    document_input_files=[\"../TMP/IPCC_AR6_WGI_TS.pdf\"],\n",
    "    index_persist_path=\"../TMP/storage/index\",\n",
    ")"
   ]
  },
  {
   "cell_type": "code",
   "execution_count": 9,
   "metadata": {},
   "outputs": [],
   "source": [
    "docs = await retriever.retrieve_documents(claim)"
   ]
  },
  {
   "cell_type": "code",
   "execution_count": 10,
   "metadata": {},
   "outputs": [
    {
     "data": {
      "text/plain": [
       "[Document(text='There is high confidence that oxygen levels have \\ndropped in many regions since the mid 20th century and \\nthat the geographic range of many marine organisms has \\nchanged over the last two decades. \\n The amount of ocean warming observed since 1971 \\nwill likely at least double by 2100 under a low warming \\nscenario (SSP1-2.6) and will increase by 4–8 times under \\na high warming scenario (SSP5-8.5).  Stratification (virtually \\ncertain), acidification ( virtually certain ), deoxygenation \\n(high confidence ) and marine heatwave frequency ( high \\nconfidence) will continue to increase in the 21st century. \\n While there is low confidence in 20th century AMOC change, \\nit is very likely that AMOC will decline over the 21st century \\n(Figure TS.11).  {2.3, 3.5, 3.6, 4.3.2, 5.3, 7.2, 9.2, Box\\xa09.2, 12.4}\\nIt is virtually certain that the global ocean has warmed since at least \\n1971, representing about 90% of the increase in the global energy \\ninventory (Section TS.3.1).  The ocean is currently warming faster than \\nat any other time since at least the last deglacial transition (medium \\nconfidence), with warming extending to depths well below 2000 m \\n(very high confidence ).  It is extremely likely that human influence \\nwas the main driver of this recent ocean warming. ', uid='b1417e80-d126-41df-b214-2237265504c2', metadata={'page_label': '74', 'file_name': 'IPCC_AR6_WGI_TS.pdf', 'file_path': '../TMP/IPCC_AR6_WGI_TS.pdf', 'file_type': 'application/pdf', 'file_size': 32438548, 'creation_date': '2024-12-03', 'last_modified_date': '2024-12-03', 'original_text': 'While there is low confidence in 20th century AMOC change, \\nit is very likely that AMOC will decline over the 21st century \\n(Figure TS.11). '}),\n",
       " Document(text='{2.3.3, 3.5.2, 9.2.2, 12.4.8}\\nThe AMOC was relatively stable during the past 8000 years (medium \\nconfidence).  There is low confidence in the quantification of AMOC \\nchanges in the 20th century because of low agreement in quantitative \\nreconstructed and simulated trends, missing key processes in both \\nmodels and measurements used for formulating proxies, and new \\nmodel evaluations.  Direct observational records since the mid-2000s \\nare too short to determine the relative contributions of internal \\nvariability, natural forcing and anthropogenic forcing to AMOC \\nchange (high confidence).  An AMOC decline over the 21st century \\nis very likely for all SSP scenarios (Figure TS.11b); a possible abrupt \\ndecline is assessed further in Box TS.3.  {2.3.3, 3.5.4, 4.3.2, 8.6.1, \\n9.2.3, Cross-Chapter Box\\xa012.3}\\nThere is high confidence that many ocean currents will change in \\nthe 21st century in response to changes in wind stress.   There is low \\nconfidence in 21st century change of Southern Ocean circulation, \\ndespite high confidence  that it is sensitive to changes in wind \\npatterns and increased ice-shelf melt.  Western boundary currents \\nand subtropical gyres have shifted poleward since 1993 ( medium \\nconfidence). ', uid='4e75811d-911f-46fb-9124-f64531ccd548', metadata={'page_label': '74', 'file_name': 'IPCC_AR6_WGI_TS.pdf', 'file_path': '../TMP/IPCC_AR6_WGI_TS.pdf', 'file_type': 'application/pdf', 'file_size': 32438548, 'creation_date': '2024-12-03', 'last_modified_date': '2024-12-03', 'original_text': 'An AMOC decline over the 21st century \\nis very likely for all SSP scenarios (Figure TS.11b); a possible abrupt \\ndecline is assessed further in Box TS.3. '}),\n",
       " Document(text='Based on recent refined \\nanalyses of the available observations, there is high confidence  \\nthat it increased by 4.9 ± 1.5% from 1970–2018, which is about \\ntwice as much as assessed in SROCC, and will continue to increase \\nthroughout the 21st century at a rate depending on the emissions \\nscenario (virtually certain).  {2.3.3, 9.2.1}\\nIt is virtually certain that since 1950 near-surface high-salinity \\nregions have become more saline, while low-salinity regions have \\nbecome fresher, with medium confidence  that this is linked to an \\nintensification of the hydrological cycle (Box TS.6).  It is extremely \\nlikely that human influence has contributed to this salinity change \\nand that the large-scale pattern will grow in amplitude over the 21st \\ncentury (medium confidence).  {2.3.3, 3.5.2, 9.2.2, 12.4.8}\\nThe AMOC was relatively stable during the past 8000 years (medium \\nconfidence).  There is low confidence in the quantification of AMOC \\nchanges in the 20th century because of low agreement in quantitative \\nreconstructed and simulated trends, missing key processes in both \\nmodels and measurements used for formulating proxies, and new \\nmodel evaluations.  Direct observational records since the mid-2000s \\nare too short to determine the relative contributions of internal \\nvariability, natural forcing and anthropogenic forcing to AMOC \\nchange (high confidence).  An AMOC decline over the 21st century \\nis very likely for all SSP scenarios (Figure TS.11b); a possible abrupt \\ndecline is assessed further in Box TS.3. ', uid='d9b39d28-9428-4361-be39-61494a12292f', metadata={'page_label': '74', 'file_name': 'IPCC_AR6_WGI_TS.pdf', 'file_path': '../TMP/IPCC_AR6_WGI_TS.pdf', 'file_type': 'application/pdf', 'file_size': 32438548, 'creation_date': '2024-12-03', 'last_modified_date': '2024-12-03', 'original_text': '{2.3.3, 3.5.2, 9.2.2, 12.4.8}\\nThe AMOC was relatively stable during the past 8000 years (medium \\nconfidence). '}),\n",
       " Document(text='73\\nTechnical Summary\\nTS\\nBox TS.3 (continued)\\nWhile there is medium confidence  that the projected decline in the AMOC (Section TS.2.4) will not involve an abrupt collapse \\nbefore\\xa02100, such a collapse might be triggered by an unexpected meltwater influx from the Greenland Ice Sheet.  If an AMOC collapse \\nwere to occur, it would very likely cause abrupt shifts in the regional weather patterns and water cycle, such as a southward shift in the \\ntropical rain belt, and could result in weakening of the African and Asian monsoons, strengthening of Southern Hemisphere monsoons, \\nand drying in Europe.  (See also Boxes TS.9 and TS.13).  {4.7.2, 8.6.1, 9.2.3}\\nVery rare extremes and compound or concurrent events, such as the 2018 concurrent heatwaves across the Northern Hemisphere, are \\noften associated with large impacts.  The changing climate state is already altering the likelihood of extreme events, such as decadal \\ndroughts and extreme sea levels, and will continue to do so under future warming. ', uid='2f53a58c-44fd-4fef-bdc6-1a4b987691fe', metadata={'page_label': '73', 'file_name': 'IPCC_AR6_WGI_TS.pdf', 'file_path': '../TMP/IPCC_AR6_WGI_TS.pdf', 'file_type': 'application/pdf', 'file_size': 32438548, 'creation_date': '2024-12-03', 'last_modified_date': '2024-12-03', 'original_text': 'If an AMOC collapse \\nwere to occur, it would very likely cause abrupt shifts in the regional weather patterns and water cycle, such as a southward shift in the \\ntropical rain belt, and could result in weakening of the African and Asian monsoons, strengthening of Southern Hemisphere monsoons, \\nand drying in Europe. '}),\n",
       " Document(text='Some processes suspected of having tipping points, such as the Atlantic Meridional Overturning \\nCirculation (AMOC), have been found to often undergo recovery after temperature stabilization with a time delay ( low confidence). \\n However, substantial irreversibility is further substantiated for some cryosphere changes, ocean warming, sea level rise, and ocean \\nacidification.  {4.7.2, 5.3.3, 5.4.9, 9.2.2, 9.2.4, 9.4.1, 9.4.2, 9.6.3}\\nSome climate system components are slow to respond, such as the deep ocean overturning circulation and the ice sheets.  It is likely that \\nunder stabilization of global warming at 1.5°C, 2.0°C or 3.0°C relative to 1850–1900, the AMOC will continue to weaken for several \\ndecades by about 15%, 20% and 30% of its strength and then recover to pre-decline values over several centuries (medium confidence). \\n At sustained warming levels between 2°C and 3°C, there is limited evidence that the Greenland and West Antarctic ice sheets will be lost \\nalmost completely and irreversibly over multiple millennia; both the probability of their complete loss and the rate of mass loss increases \\nwith higher surface temperatures ( high confidence).  At sustained warming levels between 3°C and 5°C, near-complete loss of the \\nGreenland Ice Sheet and complete loss of the West Antarctic Ice Sheet is projected to occur irreversibly over multiple millennia (medium \\nconfidence); with substantial parts or all of Wilkes Subglacial Basin in East Antarctica lost over multiple millennia (low confidence).  Early-\\nwarning signals of accelerated sea level rise from Antarctica could possibly be observed within the next few decades. ', uid='028c5a7b-b024-4696-b458-c774f168b938', metadata={'page_label': '106', 'file_name': 'IPCC_AR6_WGI_TS.pdf', 'file_path': '../TMP/IPCC_AR6_WGI_TS.pdf', 'file_type': 'application/pdf', 'file_size': 32438548, 'creation_date': '2024-12-03', 'last_modified_date': '2024-12-03', 'original_text': 'It is likely that \\nunder stabilization of global warming at 1.5°C, 2.0°C or 3.0°C relative to 1850–1900, the AMOC will continue to weaken for several \\ndecades by about 15%, 20% and 30% of its strength and then recover to pre-decline values over several centuries (medium confidence). \\n'}),\n",
       " Document(text='{2.3.3, 9.2.1}\\nIt is virtually certain that since 1950 near-surface high-salinity \\nregions have become more saline, while low-salinity regions have \\nbecome fresher, with medium confidence  that this is linked to an \\nintensification of the hydrological cycle (Box TS.6).  It is extremely \\nlikely that human influence has contributed to this salinity change \\nand that the large-scale pattern will grow in amplitude over the 21st \\ncentury (medium confidence).  {2.3.3, 3.5.2, 9.2.2, 12.4.8}\\nThe AMOC was relatively stable during the past 8000 years (medium \\nconfidence).  There is low confidence in the quantification of AMOC \\nchanges in the 20th century because of low agreement in quantitative \\nreconstructed and simulated trends, missing key processes in both \\nmodels and measurements used for formulating proxies, and new \\nmodel evaluations.  Direct observational records since the mid-2000s \\nare too short to determine the relative contributions of internal \\nvariability, natural forcing and anthropogenic forcing to AMOC \\nchange (high confidence).  An AMOC decline over the 21st century \\nis very likely for all SSP scenarios (Figure TS.11b); a possible abrupt \\ndecline is assessed further in Box TS.3.  {2.3.3, 3.5.4, 4.3.2, 8.6.1, \\n9.2.3, Cross-Chapter Box\\xa012.3}\\nThere is high confidence that many ocean currents will change in \\nthe 21st century in response to changes in wind stress.  ', uid='9287d4b7-120a-434d-9188-513d9ceb6435', metadata={'page_label': '74', 'file_name': 'IPCC_AR6_WGI_TS.pdf', 'file_path': '../TMP/IPCC_AR6_WGI_TS.pdf', 'file_type': 'application/pdf', 'file_size': 32438548, 'creation_date': '2024-12-03', 'last_modified_date': '2024-12-03', 'original_text': 'There is low confidence in the quantification of AMOC \\nchanges in the 20th century because of low agreement in quantitative \\nreconstructed and simulated trends, missing key processes in both \\nmodels and measurements used for formulating proxies, and new \\nmodel evaluations. '}),\n",
       " Document(text='Models that exhibit such tipping points are characterized by abrupt changes once the threshold is crossed, and even \\na return to pre-threshold surface temperatures or to atmospheric carbon dioxide concentrations does not guarantee \\nthat the tipping elements return to their pre-threshold state.  Monitoring and early warning systems are being put into \\nplace to observe tipping elements in the climate system.  {1.3, 1.4.4, 1.5, 4.3.2, Table\\xa04.10, 5.3.4, 5.4.9, 7.5.3, 9.2.2, \\n9.2.4, 9.4.1, 9.4.2, 9.6.3, Cross-chapter Box\\xa012.1}\\nUnderstanding of multi-decadal reversibility (i.e., the system returns to the previous climate state within multiple decades after \\nthe radiative forcing is removed) has improved since AR5 for many atmospheric, land surface and sea ice climate metrics following \\nsea surface temperature recovery.  Some processes suspected of having tipping points, such as the Atlantic Meridional Overturning \\nCirculation (AMOC), have been found to often undergo recovery after temperature stabilization with a time delay ( low confidence). \\n However, substantial irreversibility is further substantiated for some cryosphere changes, ocean warming, sea level rise, and ocean \\nacidification.  {4.7.2, 5.3.3, 5.4.9, 9.2.2, 9.2.4, 9.4.1, 9.4.2, 9.6.3}\\nSome climate system components are slow to respond, such as the deep ocean overturning circulation and the ice sheets.  It is likely that \\nunder stabilization of global warming at 1.5°C, 2.0°C or 3.0°C relative to 1850–1900, the AMOC will continue to weaken for several \\ndecades by about 15%, 20% and 30% of its strength and then recover to pre-decline values over several centuries (medium confidence). \\n', uid='9112cd9d-40f4-4816-a046-779a946470d2', metadata={'page_label': '106', 'file_name': 'IPCC_AR6_WGI_TS.pdf', 'file_path': '../TMP/IPCC_AR6_WGI_TS.pdf', 'file_type': 'application/pdf', 'file_size': 32438548, 'creation_date': '2024-12-03', 'last_modified_date': '2024-12-03', 'original_text': 'Some processes suspected of having tipping points, such as the Atlantic Meridional Overturning \\nCirculation (AMOC), have been found to often undergo recovery after temperature stabilization with a time delay ( low confidence). \\n'}),\n",
       " Document(text='It is extremely \\nlikely that human influence has contributed to this salinity change \\nand that the large-scale pattern will grow in amplitude over the 21st \\ncentury (medium confidence).  {2.3.3, 3.5.2, 9.2.2, 12.4.8}\\nThe AMOC was relatively stable during the past 8000 years (medium \\nconfidence).  There is low confidence in the quantification of AMOC \\nchanges in the 20th century because of low agreement in quantitative \\nreconstructed and simulated trends, missing key processes in both \\nmodels and measurements used for formulating proxies, and new \\nmodel evaluations.  Direct observational records since the mid-2000s \\nare too short to determine the relative contributions of internal \\nvariability, natural forcing and anthropogenic forcing to AMOC \\nchange (high confidence).  An AMOC decline over the 21st century \\nis very likely for all SSP scenarios (Figure TS.11b); a possible abrupt \\ndecline is assessed further in Box TS.3.  {2.3.3, 3.5.4, 4.3.2, 8.6.1, \\n9.2.3, Cross-Chapter Box\\xa012.3}\\nThere is high confidence that many ocean currents will change in \\nthe 21st century in response to changes in wind stress.   There is low \\nconfidence in 21st century change of Southern Ocean circulation, \\ndespite high confidence  that it is sensitive to changes in wind \\npatterns and increased ice-shelf melt. ', uid='2654ad60-a85a-42f5-8b2f-8c6237308d3d', metadata={'page_label': '74', 'file_name': 'IPCC_AR6_WGI_TS.pdf', 'file_path': '../TMP/IPCC_AR6_WGI_TS.pdf', 'file_type': 'application/pdf', 'file_size': 32438548, 'creation_date': '2024-12-03', 'last_modified_date': '2024-12-03', 'original_text': 'Direct observational records since the mid-2000s \\nare too short to determine the relative contributions of internal \\nvariability, natural forcing and anthropogenic forcing to AMOC \\nchange (high confidence). '})]"
      ]
     },
     "execution_count": 10,
     "metadata": {},
     "output_type": "execute_result"
    }
   ],
   "source": [
    "docs"
   ]
  },
  {
   "cell_type": "code",
   "execution_count": null,
   "metadata": {},
   "outputs": [],
   "source": []
  }
 ],
 "metadata": {
  "kernelspec": {
   "display_name": "evidence-seeker",
   "language": "python",
   "name": "python3"
  },
  "language_info": {
   "codemirror_mode": {
    "name": "ipython",
    "version": 3
   },
   "file_extension": ".py",
   "mimetype": "text/x-python",
   "name": "python",
   "nbconvert_exporter": "python",
   "pygments_lexer": "ipython3",
   "version": "3.12.3"
  }
 },
 "nbformat": 4,
 "nbformat_minor": 2
}
