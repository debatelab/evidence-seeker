{
 "cells": [
  {
   "cell_type": "markdown",
   "metadata": {},
   "source": [
    "# Testing Pipelines"
   ]
  },
  {
   "cell_type": "markdown",
   "metadata": {},
   "source": [
    "### Initiating observation via Phoenix"
   ]
  },
  {
   "cell_type": "code",
   "execution_count": 12,
   "metadata": {},
   "outputs": [
    {
     "name": "stdout",
     "output_type": "stream",
     "text": [
      "🌍 To view the Phoenix app in your browser, visit http://localhost:6006/\n",
      "📖 For more information on how to use Phoenix, check out https://docs.arize.com/phoenix\n"
     ]
    }
   ],
   "source": [
    "# %pip pip install arize-phoenix\n",
    "# %pip install llama-index-callbacks-arize-phoenix\n",
    "# observability\n",
    "import phoenix as px\n",
    "px.launch_app()\n",
    "\n",
    "import llama_index.core\n",
    "llama_index.core.set_global_handler(\"arize_phoenix\", endpoint=\"http://localhost:6006/v1/traces\")"
   ]
  },
  {
   "cell_type": "code",
   "execution_count": 1,
   "metadata": {},
   "outputs": [
    {
     "name": "stderr",
     "output_type": "stream",
     "text": [
      "None of PyTorch, TensorFlow >= 2.0, or Flax have been found. Models won't be available and only tokenizers, configuration and file/data utilities can be used.\n",
      "\u001b[32m2024-12-12 09:53:47.143\u001b[0m | \u001b[34m\u001b[1mDEBUG   \u001b[0m | \u001b[36mevidence_seeker.backend\u001b[0m:\u001b[36mget_openai_llm\u001b[0m:\u001b[36m117\u001b[0m - \u001b[34m\u001b[1mInstantiating OpenAILike model (model: meta-llama/Llama-3.1-70B-Instruct,base_url: https://huggingface.co/api/integrations/dgx/v1).\u001b[0m\n"
     ]
    },
    {
     "name": "stdout",
     "output_type": "stream",
     "text": [
      "Fetching api key via env var: HF_TOKEN_EVIDENCE_SEEKER\n"
     ]
    },
    {
     "name": "stderr",
     "output_type": "stream",
     "text": [
      "\u001b[32m2024-12-12 09:53:52.142\u001b[0m | \u001b[34m\u001b[1mDEBUG   \u001b[0m | \u001b[36mevidence_seeker.backend\u001b[0m:\u001b[36mget_openai_llm\u001b[0m:\u001b[36m117\u001b[0m - \u001b[34m\u001b[1mInstantiating OpenAILike model (model: meta-llama/Llama-3.1-70B-Instruct,base_url: https://huggingface.co/api/integrations/dgx/v1).\u001b[0m\n",
      "\u001b[32m2024-12-12 09:53:52.156\u001b[0m | \u001b[34m\u001b[1mDEBUG   \u001b[0m | \u001b[36mevidence_seeker.preprocessing.workflows\u001b[0m:\u001b[36mascriptive_analysis\u001b[0m:\u001b[36m176\u001b[0m - \u001b[34m\u001b[1mAnalysing ascriptive aspects of claim.\u001b[0m\n",
      "\u001b[32m2024-12-12 09:53:52.201\u001b[0m | \u001b[34m\u001b[1mDEBUG   \u001b[0m | \u001b[36mevidence_seeker.preprocessing.workflows\u001b[0m:\u001b[36mdescriptive_analysis\u001b[0m:\u001b[36m127\u001b[0m - \u001b[34m\u001b[1mAnalysing descriptive aspects of claim.\u001b[0m\n",
      "\u001b[32m2024-12-12 09:53:52.204\u001b[0m | \u001b[34m\u001b[1mDEBUG   \u001b[0m | \u001b[36mevidence_seeker.preprocessing.workflows\u001b[0m:\u001b[36mnormative_analysis\u001b[0m:\u001b[36m225\u001b[0m - \u001b[34m\u001b[1mAnalysing normative aspects of claim.\u001b[0m\n"
     ]
    },
    {
     "name": "stdout",
     "output_type": "stream",
     "text": [
      "Fetching api key via env var: HF_TOKEN_EVIDENCE_SEEKER\n"
     ]
    },
    {
     "name": "stderr",
     "output_type": "stream",
     "text": [
      "\u001b[32m2024-12-12 09:54:00.242\u001b[0m | \u001b[34m\u001b[1mDEBUG   \u001b[0m | \u001b[36mevidence_seeker.preprocessing.workflows\u001b[0m:\u001b[36mnegate_claim\u001b[0m:\u001b[36m274\u001b[0m - \u001b[34m\u001b[1mNegating claim.\u001b[0m\n",
      "\u001b[32m2024-12-12 09:54:00.248\u001b[0m | \u001b[34m\u001b[1mDEBUG   \u001b[0m | \u001b[36mevidence_seeker.preprocessing.workflows\u001b[0m:\u001b[36mnegate_claim\u001b[0m:\u001b[36m274\u001b[0m - \u001b[34m\u001b[1mNegating claim.\u001b[0m\n",
      "\u001b[32m2024-12-12 09:54:00.575\u001b[0m | \u001b[34m\u001b[1mDEBUG   \u001b[0m | \u001b[36mevidence_seeker.preprocessing.workflows\u001b[0m:\u001b[36mnegate_claim\u001b[0m:\u001b[36m274\u001b[0m - \u001b[34m\u001b[1mNegating claim.\u001b[0m\n",
      "\u001b[32m2024-12-12 09:54:00.581\u001b[0m | \u001b[34m\u001b[1mDEBUG   \u001b[0m | \u001b[36mevidence_seeker.preprocessing.workflows\u001b[0m:\u001b[36mnegate_claim\u001b[0m:\u001b[36m274\u001b[0m - \u001b[34m\u001b[1mNegating claim.\u001b[0m\n",
      "\u001b[32m2024-12-12 09:54:02.597\u001b[0m | \u001b[34m\u001b[1mDEBUG   \u001b[0m | \u001b[36mevidence_seeker.confirmation_analysis.workflows\u001b[0m:\u001b[36mfreetext_analysis\u001b[0m:\u001b[36m72\u001b[0m - \u001b[34m\u001b[1mConfirmation analysis.\u001b[0m\n",
      "\u001b[32m2024-12-12 09:54:02.635\u001b[0m | \u001b[34m\u001b[1mDEBUG   \u001b[0m | \u001b[36mevidence_seeker.confirmation_analysis.workflows\u001b[0m:\u001b[36mfreetext_analysis\u001b[0m:\u001b[36m72\u001b[0m - \u001b[34m\u001b[1mConfirmation analysis.\u001b[0m\n",
      "\u001b[32m2024-12-12 09:54:02.639\u001b[0m | \u001b[34m\u001b[1mDEBUG   \u001b[0m | \u001b[36mevidence_seeker.confirmation_analysis.workflows\u001b[0m:\u001b[36mfreetext_analysis\u001b[0m:\u001b[36m72\u001b[0m - \u001b[34m\u001b[1mConfirmation analysis.\u001b[0m\n",
      "\u001b[32m2024-12-12 09:54:02.643\u001b[0m | \u001b[34m\u001b[1mDEBUG   \u001b[0m | \u001b[36mevidence_seeker.confirmation_analysis.workflows\u001b[0m:\u001b[36mfreetext_analysis\u001b[0m:\u001b[36m72\u001b[0m - \u001b[34m\u001b[1mConfirmation analysis.\u001b[0m\n",
      "\u001b[32m2024-12-12 09:54:02.648\u001b[0m | \u001b[34m\u001b[1mDEBUG   \u001b[0m | \u001b[36mevidence_seeker.confirmation_analysis.workflows\u001b[0m:\u001b[36mfreetext_analysis\u001b[0m:\u001b[36m72\u001b[0m - \u001b[34m\u001b[1mConfirmation analysis.\u001b[0m\n",
      "\u001b[32m2024-12-12 09:54:02.651\u001b[0m | \u001b[34m\u001b[1mDEBUG   \u001b[0m | \u001b[36mevidence_seeker.confirmation_analysis.workflows\u001b[0m:\u001b[36mfreetext_analysis\u001b[0m:\u001b[36m72\u001b[0m - \u001b[34m\u001b[1mConfirmation analysis.\u001b[0m\n",
      "\u001b[32m2024-12-12 09:54:02.656\u001b[0m | \u001b[34m\u001b[1mDEBUG   \u001b[0m | \u001b[36mevidence_seeker.confirmation_analysis.workflows\u001b[0m:\u001b[36mfreetext_analysis\u001b[0m:\u001b[36m72\u001b[0m - \u001b[34m\u001b[1mConfirmation analysis.\u001b[0m\n",
      "\u001b[32m2024-12-12 09:54:02.660\u001b[0m | \u001b[34m\u001b[1mDEBUG   \u001b[0m | \u001b[36mevidence_seeker.confirmation_analysis.workflows\u001b[0m:\u001b[36mfreetext_analysis\u001b[0m:\u001b[36m72\u001b[0m - \u001b[34m\u001b[1mConfirmation analysis.\u001b[0m\n",
      "\u001b[32m2024-12-12 09:54:06.038\u001b[0m | \u001b[34m\u001b[1mDEBUG   \u001b[0m | \u001b[36mevidence_seeker.backend\u001b[0m:\u001b[36mget_openai_llm\u001b[0m:\u001b[36m117\u001b[0m - \u001b[34m\u001b[1mInstantiating OpenAILike model (model: meta-llama/Llama-3.2-3B-Instruct,base_url: https://dchi8b9swca6gxbe.eu-west-1.aws.endpoints.huggingface.cloud/v1/).\u001b[0m\n",
      "\u001b[32m2024-12-12 09:54:06.039\u001b[0m | \u001b[34m\u001b[1mDEBUG   \u001b[0m | \u001b[36mevidence_seeker.confirmation_analysis.workflows\u001b[0m:\u001b[36mmultiple_choice\u001b[0m:\u001b[36m102\u001b[0m - \u001b[34m\u001b[1mUsed regex in MultipleChoiceConfirmationAnalysis: [ABC]\u001b[0m\n"
     ]
    },
    {
     "name": "stdout",
     "output_type": "stream",
     "text": [
      "Fetching api key via env var: HF_TOKEN_EVIDENCE_SEEKER\n"
     ]
    },
    {
     "name": "stderr",
     "output_type": "stream",
     "text": [
      "\u001b[32m2024-12-12 09:54:06.575\u001b[0m | \u001b[34m\u001b[1mDEBUG   \u001b[0m | \u001b[36mevidence_seeker.confirmation_analysis.workflows\u001b[0m:\u001b[36mmultiple_choice\u001b[0m:\u001b[36m116\u001b[0m - \u001b[34m\u001b[1mReturned probabilities: {'A': 0.9999999995103916, 'C': 4.895668964434809e-10, 'B': 4.1524200191426966e-14}\u001b[0m\n",
      "\u001b[32m2024-12-12 09:54:07.848\u001b[0m | \u001b[34m\u001b[1mDEBUG   \u001b[0m | \u001b[36mevidence_seeker.backend\u001b[0m:\u001b[36mget_openai_llm\u001b[0m:\u001b[36m117\u001b[0m - \u001b[34m\u001b[1mInstantiating OpenAILike model (model: meta-llama/Llama-3.2-3B-Instruct,base_url: https://dchi8b9swca6gxbe.eu-west-1.aws.endpoints.huggingface.cloud/v1/).\u001b[0m\n",
      "\u001b[32m2024-12-12 09:54:07.849\u001b[0m | \u001b[34m\u001b[1mDEBUG   \u001b[0m | \u001b[36mevidence_seeker.confirmation_analysis.workflows\u001b[0m:\u001b[36mmultiple_choice\u001b[0m:\u001b[36m102\u001b[0m - \u001b[34m\u001b[1mUsed regex in MultipleChoiceConfirmationAnalysis: [ABC]\u001b[0m\n",
      "\u001b[32m2024-12-12 09:54:07.898\u001b[0m | \u001b[34m\u001b[1mDEBUG   \u001b[0m | \u001b[36mevidence_seeker.backend\u001b[0m:\u001b[36mget_openai_llm\u001b[0m:\u001b[36m117\u001b[0m - \u001b[34m\u001b[1mInstantiating OpenAILike model (model: meta-llama/Llama-3.2-3B-Instruct,base_url: https://dchi8b9swca6gxbe.eu-west-1.aws.endpoints.huggingface.cloud/v1/).\u001b[0m\n",
      "\u001b[32m2024-12-12 09:54:07.899\u001b[0m | \u001b[34m\u001b[1mDEBUG   \u001b[0m | \u001b[36mevidence_seeker.confirmation_analysis.workflows\u001b[0m:\u001b[36mmultiple_choice\u001b[0m:\u001b[36m102\u001b[0m - \u001b[34m\u001b[1mUsed regex in MultipleChoiceConfirmationAnalysis: [ABC]\u001b[0m\n"
     ]
    },
    {
     "name": "stdout",
     "output_type": "stream",
     "text": [
      "Fetching api key via env var: HF_TOKEN_EVIDENCE_SEEKER\n",
      "Fetching api key via env var: HF_TOKEN_EVIDENCE_SEEKER\n"
     ]
    },
    {
     "name": "stderr",
     "output_type": "stream",
     "text": [
      "\u001b[32m2024-12-12 09:54:08.261\u001b[0m | \u001b[34m\u001b[1mDEBUG   \u001b[0m | \u001b[36mevidence_seeker.backend\u001b[0m:\u001b[36mget_openai_llm\u001b[0m:\u001b[36m117\u001b[0m - \u001b[34m\u001b[1mInstantiating OpenAILike model (model: meta-llama/Llama-3.2-3B-Instruct,base_url: https://dchi8b9swca6gxbe.eu-west-1.aws.endpoints.huggingface.cloud/v1/).\u001b[0m\n",
      "\u001b[32m2024-12-12 09:54:08.262\u001b[0m | \u001b[34m\u001b[1mDEBUG   \u001b[0m | \u001b[36mevidence_seeker.confirmation_analysis.workflows\u001b[0m:\u001b[36mmultiple_choice\u001b[0m:\u001b[36m102\u001b[0m - \u001b[34m\u001b[1mUsed regex in MultipleChoiceConfirmationAnalysis: [ABC]\u001b[0m\n",
      "\u001b[32m2024-12-12 09:54:08.362\u001b[0m | \u001b[34m\u001b[1mDEBUG   \u001b[0m | \u001b[36mevidence_seeker.backend\u001b[0m:\u001b[36mget_openai_llm\u001b[0m:\u001b[36m117\u001b[0m - \u001b[34m\u001b[1mInstantiating OpenAILike model (model: meta-llama/Llama-3.2-3B-Instruct,base_url: https://dchi8b9swca6gxbe.eu-west-1.aws.endpoints.huggingface.cloud/v1/).\u001b[0m\n",
      "\u001b[32m2024-12-12 09:54:08.363\u001b[0m | \u001b[34m\u001b[1mDEBUG   \u001b[0m | \u001b[36mevidence_seeker.confirmation_analysis.workflows\u001b[0m:\u001b[36mmultiple_choice\u001b[0m:\u001b[36m102\u001b[0m - \u001b[34m\u001b[1mUsed regex in MultipleChoiceConfirmationAnalysis: [ABC]\u001b[0m\n"
     ]
    },
    {
     "name": "stdout",
     "output_type": "stream",
     "text": [
      "Fetching api key via env var: HF_TOKEN_EVIDENCE_SEEKER\n",
      "Fetching api key via env var: HF_TOKEN_EVIDENCE_SEEKER\n"
     ]
    },
    {
     "name": "stderr",
     "output_type": "stream",
     "text": [
      "\u001b[32m2024-12-12 09:54:08.649\u001b[0m | \u001b[34m\u001b[1mDEBUG   \u001b[0m | \u001b[36mevidence_seeker.confirmation_analysis.workflows\u001b[0m:\u001b[36mmultiple_choice\u001b[0m:\u001b[36m116\u001b[0m - \u001b[34m\u001b[1mReturned probabilities: {'C': 0.9999999999999656, 'A': 3.442477108469858e-14, 'B': 1.3256090919752728e-22}\u001b[0m\n",
      "\u001b[32m2024-12-12 09:54:08.651\u001b[0m | \u001b[34m\u001b[1mDEBUG   \u001b[0m | \u001b[36mevidence_seeker.confirmation_analysis.workflows\u001b[0m:\u001b[36mmultiple_choice\u001b[0m:\u001b[36m116\u001b[0m - \u001b[34m\u001b[1mReturned probabilities: {'B': 0.9999999999999847, 'C': 1.5275899568992224e-14, 'A': 8.631055183763798e-19}\u001b[0m\n",
      "\u001b[32m2024-12-12 09:54:08.655\u001b[0m | \u001b[34m\u001b[1mDEBUG   \u001b[0m | \u001b[36mevidence_seeker.confirmation_analysis.workflows\u001b[0m:\u001b[36mfreetext_analysis\u001b[0m:\u001b[36m72\u001b[0m - \u001b[34m\u001b[1mConfirmation analysis.\u001b[0m\n",
      "\u001b[32m2024-12-12 09:54:08.661\u001b[0m | \u001b[34m\u001b[1mDEBUG   \u001b[0m | \u001b[36mevidence_seeker.confirmation_analysis.workflows\u001b[0m:\u001b[36mfreetext_analysis\u001b[0m:\u001b[36m72\u001b[0m - \u001b[34m\u001b[1mConfirmation analysis.\u001b[0m\n",
      "\u001b[32m2024-12-12 09:54:08.872\u001b[0m | \u001b[34m\u001b[1mDEBUG   \u001b[0m | \u001b[36mevidence_seeker.backend\u001b[0m:\u001b[36mget_openai_llm\u001b[0m:\u001b[36m117\u001b[0m - \u001b[34m\u001b[1mInstantiating OpenAILike model (model: meta-llama/Llama-3.2-3B-Instruct,base_url: https://dchi8b9swca6gxbe.eu-west-1.aws.endpoints.huggingface.cloud/v1/).\u001b[0m\n",
      "\u001b[32m2024-12-12 09:54:08.873\u001b[0m | \u001b[34m\u001b[1mDEBUG   \u001b[0m | \u001b[36mevidence_seeker.confirmation_analysis.workflows\u001b[0m:\u001b[36mmultiple_choice\u001b[0m:\u001b[36m102\u001b[0m - \u001b[34m\u001b[1mUsed regex in MultipleChoiceConfirmationAnalysis: [ABC]\u001b[0m\n"
     ]
    },
    {
     "name": "stdout",
     "output_type": "stream",
     "text": [
      "Fetching api key via env var: HF_TOKEN_EVIDENCE_SEEKER\n"
     ]
    },
    {
     "name": "stderr",
     "output_type": "stream",
     "text": [
      "\u001b[32m2024-12-12 09:54:09.284\u001b[0m | \u001b[34m\u001b[1mDEBUG   \u001b[0m | \u001b[36mevidence_seeker.confirmation_analysis.workflows\u001b[0m:\u001b[36mmultiple_choice\u001b[0m:\u001b[36m116\u001b[0m - \u001b[34m\u001b[1mReturned probabilities: {'C': 0.999999999999998, 'A': 2.06736819486364e-15, 'B': 1.9703420140282028e-23}\u001b[0m\n",
      "\u001b[32m2024-12-12 09:54:09.286\u001b[0m | \u001b[34m\u001b[1mDEBUG   \u001b[0m | \u001b[36mevidence_seeker.confirmation_analysis.workflows\u001b[0m:\u001b[36mmultiple_choice\u001b[0m:\u001b[36m116\u001b[0m - \u001b[34m\u001b[1mReturned probabilities: {'C': 0.9999999999999984, 'A': 1.5125188821494462e-15, 'B': 3.567828469473653e-23}\u001b[0m\n",
      "\u001b[32m2024-12-12 09:54:09.290\u001b[0m | \u001b[34m\u001b[1mDEBUG   \u001b[0m | \u001b[36mevidence_seeker.confirmation_analysis.workflows\u001b[0m:\u001b[36mfreetext_analysis\u001b[0m:\u001b[36m72\u001b[0m - \u001b[34m\u001b[1mConfirmation analysis.\u001b[0m\n",
      "\u001b[32m2024-12-12 09:54:09.295\u001b[0m | \u001b[34m\u001b[1mDEBUG   \u001b[0m | \u001b[36mevidence_seeker.confirmation_analysis.workflows\u001b[0m:\u001b[36mfreetext_analysis\u001b[0m:\u001b[36m72\u001b[0m - \u001b[34m\u001b[1mConfirmation analysis.\u001b[0m\n",
      "\u001b[32m2024-12-12 09:54:09.608\u001b[0m | \u001b[34m\u001b[1mDEBUG   \u001b[0m | \u001b[36mevidence_seeker.confirmation_analysis.workflows\u001b[0m:\u001b[36mmultiple_choice\u001b[0m:\u001b[36m116\u001b[0m - \u001b[34m\u001b[1mReturned probabilities: {'C': 0.9999999999999998, 'A': 1.9229519665561324e-16, 'B': 1.7763171993449634e-24}\u001b[0m\n",
      "\u001b[32m2024-12-12 09:54:09.839\u001b[0m | \u001b[34m\u001b[1mDEBUG   \u001b[0m | \u001b[36mevidence_seeker.backend\u001b[0m:\u001b[36mget_openai_llm\u001b[0m:\u001b[36m117\u001b[0m - \u001b[34m\u001b[1mInstantiating OpenAILike model (model: meta-llama/Llama-3.2-3B-Instruct,base_url: https://dchi8b9swca6gxbe.eu-west-1.aws.endpoints.huggingface.cloud/v1/).\u001b[0m\n",
      "\u001b[32m2024-12-12 09:54:09.839\u001b[0m | \u001b[34m\u001b[1mDEBUG   \u001b[0m | \u001b[36mevidence_seeker.confirmation_analysis.workflows\u001b[0m:\u001b[36mmultiple_choice\u001b[0m:\u001b[36m102\u001b[0m - \u001b[34m\u001b[1mUsed regex in MultipleChoiceConfirmationAnalysis: [ABC]\u001b[0m\n"
     ]
    },
    {
     "name": "stdout",
     "output_type": "stream",
     "text": [
      "Fetching api key via env var: HF_TOKEN_EVIDENCE_SEEKER\n"
     ]
    },
    {
     "name": "stderr",
     "output_type": "stream",
     "text": [
      "\u001b[32m2024-12-12 09:54:10.357\u001b[0m | \u001b[34m\u001b[1mDEBUG   \u001b[0m | \u001b[36mevidence_seeker.confirmation_analysis.workflows\u001b[0m:\u001b[36mmultiple_choice\u001b[0m:\u001b[36m116\u001b[0m - \u001b[34m\u001b[1mReturned probabilities: {'B': 0.9999999317439552, 'C': 6.825603724121505e-08, 'A': 7.681205076584393e-15}\u001b[0m\n",
      "\u001b[32m2024-12-12 09:54:10.361\u001b[0m | \u001b[34m\u001b[1mDEBUG   \u001b[0m | \u001b[36mevidence_seeker.confirmation_analysis.workflows\u001b[0m:\u001b[36mfreetext_analysis\u001b[0m:\u001b[36m72\u001b[0m - \u001b[34m\u001b[1mConfirmation analysis.\u001b[0m\n",
      "\u001b[32m2024-12-12 09:54:10.366\u001b[0m | \u001b[34m\u001b[1mDEBUG   \u001b[0m | \u001b[36mevidence_seeker.confirmation_analysis.workflows\u001b[0m:\u001b[36mfreetext_analysis\u001b[0m:\u001b[36m72\u001b[0m - \u001b[34m\u001b[1mConfirmation analysis.\u001b[0m\n",
      "\u001b[32m2024-12-12 09:54:10.665\u001b[0m | \u001b[34m\u001b[1mDEBUG   \u001b[0m | \u001b[36mevidence_seeker.backend\u001b[0m:\u001b[36mget_openai_llm\u001b[0m:\u001b[36m117\u001b[0m - \u001b[34m\u001b[1mInstantiating OpenAILike model (model: meta-llama/Llama-3.2-3B-Instruct,base_url: https://dchi8b9swca6gxbe.eu-west-1.aws.endpoints.huggingface.cloud/v1/).\u001b[0m\n",
      "\u001b[32m2024-12-12 09:54:10.666\u001b[0m | \u001b[34m\u001b[1mDEBUG   \u001b[0m | \u001b[36mevidence_seeker.confirmation_analysis.workflows\u001b[0m:\u001b[36mmultiple_choice\u001b[0m:\u001b[36m102\u001b[0m - \u001b[34m\u001b[1mUsed regex in MultipleChoiceConfirmationAnalysis: [ABC]\u001b[0m\n"
     ]
    },
    {
     "name": "stdout",
     "output_type": "stream",
     "text": [
      "Fetching api key via env var: HF_TOKEN_EVIDENCE_SEEKER\n"
     ]
    },
    {
     "name": "stderr",
     "output_type": "stream",
     "text": [
      "\u001b[32m2024-12-12 09:54:11.222\u001b[0m | \u001b[34m\u001b[1mDEBUG   \u001b[0m | \u001b[36mevidence_seeker.confirmation_analysis.workflows\u001b[0m:\u001b[36mmultiple_choice\u001b[0m:\u001b[36m116\u001b[0m - \u001b[34m\u001b[1mReturned probabilities: {'C': 0.9999999999997118, 'A': 2.882350793443557e-13, 'B': 4.346504878217623e-22}\u001b[0m\n",
      "\u001b[32m2024-12-12 09:54:11.226\u001b[0m | \u001b[34m\u001b[1mDEBUG   \u001b[0m | \u001b[36mevidence_seeker.confirmation_analysis.workflows\u001b[0m:\u001b[36mfreetext_analysis\u001b[0m:\u001b[36m72\u001b[0m - \u001b[34m\u001b[1mConfirmation analysis.\u001b[0m\n",
      "\u001b[32m2024-12-12 09:54:11.231\u001b[0m | \u001b[34m\u001b[1mDEBUG   \u001b[0m | \u001b[36mevidence_seeker.confirmation_analysis.workflows\u001b[0m:\u001b[36mfreetext_analysis\u001b[0m:\u001b[36m72\u001b[0m - \u001b[34m\u001b[1mConfirmation analysis.\u001b[0m\n",
      "\u001b[32m2024-12-12 09:54:13.462\u001b[0m | \u001b[34m\u001b[1mDEBUG   \u001b[0m | \u001b[36mevidence_seeker.backend\u001b[0m:\u001b[36mget_openai_llm\u001b[0m:\u001b[36m117\u001b[0m - \u001b[34m\u001b[1mInstantiating OpenAILike model (model: meta-llama/Llama-3.2-3B-Instruct,base_url: https://dchi8b9swca6gxbe.eu-west-1.aws.endpoints.huggingface.cloud/v1/).\u001b[0m\n",
      "\u001b[32m2024-12-12 09:54:13.463\u001b[0m | \u001b[34m\u001b[1mDEBUG   \u001b[0m | \u001b[36mevidence_seeker.confirmation_analysis.workflows\u001b[0m:\u001b[36mmultiple_choice\u001b[0m:\u001b[36m102\u001b[0m - \u001b[34m\u001b[1mUsed regex in MultipleChoiceConfirmationAnalysis: [ABC]\u001b[0m\n"
     ]
    },
    {
     "name": "stdout",
     "output_type": "stream",
     "text": [
      "Fetching api key via env var: HF_TOKEN_EVIDENCE_SEEKER\n"
     ]
    },
    {
     "name": "stderr",
     "output_type": "stream",
     "text": [
      "\u001b[32m2024-12-12 09:54:13.949\u001b[0m | \u001b[34m\u001b[1mDEBUG   \u001b[0m | \u001b[36mevidence_seeker.confirmation_analysis.workflows\u001b[0m:\u001b[36mmultiple_choice\u001b[0m:\u001b[36m116\u001b[0m - \u001b[34m\u001b[1mReturned probabilities: {'B': 0.9999999999999982, 'C': 1.71390843154201e-15, 'A': 6.866825101401695e-20}\u001b[0m\n",
      "\u001b[32m2024-12-12 09:54:14.458\u001b[0m | \u001b[34m\u001b[1mDEBUG   \u001b[0m | \u001b[36mevidence_seeker.backend\u001b[0m:\u001b[36mget_openai_llm\u001b[0m:\u001b[36m117\u001b[0m - \u001b[34m\u001b[1mInstantiating OpenAILike model (model: meta-llama/Llama-3.2-3B-Instruct,base_url: https://dchi8b9swca6gxbe.eu-west-1.aws.endpoints.huggingface.cloud/v1/).\u001b[0m\n",
      "\u001b[32m2024-12-12 09:54:14.459\u001b[0m | \u001b[34m\u001b[1mDEBUG   \u001b[0m | \u001b[36mevidence_seeker.confirmation_analysis.workflows\u001b[0m:\u001b[36mmultiple_choice\u001b[0m:\u001b[36m102\u001b[0m - \u001b[34m\u001b[1mUsed regex in MultipleChoiceConfirmationAnalysis: [ABC]\u001b[0m\n"
     ]
    },
    {
     "name": "stdout",
     "output_type": "stream",
     "text": [
      "Fetching api key via env var: HF_TOKEN_EVIDENCE_SEEKER\n"
     ]
    },
    {
     "name": "stderr",
     "output_type": "stream",
     "text": [
      "\u001b[32m2024-12-12 09:54:14.949\u001b[0m | \u001b[34m\u001b[1mDEBUG   \u001b[0m | \u001b[36mevidence_seeker.confirmation_analysis.workflows\u001b[0m:\u001b[36mmultiple_choice\u001b[0m:\u001b[36m116\u001b[0m - \u001b[34m\u001b[1mReturned probabilities: {'A': 0.9999999990852324, 'C': 9.146313747843086e-10, 'B': 1.361526106844174e-13}\u001b[0m\n",
      "\u001b[32m2024-12-12 09:54:14.952\u001b[0m | \u001b[34m\u001b[1mDEBUG   \u001b[0m | \u001b[36mevidence_seeker.confirmation_analysis.workflows\u001b[0m:\u001b[36mfreetext_analysis\u001b[0m:\u001b[36m72\u001b[0m - \u001b[34m\u001b[1mConfirmation analysis.\u001b[0m\n",
      "\u001b[32m2024-12-12 09:54:14.958\u001b[0m | \u001b[34m\u001b[1mDEBUG   \u001b[0m | \u001b[36mevidence_seeker.confirmation_analysis.workflows\u001b[0m:\u001b[36mfreetext_analysis\u001b[0m:\u001b[36m72\u001b[0m - \u001b[34m\u001b[1mConfirmation analysis.\u001b[0m\n",
      "\u001b[32m2024-12-12 09:54:15.403\u001b[0m | \u001b[34m\u001b[1mDEBUG   \u001b[0m | \u001b[36mevidence_seeker.backend\u001b[0m:\u001b[36mget_openai_llm\u001b[0m:\u001b[36m117\u001b[0m - \u001b[34m\u001b[1mInstantiating OpenAILike model (model: meta-llama/Llama-3.2-3B-Instruct,base_url: https://dchi8b9swca6gxbe.eu-west-1.aws.endpoints.huggingface.cloud/v1/).\u001b[0m\n",
      "\u001b[32m2024-12-12 09:54:15.404\u001b[0m | \u001b[34m\u001b[1mDEBUG   \u001b[0m | \u001b[36mevidence_seeker.confirmation_analysis.workflows\u001b[0m:\u001b[36mmultiple_choice\u001b[0m:\u001b[36m102\u001b[0m - \u001b[34m\u001b[1mUsed regex in MultipleChoiceConfirmationAnalysis: [ABC]\u001b[0m\n"
     ]
    },
    {
     "name": "stdout",
     "output_type": "stream",
     "text": [
      "Fetching api key via env var: HF_TOKEN_EVIDENCE_SEEKER\n"
     ]
    },
    {
     "name": "stderr",
     "output_type": "stream",
     "text": [
      "\u001b[32m2024-12-12 09:54:15.882\u001b[0m | \u001b[34m\u001b[1mDEBUG   \u001b[0m | \u001b[36mevidence_seeker.confirmation_analysis.workflows\u001b[0m:\u001b[36mmultiple_choice\u001b[0m:\u001b[36m116\u001b[0m - \u001b[34m\u001b[1mReturned probabilities: {'B': 0.9999999999999969, 'C': 3.2020024986373567e-15, 'A': 3.14386162087244e-20}\u001b[0m\n",
      "\u001b[32m2024-12-12 09:54:16.045\u001b[0m | \u001b[34m\u001b[1mDEBUG   \u001b[0m | \u001b[36mevidence_seeker.backend\u001b[0m:\u001b[36mget_openai_llm\u001b[0m:\u001b[36m117\u001b[0m - \u001b[34m\u001b[1mInstantiating OpenAILike model (model: meta-llama/Llama-3.2-3B-Instruct,base_url: https://dchi8b9swca6gxbe.eu-west-1.aws.endpoints.huggingface.cloud/v1/).\u001b[0m\n",
      "\u001b[32m2024-12-12 09:54:16.045\u001b[0m | \u001b[34m\u001b[1mDEBUG   \u001b[0m | \u001b[36mevidence_seeker.confirmation_analysis.workflows\u001b[0m:\u001b[36mmultiple_choice\u001b[0m:\u001b[36m102\u001b[0m - \u001b[34m\u001b[1mUsed regex in MultipleChoiceConfirmationAnalysis: [ABC]\u001b[0m\n"
     ]
    },
    {
     "name": "stdout",
     "output_type": "stream",
     "text": [
      "Fetching api key via env var: HF_TOKEN_EVIDENCE_SEEKER\n"
     ]
    },
    {
     "name": "stderr",
     "output_type": "stream",
     "text": [
      "\u001b[32m2024-12-12 09:54:16.473\u001b[0m | \u001b[34m\u001b[1mDEBUG   \u001b[0m | \u001b[36mevidence_seeker.backend\u001b[0m:\u001b[36mget_openai_llm\u001b[0m:\u001b[36m117\u001b[0m - \u001b[34m\u001b[1mInstantiating OpenAILike model (model: meta-llama/Llama-3.2-3B-Instruct,base_url: https://dchi8b9swca6gxbe.eu-west-1.aws.endpoints.huggingface.cloud/v1/).\u001b[0m\n",
      "\u001b[32m2024-12-12 09:54:16.474\u001b[0m | \u001b[34m\u001b[1mDEBUG   \u001b[0m | \u001b[36mevidence_seeker.confirmation_analysis.workflows\u001b[0m:\u001b[36mmultiple_choice\u001b[0m:\u001b[36m102\u001b[0m - \u001b[34m\u001b[1mUsed regex in MultipleChoiceConfirmationAnalysis: [ABC]\u001b[0m\n",
      "\u001b[32m2024-12-12 09:54:16.585\u001b[0m | \u001b[34m\u001b[1mDEBUG   \u001b[0m | \u001b[36mevidence_seeker.confirmation_analysis.workflows\u001b[0m:\u001b[36mmultiple_choice\u001b[0m:\u001b[36m116\u001b[0m - \u001b[34m\u001b[1mReturned probabilities: {'C': 0.9999999999999749, 'A': 2.5185700548476155e-14, 'B': 3.644766240511059e-24}\u001b[0m\n"
     ]
    },
    {
     "name": "stdout",
     "output_type": "stream",
     "text": [
      "Fetching api key via env var: HF_TOKEN_EVIDENCE_SEEKER\n"
     ]
    },
    {
     "name": "stderr",
     "output_type": "stream",
     "text": [
      "\u001b[32m2024-12-12 09:54:17.026\u001b[0m | \u001b[34m\u001b[1mDEBUG   \u001b[0m | \u001b[36mevidence_seeker.confirmation_analysis.workflows\u001b[0m:\u001b[36mmultiple_choice\u001b[0m:\u001b[36m116\u001b[0m - \u001b[34m\u001b[1mReturned probabilities: {'C': 0.99999999999886, 'A': 1.1399918530430558e-12, 'B': 8.213607514242818e-24}\u001b[0m\n",
      "\u001b[32m2024-12-12 09:54:17.030\u001b[0m | \u001b[34m\u001b[1mDEBUG   \u001b[0m | \u001b[36mevidence_seeker.confirmation_analysis.workflows\u001b[0m:\u001b[36mfreetext_analysis\u001b[0m:\u001b[36m72\u001b[0m - \u001b[34m\u001b[1mConfirmation analysis.\u001b[0m\n",
      "\u001b[32m2024-12-12 09:54:17.035\u001b[0m | \u001b[34m\u001b[1mDEBUG   \u001b[0m | \u001b[36mevidence_seeker.confirmation_analysis.workflows\u001b[0m:\u001b[36mfreetext_analysis\u001b[0m:\u001b[36m72\u001b[0m - \u001b[34m\u001b[1mConfirmation analysis.\u001b[0m\n",
      "\u001b[32m2024-12-12 09:54:17.411\u001b[0m | \u001b[34m\u001b[1mDEBUG   \u001b[0m | \u001b[36mevidence_seeker.backend\u001b[0m:\u001b[36mget_openai_llm\u001b[0m:\u001b[36m117\u001b[0m - \u001b[34m\u001b[1mInstantiating OpenAILike model (model: meta-llama/Llama-3.2-3B-Instruct,base_url: https://dchi8b9swca6gxbe.eu-west-1.aws.endpoints.huggingface.cloud/v1/).\u001b[0m\n",
      "\u001b[32m2024-12-12 09:54:17.411\u001b[0m | \u001b[34m\u001b[1mDEBUG   \u001b[0m | \u001b[36mevidence_seeker.confirmation_analysis.workflows\u001b[0m:\u001b[36mmultiple_choice\u001b[0m:\u001b[36m102\u001b[0m - \u001b[34m\u001b[1mUsed regex in MultipleChoiceConfirmationAnalysis: [ABC]\u001b[0m\n"
     ]
    },
    {
     "name": "stdout",
     "output_type": "stream",
     "text": [
      "Fetching api key via env var: HF_TOKEN_EVIDENCE_SEEKER\n"
     ]
    },
    {
     "name": "stderr",
     "output_type": "stream",
     "text": [
      "\u001b[32m2024-12-12 09:54:17.884\u001b[0m | \u001b[34m\u001b[1mDEBUG   \u001b[0m | \u001b[36mevidence_seeker.confirmation_analysis.workflows\u001b[0m:\u001b[36mmultiple_choice\u001b[0m:\u001b[36m116\u001b[0m - \u001b[34m\u001b[1mReturned probabilities: {'C': 0.9999999999999003, 'A': 9.961137798971861e-14, 'B': 7.960901377757053e-24}\u001b[0m\n",
      "\u001b[32m2024-12-12 09:54:17.960\u001b[0m | \u001b[34m\u001b[1mDEBUG   \u001b[0m | \u001b[36mevidence_seeker.backend\u001b[0m:\u001b[36mget_openai_llm\u001b[0m:\u001b[36m117\u001b[0m - \u001b[34m\u001b[1mInstantiating OpenAILike model (model: meta-llama/Llama-3.2-3B-Instruct,base_url: https://dchi8b9swca6gxbe.eu-west-1.aws.endpoints.huggingface.cloud/v1/).\u001b[0m\n",
      "\u001b[32m2024-12-12 09:54:17.961\u001b[0m | \u001b[34m\u001b[1mDEBUG   \u001b[0m | \u001b[36mevidence_seeker.confirmation_analysis.workflows\u001b[0m:\u001b[36mmultiple_choice\u001b[0m:\u001b[36m102\u001b[0m - \u001b[34m\u001b[1mUsed regex in MultipleChoiceConfirmationAnalysis: [ABC]\u001b[0m\n",
      "\u001b[32m2024-12-12 09:54:18.009\u001b[0m | \u001b[34m\u001b[1mDEBUG   \u001b[0m | \u001b[36mevidence_seeker.backend\u001b[0m:\u001b[36mget_openai_llm\u001b[0m:\u001b[36m117\u001b[0m - \u001b[34m\u001b[1mInstantiating OpenAILike model (model: meta-llama/Llama-3.2-3B-Instruct,base_url: https://dchi8b9swca6gxbe.eu-west-1.aws.endpoints.huggingface.cloud/v1/).\u001b[0m\n",
      "\u001b[32m2024-12-12 09:54:18.010\u001b[0m | \u001b[34m\u001b[1mDEBUG   \u001b[0m | \u001b[36mevidence_seeker.confirmation_analysis.workflows\u001b[0m:\u001b[36mmultiple_choice\u001b[0m:\u001b[36m102\u001b[0m - \u001b[34m\u001b[1mUsed regex in MultipleChoiceConfirmationAnalysis: [ABC]\u001b[0m\n"
     ]
    },
    {
     "name": "stdout",
     "output_type": "stream",
     "text": [
      "Fetching api key via env var: HF_TOKEN_EVIDENCE_SEEKER\n",
      "Fetching api key via env var: HF_TOKEN_EVIDENCE_SEEKER\n"
     ]
    },
    {
     "name": "stderr",
     "output_type": "stream",
     "text": [
      "\u001b[32m2024-12-12 09:54:18.789\u001b[0m | \u001b[34m\u001b[1mDEBUG   \u001b[0m | \u001b[36mevidence_seeker.confirmation_analysis.workflows\u001b[0m:\u001b[36mmultiple_choice\u001b[0m:\u001b[36m116\u001b[0m - \u001b[34m\u001b[1mReturned probabilities: {'C': 0.9999999999999356, 'A': 6.431393941451586e-14, 'B': 7.237580408896387e-21}\u001b[0m\n",
      "\u001b[32m2024-12-12 09:54:18.792\u001b[0m | \u001b[34m\u001b[1mDEBUG   \u001b[0m | \u001b[36mevidence_seeker.confirmation_analysis.workflows\u001b[0m:\u001b[36mmultiple_choice\u001b[0m:\u001b[36m116\u001b[0m - \u001b[34m\u001b[1mReturned probabilities: {'C': 0.9999999999723805, 'A': 2.7619474338946624e-11, 'B': 2.5551784019126427e-22}\u001b[0m\n",
      "\u001b[32m2024-12-12 09:54:18.798\u001b[0m | \u001b[34m\u001b[1mDEBUG   \u001b[0m | \u001b[36mevidence_seeker.confirmation_analysis.workflows\u001b[0m:\u001b[36mfreetext_analysis\u001b[0m:\u001b[36m72\u001b[0m - \u001b[34m\u001b[1mConfirmation analysis.\u001b[0m\n",
      "\u001b[32m2024-12-12 09:54:18.803\u001b[0m | \u001b[34m\u001b[1mDEBUG   \u001b[0m | \u001b[36mevidence_seeker.confirmation_analysis.workflows\u001b[0m:\u001b[36mfreetext_analysis\u001b[0m:\u001b[36m72\u001b[0m - \u001b[34m\u001b[1mConfirmation analysis.\u001b[0m\n",
      "\u001b[32m2024-12-12 09:54:18.810\u001b[0m | \u001b[34m\u001b[1mDEBUG   \u001b[0m | \u001b[36mevidence_seeker.confirmation_analysis.workflows\u001b[0m:\u001b[36mfreetext_analysis\u001b[0m:\u001b[36m72\u001b[0m - \u001b[34m\u001b[1mConfirmation analysis.\u001b[0m\n",
      "\u001b[32m2024-12-12 09:54:18.824\u001b[0m | \u001b[34m\u001b[1mDEBUG   \u001b[0m | \u001b[36mevidence_seeker.confirmation_analysis.workflows\u001b[0m:\u001b[36mfreetext_analysis\u001b[0m:\u001b[36m72\u001b[0m - \u001b[34m\u001b[1mConfirmation analysis.\u001b[0m\n",
      "\u001b[32m2024-12-12 09:54:19.818\u001b[0m | \u001b[34m\u001b[1mDEBUG   \u001b[0m | \u001b[36mevidence_seeker.backend\u001b[0m:\u001b[36mget_openai_llm\u001b[0m:\u001b[36m117\u001b[0m - \u001b[34m\u001b[1mInstantiating OpenAILike model (model: meta-llama/Llama-3.2-3B-Instruct,base_url: https://dchi8b9swca6gxbe.eu-west-1.aws.endpoints.huggingface.cloud/v1/).\u001b[0m\n",
      "\u001b[32m2024-12-12 09:54:19.819\u001b[0m | \u001b[34m\u001b[1mDEBUG   \u001b[0m | \u001b[36mevidence_seeker.confirmation_analysis.workflows\u001b[0m:\u001b[36mmultiple_choice\u001b[0m:\u001b[36m102\u001b[0m - \u001b[34m\u001b[1mUsed regex in MultipleChoiceConfirmationAnalysis: [ABC]\u001b[0m\n"
     ]
    },
    {
     "name": "stdout",
     "output_type": "stream",
     "text": [
      "Fetching api key via env var: HF_TOKEN_EVIDENCE_SEEKER\n"
     ]
    },
    {
     "name": "stderr",
     "output_type": "stream",
     "text": [
      "\u001b[32m2024-12-12 09:54:20.329\u001b[0m | \u001b[34m\u001b[1mDEBUG   \u001b[0m | \u001b[36mevidence_seeker.confirmation_analysis.workflows\u001b[0m:\u001b[36mmultiple_choice\u001b[0m:\u001b[36m116\u001b[0m - \u001b[34m\u001b[1mReturned probabilities: {'A': 0.999999990751037, 'C': 9.237449576533764e-09, 'B': 1.1513509749221996e-11}\u001b[0m\n",
      "\u001b[32m2024-12-12 09:54:20.406\u001b[0m | \u001b[34m\u001b[1mDEBUG   \u001b[0m | \u001b[36mevidence_seeker.backend\u001b[0m:\u001b[36mget_openai_llm\u001b[0m:\u001b[36m117\u001b[0m - \u001b[34m\u001b[1mInstantiating OpenAILike model (model: meta-llama/Llama-3.2-3B-Instruct,base_url: https://dchi8b9swca6gxbe.eu-west-1.aws.endpoints.huggingface.cloud/v1/).\u001b[0m\n",
      "\u001b[32m2024-12-12 09:54:20.407\u001b[0m | \u001b[34m\u001b[1mDEBUG   \u001b[0m | \u001b[36mevidence_seeker.confirmation_analysis.workflows\u001b[0m:\u001b[36mmultiple_choice\u001b[0m:\u001b[36m102\u001b[0m - \u001b[34m\u001b[1mUsed regex in MultipleChoiceConfirmationAnalysis: [ABC]\u001b[0m\n"
     ]
    },
    {
     "name": "stdout",
     "output_type": "stream",
     "text": [
      "Fetching api key via env var: HF_TOKEN_EVIDENCE_SEEKER\n"
     ]
    },
    {
     "name": "stderr",
     "output_type": "stream",
     "text": [
      "\u001b[32m2024-12-12 09:54:20.909\u001b[0m | \u001b[34m\u001b[1mDEBUG   \u001b[0m | \u001b[36mevidence_seeker.confirmation_analysis.workflows\u001b[0m:\u001b[36mmultiple_choice\u001b[0m:\u001b[36m116\u001b[0m - \u001b[34m\u001b[1mReturned probabilities: {'B': 0.9999999999996931, 'C': 3.0682464482781044e-13, 'A': 2.1151310375904314e-19}\u001b[0m\n",
      "\u001b[32m2024-12-12 09:54:20.913\u001b[0m | \u001b[34m\u001b[1mDEBUG   \u001b[0m | \u001b[36mevidence_seeker.confirmation_analysis.workflows\u001b[0m:\u001b[36mfreetext_analysis\u001b[0m:\u001b[36m72\u001b[0m - \u001b[34m\u001b[1mConfirmation analysis.\u001b[0m\n",
      "\u001b[32m2024-12-12 09:54:20.918\u001b[0m | \u001b[34m\u001b[1mDEBUG   \u001b[0m | \u001b[36mevidence_seeker.confirmation_analysis.workflows\u001b[0m:\u001b[36mfreetext_analysis\u001b[0m:\u001b[36m72\u001b[0m - \u001b[34m\u001b[1mConfirmation analysis.\u001b[0m\n",
      "\u001b[32m2024-12-12 09:54:22.105\u001b[0m | \u001b[34m\u001b[1mDEBUG   \u001b[0m | \u001b[36mevidence_seeker.backend\u001b[0m:\u001b[36mget_openai_llm\u001b[0m:\u001b[36m117\u001b[0m - \u001b[34m\u001b[1mInstantiating OpenAILike model (model: meta-llama/Llama-3.2-3B-Instruct,base_url: https://dchi8b9swca6gxbe.eu-west-1.aws.endpoints.huggingface.cloud/v1/).\u001b[0m\n",
      "\u001b[32m2024-12-12 09:54:22.106\u001b[0m | \u001b[34m\u001b[1mDEBUG   \u001b[0m | \u001b[36mevidence_seeker.confirmation_analysis.workflows\u001b[0m:\u001b[36mmultiple_choice\u001b[0m:\u001b[36m102\u001b[0m - \u001b[34m\u001b[1mUsed regex in MultipleChoiceConfirmationAnalysis: [ABC]\u001b[0m\n"
     ]
    },
    {
     "name": "stdout",
     "output_type": "stream",
     "text": [
      "Fetching api key via env var: HF_TOKEN_EVIDENCE_SEEKER\n"
     ]
    },
    {
     "name": "stderr",
     "output_type": "stream",
     "text": [
      "\u001b[32m2024-12-12 09:54:22.597\u001b[0m | \u001b[34m\u001b[1mDEBUG   \u001b[0m | \u001b[36mevidence_seeker.confirmation_analysis.workflows\u001b[0m:\u001b[36mmultiple_choice\u001b[0m:\u001b[36m116\u001b[0m - \u001b[34m\u001b[1mReturned probabilities: {'C': 0.9999999999999856, 'A': 1.435037960133805e-14, 'B': 1.4415330118332185e-23}\u001b[0m\n",
      "\u001b[32m2024-12-12 09:54:23.335\u001b[0m | \u001b[34m\u001b[1mDEBUG   \u001b[0m | \u001b[36mevidence_seeker.backend\u001b[0m:\u001b[36mget_openai_llm\u001b[0m:\u001b[36m117\u001b[0m - \u001b[34m\u001b[1mInstantiating OpenAILike model (model: meta-llama/Llama-3.2-3B-Instruct,base_url: https://dchi8b9swca6gxbe.eu-west-1.aws.endpoints.huggingface.cloud/v1/).\u001b[0m\n",
      "\u001b[32m2024-12-12 09:54:23.336\u001b[0m | \u001b[34m\u001b[1mDEBUG   \u001b[0m | \u001b[36mevidence_seeker.confirmation_analysis.workflows\u001b[0m:\u001b[36mmultiple_choice\u001b[0m:\u001b[36m102\u001b[0m - \u001b[34m\u001b[1mUsed regex in MultipleChoiceConfirmationAnalysis: [ABC]\u001b[0m\n"
     ]
    },
    {
     "name": "stdout",
     "output_type": "stream",
     "text": [
      "Fetching api key via env var: HF_TOKEN_EVIDENCE_SEEKER\n"
     ]
    },
    {
     "name": "stderr",
     "output_type": "stream",
     "text": [
      "\u001b[32m2024-12-12 09:54:23.852\u001b[0m | \u001b[34m\u001b[1mDEBUG   \u001b[0m | \u001b[36mevidence_seeker.confirmation_analysis.workflows\u001b[0m:\u001b[36mmultiple_choice\u001b[0m:\u001b[36m116\u001b[0m - \u001b[34m\u001b[1mReturned probabilities: {'C': 0.9999999999999953, 'A': 4.658886145103376e-15, 'B': 1.0881262049062123e-23}\u001b[0m\n",
      "\u001b[32m2024-12-12 09:54:23.856\u001b[0m | \u001b[34m\u001b[1mDEBUG   \u001b[0m | \u001b[36mevidence_seeker.confirmation_analysis.workflows\u001b[0m:\u001b[36mfreetext_analysis\u001b[0m:\u001b[36m72\u001b[0m - \u001b[34m\u001b[1mConfirmation analysis.\u001b[0m\n",
      "\u001b[32m2024-12-12 09:54:23.861\u001b[0m | \u001b[34m\u001b[1mDEBUG   \u001b[0m | \u001b[36mevidence_seeker.confirmation_analysis.workflows\u001b[0m:\u001b[36mfreetext_analysis\u001b[0m:\u001b[36m72\u001b[0m - \u001b[34m\u001b[1mConfirmation analysis.\u001b[0m\n",
      "\u001b[32m2024-12-12 09:54:23.903\u001b[0m | \u001b[34m\u001b[1mDEBUG   \u001b[0m | \u001b[36mevidence_seeker.backend\u001b[0m:\u001b[36mget_openai_llm\u001b[0m:\u001b[36m117\u001b[0m - \u001b[34m\u001b[1mInstantiating OpenAILike model (model: meta-llama/Llama-3.2-3B-Instruct,base_url: https://dchi8b9swca6gxbe.eu-west-1.aws.endpoints.huggingface.cloud/v1/).\u001b[0m\n",
      "\u001b[32m2024-12-12 09:54:23.904\u001b[0m | \u001b[34m\u001b[1mDEBUG   \u001b[0m | \u001b[36mevidence_seeker.confirmation_analysis.workflows\u001b[0m:\u001b[36mmultiple_choice\u001b[0m:\u001b[36m102\u001b[0m - \u001b[34m\u001b[1mUsed regex in MultipleChoiceConfirmationAnalysis: [ABC]\u001b[0m\n"
     ]
    },
    {
     "name": "stdout",
     "output_type": "stream",
     "text": [
      "Fetching api key via env var: HF_TOKEN_EVIDENCE_SEEKER\n"
     ]
    },
    {
     "name": "stderr",
     "output_type": "stream",
     "text": [
      "\u001b[32m2024-12-12 09:54:24.357\u001b[0m | \u001b[34m\u001b[1mDEBUG   \u001b[0m | \u001b[36mevidence_seeker.confirmation_analysis.workflows\u001b[0m:\u001b[36mmultiple_choice\u001b[0m:\u001b[36m116\u001b[0m - \u001b[34m\u001b[1mReturned probabilities: {'C': 0.9999999943972036, 'A': 5.60279640614594e-09, 'B': 1.4828213272680583e-17}\u001b[0m\n",
      "\u001b[32m2024-12-12 09:54:24.612\u001b[0m | \u001b[34m\u001b[1mDEBUG   \u001b[0m | \u001b[36mevidence_seeker.backend\u001b[0m:\u001b[36mget_openai_llm\u001b[0m:\u001b[36m117\u001b[0m - \u001b[34m\u001b[1mInstantiating OpenAILike model (model: meta-llama/Llama-3.2-3B-Instruct,base_url: https://dchi8b9swca6gxbe.eu-west-1.aws.endpoints.huggingface.cloud/v1/).\u001b[0m\n",
      "\u001b[32m2024-12-12 09:54:24.612\u001b[0m | \u001b[34m\u001b[1mDEBUG   \u001b[0m | \u001b[36mevidence_seeker.confirmation_analysis.workflows\u001b[0m:\u001b[36mmultiple_choice\u001b[0m:\u001b[36m102\u001b[0m - \u001b[34m\u001b[1mUsed regex in MultipleChoiceConfirmationAnalysis: [ABC]\u001b[0m\n"
     ]
    },
    {
     "name": "stdout",
     "output_type": "stream",
     "text": [
      "Fetching api key via env var: HF_TOKEN_EVIDENCE_SEEKER\n"
     ]
    },
    {
     "name": "stderr",
     "output_type": "stream",
     "text": [
      "\u001b[32m2024-12-12 09:54:24.884\u001b[0m | \u001b[34m\u001b[1mDEBUG   \u001b[0m | \u001b[36mevidence_seeker.backend\u001b[0m:\u001b[36mget_openai_llm\u001b[0m:\u001b[36m117\u001b[0m - \u001b[34m\u001b[1mInstantiating OpenAILike model (model: meta-llama/Llama-3.2-3B-Instruct,base_url: https://dchi8b9swca6gxbe.eu-west-1.aws.endpoints.huggingface.cloud/v1/).\u001b[0m\n",
      "\u001b[32m2024-12-12 09:54:24.884\u001b[0m | \u001b[34m\u001b[1mDEBUG   \u001b[0m | \u001b[36mevidence_seeker.confirmation_analysis.workflows\u001b[0m:\u001b[36mmultiple_choice\u001b[0m:\u001b[36m102\u001b[0m - \u001b[34m\u001b[1mUsed regex in MultipleChoiceConfirmationAnalysis: [ABC]\u001b[0m\n"
     ]
    },
    {
     "name": "stdout",
     "output_type": "stream",
     "text": [
      "Fetching api key via env var: HF_TOKEN_EVIDENCE_SEEKER\n"
     ]
    },
    {
     "name": "stderr",
     "output_type": "stream",
     "text": [
      "\u001b[32m2024-12-12 09:54:25.353\u001b[0m | \u001b[34m\u001b[1mDEBUG   \u001b[0m | \u001b[36mevidence_seeker.backend\u001b[0m:\u001b[36mget_openai_llm\u001b[0m:\u001b[36m117\u001b[0m - \u001b[34m\u001b[1mInstantiating OpenAILike model (model: meta-llama/Llama-3.2-3B-Instruct,base_url: https://dchi8b9swca6gxbe.eu-west-1.aws.endpoints.huggingface.cloud/v1/).\u001b[0m\n",
      "\u001b[32m2024-12-12 09:54:25.354\u001b[0m | \u001b[34m\u001b[1mDEBUG   \u001b[0m | \u001b[36mevidence_seeker.confirmation_analysis.workflows\u001b[0m:\u001b[36mmultiple_choice\u001b[0m:\u001b[36m102\u001b[0m - \u001b[34m\u001b[1mUsed regex in MultipleChoiceConfirmationAnalysis: [ABC]\u001b[0m\n",
      "\u001b[32m2024-12-12 09:54:25.404\u001b[0m | \u001b[34m\u001b[1mDEBUG   \u001b[0m | \u001b[36mevidence_seeker.confirmation_analysis.workflows\u001b[0m:\u001b[36mmultiple_choice\u001b[0m:\u001b[36m116\u001b[0m - \u001b[34m\u001b[1mReturned probabilities: {'C': 0.9999999999992639, 'A': 7.360340600573482e-13, 'B': 3.8739976286843355e-21}\u001b[0m\n",
      "\u001b[32m2024-12-12 09:54:25.405\u001b[0m | \u001b[34m\u001b[1mDEBUG   \u001b[0m | \u001b[36mevidence_seeker.confirmation_analysis.workflows\u001b[0m:\u001b[36mmultiple_choice\u001b[0m:\u001b[36m116\u001b[0m - \u001b[34m\u001b[1mReturned probabilities: {'B': 0.999999999997089, 'C': 2.911071178203213e-12, 'A': 4.966829325709646e-18}\u001b[0m\n",
      "\u001b[32m2024-12-12 09:54:25.406\u001b[0m | \u001b[34m\u001b[1mDEBUG   \u001b[0m | \u001b[36mevidence_seeker.backend\u001b[0m:\u001b[36mget_openai_llm\u001b[0m:\u001b[36m117\u001b[0m - \u001b[34m\u001b[1mInstantiating OpenAILike model (model: meta-llama/Llama-3.2-3B-Instruct,base_url: https://dchi8b9swca6gxbe.eu-west-1.aws.endpoints.huggingface.cloud/v1/).\u001b[0m\n",
      "\u001b[32m2024-12-12 09:54:25.407\u001b[0m | \u001b[34m\u001b[1mDEBUG   \u001b[0m | \u001b[36mevidence_seeker.confirmation_analysis.workflows\u001b[0m:\u001b[36mmultiple_choice\u001b[0m:\u001b[36m102\u001b[0m - \u001b[34m\u001b[1mUsed regex in MultipleChoiceConfirmationAnalysis: [ABC]\u001b[0m\n",
      "\u001b[32m2024-12-12 09:54:25.450\u001b[0m | \u001b[34m\u001b[1mDEBUG   \u001b[0m | \u001b[36mevidence_seeker.confirmation_analysis.workflows\u001b[0m:\u001b[36mfreetext_analysis\u001b[0m:\u001b[36m72\u001b[0m - \u001b[34m\u001b[1mConfirmation analysis.\u001b[0m\n",
      "\u001b[32m2024-12-12 09:54:25.454\u001b[0m | \u001b[34m\u001b[1mDEBUG   \u001b[0m | \u001b[36mevidence_seeker.confirmation_analysis.workflows\u001b[0m:\u001b[36mfreetext_analysis\u001b[0m:\u001b[36m72\u001b[0m - \u001b[34m\u001b[1mConfirmation analysis.\u001b[0m\n"
     ]
    },
    {
     "name": "stdout",
     "output_type": "stream",
     "text": [
      "Fetching api key via env var: HF_TOKEN_EVIDENCE_SEEKER\n",
      "Fetching api key via env var: HF_TOKEN_EVIDENCE_SEEKER\n"
     ]
    },
    {
     "name": "stderr",
     "output_type": "stream",
     "text": [
      "\u001b[32m2024-12-12 09:54:26.166\u001b[0m | \u001b[34m\u001b[1mDEBUG   \u001b[0m | \u001b[36mevidence_seeker.confirmation_analysis.workflows\u001b[0m:\u001b[36mmultiple_choice\u001b[0m:\u001b[36m116\u001b[0m - \u001b[34m\u001b[1mReturned probabilities: {'B': 0.9999999999999953, 'C': 4.658886145103376e-15, 'A': 3.597959095860475e-19}\u001b[0m\n",
      "\u001b[32m2024-12-12 09:54:26.169\u001b[0m | \u001b[34m\u001b[1mDEBUG   \u001b[0m | \u001b[36mevidence_seeker.confirmation_analysis.workflows\u001b[0m:\u001b[36mmultiple_choice\u001b[0m:\u001b[36m116\u001b[0m - \u001b[34m\u001b[1mReturned probabilities: {'B': 0.9999999895325938, 'C': 1.0467401685178112e-08, 'A': 4.376618457059007e-15}\u001b[0m\n",
      "\u001b[32m2024-12-12 09:54:26.173\u001b[0m | \u001b[34m\u001b[1mDEBUG   \u001b[0m | \u001b[36mevidence_seeker.confirmation_analysis.workflows\u001b[0m:\u001b[36mfreetext_analysis\u001b[0m:\u001b[36m72\u001b[0m - \u001b[34m\u001b[1mConfirmation analysis.\u001b[0m\n",
      "\u001b[32m2024-12-12 09:54:26.179\u001b[0m | \u001b[34m\u001b[1mDEBUG   \u001b[0m | \u001b[36mevidence_seeker.confirmation_analysis.workflows\u001b[0m:\u001b[36mfreetext_analysis\u001b[0m:\u001b[36m72\u001b[0m - \u001b[34m\u001b[1mConfirmation analysis.\u001b[0m\n",
      "\u001b[32m2024-12-12 09:54:26.873\u001b[0m | \u001b[34m\u001b[1mDEBUG   \u001b[0m | \u001b[36mevidence_seeker.backend\u001b[0m:\u001b[36mget_openai_llm\u001b[0m:\u001b[36m117\u001b[0m - \u001b[34m\u001b[1mInstantiating OpenAILike model (model: meta-llama/Llama-3.2-3B-Instruct,base_url: https://dchi8b9swca6gxbe.eu-west-1.aws.endpoints.huggingface.cloud/v1/).\u001b[0m\n",
      "\u001b[32m2024-12-12 09:54:26.874\u001b[0m | \u001b[34m\u001b[1mDEBUG   \u001b[0m | \u001b[36mevidence_seeker.confirmation_analysis.workflows\u001b[0m:\u001b[36mmultiple_choice\u001b[0m:\u001b[36m102\u001b[0m - \u001b[34m\u001b[1mUsed regex in MultipleChoiceConfirmationAnalysis: [ABC]\u001b[0m\n"
     ]
    },
    {
     "name": "stdout",
     "output_type": "stream",
     "text": [
      "Fetching api key via env var: HF_TOKEN_EVIDENCE_SEEKER\n"
     ]
    },
    {
     "name": "stderr",
     "output_type": "stream",
     "text": [
      "\u001b[32m2024-12-12 09:54:27.362\u001b[0m | \u001b[34m\u001b[1mDEBUG   \u001b[0m | \u001b[36mevidence_seeker.confirmation_analysis.workflows\u001b[0m:\u001b[36mmultiple_choice\u001b[0m:\u001b[36m116\u001b[0m - \u001b[34m\u001b[1mReturned probabilities: {'A': 0.9999996533643438, 'C': 3.466327450764368e-07, 'B': 2.911071210210629e-12}\u001b[0m\n",
      "\u001b[32m2024-12-12 09:54:27.365\u001b[0m | \u001b[34m\u001b[1mDEBUG   \u001b[0m | \u001b[36mevidence_seeker.confirmation_analysis.workflows\u001b[0m:\u001b[36mfreetext_analysis\u001b[0m:\u001b[36m72\u001b[0m - \u001b[34m\u001b[1mConfirmation analysis.\u001b[0m\n",
      "\u001b[32m2024-12-12 09:54:27.371\u001b[0m | \u001b[34m\u001b[1mDEBUG   \u001b[0m | \u001b[36mevidence_seeker.confirmation_analysis.workflows\u001b[0m:\u001b[36mfreetext_analysis\u001b[0m:\u001b[36m72\u001b[0m - \u001b[34m\u001b[1mConfirmation analysis.\u001b[0m\n",
      "\u001b[32m2024-12-12 09:54:28.455\u001b[0m | \u001b[34m\u001b[1mDEBUG   \u001b[0m | \u001b[36mevidence_seeker.backend\u001b[0m:\u001b[36mget_openai_llm\u001b[0m:\u001b[36m117\u001b[0m - \u001b[34m\u001b[1mInstantiating OpenAILike model (model: meta-llama/Llama-3.2-3B-Instruct,base_url: https://dchi8b9swca6gxbe.eu-west-1.aws.endpoints.huggingface.cloud/v1/).\u001b[0m\n",
      "\u001b[32m2024-12-12 09:54:28.456\u001b[0m | \u001b[34m\u001b[1mDEBUG   \u001b[0m | \u001b[36mevidence_seeker.confirmation_analysis.workflows\u001b[0m:\u001b[36mmultiple_choice\u001b[0m:\u001b[36m102\u001b[0m - \u001b[34m\u001b[1mUsed regex in MultipleChoiceConfirmationAnalysis: [ABC]\u001b[0m\n"
     ]
    },
    {
     "name": "stdout",
     "output_type": "stream",
     "text": [
      "Fetching api key via env var: HF_TOKEN_EVIDENCE_SEEKER\n"
     ]
    },
    {
     "name": "stderr",
     "output_type": "stream",
     "text": [
      "\u001b[32m2024-12-12 09:54:28.913\u001b[0m | \u001b[34m\u001b[1mDEBUG   \u001b[0m | \u001b[36mevidence_seeker.confirmation_analysis.workflows\u001b[0m:\u001b[36mmultiple_choice\u001b[0m:\u001b[36m116\u001b[0m - \u001b[34m\u001b[1mReturned probabilities: {'C': 0.9999999999992639, 'A': 7.360340600573482e-13, 'B': 1.7190760269891558e-21}\u001b[0m\n",
      "\u001b[32m2024-12-12 09:54:29.591\u001b[0m | \u001b[34m\u001b[1mDEBUG   \u001b[0m | \u001b[36mevidence_seeker.backend\u001b[0m:\u001b[36mget_openai_llm\u001b[0m:\u001b[36m117\u001b[0m - \u001b[34m\u001b[1mInstantiating OpenAILike model (model: meta-llama/Llama-3.2-3B-Instruct,base_url: https://dchi8b9swca6gxbe.eu-west-1.aws.endpoints.huggingface.cloud/v1/).\u001b[0m\n",
      "\u001b[32m2024-12-12 09:54:29.592\u001b[0m | \u001b[34m\u001b[1mDEBUG   \u001b[0m | \u001b[36mevidence_seeker.confirmation_analysis.workflows\u001b[0m:\u001b[36mmultiple_choice\u001b[0m:\u001b[36m102\u001b[0m - \u001b[34m\u001b[1mUsed regex in MultipleChoiceConfirmationAnalysis: [ABC]\u001b[0m\n"
     ]
    },
    {
     "name": "stdout",
     "output_type": "stream",
     "text": [
      "Fetching api key via env var: HF_TOKEN_EVIDENCE_SEEKER\n"
     ]
    },
    {
     "name": "stderr",
     "output_type": "stream",
     "text": [
      "\u001b[32m2024-12-12 09:54:30.080\u001b[0m | \u001b[34m\u001b[1mDEBUG   \u001b[0m | \u001b[36mevidence_seeker.confirmation_analysis.workflows\u001b[0m:\u001b[36mmultiple_choice\u001b[0m:\u001b[36m116\u001b[0m - \u001b[34m\u001b[1mReturned probabilities: {'C': 0.9999999999977329, 'A': 2.2671445131627196e-12, 'B': 3.385061402772868e-22}\u001b[0m\n",
      "\u001b[32m2024-12-12 09:54:30.084\u001b[0m | \u001b[34m\u001b[1mDEBUG   \u001b[0m | \u001b[36mevidence_seeker.confirmation_analysis.workflows\u001b[0m:\u001b[36mfreetext_analysis\u001b[0m:\u001b[36m72\u001b[0m - \u001b[34m\u001b[1mConfirmation analysis.\u001b[0m\n",
      "\u001b[32m2024-12-12 09:54:30.089\u001b[0m | \u001b[34m\u001b[1mDEBUG   \u001b[0m | \u001b[36mevidence_seeker.confirmation_analysis.workflows\u001b[0m:\u001b[36mfreetext_analysis\u001b[0m:\u001b[36m72\u001b[0m - \u001b[34m\u001b[1mConfirmation analysis.\u001b[0m\n",
      "\u001b[32m2024-12-12 09:54:31.918\u001b[0m | \u001b[34m\u001b[1mDEBUG   \u001b[0m | \u001b[36mevidence_seeker.backend\u001b[0m:\u001b[36mget_openai_llm\u001b[0m:\u001b[36m117\u001b[0m - \u001b[34m\u001b[1mInstantiating OpenAILike model (model: meta-llama/Llama-3.2-3B-Instruct,base_url: https://dchi8b9swca6gxbe.eu-west-1.aws.endpoints.huggingface.cloud/v1/).\u001b[0m\n",
      "\u001b[32m2024-12-12 09:54:31.919\u001b[0m | \u001b[34m\u001b[1mDEBUG   \u001b[0m | \u001b[36mevidence_seeker.confirmation_analysis.workflows\u001b[0m:\u001b[36mmultiple_choice\u001b[0m:\u001b[36m102\u001b[0m - \u001b[34m\u001b[1mUsed regex in MultipleChoiceConfirmationAnalysis: [ABC]\u001b[0m\n",
      "\u001b[32m2024-12-12 09:54:32.069\u001b[0m | \u001b[34m\u001b[1mDEBUG   \u001b[0m | \u001b[36mevidence_seeker.backend\u001b[0m:\u001b[36mget_openai_llm\u001b[0m:\u001b[36m117\u001b[0m - \u001b[34m\u001b[1mInstantiating OpenAILike model (model: meta-llama/Llama-3.2-3B-Instruct,base_url: https://dchi8b9swca6gxbe.eu-west-1.aws.endpoints.huggingface.cloud/v1/).\u001b[0m\n",
      "\u001b[32m2024-12-12 09:54:32.070\u001b[0m | \u001b[34m\u001b[1mDEBUG   \u001b[0m | \u001b[36mevidence_seeker.confirmation_analysis.workflows\u001b[0m:\u001b[36mmultiple_choice\u001b[0m:\u001b[36m102\u001b[0m - \u001b[34m\u001b[1mUsed regex in MultipleChoiceConfirmationAnalysis: [ABC]\u001b[0m\n"
     ]
    },
    {
     "name": "stdout",
     "output_type": "stream",
     "text": [
      "Fetching api key via env var: HF_TOKEN_EVIDENCE_SEEKER\n",
      "Fetching api key via env var: HF_TOKEN_EVIDENCE_SEEKER\n"
     ]
    },
    {
     "name": "stderr",
     "output_type": "stream",
     "text": [
      "\u001b[32m2024-12-12 09:54:32.145\u001b[0m | \u001b[34m\u001b[1mDEBUG   \u001b[0m | \u001b[36mevidence_seeker.backend\u001b[0m:\u001b[36mget_openai_llm\u001b[0m:\u001b[36m117\u001b[0m - \u001b[34m\u001b[1mInstantiating OpenAILike model (model: meta-llama/Llama-3.2-3B-Instruct,base_url: https://dchi8b9swca6gxbe.eu-west-1.aws.endpoints.huggingface.cloud/v1/).\u001b[0m\n",
      "\u001b[32m2024-12-12 09:54:32.146\u001b[0m | \u001b[34m\u001b[1mDEBUG   \u001b[0m | \u001b[36mevidence_seeker.confirmation_analysis.workflows\u001b[0m:\u001b[36mmultiple_choice\u001b[0m:\u001b[36m102\u001b[0m - \u001b[34m\u001b[1mUsed regex in MultipleChoiceConfirmationAnalysis: [ABC]\u001b[0m\n"
     ]
    },
    {
     "name": "stdout",
     "output_type": "stream",
     "text": [
      "Fetching api key via env var: HF_TOKEN_EVIDENCE_SEEKER\n"
     ]
    },
    {
     "name": "stderr",
     "output_type": "stream",
     "text": [
      "\u001b[32m2024-12-12 09:54:33.018\u001b[0m | \u001b[34m\u001b[1mDEBUG   \u001b[0m | \u001b[36mevidence_seeker.backend\u001b[0m:\u001b[36mget_openai_llm\u001b[0m:\u001b[36m117\u001b[0m - \u001b[34m\u001b[1mInstantiating OpenAILike model (model: meta-llama/Llama-3.2-3B-Instruct,base_url: https://dchi8b9swca6gxbe.eu-west-1.aws.endpoints.huggingface.cloud/v1/).\u001b[0m\n",
      "\u001b[32m2024-12-12 09:54:33.019\u001b[0m | \u001b[34m\u001b[1mDEBUG   \u001b[0m | \u001b[36mevidence_seeker.confirmation_analysis.workflows\u001b[0m:\u001b[36mmultiple_choice\u001b[0m:\u001b[36m102\u001b[0m - \u001b[34m\u001b[1mUsed regex in MultipleChoiceConfirmationAnalysis: [ABC]\u001b[0m\n",
      "\u001b[32m2024-12-12 09:54:33.068\u001b[0m | \u001b[34m\u001b[1mDEBUG   \u001b[0m | \u001b[36mevidence_seeker.confirmation_analysis.workflows\u001b[0m:\u001b[36mmultiple_choice\u001b[0m:\u001b[36m116\u001b[0m - \u001b[34m\u001b[1mReturned probabilities: {'C': 0.9999999999998253, 'A': 1.7482341282707514e-13, 'B': 8.040225570767143e-23}\u001b[0m\n",
      "\u001b[32m2024-12-12 09:54:33.070\u001b[0m | \u001b[34m\u001b[1mDEBUG   \u001b[0m | \u001b[36mevidence_seeker.confirmation_analysis.workflows\u001b[0m:\u001b[36mmultiple_choice\u001b[0m:\u001b[36m116\u001b[0m - \u001b[34m\u001b[1mReturned probabilities: {'C': 0.9999999999999316, 'A': 6.846183213793078e-14, 'B': 2.163997355331225e-23}\u001b[0m\n",
      "\u001b[32m2024-12-12 09:54:33.071\u001b[0m | \u001b[34m\u001b[1mDEBUG   \u001b[0m | \u001b[36mevidence_seeker.confirmation_analysis.workflows\u001b[0m:\u001b[36mmultiple_choice\u001b[0m:\u001b[36m116\u001b[0m - \u001b[34m\u001b[1mReturned probabilities: {'B': 0.9999999990263799, 'C': 9.736200303530205e-10, 'A': 1.392981731102388e-17}\u001b[0m\n",
      "\u001b[32m2024-12-12 09:54:33.075\u001b[0m | \u001b[34m\u001b[1mDEBUG   \u001b[0m | \u001b[36mevidence_seeker.confirmation_analysis.workflows\u001b[0m:\u001b[36mfreetext_analysis\u001b[0m:\u001b[36m72\u001b[0m - \u001b[34m\u001b[1mConfirmation analysis.\u001b[0m\n",
      "\u001b[32m2024-12-12 09:54:33.079\u001b[0m | \u001b[34m\u001b[1mDEBUG   \u001b[0m | \u001b[36mevidence_seeker.confirmation_analysis.workflows\u001b[0m:\u001b[36mfreetext_analysis\u001b[0m:\u001b[36m72\u001b[0m - \u001b[34m\u001b[1mConfirmation analysis.\u001b[0m\n"
     ]
    },
    {
     "name": "stdout",
     "output_type": "stream",
     "text": [
      "Fetching api key via env var: HF_TOKEN_EVIDENCE_SEEKER\n"
     ]
    },
    {
     "name": "stderr",
     "output_type": "stream",
     "text": [
      "\u001b[32m2024-12-12 09:54:33.536\u001b[0m | \u001b[34m\u001b[1mDEBUG   \u001b[0m | \u001b[36mevidence_seeker.confirmation_analysis.workflows\u001b[0m:\u001b[36mmultiple_choice\u001b[0m:\u001b[36m116\u001b[0m - \u001b[34m\u001b[1mReturned probabilities: {'C': 0.9999999998907629, 'A': 1.0923714004835432e-10, 'B': 1.4393647346715575e-20}\u001b[0m\n",
      "\u001b[32m2024-12-12 09:54:33.540\u001b[0m | \u001b[34m\u001b[1mDEBUG   \u001b[0m | \u001b[36mevidence_seeker.confirmation_analysis.workflows\u001b[0m:\u001b[36mfreetext_analysis\u001b[0m:\u001b[36m72\u001b[0m - \u001b[34m\u001b[1mConfirmation analysis.\u001b[0m\n",
      "\u001b[32m2024-12-12 09:54:33.546\u001b[0m | \u001b[34m\u001b[1mDEBUG   \u001b[0m | \u001b[36mevidence_seeker.confirmation_analysis.workflows\u001b[0m:\u001b[36mfreetext_analysis\u001b[0m:\u001b[36m72\u001b[0m - \u001b[34m\u001b[1mConfirmation analysis.\u001b[0m\n",
      "\u001b[32m2024-12-12 09:54:34.191\u001b[0m | \u001b[34m\u001b[1mDEBUG   \u001b[0m | \u001b[36mevidence_seeker.backend\u001b[0m:\u001b[36mget_openai_llm\u001b[0m:\u001b[36m117\u001b[0m - \u001b[34m\u001b[1mInstantiating OpenAILike model (model: meta-llama/Llama-3.2-3B-Instruct,base_url: https://dchi8b9swca6gxbe.eu-west-1.aws.endpoints.huggingface.cloud/v1/).\u001b[0m\n",
      "\u001b[32m2024-12-12 09:54:34.192\u001b[0m | \u001b[34m\u001b[1mDEBUG   \u001b[0m | \u001b[36mevidence_seeker.confirmation_analysis.workflows\u001b[0m:\u001b[36mmultiple_choice\u001b[0m:\u001b[36m102\u001b[0m - \u001b[34m\u001b[1mUsed regex in MultipleChoiceConfirmationAnalysis: [ABC]\u001b[0m\n",
      "\u001b[32m2024-12-12 09:54:34.346\u001b[0m | \u001b[34m\u001b[1mDEBUG   \u001b[0m | \u001b[36mevidence_seeker.backend\u001b[0m:\u001b[36mget_openai_llm\u001b[0m:\u001b[36m117\u001b[0m - \u001b[34m\u001b[1mInstantiating OpenAILike model (model: meta-llama/Llama-3.2-3B-Instruct,base_url: https://dchi8b9swca6gxbe.eu-west-1.aws.endpoints.huggingface.cloud/v1/).\u001b[0m\n",
      "\u001b[32m2024-12-12 09:54:34.347\u001b[0m | \u001b[34m\u001b[1mDEBUG   \u001b[0m | \u001b[36mevidence_seeker.confirmation_analysis.workflows\u001b[0m:\u001b[36mmultiple_choice\u001b[0m:\u001b[36m102\u001b[0m - \u001b[34m\u001b[1mUsed regex in MultipleChoiceConfirmationAnalysis: [ABC]\u001b[0m\n"
     ]
    },
    {
     "name": "stdout",
     "output_type": "stream",
     "text": [
      "Fetching api key via env var: HF_TOKEN_EVIDENCE_SEEKER\n",
      "Fetching api key via env var: HF_TOKEN_EVIDENCE_SEEKER\n"
     ]
    },
    {
     "name": "stderr",
     "output_type": "stream",
     "text": [
      "\u001b[32m2024-12-12 09:54:34.619\u001b[0m | \u001b[34m\u001b[1mDEBUG   \u001b[0m | \u001b[36mevidence_seeker.backend\u001b[0m:\u001b[36mget_openai_llm\u001b[0m:\u001b[36m117\u001b[0m - \u001b[34m\u001b[1mInstantiating OpenAILike model (model: meta-llama/Llama-3.2-3B-Instruct,base_url: https://dchi8b9swca6gxbe.eu-west-1.aws.endpoints.huggingface.cloud/v1/).\u001b[0m\n",
      "\u001b[32m2024-12-12 09:54:34.620\u001b[0m | \u001b[34m\u001b[1mDEBUG   \u001b[0m | \u001b[36mevidence_seeker.confirmation_analysis.workflows\u001b[0m:\u001b[36mmultiple_choice\u001b[0m:\u001b[36m102\u001b[0m - \u001b[34m\u001b[1mUsed regex in MultipleChoiceConfirmationAnalysis: [ABC]\u001b[0m\n"
     ]
    },
    {
     "name": "stdout",
     "output_type": "stream",
     "text": [
      "Fetching api key via env var: HF_TOKEN_EVIDENCE_SEEKER\n"
     ]
    },
    {
     "name": "stderr",
     "output_type": "stream",
     "text": [
      "\u001b[32m2024-12-12 09:54:35.163\u001b[0m | \u001b[34m\u001b[1mDEBUG   \u001b[0m | \u001b[36mevidence_seeker.confirmation_analysis.workflows\u001b[0m:\u001b[36mmultiple_choice\u001b[0m:\u001b[36m116\u001b[0m - \u001b[34m\u001b[1mReturned probabilities: {'A': 0.9999999999925664, 'C': 7.433680672296929e-12, 'B': 9.083381915219232e-17}\u001b[0m\n",
      "\u001b[32m2024-12-12 09:54:35.166\u001b[0m | \u001b[34m\u001b[1mDEBUG   \u001b[0m | \u001b[36mevidence_seeker.confirmation_analysis.workflows\u001b[0m:\u001b[36mmultiple_choice\u001b[0m:\u001b[36m116\u001b[0m - \u001b[34m\u001b[1mReturned probabilities: {'B': 0.9999999999985363, 'C': 1.4637785141237664e-12, 'A': 2.6024324904389466e-17}\u001b[0m\n",
      "\u001b[32m2024-12-12 09:54:35.170\u001b[0m | \u001b[34m\u001b[1mDEBUG   \u001b[0m | \u001b[36mevidence_seeker.confirmation_analysis.workflows\u001b[0m:\u001b[36mfreetext_analysis\u001b[0m:\u001b[36m72\u001b[0m - \u001b[34m\u001b[1mConfirmation analysis.\u001b[0m\n",
      "\u001b[32m2024-12-12 09:54:35.175\u001b[0m | \u001b[34m\u001b[1mDEBUG   \u001b[0m | \u001b[36mevidence_seeker.confirmation_analysis.workflows\u001b[0m:\u001b[36mfreetext_analysis\u001b[0m:\u001b[36m72\u001b[0m - \u001b[34m\u001b[1mConfirmation analysis.\u001b[0m\n",
      "\u001b[32m2024-12-12 09:54:35.411\u001b[0m | \u001b[34m\u001b[1mDEBUG   \u001b[0m | \u001b[36mevidence_seeker.backend\u001b[0m:\u001b[36mget_openai_llm\u001b[0m:\u001b[36m117\u001b[0m - \u001b[34m\u001b[1mInstantiating OpenAILike model (model: meta-llama/Llama-3.2-3B-Instruct,base_url: https://dchi8b9swca6gxbe.eu-west-1.aws.endpoints.huggingface.cloud/v1/).\u001b[0m\n",
      "\u001b[32m2024-12-12 09:54:35.412\u001b[0m | \u001b[34m\u001b[1mDEBUG   \u001b[0m | \u001b[36mevidence_seeker.confirmation_analysis.workflows\u001b[0m:\u001b[36mmultiple_choice\u001b[0m:\u001b[36m102\u001b[0m - \u001b[34m\u001b[1mUsed regex in MultipleChoiceConfirmationAnalysis: [ABC]\u001b[0m\n",
      "\u001b[32m2024-12-12 09:54:35.501\u001b[0m | \u001b[34m\u001b[1mDEBUG   \u001b[0m | \u001b[36mevidence_seeker.confirmation_analysis.workflows\u001b[0m:\u001b[36mmultiple_choice\u001b[0m:\u001b[36m116\u001b[0m - \u001b[34m\u001b[1mReturned probabilities: {'C': 0.9999999998308102, 'A': 1.6918979223288786e-10, 'B': 6.120334590729861e-19}\u001b[0m\n"
     ]
    },
    {
     "name": "stdout",
     "output_type": "stream",
     "text": [
      "Fetching api key via env var: HF_TOKEN_EVIDENCE_SEEKER\n"
     ]
    },
    {
     "name": "stderr",
     "output_type": "stream",
     "text": [
      "\u001b[32m2024-12-12 09:54:35.912\u001b[0m | \u001b[34m\u001b[1mDEBUG   \u001b[0m | \u001b[36mevidence_seeker.confirmation_analysis.workflows\u001b[0m:\u001b[36mmultiple_choice\u001b[0m:\u001b[36m116\u001b[0m - \u001b[34m\u001b[1mReturned probabilities: {'C': 0.9999999006880548, 'A': 9.931194509760594e-08, 'B': 8.533047795529016e-17}\u001b[0m\n",
      "\u001b[32m2024-12-12 09:54:35.916\u001b[0m | \u001b[34m\u001b[1mDEBUG   \u001b[0m | \u001b[36mevidence_seeker.confirmation_analysis.workflows\u001b[0m:\u001b[36mfreetext_analysis\u001b[0m:\u001b[36m72\u001b[0m - \u001b[34m\u001b[1mConfirmation analysis.\u001b[0m\n",
      "\u001b[32m2024-12-12 09:54:35.921\u001b[0m | \u001b[34m\u001b[1mDEBUG   \u001b[0m | \u001b[36mevidence_seeker.confirmation_analysis.workflows\u001b[0m:\u001b[36mfreetext_analysis\u001b[0m:\u001b[36m72\u001b[0m - \u001b[34m\u001b[1mConfirmation analysis.\u001b[0m\n",
      "\u001b[32m2024-12-12 09:54:39.125\u001b[0m | \u001b[34m\u001b[1mDEBUG   \u001b[0m | \u001b[36mevidence_seeker.backend\u001b[0m:\u001b[36mget_openai_llm\u001b[0m:\u001b[36m117\u001b[0m - \u001b[34m\u001b[1mInstantiating OpenAILike model (model: meta-llama/Llama-3.2-3B-Instruct,base_url: https://dchi8b9swca6gxbe.eu-west-1.aws.endpoints.huggingface.cloud/v1/).\u001b[0m\n",
      "\u001b[32m2024-12-12 09:54:39.126\u001b[0m | \u001b[34m\u001b[1mDEBUG   \u001b[0m | \u001b[36mevidence_seeker.confirmation_analysis.workflows\u001b[0m:\u001b[36mmultiple_choice\u001b[0m:\u001b[36m102\u001b[0m - \u001b[34m\u001b[1mUsed regex in MultipleChoiceConfirmationAnalysis: [ABC]\u001b[0m\n"
     ]
    },
    {
     "name": "stdout",
     "output_type": "stream",
     "text": [
      "Fetching api key via env var: HF_TOKEN_EVIDENCE_SEEKER\n"
     ]
    },
    {
     "name": "stderr",
     "output_type": "stream",
     "text": [
      "\u001b[32m2024-12-12 09:54:39.632\u001b[0m | \u001b[34m\u001b[1mDEBUG   \u001b[0m | \u001b[36mevidence_seeker.confirmation_analysis.workflows\u001b[0m:\u001b[36mmultiple_choice\u001b[0m:\u001b[36m116\u001b[0m - \u001b[34m\u001b[1mReturned probabilities: {'B': 0.9999999999999873, 'C': 1.2664165549094015e-14, 'A': 3.4528565013882427e-20}\u001b[0m\n",
      "\u001b[32m2024-12-12 09:54:40.160\u001b[0m | \u001b[34m\u001b[1mDEBUG   \u001b[0m | \u001b[36mevidence_seeker.backend\u001b[0m:\u001b[36mget_openai_llm\u001b[0m:\u001b[36m117\u001b[0m - \u001b[34m\u001b[1mInstantiating OpenAILike model (model: meta-llama/Llama-3.2-3B-Instruct,base_url: https://dchi8b9swca6gxbe.eu-west-1.aws.endpoints.huggingface.cloud/v1/).\u001b[0m\n",
      "\u001b[32m2024-12-12 09:54:40.161\u001b[0m | \u001b[34m\u001b[1mDEBUG   \u001b[0m | \u001b[36mevidence_seeker.confirmation_analysis.workflows\u001b[0m:\u001b[36mmultiple_choice\u001b[0m:\u001b[36m102\u001b[0m - \u001b[34m\u001b[1mUsed regex in MultipleChoiceConfirmationAnalysis: [ABC]\u001b[0m\n"
     ]
    },
    {
     "name": "stdout",
     "output_type": "stream",
     "text": [
      "Fetching api key via env var: HF_TOKEN_EVIDENCE_SEEKER\n"
     ]
    },
    {
     "name": "stderr",
     "output_type": "stream",
     "text": [
      "\u001b[32m2024-12-12 09:54:40.402\u001b[0m | \u001b[34m\u001b[1mDEBUG   \u001b[0m | \u001b[36mevidence_seeker.backend\u001b[0m:\u001b[36mget_openai_llm\u001b[0m:\u001b[36m117\u001b[0m - \u001b[34m\u001b[1mInstantiating OpenAILike model (model: meta-llama/Llama-3.2-3B-Instruct,base_url: https://dchi8b9swca6gxbe.eu-west-1.aws.endpoints.huggingface.cloud/v1/).\u001b[0m\n",
      "\u001b[32m2024-12-12 09:54:40.403\u001b[0m | \u001b[34m\u001b[1mDEBUG   \u001b[0m | \u001b[36mevidence_seeker.confirmation_analysis.workflows\u001b[0m:\u001b[36mmultiple_choice\u001b[0m:\u001b[36m102\u001b[0m - \u001b[34m\u001b[1mUsed regex in MultipleChoiceConfirmationAnalysis: [ABC]\u001b[0m\n",
      "\u001b[32m2024-12-12 09:54:40.487\u001b[0m | \u001b[34m\u001b[1mDEBUG   \u001b[0m | \u001b[36mevidence_seeker.backend\u001b[0m:\u001b[36mget_openai_llm\u001b[0m:\u001b[36m117\u001b[0m - \u001b[34m\u001b[1mInstantiating OpenAILike model (model: meta-llama/Llama-3.2-3B-Instruct,base_url: https://dchi8b9swca6gxbe.eu-west-1.aws.endpoints.huggingface.cloud/v1/).\u001b[0m\n",
      "\u001b[32m2024-12-12 09:54:40.488\u001b[0m | \u001b[34m\u001b[1mDEBUG   \u001b[0m | \u001b[36mevidence_seeker.confirmation_analysis.workflows\u001b[0m:\u001b[36mmultiple_choice\u001b[0m:\u001b[36m102\u001b[0m - \u001b[34m\u001b[1mUsed regex in MultipleChoiceConfirmationAnalysis: [ABC]\u001b[0m\n",
      "\u001b[32m2024-12-12 09:54:40.534\u001b[0m | \u001b[34m\u001b[1mDEBUG   \u001b[0m | \u001b[36mevidence_seeker.backend\u001b[0m:\u001b[36mget_openai_llm\u001b[0m:\u001b[36m117\u001b[0m - \u001b[34m\u001b[1mInstantiating OpenAILike model (model: meta-llama/Llama-3.2-3B-Instruct,base_url: https://dchi8b9swca6gxbe.eu-west-1.aws.endpoints.huggingface.cloud/v1/).\u001b[0m\n",
      "\u001b[32m2024-12-12 09:54:40.535\u001b[0m | \u001b[34m\u001b[1mDEBUG   \u001b[0m | \u001b[36mevidence_seeker.confirmation_analysis.workflows\u001b[0m:\u001b[36mmultiple_choice\u001b[0m:\u001b[36m102\u001b[0m - \u001b[34m\u001b[1mUsed regex in MultipleChoiceConfirmationAnalysis: [ABC]\u001b[0m\n"
     ]
    },
    {
     "name": "stdout",
     "output_type": "stream",
     "text": [
      "Fetching api key via env var: HF_TOKEN_EVIDENCE_SEEKER\n",
      "Fetching api key via env var: HF_TOKEN_EVIDENCE_SEEKER\n",
      "Fetching api key via env var: HF_TOKEN_EVIDENCE_SEEKER\n"
     ]
    },
    {
     "name": "stderr",
     "output_type": "stream",
     "text": [
      "\u001b[32m2024-12-12 09:54:40.693\u001b[0m | \u001b[34m\u001b[1mDEBUG   \u001b[0m | \u001b[36mevidence_seeker.confirmation_analysis.workflows\u001b[0m:\u001b[36mmultiple_choice\u001b[0m:\u001b[36m116\u001b[0m - \u001b[34m\u001b[1mReturned probabilities: {'C': 0.9999999999978701, 'A': 2.129785170951249e-12, 'B': 2.0531435257918815e-22}\u001b[0m\n",
      "\u001b[32m2024-12-12 09:54:40.697\u001b[0m | \u001b[34m\u001b[1mDEBUG   \u001b[0m | \u001b[36mevidence_seeker.confirmation_analysis.workflows\u001b[0m:\u001b[36mfreetext_analysis\u001b[0m:\u001b[36m72\u001b[0m - \u001b[34m\u001b[1mConfirmation analysis.\u001b[0m\n",
      "\u001b[32m2024-12-12 09:54:40.703\u001b[0m | \u001b[34m\u001b[1mDEBUG   \u001b[0m | \u001b[36mevidence_seeker.confirmation_analysis.workflows\u001b[0m:\u001b[36mfreetext_analysis\u001b[0m:\u001b[36m72\u001b[0m - \u001b[34m\u001b[1mConfirmation analysis.\u001b[0m\n",
      "\u001b[32m2024-12-12 09:54:40.970\u001b[0m | \u001b[34m\u001b[1mDEBUG   \u001b[0m | \u001b[36mevidence_seeker.backend\u001b[0m:\u001b[36mget_openai_llm\u001b[0m:\u001b[36m117\u001b[0m - \u001b[34m\u001b[1mInstantiating OpenAILike model (model: meta-llama/Llama-3.2-3B-Instruct,base_url: https://dchi8b9swca6gxbe.eu-west-1.aws.endpoints.huggingface.cloud/v1/).\u001b[0m\n",
      "\u001b[32m2024-12-12 09:54:40.971\u001b[0m | \u001b[34m\u001b[1mDEBUG   \u001b[0m | \u001b[36mevidence_seeker.confirmation_analysis.workflows\u001b[0m:\u001b[36mmultiple_choice\u001b[0m:\u001b[36m102\u001b[0m - \u001b[34m\u001b[1mUsed regex in MultipleChoiceConfirmationAnalysis: [ABC]\u001b[0m\n",
      "\u001b[32m2024-12-12 09:54:41.027\u001b[0m | \u001b[34m\u001b[1mDEBUG   \u001b[0m | \u001b[36mevidence_seeker.backend\u001b[0m:\u001b[36mget_openai_llm\u001b[0m:\u001b[36m117\u001b[0m - \u001b[34m\u001b[1mInstantiating OpenAILike model (model: meta-llama/Llama-3.2-3B-Instruct,base_url: https://dchi8b9swca6gxbe.eu-west-1.aws.endpoints.huggingface.cloud/v1/).\u001b[0m\n",
      "\u001b[32m2024-12-12 09:54:41.027\u001b[0m | \u001b[34m\u001b[1mDEBUG   \u001b[0m | \u001b[36mevidence_seeker.confirmation_analysis.workflows\u001b[0m:\u001b[36mmultiple_choice\u001b[0m:\u001b[36m102\u001b[0m - \u001b[34m\u001b[1mUsed regex in MultipleChoiceConfirmationAnalysis: [ABC]\u001b[0m\n"
     ]
    },
    {
     "name": "stdout",
     "output_type": "stream",
     "text": [
      "Fetching api key via env var: HF_TOKEN_EVIDENCE_SEEKER\n",
      "Fetching api key via env var: HF_TOKEN_EVIDENCE_SEEKER\n"
     ]
    },
    {
     "name": "stderr",
     "output_type": "stream",
     "text": [
      "\u001b[32m2024-12-12 09:54:41.296\u001b[0m | \u001b[34m\u001b[1mDEBUG   \u001b[0m | \u001b[36mevidence_seeker.backend\u001b[0m:\u001b[36mget_openai_llm\u001b[0m:\u001b[36m117\u001b[0m - \u001b[34m\u001b[1mInstantiating OpenAILike model (model: meta-llama/Llama-3.2-3B-Instruct,base_url: https://dchi8b9swca6gxbe.eu-west-1.aws.endpoints.huggingface.cloud/v1/).\u001b[0m\n",
      "\u001b[32m2024-12-12 09:54:41.297\u001b[0m | \u001b[34m\u001b[1mDEBUG   \u001b[0m | \u001b[36mevidence_seeker.confirmation_analysis.workflows\u001b[0m:\u001b[36mmultiple_choice\u001b[0m:\u001b[36m102\u001b[0m - \u001b[34m\u001b[1mUsed regex in MultipleChoiceConfirmationAnalysis: [ABC]\u001b[0m\n"
     ]
    },
    {
     "name": "stdout",
     "output_type": "stream",
     "text": [
      "Fetching api key via env var: HF_TOKEN_EVIDENCE_SEEKER\n"
     ]
    },
    {
     "name": "stderr",
     "output_type": "stream",
     "text": [
      "\u001b[32m2024-12-12 09:54:41.614\u001b[0m | \u001b[34m\u001b[1mDEBUG   \u001b[0m | \u001b[36mevidence_seeker.confirmation_analysis.workflows\u001b[0m:\u001b[36mmultiple_choice\u001b[0m:\u001b[36m116\u001b[0m - \u001b[34m\u001b[1mReturned probabilities: {'A': 0.9999999999979989, 'C': 2.0007480105782922e-12, 'B': 1.8064461965420785e-16}\u001b[0m\n",
      "\u001b[32m2024-12-12 09:54:41.617\u001b[0m | \u001b[34m\u001b[1mDEBUG   \u001b[0m | \u001b[36mevidence_seeker.confirmation_analysis.workflows\u001b[0m:\u001b[36mmultiple_choice\u001b[0m:\u001b[36m116\u001b[0m - \u001b[34m\u001b[1mReturned probabilities: {'C': 0.9999999999337443, 'A': 6.625567462149745e-11, 'B': 2.6890873469362218e-20}\u001b[0m\n",
      "\u001b[32m2024-12-12 09:54:41.620\u001b[0m | \u001b[34m\u001b[1mDEBUG   \u001b[0m | \u001b[36mevidence_seeker.confirmation_analysis.workflows\u001b[0m:\u001b[36mmultiple_choice\u001b[0m:\u001b[36m116\u001b[0m - \u001b[34m\u001b[1mReturned probabilities: {'B': 0.9999999998682343, 'C': 1.3176514268359253e-10, 'A': 7.144633302224864e-16}\u001b[0m\n",
      "\u001b[32m2024-12-12 09:54:41.623\u001b[0m | \u001b[34m\u001b[1mDEBUG   \u001b[0m | \u001b[36mevidence_seeker.confirmation_analysis.workflows\u001b[0m:\u001b[36mfreetext_analysis\u001b[0m:\u001b[36m72\u001b[0m - \u001b[34m\u001b[1mConfirmation analysis.\u001b[0m\n",
      "\u001b[32m2024-12-12 09:54:41.629\u001b[0m | \u001b[34m\u001b[1mDEBUG   \u001b[0m | \u001b[36mevidence_seeker.confirmation_analysis.workflows\u001b[0m:\u001b[36mfreetext_analysis\u001b[0m:\u001b[36m72\u001b[0m - \u001b[34m\u001b[1mConfirmation analysis.\u001b[0m\n",
      "\u001b[32m2024-12-12 09:54:42.563\u001b[0m | \u001b[34m\u001b[1mDEBUG   \u001b[0m | \u001b[36mevidence_seeker.confirmation_analysis.workflows\u001b[0m:\u001b[36mmultiple_choice\u001b[0m:\u001b[36m116\u001b[0m - \u001b[34m\u001b[1mReturned probabilities: {'C': 0.999999999997089, 'A': 2.911071178203213e-12, 'B': 3.0517254099898027e-23}\u001b[0m\n",
      "\u001b[32m2024-12-12 09:54:42.567\u001b[0m | \u001b[34m\u001b[1mDEBUG   \u001b[0m | \u001b[36mevidence_seeker.confirmation_analysis.workflows\u001b[0m:\u001b[36mmultiple_choice\u001b[0m:\u001b[36m116\u001b[0m - \u001b[34m\u001b[1mReturned probabilities: {'C': 0.9999999999869535, 'A': 1.304651588219726e-11, 'B': 3.951585010367404e-19}\u001b[0m\n",
      "\u001b[32m2024-12-12 09:54:42.568\u001b[0m | \u001b[34m\u001b[1mDEBUG   \u001b[0m | \u001b[36mevidence_seeker.confirmation_analysis.workflows\u001b[0m:\u001b[36mmultiple_choice\u001b[0m:\u001b[36m116\u001b[0m - \u001b[34m\u001b[1mReturned probabilities: {'C': 0.9999999999999356, 'A': 6.431393941451586e-14, 'B': 2.957833689866484e-23}\u001b[0m\n",
      "\u001b[32m2024-12-12 09:54:42.574\u001b[0m | \u001b[34m\u001b[1mDEBUG   \u001b[0m | \u001b[36mevidence_seeker.confirmation_analysis.workflows\u001b[0m:\u001b[36mfreetext_analysis\u001b[0m:\u001b[36m72\u001b[0m - \u001b[34m\u001b[1mConfirmation analysis.\u001b[0m\n",
      "\u001b[32m2024-12-12 09:54:42.579\u001b[0m | \u001b[34m\u001b[1mDEBUG   \u001b[0m | \u001b[36mevidence_seeker.confirmation_analysis.workflows\u001b[0m:\u001b[36mfreetext_analysis\u001b[0m:\u001b[36m72\u001b[0m - \u001b[34m\u001b[1mConfirmation analysis.\u001b[0m\n",
      "\u001b[32m2024-12-12 09:54:42.585\u001b[0m | \u001b[34m\u001b[1mDEBUG   \u001b[0m | \u001b[36mevidence_seeker.confirmation_analysis.workflows\u001b[0m:\u001b[36mfreetext_analysis\u001b[0m:\u001b[36m72\u001b[0m - \u001b[34m\u001b[1mConfirmation analysis.\u001b[0m\n",
      "\u001b[32m2024-12-12 09:54:42.592\u001b[0m | \u001b[34m\u001b[1mDEBUG   \u001b[0m | \u001b[36mevidence_seeker.confirmation_analysis.workflows\u001b[0m:\u001b[36mfreetext_analysis\u001b[0m:\u001b[36m72\u001b[0m - \u001b[34m\u001b[1mConfirmation analysis.\u001b[0m\n",
      "\u001b[32m2024-12-12 09:54:45.930\u001b[0m | \u001b[34m\u001b[1mDEBUG   \u001b[0m | \u001b[36mevidence_seeker.backend\u001b[0m:\u001b[36mget_openai_llm\u001b[0m:\u001b[36m117\u001b[0m - \u001b[34m\u001b[1mInstantiating OpenAILike model (model: meta-llama/Llama-3.2-3B-Instruct,base_url: https://dchi8b9swca6gxbe.eu-west-1.aws.endpoints.huggingface.cloud/v1/).\u001b[0m\n",
      "\u001b[32m2024-12-12 09:54:45.931\u001b[0m | \u001b[34m\u001b[1mDEBUG   \u001b[0m | \u001b[36mevidence_seeker.confirmation_analysis.workflows\u001b[0m:\u001b[36mmultiple_choice\u001b[0m:\u001b[36m102\u001b[0m - \u001b[34m\u001b[1mUsed regex in MultipleChoiceConfirmationAnalysis: [ABC]\u001b[0m\n"
     ]
    },
    {
     "name": "stdout",
     "output_type": "stream",
     "text": [
      "Fetching api key via env var: HF_TOKEN_EVIDENCE_SEEKER\n"
     ]
    },
    {
     "name": "stderr",
     "output_type": "stream",
     "text": [
      "\u001b[32m2024-12-12 09:54:46.412\u001b[0m | \u001b[34m\u001b[1mDEBUG   \u001b[0m | \u001b[36mevidence_seeker.confirmation_analysis.workflows\u001b[0m:\u001b[36mmultiple_choice\u001b[0m:\u001b[36m116\u001b[0m - \u001b[34m\u001b[1mReturned probabilities: {'C': 0.9999999959009065, 'A': 4.099093422706265e-09, 'B': 2.006780446168728e-18}\u001b[0m\n",
      "\u001b[32m2024-12-12 09:54:46.427\u001b[0m | \u001b[34m\u001b[1mDEBUG   \u001b[0m | \u001b[36mevidence_seeker.backend\u001b[0m:\u001b[36mget_openai_llm\u001b[0m:\u001b[36m117\u001b[0m - \u001b[34m\u001b[1mInstantiating OpenAILike model (model: meta-llama/Llama-3.2-3B-Instruct,base_url: https://dchi8b9swca6gxbe.eu-west-1.aws.endpoints.huggingface.cloud/v1/).\u001b[0m\n",
      "\u001b[32m2024-12-12 09:54:46.427\u001b[0m | \u001b[34m\u001b[1mDEBUG   \u001b[0m | \u001b[36mevidence_seeker.confirmation_analysis.workflows\u001b[0m:\u001b[36mmultiple_choice\u001b[0m:\u001b[36m102\u001b[0m - \u001b[34m\u001b[1mUsed regex in MultipleChoiceConfirmationAnalysis: [ABC]\u001b[0m\n"
     ]
    },
    {
     "name": "stdout",
     "output_type": "stream",
     "text": [
      "Fetching api key via env var: HF_TOKEN_EVIDENCE_SEEKER\n"
     ]
    },
    {
     "name": "stderr",
     "output_type": "stream",
     "text": [
      "\u001b[32m2024-12-12 09:54:46.744\u001b[0m | \u001b[34m\u001b[1mDEBUG   \u001b[0m | \u001b[36mevidence_seeker.backend\u001b[0m:\u001b[36mget_openai_llm\u001b[0m:\u001b[36m117\u001b[0m - \u001b[34m\u001b[1mInstantiating OpenAILike model (model: meta-llama/Llama-3.2-3B-Instruct,base_url: https://dchi8b9swca6gxbe.eu-west-1.aws.endpoints.huggingface.cloud/v1/).\u001b[0m\n",
      "\u001b[32m2024-12-12 09:54:46.744\u001b[0m | \u001b[34m\u001b[1mDEBUG   \u001b[0m | \u001b[36mevidence_seeker.confirmation_analysis.workflows\u001b[0m:\u001b[36mmultiple_choice\u001b[0m:\u001b[36m102\u001b[0m - \u001b[34m\u001b[1mUsed regex in MultipleChoiceConfirmationAnalysis: [ABC]\u001b[0m\n",
      "\u001b[32m2024-12-12 09:54:46.919\u001b[0m | \u001b[34m\u001b[1mDEBUG   \u001b[0m | \u001b[36mevidence_seeker.confirmation_analysis.workflows\u001b[0m:\u001b[36mmultiple_choice\u001b[0m:\u001b[36m116\u001b[0m - \u001b[34m\u001b[1mReturned probabilities: {'A': 0.9999999940325555, 'C': 5.964145726612435e-09, 'B': 3.2986757826733323e-12}\u001b[0m\n"
     ]
    },
    {
     "name": "stdout",
     "output_type": "stream",
     "text": [
      "Fetching api key via env var: HF_TOKEN_EVIDENCE_SEEKER\n"
     ]
    },
    {
     "name": "stderr",
     "output_type": "stream",
     "text": [
      "\u001b[32m2024-12-12 09:54:46.980\u001b[0m | \u001b[34m\u001b[1mDEBUG   \u001b[0m | \u001b[36mevidence_seeker.backend\u001b[0m:\u001b[36mget_openai_llm\u001b[0m:\u001b[36m117\u001b[0m - \u001b[34m\u001b[1mInstantiating OpenAILike model (model: meta-llama/Llama-3.2-3B-Instruct,base_url: https://dchi8b9swca6gxbe.eu-west-1.aws.endpoints.huggingface.cloud/v1/).\u001b[0m\n",
      "\u001b[32m2024-12-12 09:54:46.981\u001b[0m | \u001b[34m\u001b[1mDEBUG   \u001b[0m | \u001b[36mevidence_seeker.confirmation_analysis.workflows\u001b[0m:\u001b[36mmultiple_choice\u001b[0m:\u001b[36m102\u001b[0m - \u001b[34m\u001b[1mUsed regex in MultipleChoiceConfirmationAnalysis: [ABC]\u001b[0m\n"
     ]
    },
    {
     "name": "stdout",
     "output_type": "stream",
     "text": [
      "Fetching api key via env var: HF_TOKEN_EVIDENCE_SEEKER\n"
     ]
    },
    {
     "name": "stderr",
     "output_type": "stream",
     "text": [
      "\u001b[32m2024-12-12 09:54:47.370\u001b[0m | \u001b[34m\u001b[1mDEBUG   \u001b[0m | \u001b[36mevidence_seeker.backend\u001b[0m:\u001b[36mget_openai_llm\u001b[0m:\u001b[36m117\u001b[0m - \u001b[34m\u001b[1mInstantiating OpenAILike model (model: meta-llama/Llama-3.2-3B-Instruct,base_url: https://dchi8b9swca6gxbe.eu-west-1.aws.endpoints.huggingface.cloud/v1/).\u001b[0m\n",
      "\u001b[32m2024-12-12 09:54:47.370\u001b[0m | \u001b[34m\u001b[1mDEBUG   \u001b[0m | \u001b[36mevidence_seeker.confirmation_analysis.workflows\u001b[0m:\u001b[36mmultiple_choice\u001b[0m:\u001b[36m102\u001b[0m - \u001b[34m\u001b[1mUsed regex in MultipleChoiceConfirmationAnalysis: [ABC]\u001b[0m\n",
      "\u001b[32m2024-12-12 09:54:47.530\u001b[0m | \u001b[34m\u001b[1mDEBUG   \u001b[0m | \u001b[36mevidence_seeker.backend\u001b[0m:\u001b[36mget_openai_llm\u001b[0m:\u001b[36m117\u001b[0m - \u001b[34m\u001b[1mInstantiating OpenAILike model (model: meta-llama/Llama-3.2-3B-Instruct,base_url: https://dchi8b9swca6gxbe.eu-west-1.aws.endpoints.huggingface.cloud/v1/).\u001b[0m\n",
      "\u001b[32m2024-12-12 09:54:47.530\u001b[0m | \u001b[34m\u001b[1mDEBUG   \u001b[0m | \u001b[36mevidence_seeker.confirmation_analysis.workflows\u001b[0m:\u001b[36mmultiple_choice\u001b[0m:\u001b[36m102\u001b[0m - \u001b[34m\u001b[1mUsed regex in MultipleChoiceConfirmationAnalysis: [ABC]\u001b[0m\n"
     ]
    },
    {
     "name": "stdout",
     "output_type": "stream",
     "text": [
      "Fetching api key via env var: HF_TOKEN_EVIDENCE_SEEKER\n",
      "Fetching api key via env var: HF_TOKEN_EVIDENCE_SEEKER\n"
     ]
    },
    {
     "name": "stderr",
     "output_type": "stream",
     "text": [
      "\u001b[32m2024-12-12 09:54:47.580\u001b[0m | \u001b[34m\u001b[1mDEBUG   \u001b[0m | \u001b[36mevidence_seeker.confirmation_analysis.workflows\u001b[0m:\u001b[36mmultiple_choice\u001b[0m:\u001b[36m116\u001b[0m - \u001b[34m\u001b[1mReturned probabilities: {'C': 0.9999999999997611, 'A': 2.3895527365752067e-13, 'B': 6.460502743662997e-23}\u001b[0m\n",
      "\u001b[32m2024-12-12 09:54:47.581\u001b[0m | \u001b[34m\u001b[1mDEBUG   \u001b[0m | \u001b[36mevidence_seeker.confirmation_analysis.workflows\u001b[0m:\u001b[36mmultiple_choice\u001b[0m:\u001b[36m116\u001b[0m - \u001b[34m\u001b[1mReturned probabilities: {'B': 0.9999999999999956, 'C': 4.3766185028708305e-15, 'A': 5.636633289991103e-21}\u001b[0m\n",
      "\u001b[32m2024-12-12 09:54:47.585\u001b[0m | \u001b[34m\u001b[1mDEBUG   \u001b[0m | \u001b[36mevidence_seeker.confirmation_analysis.workflows\u001b[0m:\u001b[36mfreetext_analysis\u001b[0m:\u001b[36m72\u001b[0m - \u001b[34m\u001b[1mConfirmation analysis.\u001b[0m\n",
      "\u001b[32m2024-12-12 09:54:47.590\u001b[0m | \u001b[34m\u001b[1mDEBUG   \u001b[0m | \u001b[36mevidence_seeker.confirmation_analysis.workflows\u001b[0m:\u001b[36mfreetext_analysis\u001b[0m:\u001b[36m72\u001b[0m - \u001b[34m\u001b[1mConfirmation analysis.\u001b[0m\n",
      "\u001b[32m2024-12-12 09:54:48.183\u001b[0m | \u001b[34m\u001b[1mDEBUG   \u001b[0m | \u001b[36mevidence_seeker.confirmation_analysis.workflows\u001b[0m:\u001b[36mmultiple_choice\u001b[0m:\u001b[36m116\u001b[0m - \u001b[34m\u001b[1mReturned probabilities: {'C': 0.9999999999984419, 'A': 1.55818411736762e-12, 'B': 1.5989897856456167e-22}\u001b[0m\n",
      "\u001b[32m2024-12-12 09:54:48.187\u001b[0m | \u001b[34m\u001b[1mDEBUG   \u001b[0m | \u001b[36mevidence_seeker.confirmation_analysis.workflows\u001b[0m:\u001b[36mmultiple_choice\u001b[0m:\u001b[36m116\u001b[0m - \u001b[34m\u001b[1mReturned probabilities: {'C': 0.9999999999094393, 'A': 9.056076988852742e-11, 'B': 3.71776263736675e-22}\u001b[0m\n",
      "\u001b[32m2024-12-12 09:54:48.190\u001b[0m | \u001b[34m\u001b[1mDEBUG   \u001b[0m | \u001b[36mevidence_seeker.confirmation_analysis.workflows\u001b[0m:\u001b[36mfreetext_analysis\u001b[0m:\u001b[36m72\u001b[0m - \u001b[34m\u001b[1mConfirmation analysis.\u001b[0m\n",
      "\u001b[32m2024-12-12 09:54:48.196\u001b[0m | \u001b[34m\u001b[1mDEBUG   \u001b[0m | \u001b[36mevidence_seeker.confirmation_analysis.workflows\u001b[0m:\u001b[36mfreetext_analysis\u001b[0m:\u001b[36m72\u001b[0m - \u001b[34m\u001b[1mConfirmation analysis.\u001b[0m\n",
      "\u001b[32m2024-12-12 09:54:48.204\u001b[0m | \u001b[34m\u001b[1mDEBUG   \u001b[0m | \u001b[36mevidence_seeker.confirmation_analysis.workflows\u001b[0m:\u001b[36mfreetext_analysis\u001b[0m:\u001b[36m72\u001b[0m - \u001b[34m\u001b[1mConfirmation analysis.\u001b[0m\n",
      "\u001b[32m2024-12-12 09:54:48.210\u001b[0m | \u001b[34m\u001b[1mDEBUG   \u001b[0m | \u001b[36mevidence_seeker.confirmation_analysis.workflows\u001b[0m:\u001b[36mfreetext_analysis\u001b[0m:\u001b[36m72\u001b[0m - \u001b[34m\u001b[1mConfirmation analysis.\u001b[0m\n",
      "\u001b[32m2024-12-12 09:54:48.217\u001b[0m | \u001b[34m\u001b[1mDEBUG   \u001b[0m | \u001b[36mevidence_seeker.backend\u001b[0m:\u001b[36mget_openai_llm\u001b[0m:\u001b[36m117\u001b[0m - \u001b[34m\u001b[1mInstantiating OpenAILike model (model: meta-llama/Llama-3.2-3B-Instruct,base_url: https://dchi8b9swca6gxbe.eu-west-1.aws.endpoints.huggingface.cloud/v1/).\u001b[0m\n",
      "\u001b[32m2024-12-12 09:54:48.218\u001b[0m | \u001b[34m\u001b[1mDEBUG   \u001b[0m | \u001b[36mevidence_seeker.confirmation_analysis.workflows\u001b[0m:\u001b[36mmultiple_choice\u001b[0m:\u001b[36m102\u001b[0m - \u001b[34m\u001b[1mUsed regex in MultipleChoiceConfirmationAnalysis: [ABC]\u001b[0m\n",
      "\u001b[32m2024-12-12 09:54:48.303\u001b[0m | \u001b[34m\u001b[1mDEBUG   \u001b[0m | \u001b[36mevidence_seeker.backend\u001b[0m:\u001b[36mget_openai_llm\u001b[0m:\u001b[36m117\u001b[0m - \u001b[34m\u001b[1mInstantiating OpenAILike model (model: meta-llama/Llama-3.2-3B-Instruct,base_url: https://dchi8b9swca6gxbe.eu-west-1.aws.endpoints.huggingface.cloud/v1/).\u001b[0m\n",
      "\u001b[32m2024-12-12 09:54:48.304\u001b[0m | \u001b[34m\u001b[1mDEBUG   \u001b[0m | \u001b[36mevidence_seeker.confirmation_analysis.workflows\u001b[0m:\u001b[36mmultiple_choice\u001b[0m:\u001b[36m102\u001b[0m - \u001b[34m\u001b[1mUsed regex in MultipleChoiceConfirmationAnalysis: [ABC]\u001b[0m\n"
     ]
    },
    {
     "name": "stdout",
     "output_type": "stream",
     "text": [
      "Fetching api key via env var: HF_TOKEN_EVIDENCE_SEEKER\n",
      "Fetching api key via env var: HF_TOKEN_EVIDENCE_SEEKER\n"
     ]
    },
    {
     "name": "stderr",
     "output_type": "stream",
     "text": [
      "\u001b[32m2024-12-12 09:54:49.007\u001b[0m | \u001b[34m\u001b[1mDEBUG   \u001b[0m | \u001b[36mevidence_seeker.confirmation_analysis.workflows\u001b[0m:\u001b[36mmultiple_choice\u001b[0m:\u001b[36m116\u001b[0m - \u001b[34m\u001b[1mReturned probabilities: {'C': 0.9999999999942106, 'A': 5.789356328697135e-12, 'B': 1.4558967675650134e-22}\u001b[0m\n",
      "\u001b[32m2024-12-12 09:54:49.010\u001b[0m | \u001b[34m\u001b[1mDEBUG   \u001b[0m | \u001b[36mevidence_seeker.confirmation_analysis.workflows\u001b[0m:\u001b[36mmultiple_choice\u001b[0m:\u001b[36m116\u001b[0m - \u001b[34m\u001b[1mReturned probabilities: {'C': 0.9999999999996734, 'A': 3.2661313427863805e-13, 'B': 8.040225570765922e-23}\u001b[0m\n",
      "\u001b[32m2024-12-12 09:54:49.014\u001b[0m | \u001b[34m\u001b[1mDEBUG   \u001b[0m | \u001b[36mevidence_seeker.confirmation_analysis.workflows\u001b[0m:\u001b[36mfreetext_analysis\u001b[0m:\u001b[36m72\u001b[0m - \u001b[34m\u001b[1mConfirmation analysis.\u001b[0m\n",
      "\u001b[32m2024-12-12 09:54:49.020\u001b[0m | \u001b[34m\u001b[1mDEBUG   \u001b[0m | \u001b[36mevidence_seeker.confirmation_analysis.workflows\u001b[0m:\u001b[36mfreetext_analysis\u001b[0m:\u001b[36m72\u001b[0m - \u001b[34m\u001b[1mConfirmation analysis.\u001b[0m\n",
      "\u001b[32m2024-12-12 09:54:53.238\u001b[0m | \u001b[34m\u001b[1mDEBUG   \u001b[0m | \u001b[36mevidence_seeker.backend\u001b[0m:\u001b[36mget_openai_llm\u001b[0m:\u001b[36m117\u001b[0m - \u001b[34m\u001b[1mInstantiating OpenAILike model (model: meta-llama/Llama-3.2-3B-Instruct,base_url: https://dchi8b9swca6gxbe.eu-west-1.aws.endpoints.huggingface.cloud/v1/).\u001b[0m\n",
      "\u001b[32m2024-12-12 09:54:53.239\u001b[0m | \u001b[34m\u001b[1mDEBUG   \u001b[0m | \u001b[36mevidence_seeker.confirmation_analysis.workflows\u001b[0m:\u001b[36mmultiple_choice\u001b[0m:\u001b[36m102\u001b[0m - \u001b[34m\u001b[1mUsed regex in MultipleChoiceConfirmationAnalysis: [ABC]\u001b[0m\n"
     ]
    },
    {
     "name": "stdout",
     "output_type": "stream",
     "text": [
      "Fetching api key via env var: HF_TOKEN_EVIDENCE_SEEKER\n"
     ]
    },
    {
     "name": "stderr",
     "output_type": "stream",
     "text": [
      "\u001b[32m2024-12-12 09:54:53.441\u001b[0m | \u001b[34m\u001b[1mDEBUG   \u001b[0m | \u001b[36mevidence_seeker.backend\u001b[0m:\u001b[36mget_openai_llm\u001b[0m:\u001b[36m117\u001b[0m - \u001b[34m\u001b[1mInstantiating OpenAILike model (model: meta-llama/Llama-3.2-3B-Instruct,base_url: https://dchi8b9swca6gxbe.eu-west-1.aws.endpoints.huggingface.cloud/v1/).\u001b[0m\n",
      "\u001b[32m2024-12-12 09:54:53.442\u001b[0m | \u001b[34m\u001b[1mDEBUG   \u001b[0m | \u001b[36mevidence_seeker.confirmation_analysis.workflows\u001b[0m:\u001b[36mmultiple_choice\u001b[0m:\u001b[36m102\u001b[0m - \u001b[34m\u001b[1mUsed regex in MultipleChoiceConfirmationAnalysis: [ABC]\u001b[0m\n"
     ]
    },
    {
     "name": "stdout",
     "output_type": "stream",
     "text": [
      "Fetching api key via env var: HF_TOKEN_EVIDENCE_SEEKER\n"
     ]
    },
    {
     "name": "stderr",
     "output_type": "stream",
     "text": [
      "\u001b[32m2024-12-12 09:54:53.860\u001b[0m | \u001b[34m\u001b[1mDEBUG   \u001b[0m | \u001b[36mevidence_seeker.backend\u001b[0m:\u001b[36mget_openai_llm\u001b[0m:\u001b[36m117\u001b[0m - \u001b[34m\u001b[1mInstantiating OpenAILike model (model: meta-llama/Llama-3.2-3B-Instruct,base_url: https://dchi8b9swca6gxbe.eu-west-1.aws.endpoints.huggingface.cloud/v1/).\u001b[0m\n",
      "\u001b[32m2024-12-12 09:54:53.861\u001b[0m | \u001b[34m\u001b[1mDEBUG   \u001b[0m | \u001b[36mevidence_seeker.confirmation_analysis.workflows\u001b[0m:\u001b[36mmultiple_choice\u001b[0m:\u001b[36m102\u001b[0m - \u001b[34m\u001b[1mUsed regex in MultipleChoiceConfirmationAnalysis: [ABC]\u001b[0m\n"
     ]
    },
    {
     "name": "stdout",
     "output_type": "stream",
     "text": [
      "Fetching api key via env var: HF_TOKEN_EVIDENCE_SEEKER\n"
     ]
    },
    {
     "name": "stderr",
     "output_type": "stream",
     "text": [
      "\u001b[32m2024-12-12 09:54:54.143\u001b[0m | \u001b[34m\u001b[1mDEBUG   \u001b[0m | \u001b[36mevidence_seeker.confirmation_analysis.workflows\u001b[0m:\u001b[36mmultiple_choice\u001b[0m:\u001b[36m116\u001b[0m - \u001b[34m\u001b[1mReturned probabilities: {'B': 0.999999999999166, 'C': 8.340358565583981e-13, 'A': 2.396757463277965e-19}\u001b[0m\n",
      "\u001b[32m2024-12-12 09:54:54.147\u001b[0m | \u001b[34m\u001b[1mDEBUG   \u001b[0m | \u001b[36mevidence_seeker.confirmation_analysis.workflows\u001b[0m:\u001b[36mmultiple_choice\u001b[0m:\u001b[36m116\u001b[0m - \u001b[34m\u001b[1mReturned probabilities: {'C': 0.9999999999666846, 'A': 3.3315445420554206e-11, 'B': 3.7548072518810764e-21}\u001b[0m\n",
      "\u001b[32m2024-12-12 09:54:54.419\u001b[0m | \u001b[34m\u001b[1mDEBUG   \u001b[0m | \u001b[36mevidence_seeker.confirmation_analysis.workflows\u001b[0m:\u001b[36mmultiple_choice\u001b[0m:\u001b[36m116\u001b[0m - \u001b[34m\u001b[1mReturned probabilities: {'A': 0.9999999999999789, 'C': 2.0879679116458894e-14, 'B': 2.978326268620166e-16}\u001b[0m\n",
      "\u001b[32m2024-12-12 09:54:54.477\u001b[0m | \u001b[34m\u001b[1mDEBUG   \u001b[0m | \u001b[36mevidence_seeker.backend\u001b[0m:\u001b[36mget_openai_llm\u001b[0m:\u001b[36m117\u001b[0m - \u001b[34m\u001b[1mInstantiating OpenAILike model (model: meta-llama/Llama-3.2-3B-Instruct,base_url: https://dchi8b9swca6gxbe.eu-west-1.aws.endpoints.huggingface.cloud/v1/).\u001b[0m\n",
      "\u001b[32m2024-12-12 09:54:54.478\u001b[0m | \u001b[34m\u001b[1mDEBUG   \u001b[0m | \u001b[36mevidence_seeker.confirmation_analysis.workflows\u001b[0m:\u001b[36mmultiple_choice\u001b[0m:\u001b[36m102\u001b[0m - \u001b[34m\u001b[1mUsed regex in MultipleChoiceConfirmationAnalysis: [ABC]\u001b[0m\n",
      "\u001b[32m2024-12-12 09:54:54.532\u001b[0m | \u001b[34m\u001b[1mDEBUG   \u001b[0m | \u001b[36mevidence_seeker.backend\u001b[0m:\u001b[36mget_openai_llm\u001b[0m:\u001b[36m117\u001b[0m - \u001b[34m\u001b[1mInstantiating OpenAILike model (model: meta-llama/Llama-3.2-3B-Instruct,base_url: https://dchi8b9swca6gxbe.eu-west-1.aws.endpoints.huggingface.cloud/v1/).\u001b[0m\n",
      "\u001b[32m2024-12-12 09:54:54.533\u001b[0m | \u001b[34m\u001b[1mDEBUG   \u001b[0m | \u001b[36mevidence_seeker.confirmation_analysis.workflows\u001b[0m:\u001b[36mmultiple_choice\u001b[0m:\u001b[36m102\u001b[0m - \u001b[34m\u001b[1mUsed regex in MultipleChoiceConfirmationAnalysis: [ABC]\u001b[0m\n"
     ]
    },
    {
     "name": "stdout",
     "output_type": "stream",
     "text": [
      "Fetching api key via env var: HF_TOKEN_EVIDENCE_SEEKER\n",
      "Fetching api key via env var: HF_TOKEN_EVIDENCE_SEEKER\n"
     ]
    },
    {
     "name": "stderr",
     "output_type": "stream",
     "text": [
      "\u001b[32m2024-12-12 09:54:54.696\u001b[0m | \u001b[34m\u001b[1mDEBUG   \u001b[0m | \u001b[36mevidence_seeker.backend\u001b[0m:\u001b[36mget_openai_llm\u001b[0m:\u001b[36m117\u001b[0m - \u001b[34m\u001b[1mInstantiating OpenAILike model (model: meta-llama/Llama-3.2-3B-Instruct,base_url: https://dchi8b9swca6gxbe.eu-west-1.aws.endpoints.huggingface.cloud/v1/).\u001b[0m\n",
      "\u001b[32m2024-12-12 09:54:54.698\u001b[0m | \u001b[34m\u001b[1mDEBUG   \u001b[0m | \u001b[36mevidence_seeker.confirmation_analysis.workflows\u001b[0m:\u001b[36mmultiple_choice\u001b[0m:\u001b[36m102\u001b[0m - \u001b[34m\u001b[1mUsed regex in MultipleChoiceConfirmationAnalysis: [ABC]\u001b[0m\n",
      "\u001b[32m2024-12-12 09:54:54.827\u001b[0m | \u001b[34m\u001b[1mDEBUG   \u001b[0m | \u001b[36mevidence_seeker.backend\u001b[0m:\u001b[36mget_openai_llm\u001b[0m:\u001b[36m117\u001b[0m - \u001b[34m\u001b[1mInstantiating OpenAILike model (model: meta-llama/Llama-3.2-3B-Instruct,base_url: https://dchi8b9swca6gxbe.eu-west-1.aws.endpoints.huggingface.cloud/v1/).\u001b[0m\n",
      "\u001b[32m2024-12-12 09:54:54.828\u001b[0m | \u001b[34m\u001b[1mDEBUG   \u001b[0m | \u001b[36mevidence_seeker.confirmation_analysis.workflows\u001b[0m:\u001b[36mmultiple_choice\u001b[0m:\u001b[36m102\u001b[0m - \u001b[34m\u001b[1mUsed regex in MultipleChoiceConfirmationAnalysis: [ABC]\u001b[0m\n"
     ]
    },
    {
     "name": "stdout",
     "output_type": "stream",
     "text": [
      "Fetching api key via env var: HF_TOKEN_EVIDENCE_SEEKER\n",
      "Fetching api key via env var: HF_TOKEN_EVIDENCE_SEEKER\n"
     ]
    },
    {
     "name": "stderr",
     "output_type": "stream",
     "text": [
      "\u001b[32m2024-12-12 09:54:55.328\u001b[0m | \u001b[34m\u001b[1mDEBUG   \u001b[0m | \u001b[36mevidence_seeker.backend\u001b[0m:\u001b[36mget_openai_llm\u001b[0m:\u001b[36m117\u001b[0m - \u001b[34m\u001b[1mInstantiating OpenAILike model (model: meta-llama/Llama-3.2-3B-Instruct,base_url: https://dchi8b9swca6gxbe.eu-west-1.aws.endpoints.huggingface.cloud/v1/).\u001b[0m\n",
      "\u001b[32m2024-12-12 09:54:55.329\u001b[0m | \u001b[34m\u001b[1mDEBUG   \u001b[0m | \u001b[36mevidence_seeker.confirmation_analysis.workflows\u001b[0m:\u001b[36mmultiple_choice\u001b[0m:\u001b[36m102\u001b[0m - \u001b[34m\u001b[1mUsed regex in MultipleChoiceConfirmationAnalysis: [ABC]\u001b[0m\n"
     ]
    },
    {
     "name": "stdout",
     "output_type": "stream",
     "text": [
      "Fetching api key via env var: HF_TOKEN_EVIDENCE_SEEKER\n"
     ]
    },
    {
     "name": "stderr",
     "output_type": "stream",
     "text": [
      "\u001b[32m2024-12-12 09:54:55.655\u001b[0m | \u001b[34m\u001b[1mDEBUG   \u001b[0m | \u001b[36mevidence_seeker.confirmation_analysis.workflows\u001b[0m:\u001b[36mmultiple_choice\u001b[0m:\u001b[36m116\u001b[0m - \u001b[34m\u001b[1mReturned probabilities: {'C': 0.9999999999999984, 'A': 1.6100679690567203e-15, 'B': 9.215412230536233e-25}\u001b[0m\n",
      "\u001b[32m2024-12-12 09:54:55.659\u001b[0m | \u001b[34m\u001b[1mDEBUG   \u001b[0m | \u001b[36mevidence_seeker.confirmation_analysis.workflows\u001b[0m:\u001b[36mmultiple_choice\u001b[0m:\u001b[36m116\u001b[0m - \u001b[34m\u001b[1mReturned probabilities: {'C': 0.9999999999969011, 'A': 3.098819138712223e-12, 'B': 3.418790907925916e-21}\u001b[0m\n",
      "\u001b[32m2024-12-12 09:54:55.660\u001b[0m | \u001b[34m\u001b[1mDEBUG   \u001b[0m | \u001b[36mevidence_seeker.confirmation_analysis.workflows\u001b[0m:\u001b[36mmultiple_choice\u001b[0m:\u001b[36m116\u001b[0m - \u001b[34m\u001b[1mReturned probabilities: {'C': 0.9999999999999944, 'A': 5.619689396831991e-15, 'B': 1.8509650261882998e-23}\u001b[0m\n",
      "\u001b[32m2024-12-12 09:54:55.664\u001b[0m | \u001b[34m\u001b[1mDEBUG   \u001b[0m | \u001b[36mevidence_seeker.confirmation_analysis.workflows\u001b[0m:\u001b[36mfreetext_analysis\u001b[0m:\u001b[36m72\u001b[0m - \u001b[34m\u001b[1mConfirmation analysis.\u001b[0m\n",
      "\u001b[32m2024-12-12 09:54:55.671\u001b[0m | \u001b[34m\u001b[1mDEBUG   \u001b[0m | \u001b[36mevidence_seeker.confirmation_analysis.workflows\u001b[0m:\u001b[36mfreetext_analysis\u001b[0m:\u001b[36m72\u001b[0m - \u001b[34m\u001b[1mConfirmation analysis.\u001b[0m\n",
      "\u001b[32m2024-12-12 09:54:56.283\u001b[0m | \u001b[34m\u001b[1mDEBUG   \u001b[0m | \u001b[36mevidence_seeker.confirmation_analysis.workflows\u001b[0m:\u001b[36mmultiple_choice\u001b[0m:\u001b[36m116\u001b[0m - \u001b[34m\u001b[1mReturned probabilities: {'C': 0.9999999999999922, 'A': 7.681204685202035e-15, 'B': 4.303622624624453e-23}\u001b[0m\n",
      "\u001b[32m2024-12-12 09:54:56.287\u001b[0m | \u001b[34m\u001b[1mDEBUG   \u001b[0m | \u001b[36mevidence_seeker.confirmation_analysis.workflows\u001b[0m:\u001b[36mmultiple_choice\u001b[0m:\u001b[36m116\u001b[0m - \u001b[34m\u001b[1mReturned probabilities: {'C': 0.9999999816291382, 'A': 1.8370861928652627e-08, 'B': 3.017072331412127e-21}\u001b[0m\n",
      "\u001b[32m2024-12-12 09:54:56.291\u001b[0m | \u001b[34m\u001b[1mDEBUG   \u001b[0m | \u001b[36mevidence_seeker.confirmation_analysis.workflows\u001b[0m:\u001b[36mfreetext_analysis\u001b[0m:\u001b[36m72\u001b[0m - \u001b[34m\u001b[1mConfirmation analysis.\u001b[0m\n",
      "\u001b[32m2024-12-12 09:54:56.297\u001b[0m | \u001b[34m\u001b[1mDEBUG   \u001b[0m | \u001b[36mevidence_seeker.confirmation_analysis.workflows\u001b[0m:\u001b[36mfreetext_analysis\u001b[0m:\u001b[36m72\u001b[0m - \u001b[34m\u001b[1mConfirmation analysis.\u001b[0m\n",
      "\u001b[32m2024-12-12 09:55:01.989\u001b[0m | \u001b[34m\u001b[1mDEBUG   \u001b[0m | \u001b[36mevidence_seeker.backend\u001b[0m:\u001b[36mget_openai_llm\u001b[0m:\u001b[36m117\u001b[0m - \u001b[34m\u001b[1mInstantiating OpenAILike model (model: meta-llama/Llama-3.2-3B-Instruct,base_url: https://dchi8b9swca6gxbe.eu-west-1.aws.endpoints.huggingface.cloud/v1/).\u001b[0m\n",
      "\u001b[32m2024-12-12 09:55:01.990\u001b[0m | \u001b[34m\u001b[1mDEBUG   \u001b[0m | \u001b[36mevidence_seeker.confirmation_analysis.workflows\u001b[0m:\u001b[36mmultiple_choice\u001b[0m:\u001b[36m102\u001b[0m - \u001b[34m\u001b[1mUsed regex in MultipleChoiceConfirmationAnalysis: [ABC]\u001b[0m\n"
     ]
    },
    {
     "name": "stdout",
     "output_type": "stream",
     "text": [
      "Fetching api key via env var: HF_TOKEN_EVIDENCE_SEEKER\n"
     ]
    },
    {
     "name": "stderr",
     "output_type": "stream",
     "text": [
      "\u001b[32m2024-12-12 09:55:02.365\u001b[0m | \u001b[34m\u001b[1mDEBUG   \u001b[0m | \u001b[36mevidence_seeker.backend\u001b[0m:\u001b[36mget_openai_llm\u001b[0m:\u001b[36m117\u001b[0m - \u001b[34m\u001b[1mInstantiating OpenAILike model (model: meta-llama/Llama-3.2-3B-Instruct,base_url: https://dchi8b9swca6gxbe.eu-west-1.aws.endpoints.huggingface.cloud/v1/).\u001b[0m\n",
      "\u001b[32m2024-12-12 09:55:02.366\u001b[0m | \u001b[34m\u001b[1mDEBUG   \u001b[0m | \u001b[36mevidence_seeker.confirmation_analysis.workflows\u001b[0m:\u001b[36mmultiple_choice\u001b[0m:\u001b[36m102\u001b[0m - \u001b[34m\u001b[1mUsed regex in MultipleChoiceConfirmationAnalysis: [ABC]\u001b[0m\n",
      "\u001b[32m2024-12-12 09:55:02.510\u001b[0m | \u001b[34m\u001b[1mDEBUG   \u001b[0m | \u001b[36mevidence_seeker.confirmation_analysis.workflows\u001b[0m:\u001b[36mmultiple_choice\u001b[0m:\u001b[36m116\u001b[0m - \u001b[34m\u001b[1mReturned probabilities: {'B': 0.9999999999993505, 'C': 6.495477781974302e-13, 'A': 5.234999594621081e-19}\u001b[0m\n"
     ]
    },
    {
     "name": "stdout",
     "output_type": "stream",
     "text": [
      "Fetching api key via env var: HF_TOKEN_EVIDENCE_SEEKER\n"
     ]
    },
    {
     "name": "stderr",
     "output_type": "stream",
     "text": [
      "\u001b[32m2024-12-12 09:55:02.597\u001b[0m | \u001b[34m\u001b[1mDEBUG   \u001b[0m | \u001b[36mevidence_seeker.backend\u001b[0m:\u001b[36mget_openai_llm\u001b[0m:\u001b[36m117\u001b[0m - \u001b[34m\u001b[1mInstantiating OpenAILike model (model: meta-llama/Llama-3.2-3B-Instruct,base_url: https://dchi8b9swca6gxbe.eu-west-1.aws.endpoints.huggingface.cloud/v1/).\u001b[0m\n",
      "\u001b[32m2024-12-12 09:55:02.598\u001b[0m | \u001b[34m\u001b[1mDEBUG   \u001b[0m | \u001b[36mevidence_seeker.confirmation_analysis.workflows\u001b[0m:\u001b[36mmultiple_choice\u001b[0m:\u001b[36m102\u001b[0m - \u001b[34m\u001b[1mUsed regex in MultipleChoiceConfirmationAnalysis: [ABC]\u001b[0m\n",
      "\u001b[32m2024-12-12 09:55:02.747\u001b[0m | \u001b[34m\u001b[1mDEBUG   \u001b[0m | \u001b[36mevidence_seeker.backend\u001b[0m:\u001b[36mget_openai_llm\u001b[0m:\u001b[36m117\u001b[0m - \u001b[34m\u001b[1mInstantiating OpenAILike model (model: meta-llama/Llama-3.2-3B-Instruct,base_url: https://dchi8b9swca6gxbe.eu-west-1.aws.endpoints.huggingface.cloud/v1/).\u001b[0m\n",
      "\u001b[32m2024-12-12 09:55:02.747\u001b[0m | \u001b[34m\u001b[1mDEBUG   \u001b[0m | \u001b[36mevidence_seeker.confirmation_analysis.workflows\u001b[0m:\u001b[36mmultiple_choice\u001b[0m:\u001b[36m102\u001b[0m - \u001b[34m\u001b[1mUsed regex in MultipleChoiceConfirmationAnalysis: [ABC]\u001b[0m\n"
     ]
    },
    {
     "name": "stdout",
     "output_type": "stream",
     "text": [
      "Fetching api key via env var: HF_TOKEN_EVIDENCE_SEEKER\n",
      "Fetching api key via env var: HF_TOKEN_EVIDENCE_SEEKER\n"
     ]
    },
    {
     "name": "stderr",
     "output_type": "stream",
     "text": [
      "\u001b[32m2024-12-12 09:55:03.171\u001b[0m | \u001b[34m\u001b[1mDEBUG   \u001b[0m | \u001b[36mevidence_seeker.confirmation_analysis.workflows\u001b[0m:\u001b[36mmultiple_choice\u001b[0m:\u001b[36m116\u001b[0m - \u001b[34m\u001b[1mReturned probabilities: {'C': 0.9999999996418252, 'A': 3.581747929000289e-10, 'B': 2.5261637800208843e-20}\u001b[0m\n",
      "\u001b[32m2024-12-12 09:55:03.174\u001b[0m | \u001b[34m\u001b[1mDEBUG   \u001b[0m | \u001b[36mevidence_seeker.confirmation_analysis.workflows\u001b[0m:\u001b[36mmultiple_choice\u001b[0m:\u001b[36m116\u001b[0m - \u001b[34m\u001b[1mReturned probabilities: {'B': 0.9999999999999585, 'C': 4.1524200211755836e-14, 'A': 1.2828918236087317e-19}\u001b[0m\n",
      "\u001b[32m2024-12-12 09:55:03.539\u001b[0m | \u001b[34m\u001b[1mDEBUG   \u001b[0m | \u001b[36mevidence_seeker.confirmation_analysis.workflows\u001b[0m:\u001b[36mmultiple_choice\u001b[0m:\u001b[36m116\u001b[0m - \u001b[34m\u001b[1mReturned probabilities: {'C': 0.9999999999645359, 'A': 3.5464107046484124e-11, 'B': 3.452856501265834e-20}\u001b[0m\n"
     ]
    },
    {
     "data": {
      "text/plain": [
       "[{'text': 'Climate change is the greatest threat to humanity',\n",
       "  'negation': 'Climate change is not the greatest threat to humanity.',\n",
       "  'uid': '9c570867-d6c2-4e11-963c-722811662085',\n",
       "  'n_evidence': 0,\n",
       "  'average_confirmation': 2.3728439398117238e-09,\n",
       "  'evidential_uncertainty': 3.6574556431400255e-17,\n",
       "  'verbalized_confirmation': 'The claim is neither confirmed nor disconfirmed.',\n",
       "  'documents': [{'text': 'It leads to an increase in the usability, usefulness and relevance of climate \\ninformation, enhances stakeholder trust, and expands the foundation of evidence used in climate services.  It is particularly relevant in \\nthe context of co-producing regional-scale climate information to support decision-making.  (Section TS.4.1, Box TS.11) {10.1,\\xa010.5,\\xa012.6}\\n(Climate change) risk: The concept of risk is a key aspect of how the IPCC assesses and communicates to decision-makers about the \\npotential for adverse consequences for human or ecological systems, recognizing the diversity of values and objectives associated with \\nsuch systems.  In the context of climate change, risks can arise from potential impacts of climate change as well as human responses to \\nclimate change.  WGI contributes to the common IPCC risk framing through the assessment of relevant climate information, including \\nclimatic impact-drivers and low-likelihood, high-impact outcomes.  (Sections TS.1.4 and TS.4.1, Box TS.4) {Cross-Chapter Boxes 1.3 and \\n12.1, Glossary}\\nClimatic impact-drivers: Physical climate system conditions (e.g., means, events, extremes) that can be directly connected with \\nhaving impacts on human or ecological systems are described as ‘climatic impact-drivers’ (CIDs) without anticipating whether their \\nimpacts are detrimental (i.e., as for hazards in the context of climate change risks) or provide potential opportunities.  A range\\xa0of indices \\nmay capture the sector- or application-relevant characteristics of a climatic impact-driver and can reflect exceedances of\\xa0identified \\ntolerance thresholds. ',\n",
       "    'uid': 'b4e089e8-5521-479d-b98c-e602726f5b85',\n",
       "    'metadata': {'page_label': '40',\n",
       "     'file_name': 'IPCC_AR6_WGI_TS.pdf',\n",
       "     'author': 'IPCC Working Group I',\n",
       "     'original_text': 'In the context of climate change, risks can arise from potential impacts of climate change as well as human responses to \\nclimate change. '}},\n",
       "   {'text': '41\\nTechnical Summary\\nTS\\nInteractive Atlas allows users to interact in a flexible manner through \\nmaps, time series and summary statistics with climate information for \\na set of updated WGI reference regions.  The Report also includes 34 \\nFrequently Asked Questions and answers for the general public (https://\\nwww.ipcc.ch/report/ar6/wg1/faqs).\\n Together, this Technical Summary and the underlying chapters aim at \\nproviding a comprehensive picture of knowledge progress since the \\nWGI contribution to AR5.  Multiple lines of scientific evidence confirm \\nthat the climate is changing due to human influence.  Important \\nadvances in the ability to understand past, present and possible \\nfuture changes should result in better-informed decision-making.\\n Some of the new results and main updates to key findings in this \\nReport compared to AR5, SR1.5, SRCCL, and SROCC are summarized \\nbelow.  Relevant Technical Summary sections with further details are \\nshown in parentheses after each bullet point.\\n',\n",
       "    'uid': '2b04697b-8dff-434f-a6a4-a399f1d7a7b6',\n",
       "    'metadata': {'page_label': '41',\n",
       "     'file_name': 'IPCC_AR6_WGI_TS.pdf',\n",
       "     'author': 'IPCC Working Group I',\n",
       "     'original_text': 'Multiple lines of scientific evidence confirm \\nthat the climate is changing due to human influence. '}},\n",
       "   {'text': '87\\nTechnical Summary\\nTS\\nBox TS.6 (continued)\\n(a) Precipitation (b) Evapotranspiration\\n(d) Surface soil moisture(c) Runoff\\nLong-term water cycle variables changes for SSP2-4.5 (2081–2100 vs 1995–2014)\\nBox TS.6, Figure\\xa01 | Projected water cycle changes.  The intent of this figure is to give a geographical overview of changes in multiple components of the global \\nwater cycle using an intermediate emissions scenario.  Important key message: without drastic reductions in greenhouse gas emissions, human-induced global warming \\nwill be associated with widespread changes in all components of the water cycle.  Long-term (2081–2100) projected annual mean changes (%) relative to present-day \\n(1995–2014) in the SSP2-4.5 emissions scenario for (a) precipitation, (b) surface evapotranspiration, (c) total runoff and (d) surface soil moisture.  Numbers in top \\nright of each panel indicate indicate the number of Coupled Model Intercomparison Project Phase 6 (CMIP6) models used for estimating the ensemble mean.  For other \\nscenarios, please refer to relevant figures in Chapter\\xa08. ',\n",
       "    'uid': '74150d61-45e3-4502-bd82-98525aafb353',\n",
       "    'metadata': {'page_label': '87',\n",
       "     'file_name': 'IPCC_AR6_WGI_TS.pdf',\n",
       "     'author': 'IPCC Working Group I',\n",
       "     'original_text': 'Important key message: without drastic reductions in greenhouse gas emissions, human-induced global warming \\nwill be associated with widespread changes in all components of the water cycle. '}},\n",
       "   {'text': 'If an AMOC collapse \\nwere to occur, it would very likely cause abrupt shifts in the regional weather patterns and water cycle, such as a southward shift in the \\ntropical rain belt, and could result in weakening of the African and Asian monsoons, strengthening of Southern Hemisphere monsoons, \\nand drying in Europe.  (See also Boxes TS.9 and TS.13).  {4.7.2, 8.6.1, 9.2.3}\\nVery rare extremes and compound or concurrent events, such as the 2018 concurrent heatwaves across the Northern Hemisphere, are \\noften associated with large impacts.  The changing climate state is already altering the likelihood of extreme events, such as decadal \\ndroughts and extreme sea levels, and will continue to do so under future warming.  Compound events and concurrent extremes \\ncontribute to increasing probability of low-likelihood, high-impact outcomes and will become more frequent with increasing global \\nwarming (high confidence).  Higher warming levels increase the likelihood of events unprecedented in the observational record.  {9.6.4, \\nBox\\xa011.2}\\nFinally, low likelihood storylines need not necessarily relate solely to the human-induced changes in climate. ',\n",
       "    'uid': 'b7a87879-6c35-49e2-86be-b3e0c7ff3e20',\n",
       "    'metadata': {'page_label': '73',\n",
       "     'file_name': 'IPCC_AR6_WGI_TS.pdf',\n",
       "     'author': 'IPCC Working Group I',\n",
       "     'original_text': 'The changing climate state is already altering the likelihood of extreme events, such as decadal \\ndroughts and extreme sea levels, and will continue to do so under future warming. '}},\n",
       "   {'text': 'The future emissions scenarios and global \\nwarming levels, used to integrate assessments across this Report, \\nare introduced and their applications for future climate projections \\nare\\xa0 briefly addressed.  Paleoclimate science provides a long-term \\ncontext for observed climate change of the past 150 years and the \\nprojected changes in the 21st century and beyond (Box TS.2).  The \\nassessment of past, current and future global surface temperature \\nchanges relative to the standard baselines and reference periods 13 \\nused throughout this Report is summarized in Cross-Section Box TS.1.\\n TS1.1 Context of a Changing Climate\\nThis Report assesses new scientific evidence relevant \\nfor a world whose climate system is rapidly changing, \\noverwhelmingly due to human influence.  The five IPCC \\nassessment cycles since 1990 have comprehensively and \\nconsistently laid out the rapidly accumulating evidence \\nof a changing climate system, with the Fourth Assessment \\nReport in 2007 being the first to conclude that warming \\nof the climate system is unequivocal.  Sustained changes \\nhave been documented in all major elements of the climate \\nsystem: the atmosphere, land, cryosphere, biosphere and \\nocean (Section TS.2).  Multiple lines of evidence indicate \\nthe recent large-scale climatic changes are unprecedented \\nin a multi-millennial context and that they represent \\na\\xa0 millennial-scale commitment for the slow-responding \\nelements of the climate system, resulting in continued \\nworldwide loss of ice, increase in ocean heat content, sea \\nlevel rise and deep ocean acidification (Box TS.2; Section \\nTS.2). ',\n",
       "    'uid': 'f3a20afc-bf59-45cd-9a46-55ff8f9e6f63',\n",
       "    'metadata': {'page_label': '43',\n",
       "     'file_name': 'IPCC_AR6_WGI_TS.pdf',\n",
       "     'author': 'IPCC Working Group I',\n",
       "     'original_text': 'TS1.1 Context of a Changing Climate\\nThis Report assesses new scientific evidence relevant \\nfor a world whose climate system is rapidly changing, \\noverwhelmingly due to human influence. '}},\n",
       "   {'text': '40\\nTechnical Summary\\nTS\\nBox TS.1 (continued)\\nClimate Information for Regional Climate Change and Risk Assessment\\xa0\\nDistillation: The process of synthesizing information about climate change from multiple lines of evidence obtained from a variety \\nof sources, taking into account user context and values.  It leads to an increase in the usability, usefulness and relevance of climate \\ninformation, enhances stakeholder trust, and expands the foundation of evidence used in climate services.  It is particularly relevant in \\nthe context of co-producing regional-scale climate information to support decision-making.  (Section TS.4.1, Box TS.11) {10.1,\\xa010.5,\\xa012.6}\\n(Climate change) risk: The concept of risk is a key aspect of how the IPCC assesses and communicates to decision-makers about the \\npotential for adverse consequences for human or ecological systems, recognizing the diversity of values and objectives associated with \\nsuch systems.  In the context of climate change, risks can arise from potential impacts of climate change as well as human responses to \\nclimate change.  WGI contributes to the common IPCC risk framing through the assessment of relevant climate information, including \\nclimatic impact-drivers and low-likelihood, high-impact outcomes.  (Sections TS.1.4 and TS.4.1, Box TS.4) {Cross-Chapter Boxes 1.3 and \\n12.1, Glossary}\\nClimatic impact-drivers: Physical climate system conditions (e.g., means, events, extremes) that can be directly connected with \\nhaving impacts on human or ecological systems are described as ‘climatic impact-drivers’ (CIDs) without anticipating whether their \\nimpacts are detrimental (i.e., as for hazards in the context of climate change risks) or provide potential opportunities. ',\n",
       "    'uid': 'a53c5178-d91a-483a-8ec5-f88cf8f92e93',\n",
       "    'metadata': {'page_label': '40',\n",
       "     'file_name': 'IPCC_AR6_WGI_TS.pdf',\n",
       "     'author': 'IPCC Working Group I',\n",
       "     'original_text': '(Section TS.4.1, Box TS.11) {10.1,\\xa010.5,\\xa012.6}\\n(Climate change) risk: The concept of risk is a key aspect of how the IPCC assesses and communicates to decision-makers about the \\npotential for adverse consequences for human or ecological systems, recognizing the diversity of values and objectives associated with \\nsuch systems. '}},\n",
       "   {'text': 'With increasing global warming, some very rare extremes and some compound events (multivariate or concurrent \\nextremes) with low likelihood in past and current climate will become more frequent, and there is a\\xa0higher chance \\nthat events unprecedented in the observational record occur ( high confidence).  Finally, low-likelihood, high-impact \\noutcomes may also arise from a series of very large volcanic eruptions that could substantially alter the 21st century \\nclimate trajectory compared to SSP-based Earth system model (ESM) projections.  {Cross-Chapter Box\\xa04.1, 4.3, 4.4, 4.8, \\n7.3, 7.4, 7.5, 8.6, 9.2, 9.6, Box\\xa09.4, Box\\xa011.2, Cross-Chapter Box\\xa012.1}\\nPrevious IPCC reports largely focused their assessment on the projected very likely range of future surface warming and associated \\nclimate change.  However, a comprehensive risk assessment also requires considering the potentially larger changes in the physical \\nclimate system that are unlikely or very unlikely but possible and potentially associated with the highest risks for society and \\necosystems (Figure TS.6).  Since AR5, the development of physical climate storylines of high warming has emerged as a useful approach \\nfor exploring the future risk space that lies outside of the IPCC very likely range projections.  {4.8}\\nUncertainty in the true values of equilibrium climate sensitivity (ECS) and transient climate response (TCR) dominate uncertainty \\nin projections of future warming under moderate to strong emissions scenarios (Section TS.3.2).  A real-world ECS higher than the \\nassessed very likely range (2°C–5°C) would require a strong historical aerosol cooling and/or a trend towards stronger warming from \\npositive feedbacks linked to changes in SST patterns (pattern effects), combined with a strong positive cloud feedback and substantial \\nbiases in paleoclimate reconstructions\\xa0– each of which is assessed as either unlikely or very unlikely, but not ruled out. ',\n",
       "    'uid': '543c5a7a-be35-423a-8711-fbe9d94cd703',\n",
       "    'metadata': {'page_label': '72',\n",
       "     'file_name': 'IPCC_AR6_WGI_TS.pdf',\n",
       "     'author': 'IPCC Working Group I',\n",
       "     'original_text': 'However, a comprehensive risk assessment also requires considering the potentially larger changes in the physical \\nclimate system that are unlikely or very unlikely but possible and potentially associated with the highest risks for society and \\necosystems (Figure TS.6). '}},\n",
       "   {'text': '74\\nTechnical Summary\\nTS\\nTS.2.4 The Ocean\\nObservations, models and paleo-evidence indicate that \\nrecently observed changes in the ocean are unprecedented \\nfor centuries to millennia ( high confidence).  Over the past \\nfour to six decades, it is virtually certain that the global \\nocean has warmed, with human influence extremely \\nlikely the main driver since the 1970s, making climate \\nchange irreversible over centuries to millennia ( medium \\nconfidence).  It is virtually certain that upper ocean salinity \\ncontrasts have increased since the 1950s and extremely \\nlikely that human influence has contributed.  It is virtually \\ncertain that upper ocean stratification has increased since \\n1970 and that sea water pH has declined globally over the \\nlast 40 years, with human influence being the main driver \\nof the observed surface open ocean acidification ( virtually \\ncertain).  A long-term increase in surface open ocean pH \\noccurred over the past 50 million years ( high confidence), \\nand surface ocean pH as low as recent times is uncommon \\nin the last 2 million years ( medium confidence ). ',\n",
       "    'uid': 'ac9cc3a6-e498-4e19-b509-d844bcf7ec16',\n",
       "    'metadata': {'page_label': '74',\n",
       "     'file_name': 'IPCC_AR6_WGI_TS.pdf',\n",
       "     'author': 'IPCC Working Group I',\n",
       "     'original_text': 'Over the past \\nfour to six decades, it is virtually certain that the global \\nocean has warmed, with human influence extremely \\nlikely the main driver since the 1970s, making climate \\nchange irreversible over centuries to millennia ( medium \\nconfidence). '}}],\n",
       "  'confirmation_by_document': {'b4e089e8-5521-479d-b98c-e602726f5b85': 2.538103082596571e-13,\n",
       "   '2b04697b-8dff-434f-a6a4-a399f1d7a7b6': 3.5297438575202756e-14,\n",
       "   '74150d61-45e3-4502-bd82-98525aafb353': 7.316574416002892e-13,\n",
       "   'b7a87879-6c35-49e2-86be-b3e0c7ff3e20': 1.0916867821621639e-10,\n",
       "   'f3a20afc-bf59-45cd-9a46-55ff8f9e6f63': 5.320915873930018e-11,\n",
       "   'a53c5178-d91a-483a-8ec5-f88cf8f92e93': 9.03218146148699e-11,\n",
       "   '543c5a7a-be35-423a-8711-fbe9d94cd703': 1.8370856308963228e-08,\n",
       "   'ac9cc3a6-e498-4e19-b509-d844bcf7ec16': 3.581747927717397e-10},\n",
       "  'metadata': {'statement_type': 'normative'}},\n",
       " {'text': 'Climate change is considered more severe or impactful than other threats to humanity',\n",
       "  'negation': 'Climate change is not considered more severe or impactful than other threats to humanity.',\n",
       "  'uid': '9d4fcdd6-a951-4cba-94fe-e1b22aa35fab',\n",
       "  'n_evidence': 0,\n",
       "  'average_confirmation': 1.2396734065572256e-08,\n",
       "  'evidential_uncertainty': 1.0749818695676068e-15,\n",
       "  'verbalized_confirmation': 'The claim is neither confirmed nor disconfirmed.',\n",
       "  'documents': [{'text': 'It leads to an increase in the usability, usefulness and relevance of climate \\ninformation, enhances stakeholder trust, and expands the foundation of evidence used in climate services.  It is particularly relevant in \\nthe context of co-producing regional-scale climate information to support decision-making.  (Section TS.4.1, Box TS.11) {10.1,\\xa010.5,\\xa012.6}\\n(Climate change) risk: The concept of risk is a key aspect of how the IPCC assesses and communicates to decision-makers about the \\npotential for adverse consequences for human or ecological systems, recognizing the diversity of values and objectives associated with \\nsuch systems.  In the context of climate change, risks can arise from potential impacts of climate change as well as human responses to \\nclimate change.  WGI contributes to the common IPCC risk framing through the assessment of relevant climate information, including \\nclimatic impact-drivers and low-likelihood, high-impact outcomes.  (Sections TS.1.4 and TS.4.1, Box TS.4) {Cross-Chapter Boxes 1.3 and \\n12.1, Glossary}\\nClimatic impact-drivers: Physical climate system conditions (e.g., means, events, extremes) that can be directly connected with \\nhaving impacts on human or ecological systems are described as ‘climatic impact-drivers’ (CIDs) without anticipating whether their \\nimpacts are detrimental (i.e., as for hazards in the context of climate change risks) or provide potential opportunities.  A range\\xa0of indices \\nmay capture the sector- or application-relevant characteristics of a climatic impact-driver and can reflect exceedances of\\xa0identified \\ntolerance thresholds. ',\n",
       "    'uid': 'd269eb3d-0555-4855-965b-4e96db847052',\n",
       "    'metadata': {'page_label': '40',\n",
       "     'file_name': 'IPCC_AR6_WGI_TS.pdf',\n",
       "     'author': 'IPCC Working Group I',\n",
       "     'original_text': 'In the context of climate change, risks can arise from potential impacts of climate change as well as human responses to \\nclimate change. '}},\n",
       "   {'text': 'With increasing global warming, some very rare extremes and some compound events (multivariate or concurrent \\nextremes) with low likelihood in past and current climate will become more frequent, and there is a\\xa0higher chance \\nthat events unprecedented in the observational record occur ( high confidence).  Finally, low-likelihood, high-impact \\noutcomes may also arise from a series of very large volcanic eruptions that could substantially alter the 21st century \\nclimate trajectory compared to SSP-based Earth system model (ESM) projections.  {Cross-Chapter Box\\xa04.1, 4.3, 4.4, 4.8, \\n7.3, 7.4, 7.5, 8.6, 9.2, 9.6, Box\\xa09.4, Box\\xa011.2, Cross-Chapter Box\\xa012.1}\\nPrevious IPCC reports largely focused their assessment on the projected very likely range of future surface warming and associated \\nclimate change.  However, a comprehensive risk assessment also requires considering the potentially larger changes in the physical \\nclimate system that are unlikely or very unlikely but possible and potentially associated with the highest risks for society and \\necosystems (Figure TS.6).  Since AR5, the development of physical climate storylines of high warming has emerged as a useful approach \\nfor exploring the future risk space that lies outside of the IPCC very likely range projections.  {4.8}\\nUncertainty in the true values of equilibrium climate sensitivity (ECS) and transient climate response (TCR) dominate uncertainty \\nin projections of future warming under moderate to strong emissions scenarios (Section TS.3.2).  A real-world ECS higher than the \\nassessed very likely range (2°C–5°C) would require a strong historical aerosol cooling and/or a trend towards stronger warming from \\npositive feedbacks linked to changes in SST patterns (pattern effects), combined with a strong positive cloud feedback and substantial \\nbiases in paleoclimate reconstructions\\xa0– each of which is assessed as either unlikely or very unlikely, but not ruled out. ',\n",
       "    'uid': '4e77e3a7-a558-4c8b-a039-d17cafcb96a5',\n",
       "    'metadata': {'page_label': '72',\n",
       "     'file_name': 'IPCC_AR6_WGI_TS.pdf',\n",
       "     'author': 'IPCC Working Group I',\n",
       "     'original_text': 'However, a comprehensive risk assessment also requires considering the potentially larger changes in the physical \\nclimate system that are unlikely or very unlikely but possible and potentially associated with the highest risks for society and \\necosystems (Figure TS.6). '}},\n",
       "   {'text': 'Changes \\nin temperature-related variables, such as regional temperatures, \\ngrowing season length, extreme heat and frost, have already \\noccurred, and there is medium confidence that many of these changes \\nare attributable to human activities.  Several impact-relevant changes \\nhave not yet emerged from natural variability but will emerge sooner \\nor later in this century depending on the emissions scenario ( high \\nconfidence).  Ocean acidification and deoxygenation have already \\nemerged over most of the global open ocean, as has a reduction in \\nArctic sea ice ( high confidence).  {9.3.1, 9.6.4, 11.2, 11.3, 12.4, 12.5, \\nAtlas.3–Atlas.11} \\nTS.1.2.4 Understanding of Human Influence\\nThe evidence for human influence on recent climate change \\nhas strengthened progressively from the IPCC Second \\nAssessment Report to AR5 and is even stronger in this \\nassessment, including for regional scales and for extremes. \\n Human influence in the IPCC context refers to the human \\nactivities that lead to or contribute to a climate response, \\nsuch as the human-induced emissions of greenhouse \\ngases that subsequently alter the atmosphere’s radiative \\nFigure TS.3 | Emergence of changes in temperature over the historical period.   The intent of this figure is to show how observed changes in temperature have \\nemerged and that the emergence pattern agrees with model simulations.  The observed change in temperature at a global warming level of 1°C (a), and the signal-to-noise ratio \\n(the change in temperature at a global warming level of 1°C, divided by the size of year-to-year variations, (b)) using data from Berkeley Earth. ',\n",
       "    'uid': 'ce3921d9-d757-4acb-b711-d3cbee5b3746',\n",
       "    'metadata': {'page_label': '51',\n",
       "     'file_name': 'IPCC_AR6_WGI_TS.pdf',\n",
       "     'author': 'IPCC Working Group I',\n",
       "     'original_text': '{9.3.1, 9.6.4, 11.2, 11.3, 12.4, 12.5, \\nAtlas.3–Atlas.11} \\nTS.1.2.4 Understanding of Human Influence\\nThe evidence for human influence on recent climate change \\nhas strengthened progressively from the IPCC Second \\nAssessment Report to AR5 and is even stronger in this \\nassessment, including for regional scales and for extremes. \\n'}},\n",
       "   {'text': '41\\nTechnical Summary\\nTS\\nInteractive Atlas allows users to interact in a flexible manner through \\nmaps, time series and summary statistics with climate information for \\na set of updated WGI reference regions.  The Report also includes 34 \\nFrequently Asked Questions and answers for the general public (https://\\nwww.ipcc.ch/report/ar6/wg1/faqs).\\n Together, this Technical Summary and the underlying chapters aim at \\nproviding a comprehensive picture of knowledge progress since the \\nWGI contribution to AR5.  Multiple lines of scientific evidence confirm \\nthat the climate is changing due to human influence.  Important \\nadvances in the ability to understand past, present and possible \\nfuture changes should result in better-informed decision-making.\\n Some of the new results and main updates to key findings in this \\nReport compared to AR5, SR1.5, SRCCL, and SROCC are summarized \\nbelow.  Relevant Technical Summary sections with further details are \\nshown in parentheses after each bullet point.\\n',\n",
       "    'uid': '59ea8b67-3650-47d7-844e-732897b94ed9',\n",
       "    'metadata': {'page_label': '41',\n",
       "     'file_name': 'IPCC_AR6_WGI_TS.pdf',\n",
       "     'author': 'IPCC Working Group I',\n",
       "     'original_text': 'Multiple lines of scientific evidence confirm \\nthat the climate is changing due to human influence. '}},\n",
       "   {'text': 'Important \\nadvances in the ability to understand past, present and possible \\nfuture changes should result in better-informed decision-making.\\n Some of the new results and main updates to key findings in this \\nReport compared to AR5, SR1.5, SRCCL, and SROCC are summarized \\nbelow.  Relevant Technical Summary sections with further details are \\nshown in parentheses after each bullet point.\\n Selected Updates and/or New Results since AR5\\n• Human influence 9 on the climate system is now an \\nestablished fact: The Fourth Assessment Report (AR4) stated \\nin 2007 that ‘warming of the climate system is unequivocal’, and \\nAR5 stated in 2013 that ‘human influence on the climate system \\nis clear’.  Combined evidence from across the climate system \\nstrengthens this finding.  It is unequivocal that the increase of \\nCO2, methane (CH 4) and nitrous oxide (N 2O) in the atmosphere \\nover the industrial era is the result of human activities and that \\nhuman influence is the main driver 10 of many changes observed \\nacross the atmosphere, ocean, cryosphere and biosphere. \\n (Sections TS.1.2, TS.2.1 and TS.3.1)\\n• Observed global warming to date: A combination of \\nimproved observational records and a series of very warm years \\nsince AR5 have resulted in a substantial increase in the estimated \\nlevel of global warming to date. ',\n",
       "    'uid': '95a9d20f-51e5-43de-b2e3-d4d8170bb0b3',\n",
       "    'metadata': {'page_label': '41',\n",
       "     'file_name': 'IPCC_AR6_WGI_TS.pdf',\n",
       "     'author': 'IPCC Working Group I',\n",
       "     'original_text': 'Selected Updates and/or New Results since AR5\\n• Human influence 9 on the climate system is now an \\nestablished fact: The Fourth Assessment Report (AR4) stated \\nin 2007 that ‘warming of the climate system is unequivocal’, and \\nAR5 stated in 2013 that ‘human influence on the climate system \\nis clear’. '}},\n",
       "   {'text': 'Progress in our understanding \\nof human influence is gained from longer observational \\ndatasets, improved paleoclimate information, a stronger \\nwarming signal since AR5, and improvements in climate \\nmodels, physical understanding and attribution techniques \\n(see Core Concepts Box).  Since AR5, the attribution to \\nhuman influence has become possible across a wider range \\nof climate variables and climatic impact-drivers (CIDs, \\nsee Core Concepts Box).  New techniques and analyses \\ndrawing on several lines of evidence have provided greater \\nconfidence in attributing changes in regional weather and \\nclimate extremes to human influence ( high confidence ). \\n {1.3, 1.5.1, Appendix 1.A, 3.1–3.8, 5.2, 6.4.2, 7.3.5, 7.4.4, \\n8.3.1, 10.4, Cross-Chapter Box\\xa010.3, 11.2–11.9, 12.4}\\nCombining the evidence from across the climate system increases \\nthe level of confidence in the attribution of observed climate change \\nto human influence and reduces the uncertainties associated with \\nassessments based on single variables.  {Cross-Chapter Box 10.3}\\nSince AR5, the accumulation of energy in the Earth system has \\nbecome established as a robust measure of the rate of global \\nclimate change on interannual-to-decadal time scales.  The rate of \\naccumulation of energy is equivalent to Earth’s energy imbalance \\nand can be quantified by changes in the global energy inventory for \\nall components of the climate system, including global ocean heat \\nuptake, warming of the atmosphere, warming of the land and melting \\nof ice.  Compared to changes in global surface temperature, Earth’s \\nenergy imbalance (see Core Concepts Box) exhibits less variability, \\nenabling more accurate identification and estimation of\\xa0trends. ',\n",
       "    'uid': 'a6307e8b-d88b-449f-9ecb-ecb5aa89c8af',\n",
       "    'metadata': {'page_label': '52',\n",
       "     'file_name': 'IPCC_AR6_WGI_TS.pdf',\n",
       "     'author': 'IPCC Working Group I',\n",
       "     'original_text': '{1.3, 1.5.1, Appendix 1.A, 3.1–3.8, 5.2, 6.4.2, 7.3.5, 7.4.4, \\n8.3.1, 10.4, Cross-Chapter Box\\xa010.3, 11.2–11.9, 12.4}\\nCombining the evidence from across the climate system increases \\nthe level of confidence in the attribution of observed climate change \\nto human influence and reduces the uncertainties associated with \\nassessments based on single variables. '}},\n",
       "   {'text': '{11.3.4}\\nHuman influence has contributed to the intensification of heavy precipitation in three continents where observational data are most \\nabundant: North America, Europe and Asia (high confidence).  On regional scales, evidence of human influence on extreme precipitation \\nis limited, but new evidence from attributing individual heavy precipitation events found that human influence was a\\xa0significant driver \\nof the events.  {11.4.4}\\nThere is low confidence that human influence has affected trends in meteorological droughts in most regions, but medium confidence \\nthat they have contributed to the severity of some specific events.  There is medium confidence that human-induced climate change \\nhas contributed to increasing trends in the probability or intensity of recent agricultural and ecological droughts, leading to an \\nincrease of the affected land area.  {11.6.4}\\nEvent attribution studies of specific strong tropical cyclones provide limited evidence for anthropogenic effects on tropical cyclone \\nintensifications so far, but high confidence for increases in precipitation.  There is high confidence that anthropogenic climate change \\ncontributed to extreme rainfall amounts during Hurricane Harvey (in 2017) and other intense tropical cyclones.  {11.7.3}\\nreliability of future projections (medium confidence) (Section TS.1.2.2). \\n',\n",
       "    'uid': '0b5eaf6d-b251-4e1e-8b9b-ae99758028bb',\n",
       "    'metadata': {'page_label': '108',\n",
       "     'file_name': 'IPCC_AR6_WGI_TS.pdf',\n",
       "     'author': 'IPCC Working Group I',\n",
       "     'original_text': 'There is medium confidence that human-induced climate change \\nhas contributed to increasing trends in the probability or intensity of recent agricultural and ecological droughts, leading to an \\nincrease of the affected land area. '}},\n",
       "   {'text': 'For the decade 2011–2020, the increase in global \\nsurface temperature since 1850–1900 is assessed to be 1.09 \\n[0.95 to 1.20] °C.11 Estimates of crossing times of global warming \\nlevels and estimates of remaining carbon budgets are updated \\naccordingly.  (Section TS.1.2, Cross-Section Box TS.1)\\n• Paleoclimate evidence:  The AR5 assessed that many of the \\nchanges observed since the 1950s are unprecedented over \\ndecades to millennia.  Updated paleoclimate evidence strengthens \\nthis assessment; over the past several decades, key indicators of \\nthe climate system are increasingly at levels unseen in centuries \\nto millennia and are changing at rates unprecedented in at least \\nthe last 2000 years.  (Box TS.2, Section TS.2)\\n9 Human influence on the climate system refers to human-driven activities that lead to changes in the climate system due to perturbations of Earth’s energy budget (also called anthropogenic \\nforcing).  Human influence results from emissions of greenhouse gases, aerosols and tropospheric ozone precursors, ozone-depleting substances, and land-use change.\\n 10 Throughout this Technical Summary, ‘main driver’ means responsible for more than 50% of the change.\\n 11 Throughout the WGI report and unless stated otherwise, uncertainty is quantified using 90% uncertainty intervals. ',\n",
       "    'uid': '53f330a9-b26e-4ffa-81ab-13e755683921',\n",
       "    'metadata': {'page_label': '41',\n",
       "     'file_name': 'IPCC_AR6_WGI_TS.pdf',\n",
       "     'author': 'IPCC Working Group I',\n",
       "     'original_text': '(Box TS.2, Section TS.2)\\n9 Human influence on the climate system refers to human-driven activities that lead to changes in the climate system due to perturbations of Earth’s energy budget (also called anthropogenic \\nforcing). '}}],\n",
       "  'confirmation_by_document': {'d269eb3d-0555-4855-965b-4e96db847052': -5.548493127141939e-16,\n",
       "   '4e77e3a7-a558-4c8b-a039-d17cafcb96a5': -1.1148061524945796e-12,\n",
       "   'ce3921d9-d757-4acb-b711-d3cbee5b3746': 9.691493456234676e-15,\n",
       "   '59ea8b67-3650-47d7-844e-732897b94ed9': 1.5311104531053715e-12,\n",
       "   '95a9d20f-51e5-43de-b2e3-d4d8170bb0b3': 9.914275530537306e-08,\n",
       "   'a6307e8b-d88b-449f-9ecb-ecb5aa89c8af': 2.846757238788697e-12,\n",
       "   '0b5eaf6d-b251-4e1e-8b9b-ae99758028bb': -5.462743194418497e-12,\n",
       "   '53f330a9-b26e-4ffa-81ab-13e755683921': 3.3307764215869e-11},\n",
       "  'metadata': {'statement_type': 'normative'}},\n",
       " {'text': 'Climate change is occurring',\n",
       "  'negation': 'Climate change is not occurring.',\n",
       "  'uid': '33bb2a7e-e030-44dd-a669-5ddbf05eacaa',\n",
       "  'n_evidence': 8,\n",
       "  'average_confirmation': 0.9999999545917629,\n",
       "  'evidential_uncertainty': 1.2972905563627834e-14,\n",
       "  'verbalized_confirmation': 'The claim is strongly confirmed.',\n",
       "  'documents': [{'text': '41\\nTechnical Summary\\nTS\\nInteractive Atlas allows users to interact in a flexible manner through \\nmaps, time series and summary statistics with climate information for \\na set of updated WGI reference regions.  The Report also includes 34 \\nFrequently Asked Questions and answers for the general public (https://\\nwww.ipcc.ch/report/ar6/wg1/faqs).\\n Together, this Technical Summary and the underlying chapters aim at \\nproviding a comprehensive picture of knowledge progress since the \\nWGI contribution to AR5.  Multiple lines of scientific evidence confirm \\nthat the climate is changing due to human influence.  Important \\nadvances in the ability to understand past, present and possible \\nfuture changes should result in better-informed decision-making.\\n Some of the new results and main updates to key findings in this \\nReport compared to AR5, SR1.5, SRCCL, and SROCC are summarized \\nbelow.  Relevant Technical Summary sections with further details are \\nshown in parentheses after each bullet point.\\n',\n",
       "    'uid': 'a6b66ee1-6cdf-4b41-a819-a0d3d57bb1e7',\n",
       "    'metadata': {'page_label': '41',\n",
       "     'file_name': 'IPCC_AR6_WGI_TS.pdf',\n",
       "     'author': 'IPCC Working Group I',\n",
       "     'original_text': 'Multiple lines of scientific evidence confirm \\nthat the climate is changing due to human influence. '}},\n",
       "   {'text': 'The future emissions scenarios and global \\nwarming levels, used to integrate assessments across this Report, \\nare introduced and their applications for future climate projections \\nare\\xa0 briefly addressed.  Paleoclimate science provides a long-term \\ncontext for observed climate change of the past 150 years and the \\nprojected changes in the 21st century and beyond (Box TS.2).  The \\nassessment of past, current and future global surface temperature \\nchanges relative to the standard baselines and reference periods 13 \\nused throughout this Report is summarized in Cross-Section Box TS.1.\\n TS1.1 Context of a Changing Climate\\nThis Report assesses new scientific evidence relevant \\nfor a world whose climate system is rapidly changing, \\noverwhelmingly due to human influence.  The five IPCC \\nassessment cycles since 1990 have comprehensively and \\nconsistently laid out the rapidly accumulating evidence \\nof a changing climate system, with the Fourth Assessment \\nReport in 2007 being the first to conclude that warming \\nof the climate system is unequivocal.  Sustained changes \\nhave been documented in all major elements of the climate \\nsystem: the atmosphere, land, cryosphere, biosphere and \\nocean (Section TS.2).  Multiple lines of evidence indicate \\nthe recent large-scale climatic changes are unprecedented \\nin a multi-millennial context and that they represent \\na\\xa0 millennial-scale commitment for the slow-responding \\nelements of the climate system, resulting in continued \\nworldwide loss of ice, increase in ocean heat content, sea \\nlevel rise and deep ocean acidification (Box TS.2; Section \\nTS.2). ',\n",
       "    'uid': '4673c4cb-4d00-4b9b-bdea-14295b3e4b3a',\n",
       "    'metadata': {'page_label': '43',\n",
       "     'file_name': 'IPCC_AR6_WGI_TS.pdf',\n",
       "     'author': 'IPCC Working Group I',\n",
       "     'original_text': 'TS1.1 Context of a Changing Climate\\nThis Report assesses new scientific evidence relevant \\nfor a world whose climate system is rapidly changing, \\noverwhelmingly due to human influence. '}},\n",
       "   {'text': 'TS1.1 Context of a Changing Climate\\nThis Report assesses new scientific evidence relevant \\nfor a world whose climate system is rapidly changing, \\noverwhelmingly due to human influence.  The five IPCC \\nassessment cycles since 1990 have comprehensively and \\nconsistently laid out the rapidly accumulating evidence \\nof a changing climate system, with the Fourth Assessment \\nReport in 2007 being the first to conclude that warming \\nof the climate system is unequivocal.  Sustained changes \\nhave been documented in all major elements of the climate \\nsystem: the atmosphere, land, cryosphere, biosphere and \\nocean (Section TS.2).  Multiple lines of evidence indicate \\nthe recent large-scale climatic changes are unprecedented \\nin a multi-millennial context and that they represent \\na\\xa0 millennial-scale commitment for the slow-responding \\nelements of the climate system, resulting in continued \\nworldwide loss of ice, increase in ocean heat content, sea \\nlevel rise and deep ocean acidification (Box TS.2; Section \\nTS.2).  {1.2.1, 1.3, Box\\xa01.2, 2.2, 2.3, Figure\\xa02.34, 5.1, 5.3, 9.2, \\n9.4–9.6, Appendix 1.A}\\nEarth’s climate system has evolved over many millions of years, and \\nevidence from natural archives provides a long-term perspective on \\nobserved changes and projected changes over the coming centuries. \\n These reconstructions of past climate also show that atmospheric \\nCO2 concentrations and global surface temperature are strongly \\ncoupled (Figure TS.1), based on evidence from a variety of proxy \\nrecords over multiple time scales (Box TS.2, Section TS.2).  Levels of \\nglobal warming (see Core Concepts Box) that have not been seen \\nin millions of years could be reached by 2300, depending on the \\nemissions pathway that is followed (Section TS.1.3). ',\n",
       "    'uid': '3323a22a-21f0-42bc-8561-2b42a2e29dac',\n",
       "    'metadata': {'page_label': '43',\n",
       "     'file_name': 'IPCC_AR6_WGI_TS.pdf',\n",
       "     'author': 'IPCC Working Group I',\n",
       "     'original_text': 'Multiple lines of evidence indicate \\nthe recent large-scale climatic changes are unprecedented \\nin a multi-millennial context and that they represent \\na\\xa0 millennial-scale commitment for the slow-responding \\nelements of the climate system, resulting in continued \\nworldwide loss of ice, increase in ocean heat content, sea \\nlevel rise and deep ocean acidification (Box TS.2; Section \\nTS.2). '}},\n",
       "   {'text': '{Cross-Chapter \\nBoxes 2.1 and 2.4, 2.3.1, 4.3.1.1, 4.7.1.2, 7.4.4.1}\\nUnderstanding of the climate system’s fundamental elements is \\nrobust and well established.  Scientists in the 19th century identified \\nthe major natural factors influencing the climate system.  They \\nalso hypothesized the potential for anthropogenic climate change \\ndue to CO 2 emitted by combustion of fossil fuels (petroleum, \\ncoal, natural gas).  The principal natural drivers of climate change, \\nincluding changes in incoming solar radiation, volcanic activity, \\norbital cycles and changes in global biogeochemical cycles, have \\nbeen studied systematically since the early 20th century.  Other \\nmajor anthropogenic drivers, such as atmospheric aerosols (fine \\nsolid particles or liquid droplets), land-use change and non-CO 2 \\ngreenhouse gases, were identified by the 1970s.  Since systematic \\nscientific assessments began in the 1970s, the influence of human \\nactivities on the warming of the climate system has evolved from \\ntheory to established fact (see also Section TS.2).  The evidence for \\nhuman influence on recent climate change strengthened from the \\nIPCC First Assessment Report in 1990 to the IPCC Fifth Assessment \\nReport in 2013/14, and is now even stronger in this assessment \\n(Sections TS.1.2.4 and TS.2). ',\n",
       "    'uid': '58a40dc4-3c2e-4ece-8461-abbd7cf59d18',\n",
       "    'metadata': {'page_label': '44',\n",
       "     'file_name': 'IPCC_AR6_WGI_TS.pdf',\n",
       "     'author': 'IPCC Working Group I',\n",
       "     'original_text': 'The principal natural drivers of climate change, \\nincluding changes in incoming solar radiation, volcanic activity, \\norbital cycles and changes in global biogeochemical cycles, have \\nbeen studied systematically since the early 20th century. '}},\n",
       "   {'text': 'These mechanisms include \\nnon-linear temperature, precipitation and soil moisture feedbacks; \\nslow and fast responses of SST patterns; and atmospheric circulation \\nchanges to increasing GHGs.  Land-use and aerosol forcings and \\nland–atmosphere feedback play important roles in modulating \\nregional changes, for instance in weather and climate extremes (high \\nconfidence).  These can also lead to a higher warming of extreme \\nSES\\nRossby\\nWaves\\nPolar\\nVortex\\nHadley Cell\\nENSO\\nPDV\\nAMV\\nGHG\\n+ O3 depletion\\nAerosol\\n83.6%\\n14.9%\\n1.4% 41.7%\\n53.3%\\n5.0%\\nPathway to understanding past and assessing future climate changes at regional scale\\nThe South-Eastern South America (SES) case study\\n(a) Identiﬁcation of climate drivers and phenomena for interpreting\\nSES observed precipitation trend and variability in austral summer (DJF)\\n(b) Models simulations/evaluation of SES DJF precipitation over\\nthe historical period and 21st century based on 7 large ensembles\\nPrecipitation trend (GPCC/1950-2014)\\n(mm/month/decade)\\nGPCC observations\\nAnomalies in mm/month w.r.t 1995-2014\\nNear\\nTerm\\nMid\\nTerm\\nLong \\nTerm\\nInternal variability\\nuncertainty\\nModel uncertainty\\nScenario uncertainty\\nNear term Mid term Long term\\n14.7% 6.3%\\n78.9%\\nFigure TS.21 | Example of the interplay between drivers of climate variability and change at regional scale to understand past and projected changes.  The \\nfigure intent is to show an illustrative pathway for understanding past, and anticipating future, climate change at regional scale in the presence of uncertainties.  (a) Identification \\nof the climate drivers and their influences on climate phenomena contributing through teleconnection to South-Eastern South America (SES) summer (December–January–\\nFebruary; DJF) precipitation variability and trends observed over 1950–2014.  Drivers (red squares) include modes of variability as well as external forcing.  Observed precipitation \\nlinear trend from GPCC is shown on continents (green-brown colour bar in mm month –1 per decade) and the SES AR6 WGI reference region is outlined with the thick black \\ncontour. ',\n",
       "    'uid': 'f5ebbaee-b0fe-4416-9052-ef96db486fb0',\n",
       "    'metadata': {'page_label': '117',\n",
       "     'file_name': 'IPCC_AR6_WGI_TS.pdf',\n",
       "     'author': 'IPCC Working Group I',\n",
       "     'original_text': 'The \\nfigure intent is to show an illustrative pathway for understanding past, and anticipating future, climate change at regional scale in the presence of uncertainties. '}},\n",
       "   {'text': '{11.3.4}\\nHuman influence has contributed to the intensification of heavy precipitation in three continents where observational data are most \\nabundant: North America, Europe and Asia (high confidence).  On regional scales, evidence of human influence on extreme precipitation \\nis limited, but new evidence from attributing individual heavy precipitation events found that human influence was a\\xa0significant driver \\nof the events.  {11.4.4}\\nThere is low confidence that human influence has affected trends in meteorological droughts in most regions, but medium confidence \\nthat they have contributed to the severity of some specific events.  There is medium confidence that human-induced climate change \\nhas contributed to increasing trends in the probability or intensity of recent agricultural and ecological droughts, leading to an \\nincrease of the affected land area.  {11.6.4}\\nEvent attribution studies of specific strong tropical cyclones provide limited evidence for anthropogenic effects on tropical cyclone \\nintensifications so far, but high confidence for increases in precipitation.  There is high confidence that anthropogenic climate change \\ncontributed to extreme rainfall amounts during Hurricane Harvey (in 2017) and other intense tropical cyclones.  {11.7.3}\\nreliability of future projections (medium confidence) (Section TS.1.2.2). \\n',\n",
       "    'uid': '45664901-b672-4fe1-9d46-16608f75568b',\n",
       "    'metadata': {'page_label': '108',\n",
       "     'file_name': 'IPCC_AR6_WGI_TS.pdf',\n",
       "     'author': 'IPCC Working Group I',\n",
       "     'original_text': 'There is medium confidence that human-induced climate change \\nhas contributed to increasing trends in the probability or intensity of recent agricultural and ecological droughts, leading to an \\nincrease of the affected land area. '}},\n",
       "   {'text': 'It is \\nextremely likely that on most land regions heavy precipitation will \\nbecome more frequent and more intense with additional global \\nwarming (Table TS.2, Figure TS.12b).  The projected increase in heavy \\nprecipitation extremes translates to an increase in the frequency and \\nmagnitude of pluvial floods ( high confidence ) (Table TS.2).  {Cross-\\nChapter Box\\xa03.2, 8.4.1, 11.4.2, 11.4.4, 11.5.5, 12.4}\\nThe probability of compound extreme events has likely increased \\ndue to human-induced climate change.  Concurrent heatwaves and \\ndroughts have become more frequent over the last century, and this \\ntrend will continue with higher global warming ( high confidence ). \\n The probability of compound flooding (storm surge, extreme \\nrainfall and/or river flow) has increased in some locations and will \\ncontinue to increase due to both sea level rise and increases in heavy \\nprecipitation, including changes in precipitation intensity associated \\nwith tropical cyclones (high confidence).  {11.8.1, 11.8.2, 11.8.3}\\nChanges in key aspects of the terrestrial biosphere, such as an \\nincrease of the growing season length in much of the Northern \\nHemisphere extratropics since the mid-20th century ( high \\nconfidence), are consistent with large-scale warming.  At the \\nsame time an increase in the amplitude of the seasonal cycle of \\natmospheric CO 2 poleward of 45°N since the early 1960s ( high \\nconfidence) and a global-scale increase in vegetation greenness \\nof the terrestrial surface since the early 1980s ( high confidence ) \\nhave been observed. ',\n",
       "    'uid': 'fbadb58f-2d9a-47fa-a923-23e76339ca63',\n",
       "    'metadata': {'page_label': '84',\n",
       "     'file_name': 'IPCC_AR6_WGI_TS.pdf',\n",
       "     'author': 'IPCC Working Group I',\n",
       "     'original_text': 'Concurrent heatwaves and \\ndroughts have become more frequent over the last century, and this \\ntrend will continue with higher global warming ( high confidence ). \\n'}},\n",
       "   {'text': '85\\nTechnical Summary\\nTS\\nBox TS.6 | Water Cycle\\nHuman-caused climate change has driven detectable changes in the global water cycle since the mid-20th century (high \\nconfidence), and it is projected to cause substantial further changes at both global and regional scales (high confidence). \\n Global land precipitation has likely increased since 1950, with a faster increase since the 1980s (medium confidence). \\n Atmospheric water vapour has increased throughout the troposphere since at least the 1980s ( likely).  Annual global \\nland precipitation will increase over the 21st century as global surface temperature increases ( high confidence ). \\n',\n",
       "    'uid': '162a2db7-7ace-429e-9cef-48dc18004597',\n",
       "    'metadata': {'page_label': '85',\n",
       "     'file_name': 'IPCC_AR6_WGI_TS.pdf',\n",
       "     'author': 'IPCC Working Group I',\n",
       "     'original_text': '85\\nTechnical Summary\\nTS\\nBox TS.6 | Water Cycle\\nHuman-caused climate change has driven detectable changes in the global water cycle since the mid-20th century (high \\nconfidence), and it is projected to cause substantial further changes at both global and regional scales (high confidence). \\n'}}],\n",
       "  'confirmation_by_document': {'a6b66ee1-6cdf-4b41-a819-a0d3d57bb1e7': 0.9999999995103916,\n",
       "   '4673c4cb-4d00-4b9b-bdea-14295b3e4b3a': 0.9999999990852324,\n",
       "   '3323a22a-21f0-42bc-8561-2b42a2e29dac': 0.999999990751037,\n",
       "   '58a40dc4-3c2e-4ece-8461-abbd7cf59d18': 0.9999996533643438,\n",
       "   'f5ebbaee-b0fe-4416-9052-ef96db486fb0': 0.9999999999925664,\n",
       "   '45664901-b672-4fe1-9d46-16608f75568b': 0.9999999999979983,\n",
       "   'fbadb58f-2d9a-47fa-a923-23e76339ca63': 0.9999999940325555,\n",
       "   '162a2db7-7ace-429e-9cef-48dc18004597': 0.9999999999999789},\n",
       "  'metadata': {'statement_type': 'descriptive'}},\n",
       " {'text': 'Climate change poses a significant threat to human populations',\n",
       "  'negation': 'Climate change does not pose a significant threat to human populations.',\n",
       "  'uid': 'ef66d761-21b5-4736-971c-a96f69c6a1d2',\n",
       "  'n_evidence': 0,\n",
       "  'average_confirmation': 1.9594308000743934e-10,\n",
       "  'evidential_uncertainty': 5.98450096465458e-18,\n",
       "  'verbalized_confirmation': 'The claim is neither confirmed nor disconfirmed.',\n",
       "  'documents': [{'text': 'It leads to an increase in the usability, usefulness and relevance of climate \\ninformation, enhances stakeholder trust, and expands the foundation of evidence used in climate services.  It is particularly relevant in \\nthe context of co-producing regional-scale climate information to support decision-making.  (Section TS.4.1, Box TS.11) {10.1,\\xa010.5,\\xa012.6}\\n(Climate change) risk: The concept of risk is a key aspect of how the IPCC assesses and communicates to decision-makers about the \\npotential for adverse consequences for human or ecological systems, recognizing the diversity of values and objectives associated with \\nsuch systems.  In the context of climate change, risks can arise from potential impacts of climate change as well as human responses to \\nclimate change.  WGI contributes to the common IPCC risk framing through the assessment of relevant climate information, including \\nclimatic impact-drivers and low-likelihood, high-impact outcomes.  (Sections TS.1.4 and TS.4.1, Box TS.4) {Cross-Chapter Boxes 1.3 and \\n12.1, Glossary}\\nClimatic impact-drivers: Physical climate system conditions (e.g., means, events, extremes) that can be directly connected with \\nhaving impacts on human or ecological systems are described as ‘climatic impact-drivers’ (CIDs) without anticipating whether their \\nimpacts are detrimental (i.e., as for hazards in the context of climate change risks) or provide potential opportunities.  A range\\xa0of indices \\nmay capture the sector- or application-relevant characteristics of a climatic impact-driver and can reflect exceedances of\\xa0identified \\ntolerance thresholds. ',\n",
       "    'uid': '8ba53c6e-502f-4872-a874-388874e6175d',\n",
       "    'metadata': {'page_label': '40',\n",
       "     'file_name': 'IPCC_AR6_WGI_TS.pdf',\n",
       "     'author': 'IPCC Working Group I',\n",
       "     'original_text': 'In the context of climate change, risks can arise from potential impacts of climate change as well as human responses to \\nclimate change. '}},\n",
       "   {'text': '{11.3.4}\\nHuman influence has contributed to the intensification of heavy precipitation in three continents where observational data are most \\nabundant: North America, Europe and Asia (high confidence).  On regional scales, evidence of human influence on extreme precipitation \\nis limited, but new evidence from attributing individual heavy precipitation events found that human influence was a\\xa0significant driver \\nof the events.  {11.4.4}\\nThere is low confidence that human influence has affected trends in meteorological droughts in most regions, but medium confidence \\nthat they have contributed to the severity of some specific events.  There is medium confidence that human-induced climate change \\nhas contributed to increasing trends in the probability or intensity of recent agricultural and ecological droughts, leading to an \\nincrease of the affected land area.  {11.6.4}\\nEvent attribution studies of specific strong tropical cyclones provide limited evidence for anthropogenic effects on tropical cyclone \\nintensifications so far, but high confidence for increases in precipitation.  There is high confidence that anthropogenic climate change \\ncontributed to extreme rainfall amounts during Hurricane Harvey (in 2017) and other intense tropical cyclones.  {11.7.3}\\nreliability of future projections (medium confidence) (Section TS.1.2.2). \\n',\n",
       "    'uid': '7d686a4e-6887-4154-b837-bac9356c8d22',\n",
       "    'metadata': {'page_label': '108',\n",
       "     'file_name': 'IPCC_AR6_WGI_TS.pdf',\n",
       "     'author': 'IPCC Working Group I',\n",
       "     'original_text': 'There is medium confidence that human-induced climate change \\nhas contributed to increasing trends in the probability or intensity of recent agricultural and ecological droughts, leading to an \\nincrease of the affected land area. '}},\n",
       "   {'text': '41\\nTechnical Summary\\nTS\\nInteractive Atlas allows users to interact in a flexible manner through \\nmaps, time series and summary statistics with climate information for \\na set of updated WGI reference regions.  The Report also includes 34 \\nFrequently Asked Questions and answers for the general public (https://\\nwww.ipcc.ch/report/ar6/wg1/faqs).\\n Together, this Technical Summary and the underlying chapters aim at \\nproviding a comprehensive picture of knowledge progress since the \\nWGI contribution to AR5.  Multiple lines of scientific evidence confirm \\nthat the climate is changing due to human influence.  Important \\nadvances in the ability to understand past, present and possible \\nfuture changes should result in better-informed decision-making.\\n Some of the new results and main updates to key findings in this \\nReport compared to AR5, SR1.5, SRCCL, and SROCC are summarized \\nbelow.  Relevant Technical Summary sections with further details are \\nshown in parentheses after each bullet point.\\n',\n",
       "    'uid': '65f8c55f-aa31-46fb-8662-fdfd09c62d9c',\n",
       "    'metadata': {'page_label': '41',\n",
       "     'file_name': 'IPCC_AR6_WGI_TS.pdf',\n",
       "     'author': 'IPCC Working Group I',\n",
       "     'original_text': 'Multiple lines of scientific evidence confirm \\nthat the climate is changing due to human influence. '}},\n",
       "   {'text': 'Changes \\nin temperature-related variables, such as regional temperatures, \\ngrowing season length, extreme heat and frost, have already \\noccurred, and there is medium confidence that many of these changes \\nare attributable to human activities.  Several impact-relevant changes \\nhave not yet emerged from natural variability but will emerge sooner \\nor later in this century depending on the emissions scenario ( high \\nconfidence).  Ocean acidification and deoxygenation have already \\nemerged over most of the global open ocean, as has a reduction in \\nArctic sea ice ( high confidence).  {9.3.1, 9.6.4, 11.2, 11.3, 12.4, 12.5, \\nAtlas.3–Atlas.11} \\nTS.1.2.4 Understanding of Human Influence\\nThe evidence for human influence on recent climate change \\nhas strengthened progressively from the IPCC Second \\nAssessment Report to AR5 and is even stronger in this \\nassessment, including for regional scales and for extremes. \\n Human influence in the IPCC context refers to the human \\nactivities that lead to or contribute to a climate response, \\nsuch as the human-induced emissions of greenhouse \\ngases that subsequently alter the atmosphere’s radiative \\nFigure TS.3 | Emergence of changes in temperature over the historical period.   The intent of this figure is to show how observed changes in temperature have \\nemerged and that the emergence pattern agrees with model simulations.  The observed change in temperature at a global warming level of 1°C (a), and the signal-to-noise ratio \\n(the change in temperature at a global warming level of 1°C, divided by the size of year-to-year variations, (b)) using data from Berkeley Earth. ',\n",
       "    'uid': 'b3429369-95e5-4890-8e3d-105d229c1835',\n",
       "    'metadata': {'page_label': '51',\n",
       "     'file_name': 'IPCC_AR6_WGI_TS.pdf',\n",
       "     'author': 'IPCC Working Group I',\n",
       "     'original_text': '{9.3.1, 9.6.4, 11.2, 11.3, 12.4, 12.5, \\nAtlas.3–Atlas.11} \\nTS.1.2.4 Understanding of Human Influence\\nThe evidence for human influence on recent climate change \\nhas strengthened progressively from the IPCC Second \\nAssessment Report to AR5 and is even stronger in this \\nassessment, including for regional scales and for extremes. \\n'}},\n",
       "   {'text': 'The future emissions scenarios and global \\nwarming levels, used to integrate assessments across this Report, \\nare introduced and their applications for future climate projections \\nare\\xa0 briefly addressed.  Paleoclimate science provides a long-term \\ncontext for observed climate change of the past 150 years and the \\nprojected changes in the 21st century and beyond (Box TS.2).  The \\nassessment of past, current and future global surface temperature \\nchanges relative to the standard baselines and reference periods 13 \\nused throughout this Report is summarized in Cross-Section Box TS.1.\\n TS1.1 Context of a Changing Climate\\nThis Report assesses new scientific evidence relevant \\nfor a world whose climate system is rapidly changing, \\noverwhelmingly due to human influence.  The five IPCC \\nassessment cycles since 1990 have comprehensively and \\nconsistently laid out the rapidly accumulating evidence \\nof a changing climate system, with the Fourth Assessment \\nReport in 2007 being the first to conclude that warming \\nof the climate system is unequivocal.  Sustained changes \\nhave been documented in all major elements of the climate \\nsystem: the atmosphere, land, cryosphere, biosphere and \\nocean (Section TS.2).  Multiple lines of evidence indicate \\nthe recent large-scale climatic changes are unprecedented \\nin a multi-millennial context and that they represent \\na\\xa0 millennial-scale commitment for the slow-responding \\nelements of the climate system, resulting in continued \\nworldwide loss of ice, increase in ocean heat content, sea \\nlevel rise and deep ocean acidification (Box TS.2; Section \\nTS.2). ',\n",
       "    'uid': 'ecee3408-bf4d-4bc3-9a7d-5ad117a81068',\n",
       "    'metadata': {'page_label': '43',\n",
       "     'file_name': 'IPCC_AR6_WGI_TS.pdf',\n",
       "     'author': 'IPCC Working Group I',\n",
       "     'original_text': 'TS1.1 Context of a Changing Climate\\nThis Report assesses new scientific evidence relevant \\nfor a world whose climate system is rapidly changing, \\noverwhelmingly due to human influence. '}},\n",
       "   {'text': 'Important \\nadvances in the ability to understand past, present and possible \\nfuture changes should result in better-informed decision-making.\\n Some of the new results and main updates to key findings in this \\nReport compared to AR5, SR1.5, SRCCL, and SROCC are summarized \\nbelow.  Relevant Technical Summary sections with further details are \\nshown in parentheses after each bullet point.\\n Selected Updates and/or New Results since AR5\\n• Human influence 9 on the climate system is now an \\nestablished fact: The Fourth Assessment Report (AR4) stated \\nin 2007 that ‘warming of the climate system is unequivocal’, and \\nAR5 stated in 2013 that ‘human influence on the climate system \\nis clear’.  Combined evidence from across the climate system \\nstrengthens this finding.  It is unequivocal that the increase of \\nCO2, methane (CH 4) and nitrous oxide (N 2O) in the atmosphere \\nover the industrial era is the result of human activities and that \\nhuman influence is the main driver 10 of many changes observed \\nacross the atmosphere, ocean, cryosphere and biosphere. \\n (Sections TS.1.2, TS.2.1 and TS.3.1)\\n• Observed global warming to date: A combination of \\nimproved observational records and a series of very warm years \\nsince AR5 have resulted in a substantial increase in the estimated \\nlevel of global warming to date. ',\n",
       "    'uid': 'aa692fca-e91f-43c2-8b1a-323bef6b151f',\n",
       "    'metadata': {'page_label': '41',\n",
       "     'file_name': 'IPCC_AR6_WGI_TS.pdf',\n",
       "     'author': 'IPCC Working Group I',\n",
       "     'original_text': 'Selected Updates and/or New Results since AR5\\n• Human influence 9 on the climate system is now an \\nestablished fact: The Fourth Assessment Report (AR4) stated \\nin 2007 that ‘warming of the climate system is unequivocal’, and \\nAR5 stated in 2013 that ‘human influence on the climate system \\nis clear’. '}},\n",
       "   {'text': '{Cross-Chapter Box 10.3}\\nSince AR5, the accumulation of energy in the Earth system has \\nbecome established as a robust measure of the rate of global \\nclimate change on interannual-to-decadal time scales.  The rate of \\naccumulation of energy is equivalent to Earth’s energy imbalance \\nand can be quantified by changes in the global energy inventory for \\nall components of the climate system, including global ocean heat \\nuptake, warming of the atmosphere, warming of the land and melting \\nof ice.  Compared to changes in global surface temperature, Earth’s \\nenergy imbalance (see Core Concepts Box) exhibits less variability, \\nenabling more accurate identification and estimation of\\xa0trends.  {Box \\n7.2 and Section 7.2}\\nIdentifying the human-induced components contributing to the \\nenergy budget provides an implicit estimate of the human influence \\non global climate change (Sections TS.2 and TS.3.1).  {Cross-Working \\nGroup Box: Attribution in Chapter\\xa0 1, 3.8, 7.2.2, Box\\xa0 7.2, \\nCross-Chapter\\xa0Box\\xa09.1}\\nRegional climate changes can be moderated or amplified by regional \\nforcing from land-use and land-cover changes or from aerosol \\nconcentrations and other short-lived climate forcers (SLCFs).  For \\nexample, the difference in observed warming trends between cities \\nand their surroundings can partly be attributed to urbanization \\n(very high confidence ).  While established attribution techniques \\nprovide confidence in our assessment of human influence on \\nlarge-scale climate changes (as described in Section TS.2), new \\ntechniques developed since AR5, including attribution of individual \\nevents, have provided greater confidence in attributing changes in \\nclimate extremes to climate change (Box TS.10). ',\n",
       "    'uid': 'a6c57f0a-f542-4223-9ff6-c6b7779a1e26',\n",
       "    'metadata': {'page_label': '52',\n",
       "     'file_name': 'IPCC_AR6_WGI_TS.pdf',\n",
       "     'author': 'IPCC Working Group I',\n",
       "     'original_text': '{Box \\n7.2 and Section 7.2}\\nIdentifying the human-induced components contributing to the \\nenergy budget provides an implicit estimate of the human influence \\non global climate change (Sections TS.2 and TS.3.1). '}},\n",
       "   {'text': 'It is virtually certain that \\nthe average surface warming over land will continue to be higher than \\nover the ocean throughout the 21st century.  The warming pattern \\nwill likely vary seasonally, with northern high latitudes warming more \\nduring winter than summer (medium confidence).  {2.3.1, 4.3.1, 4.5.1, \\n7.2.2, Box\\xa07.2, Cross-Chapter Box\\xa09.1, 11.3, Atlas 11.2}\\nThe frequency and intensity of hot extremes (warm days and nights) \\nand the intensity and duration of heatwaves have increased globally \\nand in most regions since 1950, while the frequency and intensity \\nof cold extremes have decreased ( virtually certain ).  There is high \\nconfidence that the increases in frequency and severity of hot \\nextremes are due to human-induced climate change.  Some recent \\nextreme events would have been extremely unlikely to occur without \\nhuman influence on the climate system.  It is virtually certain  that \\nfurther changes in hot and cold extremes will occur throughout the \\n21st century in nearly all inhabited regions, even if global warming \\nis stabilized at 1.5°C (Table TS.2, Figure TS.12a).  {1.3, Cross-Chapter \\nBox\\xa03.2, 11.1.4, 11.3.2, 11.3.4, 11.3.5, 11.9, 12.4}\\nGreater warming over land alters key water cycle characteristics \\n(Box\\xa0 TS.6). ',\n",
       "    'uid': 'efcbab2c-390d-4c39-8dc2-8c41f6ad5ff1',\n",
       "    'metadata': {'page_label': '82',\n",
       "     'file_name': 'IPCC_AR6_WGI_TS.pdf',\n",
       "     'author': 'IPCC Working Group I',\n",
       "     'original_text': 'There is high \\nconfidence that the increases in frequency and severity of hot \\nextremes are due to human-induced climate change. '}}],\n",
       "  'confirmation_by_document': {'8ba53c6e-502f-4872-a874-388874e6175d': -7.488909879928779e-15,\n",
       "   '7d686a4e-6887-4154-b837-bac9356c8d22': 2.761947430750801e-11,\n",
       "   '65f8c55f-aa31-46fb-8662-fdfd09c62d9c': 5.602796401179111e-09,\n",
       "   'b3429369-95e5-4890-8e3d-105d229c1835': 1.7480948300976412e-13,\n",
       "   'ecee3408-bf4d-4bc3-9a7d-5ad117a81068': 2.129785136422684e-12,\n",
       "   'aa692fca-e91f-43c2-8b1a-323bef6b151f': -4.0975352385888975e-09,\n",
       "   'a6c57f0a-f542-4223-9ff6-c6b7779a1e26': -3.0972090707431664e-12,\n",
       "   'efcbab2c-390d-4c39-8dc2-8c41f6ad5ff1': 3.5464106522984165e-11},\n",
       "  'metadata': {'statement_type': 'descriptive'}}]"
      ]
     },
     "execution_count": 1,
     "metadata": {},
     "output_type": "execute_result"
    }
   ],
   "source": [
    "from evidence_seeker import EvidenceSeeker\n",
    "from evidence_seeker.retrieval import RetrievalConfig\n",
    "\n",
    "retrieval_config = RetrievalConfig()\n",
    "retrieval_config.document_input_files = [\"../TMP/IPCC_AR6_WGI_TS.pdf\"]\n",
    "retrieval_config.index_persist_path = \"../TMP/storage/index\"\n",
    "\n",
    "pipeline = EvidenceSeeker(retrieval_config=retrieval_config)\n",
    "await pipeline(\"Climate change is the greatest threat to humanity\")"
   ]
  },
  {
   "cell_type": "code",
   "execution_count": null,
   "metadata": {},
   "outputs": [],
   "source": []
  }
 ],
 "metadata": {
  "kernelspec": {
   "display_name": "evidence-seeker",
   "language": "python",
   "name": "python3"
  },
  "language_info": {
   "codemirror_mode": {
    "name": "ipython",
    "version": 3
   },
   "file_extension": ".py",
   "mimetype": "text/x-python",
   "name": "python",
   "nbconvert_exporter": "python",
   "pygments_lexer": "ipython3",
   "version": "3.12.3"
  }
 },
 "nbformat": 4,
 "nbformat_minor": 2
}
