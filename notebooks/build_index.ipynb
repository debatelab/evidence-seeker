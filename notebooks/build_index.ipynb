{
 "cells": [
  {
   "cell_type": "markdown",
   "metadata": {},
   "source": [
    "# Build and upload index"
   ]
  },
  {
   "cell_type": "code",
   "execution_count": null,
   "metadata": {},
   "outputs": [
    {
     "data": {
      "text/plain": [
       "True"
      ]
     },
     "execution_count": 1,
     "metadata": {},
     "output_type": "execute_result"
    }
   ],
   "source": [
    "import dotenv\n",
    "dotenv.load_dotenv()\n",
    "\"HF_TOKEN\" in os.environ or print(\"Please set the HF_TOKEN environment variable in .env file\")"
   ]
  },
  {
   "cell_type": "code",
   "execution_count": 1,
   "metadata": {},
   "outputs": [],
   "source": [
    "from evidence_seeker.retrieval import build_index, RetrievalConfig\n",
    "import os\n"
   ]
  },
  {
   "cell_type": "code",
   "execution_count": 19,
   "metadata": {},
   "outputs": [],
   "source": [
    "config = RetrievalConfig(\n",
    "    # embed_base_url=\"https://ibpp4xgm0kspxkjb.us-east-1.aws.endpoints.huggingface.cloud\",\n",
    "    embed_backend_type=\"huggingface\",\n",
    "    embed_model_name=\"sentence-transformers/paraphrase-multilingual-mpnet-base-v2\",\n",
    "    # embed_backend_type=\"ollama\",\n",
    "    # model_name=\"bge-m3\",\n",
    "    # base_url=\"http://localhost:11434\",\n",
    "    document_input_dir=\"../TMP/APUZ/corpus\",\n",
    "    index_persist_path=\"../TMP/APUZ_PART/storage/index\",\n",
    ")"
   ]
  },
  {
   "cell_type": "code",
   "execution_count": 21,
   "metadata": {},
   "outputs": [],
   "source": [
    "from loguru import logger\n",
    "import pathlib\n",
    "import yaml\n",
    "\n",
    "metadata_dict = {}\n",
    "metadata_dir = config.document_input_dir or os.path.dirname(config.document_input_files[0])\n",
    "# load and parse all yaml files in metadata_dir\n",
    "for filepath in pathlib.Path(metadata_dir).rglob(\"*.yaml\"):\n",
    "    with open(filepath, \"r\") as f:\n",
    "        data = yaml.safe_load(f)\n",
    "        if \"file\" in data and \"author\" in data:\n",
    "            filename = data[\"file\"]\n",
    "            author = data[\"author\"]\n",
    "            metadata_dict[filename] = {\"author\": author}\n",
    "        else:\n",
    "            logger.warning(f\"Invalid metadata in {filepath}.\")\n",
    "\n",
    "document_file_metadata = lambda filename: metadata_dict.get(filename, {})  # noqa\n",
    "\n"
   ]
  },
  {
   "cell_type": "code",
   "execution_count": 22,
   "metadata": {},
   "outputs": [
    {
     "name": "stderr",
     "output_type": "stream",
     "text": [
      "\u001b[32m2025-03-22 13:50:40.019\u001b[0m | \u001b[34m\u001b[1mDEBUG   \u001b[0m | \u001b[36mevidence_seeker.retrieval.base\u001b[0m:\u001b[36mbuild_index\u001b[0m:\u001b[36m307\u001b[0m - \u001b[34m\u001b[1mReading documents from ../TMP/APUZ/corpus\u001b[0m\n",
      "\u001b[32m2025-03-22 13:50:40.020\u001b[0m | \u001b[1mINFO    \u001b[0m | \u001b[36mevidence_seeker.retrieval.base\u001b[0m:\u001b[36mbuild_index\u001b[0m:\u001b[36m314\u001b[0m - \u001b[1mBuilding document index...\u001b[0m\n",
      "\u001b[32m2025-03-22 13:50:40.284\u001b[0m | \u001b[34m\u001b[1mDEBUG   \u001b[0m | \u001b[36mevidence_seeker.retrieval.base\u001b[0m:\u001b[36mbuild_index\u001b[0m:\u001b[36m322\u001b[0m - \u001b[34m\u001b[1mParsing nodes...\u001b[0m\n",
      "\u001b[32m2025-03-22 13:50:40.295\u001b[0m | \u001b[34m\u001b[1mDEBUG   \u001b[0m | \u001b[36mevidence_seeker.retrieval.base\u001b[0m:\u001b[36mbuild_index\u001b[0m:\u001b[36m329\u001b[0m - \u001b[34m\u001b[1mCreating VectorStoreIndex with embeddings...\u001b[0m\n"
     ]
    },
    {
     "data": {
      "application/vnd.jupyter.widget-view+json": {
       "model_id": "ce0ac335844641ffab3810240c9f05b3",
       "version_major": 2,
       "version_minor": 0
      },
      "text/plain": [
       "Generating embeddings:   0%|          | 0/246 [00:00<?, ?it/s]"
      ]
     },
     "metadata": {},
     "output_type": "display_data"
    },
    {
     "name": "stderr",
     "output_type": "stream",
     "text": [
      "\u001b[32m2025-03-22 13:50:53.755\u001b[0m | \u001b[34m\u001b[1mDEBUG   \u001b[0m | \u001b[36mevidence_seeker.retrieval.base\u001b[0m:\u001b[36mbuild_index\u001b[0m:\u001b[36m336\u001b[0m - \u001b[34m\u001b[1mPersisting index to ../TMP/APUZ_PART/storage/index\u001b[0m\n"
     ]
    }
   ],
   "source": [
    "\n",
    "build_index(\n",
    "    document_input_dir=config.document_input_dir,\n",
    "    document_file_metadata=document_file_metadata,\n",
    "    index_persist_path=config.index_persist_path,\n",
    "    embed_base_url=config.embed_base_url,\n",
    "    embed_model_name=config.embed_model_name,\n",
    "    embed_backend_type=config.embed_backend_type,\n",
    "    #token=os.environ[\"HF_TOKEN\"],\n",
    ")"
   ]
  },
  {
   "cell_type": "code",
   "execution_count": 7,
   "metadata": {},
   "outputs": [],
   "source": [
    "import huggingface_hub\n",
    "\n",
    "HfApi = huggingface_hub.HfApi(token=os.environ[\"HF_TOKEN\"])"
   ]
  },
  {
   "cell_type": "code",
   "execution_count": 8,
   "metadata": {},
   "outputs": [
    {
     "data": {
      "application/vnd.jupyter.widget-view+json": {
       "model_id": "92d86a147c3e4e58af0604510228b04b",
       "version_major": 2,
       "version_minor": 0
      },
      "text/plain": [
       "default__vector_store.json:   0%|          | 0.00/196M [00:00<?, ?B/s]"
      ]
     },
     "metadata": {},
     "output_type": "display_data"
    },
    {
     "data": {
      "application/vnd.jupyter.widget-view+json": {
       "model_id": "4625cb00f87646c8bc1abb027b617191",
       "version_major": 2,
       "version_minor": 0
      },
      "text/plain": [
       "Upload 2 LFS files:   0%|          | 0/2 [00:00<?, ?it/s]"
      ]
     },
     "metadata": {},
     "output_type": "display_data"
    },
    {
     "data": {
      "application/vnd.jupyter.widget-view+json": {
       "model_id": "876dac3d6f054c58bc4dd8475122d2a8",
       "version_major": 2,
       "version_minor": 0
      },
      "text/plain": [
       "docstore.json:   0%|          | 0.00/88.5M [00:00<?, ?B/s]"
      ]
     },
     "metadata": {},
     "output_type": "display_data"
    },
    {
     "data": {
      "text/plain": [
       "CommitInfo(commit_url='https://huggingface.co/datasets/DebateLabKIT/apuz-index-es/commit/6dbdaf9bb91058ed8419731cb8439766c941c16f', commit_message='Upload folder using huggingface_hub', commit_description='', oid='6dbdaf9bb91058ed8419731cb8439766c941c16f', pr_url=None, repo_url=RepoUrl('https://huggingface.co/datasets/DebateLabKIT/apuz-index-es', endpoint='https://huggingface.co', repo_type='dataset', repo_id='DebateLabKIT/apuz-index-es'), pr_revision=None, pr_num=None)"
      ]
     },
     "execution_count": 8,
     "metadata": {},
     "output_type": "execute_result"
    }
   ],
   "source": [
    "HfApi.upload_folder(\n",
    "    repo_id=\"DebateLabKIT/apuz-index-es\",\n",
    "    folder_path=config.index_persist_path,\n",
    "    path_in_repo=\"index\",\n",
    "    repo_type=\"dataset\",\n",
    ")"
   ]
  },
  {
   "cell_type": "code",
   "execution_count": null,
   "metadata": {},
   "outputs": [],
   "source": []
  }
 ],
 "metadata": {
  "kernelspec": {
   "display_name": "dev_env2",
   "language": "python",
   "name": "python3"
  },
  "language_info": {
   "codemirror_mode": {
    "name": "ipython",
    "version": 3
   },
   "file_extension": ".py",
   "mimetype": "text/x-python",
   "name": "python",
   "nbconvert_exporter": "python",
   "pygments_lexer": "ipython3",
   "version": "3.10.16"
  }
 },
 "nbformat": 4,
 "nbformat_minor": 2
}
