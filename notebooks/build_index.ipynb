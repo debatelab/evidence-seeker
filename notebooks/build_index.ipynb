{
 "cells": [
  {
   "cell_type": "markdown",
   "metadata": {},
   "source": [
    "# Build and upload index"
   ]
  },
  {
   "cell_type": "code",
   "execution_count": 1,
   "metadata": {},
   "outputs": [
    {
     "data": {
      "text/plain": [
       "True"
      ]
     },
     "execution_count": 1,
     "metadata": {},
     "output_type": "execute_result"
    }
   ],
   "source": [
    "import dotenv\n",
    "import os\n",
    "dotenv.load_dotenv()\n",
    "\"HF_TOKEN\" in os.environ or print(\"Please set the HF_TOKEN environment variable in .env file\")"
   ]
  },
  {
   "cell_type": "code",
   "execution_count": 2,
   "metadata": {},
   "outputs": [
    {
     "name": "stderr",
     "output_type": "stream",
     "text": [
      "None of PyTorch, TensorFlow >= 2.0, or Flax have been found. Models won't be available and only tokenizers, configuration and file/data utilities can be used.\n"
     ]
    }
   ],
   "source": [
    "from evidence_seeker.retrieval import build_index, RetrievalConfig"
   ]
  },
  {
   "cell_type": "code",
   "execution_count": 3,
   "metadata": {},
   "outputs": [],
   "source": [
    "config = RetrievalConfig(\n",
    "    embed_base_url=\"https://ibpp4xgm0kspxkjb.us-east-1.aws.endpoints.huggingface.cloud\",\n",
    "    embed_model_name=\"sentence-transformers/paraphrase-multilingual-mpnet-base-v2\",\n",
    "    document_input_dir=\"../TMP/APUZ/corpus\",\n",
    "    index_persist_path=\"../TMP/APUZ/storage/index\",\n",
    ")"
   ]
  },
  {
   "cell_type": "code",
   "execution_count": 4,
   "metadata": {},
   "outputs": [],
   "source": [
    "from loguru import logger\n",
    "import pathlib\n",
    "import yaml\n",
    "\n",
    "metadata_dict = {}\n",
    "metadata_dir = config.document_input_dir or os.path.dirname(config.document_input_files[0])\n",
    "# load and parse all yaml files in metadata_dir\n",
    "for filepath in pathlib.Path(metadata_dir).rglob(\"*.yaml\"):\n",
    "    with open(filepath, \"r\") as f:\n",
    "        data = yaml.safe_load(f)\n",
    "        if \"file\" in data and \"author\" in data:\n",
    "            filename = data[\"file\"]\n",
    "            author = data[\"author\"]\n",
    "            metadata_dict[filename] = {\"author\": author}\n",
    "        else:\n",
    "            logger.warning(f\"Invalid metadata in {filepath}.\")\n",
    "\n",
    "document_file_metadata = lambda filename: metadata_dict.get(filename, {})  # noqa\n",
    "\n"
   ]
  },
  {
   "cell_type": "code",
   "execution_count": 6,
   "metadata": {},
   "outputs": [
    {
     "name": "stderr",
     "output_type": "stream",
     "text": [
      "\u001b[32m2024-12-14 12:30:58.597\u001b[0m | \u001b[34m\u001b[1mDEBUG   \u001b[0m | \u001b[36mevidence_seeker.retrieval.base\u001b[0m:\u001b[36mbuild_index\u001b[0m:\u001b[36m196\u001b[0m - \u001b[34m\u001b[1mReading documents from ../TMP/APUZ/corpus\u001b[0m\n",
      "\u001b[32m2024-12-14 12:30:58.598\u001b[0m | \u001b[1mINFO    \u001b[0m | \u001b[36mevidence_seeker.retrieval.base\u001b[0m:\u001b[36mbuild_index\u001b[0m:\u001b[36m204\u001b[0m - \u001b[1mBuilding document index...\u001b[0m\n",
      "\u001b[32m2024-12-14 12:31:30.491\u001b[0m | \u001b[34m\u001b[1mDEBUG   \u001b[0m | \u001b[36mevidence_seeker.retrieval.base\u001b[0m:\u001b[36mbuild_index\u001b[0m:\u001b[36m212\u001b[0m - \u001b[34m\u001b[1mParsing nodes...\u001b[0m\n",
      "\u001b[32m2024-12-14 12:31:32.285\u001b[0m | \u001b[34m\u001b[1mDEBUG   \u001b[0m | \u001b[36mevidence_seeker.retrieval.base\u001b[0m:\u001b[36mbuild_index\u001b[0m:\u001b[36m219\u001b[0m - \u001b[34m\u001b[1mCreating VectorStoreIndex with embeddings...\u001b[0m\n"
     ]
    },
    {
     "data": {
      "application/vnd.jupyter.widget-view+json": {
       "model_id": "ce53d77a281e4fe9b80813e58a141309",
       "version_major": 2,
       "version_minor": 0
      },
      "text/plain": [
       "Generating embeddings:   0%|          | 0/2048 [00:00<?, ?it/s]"
      ]
     },
     "metadata": {},
     "output_type": "display_data"
    },
    {
     "data": {
      "application/vnd.jupyter.widget-view+json": {
       "model_id": "987e5dea462346cf9e578217effcb88e",
       "version_major": 2,
       "version_minor": 0
      },
      "text/plain": [
       "Generating embeddings:   0%|          | 0/2048 [00:00<?, ?it/s]"
      ]
     },
     "metadata": {},
     "output_type": "display_data"
    },
    {
     "data": {
      "application/vnd.jupyter.widget-view+json": {
       "model_id": "8fc573a1d5994cb4b8dc7f351099bd69",
       "version_major": 2,
       "version_minor": 0
      },
      "text/plain": [
       "Generating embeddings:   0%|          | 0/2048 [00:00<?, ?it/s]"
      ]
     },
     "metadata": {},
     "output_type": "display_data"
    },
    {
     "data": {
      "application/vnd.jupyter.widget-view+json": {
       "model_id": "e0d0bf6e58b94dd68955e296ff00b6a7",
       "version_major": 2,
       "version_minor": 0
      },
      "text/plain": [
       "Generating embeddings:   0%|          | 0/2048 [00:00<?, ?it/s]"
      ]
     },
     "metadata": {},
     "output_type": "display_data"
    },
    {
     "data": {
      "application/vnd.jupyter.widget-view+json": {
       "model_id": "ac94416c67b344839b4e1b836b92b178",
       "version_major": 2,
       "version_minor": 0
      },
      "text/plain": [
       "Generating embeddings:   0%|          | 0/2048 [00:00<?, ?it/s]"
      ]
     },
     "metadata": {},
     "output_type": "display_data"
    },
    {
     "data": {
      "application/vnd.jupyter.widget-view+json": {
       "model_id": "1e5407302159427fbc011f0a0cc2e4be",
       "version_major": 2,
       "version_minor": 0
      },
      "text/plain": [
       "Generating embeddings:   0%|          | 0/2048 [00:00<?, ?it/s]"
      ]
     },
     "metadata": {},
     "output_type": "display_data"
    },
    {
     "data": {
      "application/vnd.jupyter.widget-view+json": {
       "model_id": "777f3a1668f94ec8a5614a0da9801128",
       "version_major": 2,
       "version_minor": 0
      },
      "text/plain": [
       "Generating embeddings:   0%|          | 0/2048 [00:00<?, ?it/s]"
      ]
     },
     "metadata": {},
     "output_type": "display_data"
    },
    {
     "data": {
      "application/vnd.jupyter.widget-view+json": {
       "model_id": "cbac82d6e70d4b7a80191f6eee52bc19",
       "version_major": 2,
       "version_minor": 0
      },
      "text/plain": [
       "Generating embeddings:   0%|          | 0/1829 [00:00<?, ?it/s]"
      ]
     },
     "metadata": {},
     "output_type": "display_data"
    },
    {
     "name": "stderr",
     "output_type": "stream",
     "text": [
      "\u001b[32m2024-12-14 12:54:12.264\u001b[0m | \u001b[34m\u001b[1mDEBUG   \u001b[0m | \u001b[36mevidence_seeker.retrieval.base\u001b[0m:\u001b[36mbuild_index\u001b[0m:\u001b[36m225\u001b[0m - \u001b[34m\u001b[1mPersisting index to ../TMP/APUZ/storage/index\u001b[0m\n"
     ]
    }
   ],
   "source": [
    "\n",
    "build_index(\n",
    "    document_input_dir=config.document_input_dir,\n",
    "    document_file_metadata=document_file_metadata,\n",
    "    index_persist_path=config.index_persist_path,\n",
    "    embed_base_url=config.embed_base_url,\n",
    "    embed_model_name=config.embed_model_name,\n",
    "    token=os.environ[\"HF_TOKEN\"],\n",
    ")"
   ]
  },
  {
   "cell_type": "code",
   "execution_count": 7,
   "metadata": {},
   "outputs": [],
   "source": [
    "import huggingface_hub\n",
    "\n",
    "HfApi = huggingface_hub.HfApi(token=os.environ[\"HF_TOKEN\"])"
   ]
  },
  {
   "cell_type": "code",
   "execution_count": 8,
   "metadata": {},
   "outputs": [
    {
     "data": {
      "application/vnd.jupyter.widget-view+json": {
       "model_id": "92d86a147c3e4e58af0604510228b04b",
       "version_major": 2,
       "version_minor": 0
      },
      "text/plain": [
       "default__vector_store.json:   0%|          | 0.00/196M [00:00<?, ?B/s]"
      ]
     },
     "metadata": {},
     "output_type": "display_data"
    },
    {
     "data": {
      "application/vnd.jupyter.widget-view+json": {
       "model_id": "4625cb00f87646c8bc1abb027b617191",
       "version_major": 2,
       "version_minor": 0
      },
      "text/plain": [
       "Upload 2 LFS files:   0%|          | 0/2 [00:00<?, ?it/s]"
      ]
     },
     "metadata": {},
     "output_type": "display_data"
    },
    {
     "data": {
      "application/vnd.jupyter.widget-view+json": {
       "model_id": "876dac3d6f054c58bc4dd8475122d2a8",
       "version_major": 2,
       "version_minor": 0
      },
      "text/plain": [
       "docstore.json:   0%|          | 0.00/88.5M [00:00<?, ?B/s]"
      ]
     },
     "metadata": {},
     "output_type": "display_data"
    },
    {
     "data": {
      "text/plain": [
       "CommitInfo(commit_url='https://huggingface.co/datasets/DebateLabKIT/apuz-index-es/commit/6dbdaf9bb91058ed8419731cb8439766c941c16f', commit_message='Upload folder using huggingface_hub', commit_description='', oid='6dbdaf9bb91058ed8419731cb8439766c941c16f', pr_url=None, repo_url=RepoUrl('https://huggingface.co/datasets/DebateLabKIT/apuz-index-es', endpoint='https://huggingface.co', repo_type='dataset', repo_id='DebateLabKIT/apuz-index-es'), pr_revision=None, pr_num=None)"
      ]
     },
     "execution_count": 8,
     "metadata": {},
     "output_type": "execute_result"
    }
   ],
   "source": [
    "HfApi.upload_folder(\n",
    "    repo_id=\"DebateLabKIT/apuz-index-es\",\n",
    "    folder_path=config.index_persist_path,\n",
    "    path_in_repo=\"index\",\n",
    "    repo_type=\"dataset\",\n",
    ")"
   ]
  },
  {
   "cell_type": "code",
   "execution_count": null,
   "metadata": {},
   "outputs": [],
   "source": []
  }
 ],
 "metadata": {
  "kernelspec": {
   "display_name": "evidence-seeker",
   "language": "python",
   "name": "python3"
  },
  "language_info": {
   "codemirror_mode": {
    "name": "ipython",
    "version": 3
   },
   "file_extension": ".py",
   "mimetype": "text/x-python",
   "name": "python",
   "nbconvert_exporter": "python",
   "pygments_lexer": "ipython3",
   "version": "3.12.3"
  }
 },
 "nbformat": 4,
 "nbformat_minor": 2
}
