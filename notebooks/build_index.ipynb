{
 "cells": [
  {
   "cell_type": "markdown",
   "metadata": {},
   "source": [
    "# Build and upload index"
   ]
  },
  {
   "cell_type": "code",
   "execution_count": null,
   "metadata": {},
   "outputs": [
    {
     "data": {
      "text/plain": [
       "True"
      ]
     },
     "execution_count": 1,
     "metadata": {},
     "output_type": "execute_result"
    }
   ],
   "source": [
    "import dotenv\n",
    "dotenv.load_dotenv()\n",
    "\"HF_TOKEN\" in os.environ or print(\"Please set the HF_TOKEN environment variable in .env file\")"
   ]
  },
  {
   "cell_type": "code",
   "execution_count": 27,
   "metadata": {},
   "outputs": [],
   "source": [
    "from evidence_seeker.retrieval import build_index, RetrievalConfig\n",
    "import os\n"
   ]
  },
  {
   "cell_type": "code",
   "execution_count": null,
   "metadata": {},
   "outputs": [],
   "source": [
    "config = RetrievalConfig(\n",
    "    embed_backend_type=\"huggingface\",\n",
    "    embed_model_name=\"sentence-transformers/paraphrase-multilingual-mpnet-base-v2\",\n",
    "    document_input_dir=\"../TMP/APUZ/corpus\",\n",
    "    index_persist_path=\"../TMP/APUZ/storage/index\",\n",
    ")"
   ]
  },
  {
   "cell_type": "code",
   "execution_count": 41,
   "metadata": {},
   "outputs": [
    {
     "name": "stdout",
     "output_type": "stream",
     "text": [
      "{'author': 'Ahrens, Ralf',\n",
      " 'file_name': 'ahrens_pragmatischer_2024.pdf',\n",
      " 'page_label': '1',\n",
      " 'url': 'https://www.bpb.de/shop/zeitschriften/apuz/industriepolitik-2024/544578/pragmatischer-interventionismus/'}\n"
     ]
    }
   ],
   "source": [
    "from loguru import logger\n",
    "import pathlib\n",
    "import yaml\n",
    "from llama_index.core import SimpleDirectoryReader\n",
    "from pprint import pprint\n",
    "\n",
    "metadata_dict = {}\n",
    "metadata_dir = config.document_input_dir or os.path.dirname(config.document_input_files[0])\n",
    "# load and parse all yaml files in metadata_dir\n",
    "for filepath in pathlib.Path(metadata_dir).rglob(\"*.yaml\"):\n",
    "    with open(filepath, \"r\") as f:\n",
    "        data = yaml.safe_load(f)\n",
    "        if \"file\" in data and \"author\" and \"url\" in data:\n",
    "            filename = data[\"file\"]\n",
    "            author = data[\"author\"]\n",
    "            url = data[\"url\"]\n",
    "            metadata_dict[filename] = {\"author\": author, \"url\": url}\n",
    "        else:\n",
    "            logger.warning(f\"Invalid metadata in {filepath}.\")\n",
    "document_file_metadata = lambda filename: metadata_dict.get(pathlib.Path(filename).name, {})\n",
    "reader = SimpleDirectoryReader(\n",
    "        input_dir=metadata_dir,\n",
    "        file_metadata=document_file_metadata,\n",
    ")\n",
    "docs = reader.load_data()\n",
    "pprint(docs[0].metadata)\n"
   ]
  },
  {
   "cell_type": "code",
   "execution_count": null,
   "metadata": {},
   "outputs": [],
   "source": [
    "\n",
    "build_index(\n",
    "    document_input_dir=config.document_input_dir,\n",
    "    document_file_metadata=document_file_metadata,\n",
    "    index_persist_path=config.index_persist_path,\n",
    "    embed_base_url=config.embed_base_url,\n",
    "    embed_model_name=config.embed_model_name,\n",
    "    embed_backend_type=config.embed_backend_type,\n",
    ")"
   ]
  },
  {
   "cell_type": "code",
   "execution_count": 7,
   "metadata": {},
   "outputs": [],
   "source": [
    "import huggingface_hub\n",
    "\n",
    "HfApi = huggingface_hub.HfApi(token=os.environ[\"HF_TOKEN\"])"
   ]
  },
  {
   "cell_type": "code",
   "execution_count": 8,
   "metadata": {},
   "outputs": [
    {
     "data": {
      "application/vnd.jupyter.widget-view+json": {
       "model_id": "92d86a147c3e4e58af0604510228b04b",
       "version_major": 2,
       "version_minor": 0
      },
      "text/plain": [
       "default__vector_store.json:   0%|          | 0.00/196M [00:00<?, ?B/s]"
      ]
     },
     "metadata": {},
     "output_type": "display_data"
    },
    {
     "data": {
      "application/vnd.jupyter.widget-view+json": {
       "model_id": "4625cb00f87646c8bc1abb027b617191",
       "version_major": 2,
       "version_minor": 0
      },
      "text/plain": [
       "Upload 2 LFS files:   0%|          | 0/2 [00:00<?, ?it/s]"
      ]
     },
     "metadata": {},
     "output_type": "display_data"
    },
    {
     "data": {
      "application/vnd.jupyter.widget-view+json": {
       "model_id": "876dac3d6f054c58bc4dd8475122d2a8",
       "version_major": 2,
       "version_minor": 0
      },
      "text/plain": [
       "docstore.json:   0%|          | 0.00/88.5M [00:00<?, ?B/s]"
      ]
     },
     "metadata": {},
     "output_type": "display_data"
    },
    {
     "data": {
      "text/plain": [
       "CommitInfo(commit_url='https://huggingface.co/datasets/DebateLabKIT/apuz-index-es/commit/6dbdaf9bb91058ed8419731cb8439766c941c16f', commit_message='Upload folder using huggingface_hub', commit_description='', oid='6dbdaf9bb91058ed8419731cb8439766c941c16f', pr_url=None, repo_url=RepoUrl('https://huggingface.co/datasets/DebateLabKIT/apuz-index-es', endpoint='https://huggingface.co', repo_type='dataset', repo_id='DebateLabKIT/apuz-index-es'), pr_revision=None, pr_num=None)"
      ]
     },
     "execution_count": 8,
     "metadata": {},
     "output_type": "execute_result"
    }
   ],
   "source": [
    "HfApi.upload_folder(\n",
    "    repo_id=\"DebateLabKIT/apuz-index-es\",\n",
    "    folder_path=config.index_persist_path,\n",
    "    path_in_repo=\"index\",\n",
    "    repo_type=\"dataset\",\n",
    ")"
   ]
  },
  {
   "cell_type": "code",
   "execution_count": null,
   "metadata": {},
   "outputs": [],
   "source": []
  }
 ],
 "metadata": {
  "kernelspec": {
   "display_name": "dev_env2",
   "language": "python",
   "name": "python3"
  },
  "language_info": {
   "codemirror_mode": {
    "name": "ipython",
    "version": 3
   },
   "file_extension": ".py",
   "mimetype": "text/x-python",
   "name": "python",
   "nbconvert_exporter": "python",
   "pygments_lexer": "ipython3",
   "version": "3.10.16"
  }
 },
 "nbformat": 4,
 "nbformat_minor": 2
}
