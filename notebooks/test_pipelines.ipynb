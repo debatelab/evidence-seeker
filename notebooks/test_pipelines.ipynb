{
 "cells": [
  {
   "cell_type": "markdown",
   "metadata": {},
   "source": [
    "# Testing Pipelines"
   ]
  },
  {
   "cell_type": "markdown",
   "metadata": {},
   "source": [
    "### Initiating observation via Phoenix"
   ]
  },
  {
   "cell_type": "code",
   "execution_count": 2,
   "metadata": {},
   "outputs": [
    {
     "name": "stdout",
     "output_type": "stream",
     "text": [
      "🌍 To view the Phoenix app in your browser, visit http://localhost:6006/\n",
      "📖 For more information on how to use Phoenix, check out https://docs.arize.com/phoenix\n"
     ]
    }
   ],
   "source": [
    "# %pip pip install arize-phoenix\n",
    "# %pip install llama-index-callbacks-arize-phoenix\n",
    "# observability\n",
    "import phoenix as px\n",
    "px.launch_app()\n",
    "\n",
    "import llama_index.core\n",
    "llama_index.core.set_global_handler(\"arize_phoenix\", endpoint=\"http://localhost:6006/v1/traces\")"
   ]
  },
  {
   "cell_type": "markdown",
   "metadata": {},
   "source": [
    "## Preprocessing pipeline"
   ]
  },
  {
   "cell_type": "markdown",
   "metadata": {},
   "source": [
    "### Visualizing workflows"
   ]
  },
  {
   "cell_type": "code",
   "execution_count": 2,
   "metadata": {},
   "outputs": [
    {
     "name": "stderr",
     "output_type": "stream",
     "text": [
      "None of PyTorch, TensorFlow >= 2.0, or Flax have been found. Models won't be available and only tokenizers, configuration and file/data utilities can be used.\n"
     ]
    },
    {
     "name": "stdout",
     "output_type": "stream",
     "text": [
      "<class 'NoneType'>\n",
      "<class 'evidence_seeker.preprocessing.ListAscriptiveClaimsBasedOnAscriptiveAnalysisEvent'>\n",
      "<class 'llama_index.core.workflow.events.StopEvent'>\n",
      "<class 'evidence_seeker.preprocessing.ListDescriptiveClaimsBasedOnDescriptiveAnalysisEvent'>\n",
      "<class 'evidence_seeker.preprocessing.AscriptiveAnalysisEndEvent'>\n",
      "<class 'evidence_seeker.preprocessing.DescriptiveAnalysisEndEvent'>\n",
      "<class 'evidence_seeker.preprocessing.NormativeAnalysisEndEvent'>\n",
      "<class 'evidence_seeker.preprocessing.CollectCheckedClaimsEvent'>\n",
      "<class 'evidence_seeker.preprocessing.ListNormativeClaimsBasedOnNormativeAnalysisEvent'>\n",
      "<class 'evidence_seeker.preprocessing.NormativeAnalysisEvent'>\n",
      "<class 'evidence_seeker.preprocessing.DescriptiveAnalysisEvent'>\n",
      "<class 'evidence_seeker.preprocessing.AscriptiveAnalysisEvent'>\n",
      "<class 'evidence_seeker.preprocessing.NegateClaimEvent'>\n",
      "../tmp/PreprocessingSeparateListingsWorkflow.html\n",
      "<class 'NoneType'>\n",
      "<class 'evidence_seeker.preprocessing.ListClaimsEvent'>\n",
      "<class 'llama_index.core.workflow.events.StopEvent'>\n",
      "<class 'evidence_seeker.preprocessing.ListClaimsEvent'>\n",
      "<class 'evidence_seeker.preprocessing.CollectCheckedClaimsEvent'>\n",
      "<class 'evidence_seeker.preprocessing.ListClaimsEvent'>\n",
      "<class 'evidence_seeker.preprocessing.NormativeAnalysisEvent'>\n",
      "<class 'evidence_seeker.preprocessing.DescriptiveAnalysisEvent'>\n",
      "<class 'evidence_seeker.preprocessing.AscriptiveAnalysisEvent'>\n",
      "<class 'evidence_seeker.preprocessing.NegateClaimEvent'>\n"
     ]
    },
    {
     "name": "stderr",
     "output_type": "stream",
     "text": [
      "WARNING: All log messages before absl::InitializeLog() is called are written to STDERR\n",
      "I0000 00:00:1733747492.716452  276328 fork_posix.cc:75] Other threads are currently calling into gRPC, skipping fork() handlers\n",
      "I0000 00:00:1733747492.751925  276328 fork_posix.cc:75] Other threads are currently calling into gRPC, skipping fork() handlers\n"
     ]
    },
    {
     "name": "stdout",
     "output_type": "stream",
     "text": [
      "../tmp/SimplePreprocessingWorkflow.html\n"
     ]
    },
    {
     "name": "stderr",
     "output_type": "stream",
     "text": [
      "I0000 00:00:1733747492.954175  276328 fork_posix.cc:75] Other threads are currently calling into gRPC, skipping fork() handlers\n"
     ]
    }
   ],
   "source": [
    "\n",
    "import os\n",
    "from llama_index.utils.workflow import draw_all_possible_flows\n",
    "\n",
    "from evidence_seeker import (\n",
    "    PreprocessingSeparateListingsWorkflow,\n",
    "    SimplePreprocessingWorkflow\n",
    ")\n",
    "\n",
    "# create dir ../tmp if not exists\n",
    "os.makedirs(\"../tmp\", exist_ok=True)\n",
    "\n",
    "draw_all_possible_flows(\n",
    "    PreprocessingSeparateListingsWorkflow, filename=\"../tmp/PreprocessingSeparateListingsWorkflow.html\"\n",
    ")\n",
    "\n",
    "draw_all_possible_flows(\n",
    "    SimplePreprocessingWorkflow, filename=\"../tmp/SimplePreprocessingWorkflow.html\"\n",
    ")"
   ]
  },
  {
   "cell_type": "markdown",
   "metadata": {},
   "source": [
    "### Running Workflows directly"
   ]
  },
  {
   "cell_type": "code",
   "execution_count": 1,
   "metadata": {},
   "outputs": [
    {
     "name": "stdout",
     "output_type": "stream",
     "text": [
      "Loading config from ../configs/simple_preprocessing_config.yaml\n",
      "Used api key name: kideku_toxicity_app_nim\n",
      "Instantiating OpenAILike model (model: meta-llama/Llama-3.1-70B-Instruct,base_url: https://huggingface.co/api/integrations/dgx/v1).\n",
      "Analysing ascriptive aspects of claim.\n",
      "Using workflow model: model_1 for ascriptive_analysis_event\n",
      "Analysing descriptive aspects of claim.\n",
      "Using workflow model: model_1 for descriptive_analysis_event\n",
      "Analysing normative aspects of claim.\n",
      "Using workflow model: model_1 for normative_analysis_event\n",
      "Collecting analyses...\n",
      "Collecting analyses...\n",
      "Collecting analyses...\n",
      "Using workflow model: model_1 for list_claims_event\n",
      "Using workflow model: model_1 for list_claims_event\n",
      "Number of claims: 1\n",
      "Negating claim.\n",
      "Using workflow model: model_1 for negate_claim_event\n",
      "{'claim': 'The rate of climate change is increasing over time.',\n",
      " 'clarified_claims': [CheckedClaim(text='The rate of climate change is increasing over time. The factual content of this claim is: Climate change is occurring. There is a rate of climate change. The rate of climate change is changing over time. The rate of climate change is increasing. The ascriptive content of this claim is: None', negation='The rate of climate change is not increasing over time.', uid='701990da-8334-46df-81f5-18f6df420d9f', n_evidence=None, average_confirmation=None, evidential_uncertainty=None, verbalized_confirmation=None, documents=None, confirmation_by_document=None, metadata={})],\n",
      " 'descriptive_analysis_event': 'Let\\'s break down the claim \"The rate of '\n",
      "                               'climate change is increasing over time.\"\\n'\n",
      "                               '\\n'\n",
      "                               'Upon analysis, I identify the following '\n",
      "                               'factual or descriptive statements implied by '\n",
      "                               'the claim:\\n'\n",
      "                               '\\n'\n",
      "                               '1. **Climate change is occurring**: This '\n",
      "                               'statement implies that there is a change in '\n",
      "                               \"the Earth's climate, which can be verified or \"\n",
      "                               'falsified through scientific analysis of '\n",
      "                               'temperature records, ice core data, and other '\n",
      "                               'indicators.\\n'\n",
      "                               '2. **There is a rate of climate change**: This '\n",
      "                               'statement suggests that climate change is '\n",
      "                               'happening at a measurable pace, which can be '\n",
      "                               'quantified and tracked over time.\\n'\n",
      "                               '3. **The rate of climate change is changing '\n",
      "                               'over time**: This statement implies that the '\n",
      "                               'rate of climate change is not constant, but '\n",
      "                               'rather is increasing, decreasing, or '\n",
      "                               'fluctuating over time.\\n'\n",
      "                               '4. **The rate of climate change is '\n",
      "                               'increasing**: This statement specifically '\n",
      "                               'asserts that the rate of climate change is '\n",
      "                               'becoming faster over time, which can be '\n",
      "                               'verified or falsified through analysis of '\n",
      "                               'trends in climate data.\\n'\n",
      "                               '\\n'\n",
      "                               'Ambiguity and vagueness in the claim:\\n'\n",
      "                               '\\n'\n",
      "                               '* The claim does not specify what aspect of '\n",
      "                               'climate change is increasing (e.g., '\n",
      "                               'temperature, sea level rise, extreme weather '\n",
      "                               'events).\\n'\n",
      "                               '* The claim does not provide a timeframe for '\n",
      "                               'the increase in the rate of climate change '\n",
      "                               '(e.g., over the past decade, century, or '\n",
      "                               'millennium).\\n'\n",
      "                               '* The claim does not define what is meant by '\n",
      "                               '\"increasing\" (e.g., is it a linear increase, '\n",
      "                               'an acceleration, or a tipping point).\\n'\n",
      "                               '\\n'\n",
      "                               'Alternative interpretations:\\n'\n",
      "                               '\\n'\n",
      "                               '* One possible interpretation is that the '\n",
      "                               'claim refers to an increase in the rate of '\n",
      "                               'global warming, specifically the rise in '\n",
      "                               'average global temperature.\\n'\n",
      "                               '* Another interpretation is that the claim '\n",
      "                               'refers to an increase in the frequency or '\n",
      "                               'severity of extreme weather events, such as '\n",
      "                               'heatwaves, droughts, or heavy precipitation '\n",
      "                               'events.\\n'\n",
      "                               '\\n'\n",
      "                               'List of identified factual or descriptive '\n",
      "                               'statements:\\n'\n",
      "                               '\\n'\n",
      "                               '1. Climate change is occurring.\\n'\n",
      "                               '2. There is a rate of climate change.\\n'\n",
      "                               '3. The rate of climate change is changing over '\n",
      "                               'time.\\n'\n",
      "                               '4. The rate of climate change is increasing.\\n'\n",
      "                               '\\n'\n",
      "                               'Each of these statements can be verified or '\n",
      "                               'falsified through empirical observation and '\n",
      "                               'scientific analysis.',\n",
      " 'list_claims_event': '{\\n'\n",
      "                      '  \"claims\": [\\n'\n",
      "                      '    {\\n'\n",
      "                      '      \"claim\": \"The rate of climate change is '\n",
      "                      'increasing over time. The factual content of this claim '\n",
      "                      'is: Climate change is occurring. There is a rate of '\n",
      "                      'climate change. The rate of climate change is changing '\n",
      "                      'over time. The rate of climate change is increasing. '\n",
      "                      'The ascriptive content of this claim is: None\"\\n'\n",
      "                      '    }\\n'\n",
      "                      '  ]\\n'\n",
      "                      '}',\n",
      " 'negate_claim_event': 'The rate of climate change is not increasing over '\n",
      "                       'time.'}\n"
     ]
    }
   ],
   "source": [
    "\n",
    "import yaml\n",
    "from pprint import pprint\n",
    "\n",
    "from evidence_seeker.backend import get_openai_llm\n",
    "from evidence_seeker.preprocessing.preprocessing_separate_listings_workflow import (\n",
    "    PreprocessingSeparateListingsWorkflow,\n",
    ")\n",
    "from evidence_seeker.preprocessing.simple_preprocessing_workflow import SimplePreprocessingWorkflow\n",
    "\n",
    "\n",
    "# config_file = \"../config.yaml\" \n",
    "\n",
    "config_file = \"../configs/preprocessing_separate_listings_config.yaml\" \n",
    "pw = PreprocessingSeparateListingsWorkflow(config_file=config_file)\n",
    "\n",
    "#config_file = \"../configs/simple_preprocessing_config.yaml\" \n",
    "#pw = SimplePreprocessingWorkflow(config_file=config_file)\n",
    "\n",
    "examples = [\n",
    "    \"Climate change is the biggest challenge for human kind.\",\n",
    "    \"Climate change is getting ever and ever faster.\",\n",
    "    \"The rate of climate change is increasing over time.\",\n",
    "]\n",
    "result = await pw.run(claim=examples[2])\n",
    "pprint(result)"
   ]
  },
  {
   "cell_type": "markdown",
   "metadata": {},
   "source": [
    "### Running ClaimPreprocessor"
   ]
  },
  {
   "cell_type": "code",
   "execution_count": 2,
   "metadata": {},
   "outputs": [
    {
     "name": "stdout",
     "output_type": "stream",
     "text": [
      "Loading config from ../configs/preprocessing_separate_listings_config.yaml\n",
      "Used api key name: kideku_toxicity_app_nim\n",
      "Instantiating OpenAILike model (model: meta-llama/Llama-3.1-70B-Instruct,base_url: https://huggingface.co/api/integrations/dgx/v1).\n",
      "Analysing ascriptive aspects of claim.\n",
      "Using workflow model: model_1 for ascriptive_analysis_event\n",
      "Analysing descriptive aspects of claim.\n",
      "Using workflow model: model_1 for descriptive_analysis_event\n",
      "Analysing normative aspects of claim.\n",
      "Using workflow model: model_1 for normative_analysis_event\n",
      "Using workflow model: model_1 for list_ascriptive_claims_event_based_on_ascriptive_analysis\n",
      "Using workflow model: model_1 for list_ascriptive_claims_event_based_on_ascriptive_analysis\n",
      "Using workflow model: model_1 for list_normative_claims_event_based_on_normative_analysis\n",
      "Using workflow model: model_1 for list_normative_claims_event_based_on_normative_analysis\n",
      "Collecting clarified claims...\n",
      "Collecting clarified claims... still waiting...\n",
      "Using workflow model: model_1 for list_descriptive_claims_event_based_on_descriptive_analysis\n",
      "Using workflow model: model_1 for list_descriptive_claims_event_based_on_descriptive_analysis\n",
      "Collecting clarified claims...\n",
      "Collecting clarified claims... still waiting...\n",
      "Collecting clarified claims...\n",
      "Number of claims: 6\n",
      "Negating claim.\n",
      "Using workflow model: model_1 for negate_claim_event\n",
      "Negating claim.\n",
      "Using workflow model: model_1 for negate_claim_event\n",
      "Negating claim.\n",
      "Using workflow model: model_1 for negate_claim_event\n",
      "Negating claim.\n",
      "Using workflow model: model_1 for negate_claim_event\n",
      "Negating claim.\n",
      "Using workflow model: model_1 for negate_claim_event\n",
      "Negating claim.\n",
      "Using workflow model: model_1 for negate_claim_event\n"
     ]
    }
   ],
   "source": [
    "import yaml\n",
    "from pprint import pprint\n",
    "\n",
    "from evidence_seeker.preprocessing import ClaimPreprocessor\n",
    "\n",
    "config_file = \"../configs/preprocessing_separate_listings_config.yaml\" \n",
    "#config_file = \"../configs/simple_preprocessing_config.yaml\" \n",
    "\n",
    "# Note: Use preprocessor workflow is currently hardset in `ClaimPreprocessor`\n",
    "preprocessor = ClaimPreprocessor(config_file=config_file)\n",
    "clarified_claims = await preprocessor(claim=\"Climate change is the biggest challenge for human kind.\") \n"
   ]
  },
  {
   "cell_type": "code",
   "execution_count": 3,
   "metadata": {},
   "outputs": [
    {
     "name": "stdout",
     "output_type": "stream",
     "text": [
      "[CheckedClaim(text='Climate change is a real phenomenon', negation='Climate change is not a real phenomenon.', uid='15647776-6490-426a-8ddc-bd638694f1a3', n_evidence=None, average_confirmation=None, evidential_uncertainty=None, verbalized_confirmation=None, documents=None, confirmation_by_document=None, metadata={'statement_type': 'descriptive'}),\n",
      " CheckedClaim(text='Climate change should be prioritized over other challenges', negation='Climate change should not be prioritized over other challenges.', uid='3bd57d2d-ec88-4d20-93ba-bf7c641a2c1f', n_evidence=None, average_confirmation=None, evidential_uncertainty=None, verbalized_confirmation=None, documents=None, confirmation_by_document=None, metadata={'statement_type': 'normative'}),\n",
      " CheckedClaim(text='Climate change has significant impacts on human societies', negation='Climate change has no significant impacts on human societies.', uid='1db607a4-8552-466e-97d3-47bccc4471e7', n_evidence=None, average_confirmation=None, evidential_uncertainty=None, verbalized_confirmation=None, documents=None, confirmation_by_document=None, metadata={'statement_type': 'descriptive'}),\n",
      " CheckedClaim(text='Addressing climate change is more important than addressing other challenges', negation='Addressing climate change is not more important than addressing other challenges.', uid='8c33e5ca-2e39-4c10-8153-f6f1c10d1223', n_evidence=None, average_confirmation=None, evidential_uncertainty=None, verbalized_confirmation=None, documents=None, confirmation_by_document=None, metadata={'statement_type': 'normative'}),\n",
      " CheckedClaim(text='Climate change poses a major threat to human well-being', negation='Climate change does not pose a major threat to human well-being.', uid='af381f75-e234-482d-97d5-dd24a6ac4db6', n_evidence=None, average_confirmation=None, evidential_uncertainty=None, verbalized_confirmation=None, documents=None, confirmation_by_document=None, metadata={'statement_type': 'descriptive'}),\n",
      " CheckedClaim(text='Climate change is more significant than other challenges facing human kind', negation='Climate change is not more significant than other challenges facing human kind.', uid='a8faf5a1-6da6-4dc4-a8cc-58c99150b00e', n_evidence=None, average_confirmation=None, evidential_uncertainty=None, verbalized_confirmation=None, documents=None, confirmation_by_document=None, metadata={'statement_type': 'normative'})]\n"
     ]
    }
   ],
   "source": [
    "pprint(clarified_claims)"
   ]
  },
  {
   "cell_type": "markdown",
   "metadata": {},
   "source": [
    "## Confirmation Analysis Pipeline"
   ]
  },
  {
   "cell_type": "markdown",
   "metadata": {},
   "source": [
    "### Used example"
   ]
  },
  {
   "cell_type": "code",
   "execution_count": 1,
   "metadata": {},
   "outputs": [],
   "source": [
    "from evidence_seeker.models import (\n",
    "    CheckedClaim,\n",
    "    Document\n",
    ")\n",
    "from evidence_seeker.confirmation_analysis import (\n",
    "    ConfirmationAnalyzer,\n",
    ")\n",
    "\n",
    "docs = [Document(text='There is high confidence that oxygen levels have \\ndropped in many regions since the mid 20th century and \\nthat the geographic range of many marine organisms has \\nchanged over the last two decades. \\n The amount of ocean warming observed since 1971 \\nwill likely at least double by 2100 under a low warming \\nscenario (SSP1-2.6) and will increase by 4–8 times under \\na high warming scenario (SSP5-8.5).  Stratification (virtually \\ncertain), acidification ( virtually certain ), deoxygenation \\n(high confidence ) and marine heatwave frequency ( high \\nconfidence) will continue to increase in the 21st century. \\n While there is low confidence in 20th century AMOC change, \\nit is very likely that AMOC will decline over the 21st century \\n(Figure TS.11).  {2.3, 3.5, 3.6, 4.3.2, 5.3, 7.2, 9.2, Box\\xa09.2, 12.4}\\nIt is virtually certain that the global ocean has warmed since at least \\n1971, representing about 90% of the increase in the global energy \\ninventory (Section TS.3.1).  The ocean is currently warming faster than \\nat any other time since at least the last deglacial transition (medium \\nconfidence), with warming extending to depths well below 2000 m \\n(very high confidence ).  It is extremely likely that human influence \\nwas the main driver of this recent ocean warming. ', uid='1f47ce98-4105-4ddc-98a9-c4956dab2000', metadata={'page_label': '74', 'file_name': 'IPCC_AR6_WGI_TS.pdf', 'author': 'IPCC Working Group I', 'original_text': 'While there is low confidence in 20th century AMOC change, \\nit is very likely that AMOC will decline over the 21st century \\n(Figure TS.11). '}),\n",
    " Document(text='Based on recent refined \\nanalyses of the available observations, there is high confidence  \\nthat it increased by 4.9 ± 1.5% from 1970–2018, which is about \\ntwice as much as assessed in SROCC, and will continue to increase \\nthroughout the 21st century at a rate depending on the emissions \\nscenario (virtually certain).  {2.3.3, 9.2.1}\\nIt is virtually certain that since 1950 near-surface high-salinity \\nregions have become more saline, while low-salinity regions have \\nbecome fresher, with medium confidence  that this is linked to an \\nintensification of the hydrological cycle (Box TS.6).  It is extremely \\nlikely that human influence has contributed to this salinity change \\nand that the large-scale pattern will grow in amplitude over the 21st \\ncentury (medium confidence).  {2.3.3, 3.5.2, 9.2.2, 12.4.8}\\nThe AMOC was relatively stable during the past 8000 years (medium \\nconfidence).  There is low confidence in the quantification of AMOC \\nchanges in the 20th century because of low agreement in quantitative \\nreconstructed and simulated trends, missing key processes in both \\nmodels and measurements used for formulating proxies, and new \\nmodel evaluations.  Direct observational records since the mid-2000s \\nare too short to determine the relative contributions of internal \\nvariability, natural forcing and anthropogenic forcing to AMOC \\nchange (high confidence).  An AMOC decline over the 21st century \\nis very likely for all SSP scenarios (Figure TS.11b); a possible abrupt \\ndecline is assessed further in Box TS.3. ', uid='6fcd6c0f-99a1-48e7-881f-f79758c54769', metadata={'page_label': '74', 'file_name': 'IPCC_AR6_WGI_TS.pdf', 'author': 'IPCC Working Group I', 'original_text': '{2.3.3, 3.5.2, 9.2.2, 12.4.8}\\nThe AMOC was relatively stable during the past 8000 years (medium \\nconfidence). '}),\n",
    " Document(text='{2.3.3, 3.5.2, 9.2.2, 12.4.8}\\nThe AMOC was relatively stable during the past 8000 years (medium \\nconfidence).  There is low confidence in the quantification of AMOC \\nchanges in the 20th century because of low agreement in quantitative \\nreconstructed and simulated trends, missing key processes in both \\nmodels and measurements used for formulating proxies, and new \\nmodel evaluations.  Direct observational records since the mid-2000s \\nare too short to determine the relative contributions of internal \\nvariability, natural forcing and anthropogenic forcing to AMOC \\nchange (high confidence).  An AMOC decline over the 21st century \\nis very likely for all SSP scenarios (Figure TS.11b); a possible abrupt \\ndecline is assessed further in Box TS.3.  {2.3.3, 3.5.4, 4.3.2, 8.6.1, \\n9.2.3, Cross-Chapter Box\\xa012.3}\\nThere is high confidence that many ocean currents will change in \\nthe 21st century in response to changes in wind stress.   There is low \\nconfidence in 21st century change of Southern Ocean circulation, \\ndespite high confidence  that it is sensitive to changes in wind \\npatterns and increased ice-shelf melt.  Western boundary currents \\nand subtropical gyres have shifted poleward since 1993 ( medium \\nconfidence). ', uid='f52c120f-ff9c-4893-822e-bfca72eaa9c6', metadata={'page_label': '74', 'file_name': 'IPCC_AR6_WGI_TS.pdf', 'author': 'IPCC Working Group I', 'original_text': 'An AMOC decline over the 21st century \\nis very likely for all SSP scenarios (Figure TS.11b); a possible abrupt \\ndecline is assessed further in Box TS.3. '}),\n",
    " Document(text='73\\nTechnical Summary\\nTS\\nBox TS.3 (continued)\\nWhile there is medium confidence  that the projected decline in the AMOC (Section TS.2.4) will not involve an abrupt collapse \\nbefore\\xa02100, such a collapse might be triggered by an unexpected meltwater influx from the Greenland Ice Sheet.  If an AMOC collapse \\nwere to occur, it would very likely cause abrupt shifts in the regional weather patterns and water cycle, such as a southward shift in the \\ntropical rain belt, and could result in weakening of the African and Asian monsoons, strengthening of Southern Hemisphere monsoons, \\nand drying in Europe.  (See also Boxes TS.9 and TS.13).  {4.7.2, 8.6.1, 9.2.3}\\nVery rare extremes and compound or concurrent events, such as the 2018 concurrent heatwaves across the Northern Hemisphere, are \\noften associated with large impacts.  The changing climate state is already altering the likelihood of extreme events, such as decadal \\ndroughts and extreme sea levels, and will continue to do so under future warming. ', uid='1f8242fe-50a2-45e2-bfda-986466f966d4', metadata={'page_label': '73', 'file_name': 'IPCC_AR6_WGI_TS.pdf', 'author': 'IPCC Working Group I', 'original_text': 'If an AMOC collapse \\nwere to occur, it would very likely cause abrupt shifts in the regional weather patterns and water cycle, such as a southward shift in the \\ntropical rain belt, and could result in weakening of the African and Asian monsoons, strengthening of Southern Hemisphere monsoons, \\nand drying in Europe. '}),\n",
    " Document(text='Some processes suspected of having tipping points, such as the Atlantic Meridional Overturning \\nCirculation (AMOC), have been found to often undergo recovery after temperature stabilization with a time delay ( low confidence). \\n However, substantial irreversibility is further substantiated for some cryosphere changes, ocean warming, sea level rise, and ocean \\nacidification.  {4.7.2, 5.3.3, 5.4.9, 9.2.2, 9.2.4, 9.4.1, 9.4.2, 9.6.3}\\nSome climate system components are slow to respond, such as the deep ocean overturning circulation and the ice sheets.  It is likely that \\nunder stabilization of global warming at 1.5°C, 2.0°C or 3.0°C relative to 1850–1900, the AMOC will continue to weaken for several \\ndecades by about 15%, 20% and 30% of its strength and then recover to pre-decline values over several centuries (medium confidence). \\n At sustained warming levels between 2°C and 3°C, there is limited evidence that the Greenland and West Antarctic ice sheets will be lost \\nalmost completely and irreversibly over multiple millennia; both the probability of their complete loss and the rate of mass loss increases \\nwith higher surface temperatures ( high confidence).  At sustained warming levels between 3°C and 5°C, near-complete loss of the \\nGreenland Ice Sheet and complete loss of the West Antarctic Ice Sheet is projected to occur irreversibly over multiple millennia (medium \\nconfidence); with substantial parts or all of Wilkes Subglacial Basin in East Antarctica lost over multiple millennia (low confidence).  Early-\\nwarning signals of accelerated sea level rise from Antarctica could possibly be observed within the next few decades. ', uid='87697b86-aa91-4bdb-b02c-7dbd2af4dd9c', metadata={'page_label': '106', 'file_name': 'IPCC_AR6_WGI_TS.pdf', 'author': 'IPCC Working Group I', 'original_text': 'It is likely that \\nunder stabilization of global warming at 1.5°C, 2.0°C or 3.0°C relative to 1850–1900, the AMOC will continue to weaken for several \\ndecades by about 15%, 20% and 30% of its strength and then recover to pre-decline values over several centuries (medium confidence). \\n'}),\n",
    " Document(text='{2.3.3, 9.2.1}\\nIt is virtually certain that since 1950 near-surface high-salinity \\nregions have become more saline, while low-salinity regions have \\nbecome fresher, with medium confidence  that this is linked to an \\nintensification of the hydrological cycle (Box TS.6).  It is extremely \\nlikely that human influence has contributed to this salinity change \\nand that the large-scale pattern will grow in amplitude over the 21st \\ncentury (medium confidence).  {2.3.3, 3.5.2, 9.2.2, 12.4.8}\\nThe AMOC was relatively stable during the past 8000 years (medium \\nconfidence).  There is low confidence in the quantification of AMOC \\nchanges in the 20th century because of low agreement in quantitative \\nreconstructed and simulated trends, missing key processes in both \\nmodels and measurements used for formulating proxies, and new \\nmodel evaluations.  Direct observational records since the mid-2000s \\nare too short to determine the relative contributions of internal \\nvariability, natural forcing and anthropogenic forcing to AMOC \\nchange (high confidence).  An AMOC decline over the 21st century \\nis very likely for all SSP scenarios (Figure TS.11b); a possible abrupt \\ndecline is assessed further in Box TS.3.  {2.3.3, 3.5.4, 4.3.2, 8.6.1, \\n9.2.3, Cross-Chapter Box\\xa012.3}\\nThere is high confidence that many ocean currents will change in \\nthe 21st century in response to changes in wind stress.  ', uid='abaed8de-7f35-40d8-bc9d-2a6a8e543586', metadata={'page_label': '74', 'file_name': 'IPCC_AR6_WGI_TS.pdf', 'author': 'IPCC Working Group I', 'original_text': 'There is low confidence in the quantification of AMOC \\nchanges in the 20th century because of low agreement in quantitative \\nreconstructed and simulated trends, missing key processes in both \\nmodels and measurements used for formulating proxies, and new \\nmodel evaluations. '}),\n",
    " Document(text='Models that exhibit such tipping points are characterized by abrupt changes once the threshold is crossed, and even \\na return to pre-threshold surface temperatures or to atmospheric carbon dioxide concentrations does not guarantee \\nthat the tipping elements return to their pre-threshold state.  Monitoring and early warning systems are being put into \\nplace to observe tipping elements in the climate system.  {1.3, 1.4.4, 1.5, 4.3.2, Table\\xa04.10, 5.3.4, 5.4.9, 7.5.3, 9.2.2, \\n9.2.4, 9.4.1, 9.4.2, 9.6.3, Cross-chapter Box\\xa012.1}\\nUnderstanding of multi-decadal reversibility (i.e., the system returns to the previous climate state within multiple decades after \\nthe radiative forcing is removed) has improved since AR5 for many atmospheric, land surface and sea ice climate metrics following \\nsea surface temperature recovery.  Some processes suspected of having tipping points, such as the Atlantic Meridional Overturning \\nCirculation (AMOC), have been found to often undergo recovery after temperature stabilization with a time delay ( low confidence). \\n However, substantial irreversibility is further substantiated for some cryosphere changes, ocean warming, sea level rise, and ocean \\nacidification.  {4.7.2, 5.3.3, 5.4.9, 9.2.2, 9.2.4, 9.4.1, 9.4.2, 9.6.3}\\nSome climate system components are slow to respond, such as the deep ocean overturning circulation and the ice sheets.  It is likely that \\nunder stabilization of global warming at 1.5°C, 2.0°C or 3.0°C relative to 1850–1900, the AMOC will continue to weaken for several \\ndecades by about 15%, 20% and 30% of its strength and then recover to pre-decline values over several centuries (medium confidence). \\n', uid='64dce431-7e8d-46cd-9dd8-dc7e2ac18443', metadata={'page_label': '106', 'file_name': 'IPCC_AR6_WGI_TS.pdf', 'author': 'IPCC Working Group I', 'original_text': 'Some processes suspected of having tipping points, such as the Atlantic Meridional Overturning \\nCirculation (AMOC), have been found to often undergo recovery after temperature stabilization with a time delay ( low confidence). \\n'}),\n",
    " Document(text='72\\nTechnical Summary\\nTS\\nBox TS.3 | Low-likelihood, High-warming Storylines\\nFuture global warming exceeding the assessed very likely range cannot be ruled out and is potentially associated \\nwith the highest risks for society and ecosystems.  Such low-likelihood, high-warming storylines tend to exhibit \\nsubstantially greater changes in the intensity of regional drying and wetting than the multi-model mean.  Even at \\nlevels of warming within the very likely range, global and regional low-likelihood outcomes might occur, such as large \\nprecipitation changes, additional sea level rise associated with collapsing ice sheets (see Box TS.4), or abrupt ocean \\ncirculation changes.  While there is medium confidence that the Atlantic Meridional Overturning Circulation (AMOC) \\nwill not experience an abrupt collapse before 2100, if it were to occur, it would very likely cause abrupt shifts in \\nregional weather patterns and water cycle.  The probability of these low-likelihood outcomes increases with higher \\nglobal warming levels.  If the real-world climate sensitivity lies at the high end of the assessed range, then global \\nand regional changes substantially outside the very likely range projections occur for a given emissions scenario. \\n With increasing global warming, some very rare extremes and some compound events (multivariate or concurrent \\nextremes) with low likelihood in past and current climate will become more frequent, and there is a\\xa0higher chance \\nthat events unprecedented in the observational record occur ( high confidence). ', uid='d7162beb-25d2-4653-aecd-2734bfd39693', metadata={'page_label': '72', 'file_name': 'IPCC_AR6_WGI_TS.pdf', 'author': 'IPCC Working Group I', 'original_text': 'While there is medium confidence that the Atlantic Meridional Overturning Circulation (AMOC) \\nwill not experience an abrupt collapse before 2100, if it were to occur, it would very likely cause abrupt shifts in \\nregional weather patterns and water cycle. '})]\n",
    "\n",
    "claim = CheckedClaim(\n",
    "    text=\"The AMOC is slowing down\",\n",
    "    negation=\"The AMOC is not changing\",\n",
    "    uid=\"123\",\n",
    "    documents=docs\n",
    ")\n",
    "evidence_item = docs[0].text\n"
   ]
  },
  {
   "cell_type": "markdown",
   "metadata": {},
   "source": [
    "### Running `ConfirmationAnalyzer`"
   ]
  },
  {
   "cell_type": "code",
   "execution_count": 4,
   "metadata": {},
   "outputs": [
    {
     "name": "stdout",
     "output_type": "stream",
     "text": [
      "{'1f47ce98-4105-4ddc-98a9-c4956dab2000': 0.9366311468505643, '6fcd6c0f-99a1-48e7-881f-f79758c54769': 0.5378353475397207, 'f52c120f-ff9c-4893-822e-bfca72eaa9c6': 0.3276655653091819, '1f8242fe-50a2-45e2-bfda-986466f966d4': 0.40502036963125476, '87697b86-aa91-4bdb-b02c-7dbd2af4dd9c': 0.2906046993400315, 'abaed8de-7f35-40d8-bc9d-2a6a8e543586': 0.2080703532156991, '64dce431-7e8d-46cd-9dd8-dc7e2ac18443': 0.7073955196710597, 'd7162beb-25d2-4653-aecd-2734bfd39693': 0.6922158945091185}\n"
     ]
    }
   ],
   "source": [
    "\n",
    "# so far, only the dummy implementation is available\n",
    "confirmation_analyzer = ConfirmationAnalyzer()\n",
    "checked_claim = await confirmation_analyzer(claim=claim) \n",
    "print(checked_claim.confirmation_by_document)"
   ]
  },
  {
   "cell_type": "markdown",
   "metadata": {},
   "source": [
    "### Running the workflow directly"
   ]
  },
  {
   "cell_type": "code",
   "execution_count": 2,
   "metadata": {},
   "outputs": [
    {
     "name": "stdout",
     "output_type": "stream",
     "text": [
      "Loading config from ../configs/simple_confirmation_analysis_config.yaml\n",
      "Used api key name: kideku_toxicity_app_nim\n",
      "Instantiating OpenAILike model (model: meta-llama/Llama-3.1-70B-Instruct,base_url: https://huggingface.co/api/integrations/dgx/v1).\n",
      "Confirmation analysis.\n",
      "Using workflow model: model_1 for freetext_confirmation_analysis_event\n",
      "Confirmation analysis.\n",
      "Using workflow model: model_1 for freetext_confirmation_analysis_event\n",
      "Used regex in multiple_choice_confirmation_analysis_event: [AB]\n",
      "Using event specific model: model_3 for multiple_choice_confirmation_analysis_event\n",
      "Used api key name: token_debatelab_hf_endpoints\n",
      "Instantiating OpenAILike model (model: meta-llama/Llama-3.2-3B-Instruct,base_url: https://dchi8b9swca6gxbe.eu-west-1.aws.endpoints.huggingface.cloud/v1/).\n",
      "Using event specific model: model_3 for multiple_choice_confirmation_analysis_event\n",
      "{'confirmation': 0.9999999994759073,\n",
      " 'evidence_item': 'There is high confidence that oxygen levels have \\n'\n",
      "                  'dropped in many regions since the mid 20th century and \\n'\n",
      "                  'that the geographic range of many marine organisms has \\n'\n",
      "                  'changed over the last two decades. \\n'\n",
      "                  ' The amount of ocean warming observed since 1971 \\n'\n",
      "                  'will likely at least double by 2100 under a low warming \\n'\n",
      "                  'scenario (SSP1-2.6) and will increase by 4–8 times under \\n'\n",
      "                  'a high warming scenario (SSP5-8.5).  Stratification '\n",
      "                  '(virtually \\n'\n",
      "                  'certain), acidification ( virtually certain ), '\n",
      "                  'deoxygenation \\n'\n",
      "                  '(high confidence ) and marine heatwave frequency ( high \\n'\n",
      "                  'confidence) will continue to increase in the 21st '\n",
      "                  'century. \\n'\n",
      "                  ' While there is low confidence in 20th century AMOC '\n",
      "                  'change, \\n'\n",
      "                  'it is very likely that AMOC will decline over the 21st '\n",
      "                  'century \\n'\n",
      "                  '(Figure TS.11).  {2.3, 3.5, 3.6, 4.3.2, 5.3, 7.2, 9.2, '\n",
      "                  'Box\\xa09.2, 12.4}\\n'\n",
      "                  'It is virtually certain that the global ocean has warmed '\n",
      "                  'since at least \\n'\n",
      "                  '1971, representing about 90% of the increase in the global '\n",
      "                  'energy \\n'\n",
      "                  'inventory (Section TS.3.1).  The ocean is currently warming '\n",
      "                  'faster than \\n'\n",
      "                  'at any other time since at least the last deglacial '\n",
      "                  'transition (medium \\n'\n",
      "                  'confidence), with warming extending to depths well below '\n",
      "                  '2000 m \\n'\n",
      "                  '(very high confidence ).  It is extremely likely that human '\n",
      "                  'influence \\n'\n",
      "                  'was the main driver of this recent ocean warming. ',\n",
      " 'freetext_confirmation_analysis_event': 'Here are the results of my '\n",
      "                                         'analysis:\\n'\n",
      "                                         '\\n'\n",
      "                                         '**1. Entailment/Inconsistency**: The '\n",
      "                                         'text does not entail the claim that '\n",
      "                                         '\"The AMOC is slowing down\". The text '\n",
      "                                         'only mentions that \"it is very '\n",
      "                                         'likely that AMOC will decline over '\n",
      "                                         'the 21st century\", which implies a '\n",
      "                                         'future decline, but does not confirm '\n",
      "                                         'that the AMOC is currently slowing '\n",
      "                                         'down. Therefore, the text is not '\n",
      "                                         'inconsistent with the claim, but it '\n",
      "                                         'does not directly entail it either.\\n'\n",
      "                                         '\\n'\n",
      "                                         '**2. Empirical Evidence**: The text '\n",
      "                                         'does not provide direct empirical '\n",
      "                                         'evidence for or against the claim '\n",
      "                                         'that \"The AMOC is slowing down\". The '\n",
      "                                         'text mentions that there is \"low '\n",
      "                                         'confidence in 20th century AMOC '\n",
      "                                         'change\", which suggests that there '\n",
      "                                         'is limited evidence or uncertainty '\n",
      "                                         'about past changes in the AMOC. '\n",
      "                                         'However, the text does provide '\n",
      "                                         'evidence for future changes in the '\n",
      "                                         'AMOC, stating that it is \"very '\n",
      "                                         'likely\" to decline over the 21st '\n",
      "                                         'century.\\n'\n",
      "                                         '\\n'\n",
      "                                         '**3. Trustworthy Parties**: The text '\n",
      "                                         'does not explicitly cite specific '\n",
      "                                         'experts or trustworthy parties that '\n",
      "                                         'speak in favour of the claim. '\n",
      "                                         'However, the text appears to be '\n",
      "                                         'written in a formal and technical '\n",
      "                                         'style, suggesting that it may be a '\n",
      "                                         'report or assessment from a credible '\n",
      "                                         'scientific organization or group of '\n",
      "                                         'experts. The text also references '\n",
      "                                         'specific sections and figures (e.g. '\n",
      "                                         '\"Figure TS.11\", \"Section TS.3.1\"), '\n",
      "                                         'which implies that it is part of a '\n",
      "                                         'larger, structured document that may '\n",
      "                                         'be a scientific report or '\n",
      "                                         'assessment.',\n",
      " 'freetext_confirmation_analysis_event_negation': '**Analysis**\\n'\n",
      "                                                  '\\n'\n",
      "                                                  '**1. '\n",
      "                                                  'Entailment/Inconsistency**: '\n",
      "                                                  'The text is inconsistent '\n",
      "                                                  'with the claim. The text '\n",
      "                                                  'states that \"it is very '\n",
      "                                                  'likely that AMOC will '\n",
      "                                                  'decline over the 21st '\n",
      "                                                  'century\" (Figure TS.11), '\n",
      "                                                  'which directly contradicts '\n",
      "                                                  'the claim that \"The AMOC is '\n",
      "                                                  'not changing\". The text '\n",
      "                                                  'implies that the AMOC is '\n",
      "                                                  'expected to change, '\n",
      "                                                  'specifically decline, in '\n",
      "                                                  'the 21st century.\\n'\n",
      "                                                  '\\n'\n",
      "                                                  '**2. Empirical Evidence**: '\n",
      "                                                  'The text describes '\n",
      "                                                  'empirical evidence against '\n",
      "                                                  'the claim. The text '\n",
      "                                                  'mentions various indicators '\n",
      "                                                  'of ocean change, such as '\n",
      "                                                  'oxygen levels, ocean '\n",
      "                                                  'warming, stratification, '\n",
      "                                                  'acidification, '\n",
      "                                                  'deoxygenation, and marine '\n",
      "                                                  'heatwave frequency, which '\n",
      "                                                  'are all expected to '\n",
      "                                                  'increase or continue '\n",
      "                                                  'changing in the 21st '\n",
      "                                                  'century. While the text '\n",
      "                                                  'notes that there is low '\n",
      "                                                  'confidence in 20th century '\n",
      "                                                  'AMOC change, the expected '\n",
      "                                                  'decline of AMOC in the 21st '\n",
      "                                                  'century suggests that the '\n",
      "                                                  'AMOC is indeed changing.\\n'\n",
      "                                                  '\\n'\n",
      "                                                  '**3. Trustworthy Parties**: '\n",
      "                                                  'The text does not '\n",
      "                                                  'explicitly cite specific '\n",
      "                                                  'experts or parties that '\n",
      "                                                  'speak in favour of the '\n",
      "                                                  'claim. However, the text '\n",
      "                                                  'appears to be written in a '\n",
      "                                                  'formal and technical style, '\n",
      "                                                  'suggesting that it may be a '\n",
      "                                                  'report or assessment from a '\n",
      "                                                  'credible scientific '\n",
      "                                                  'organization or panel of '\n",
      "                                                  'experts. The text also '\n",
      "                                                  'references various sections '\n",
      "                                                  'and figures (e.g., Figure '\n",
      "                                                  'TS.11, Section TS.3.1), '\n",
      "                                                  'which implies that it is '\n",
      "                                                  'part of a larger, '\n",
      "                                                  'structured document that '\n",
      "                                                  'has undergone peer review '\n",
      "                                                  'or expert scrutiny. '\n",
      "                                                  'Nevertheless, the text does '\n",
      "                                                  'not provide explicit '\n",
      "                                                  'endorsements or quotes from '\n",
      "                                                  'trustworthy parties that '\n",
      "                                                  'support the claim.',\n",
      " 'multiple_choice_confirmation_analysis_event': ChatResponse(message=ChatMessage(role=<MessageRole.ASSISTANT: 'assistant'>, content='A', additional_kwargs={}), raw=ChatCompletion(id='', choices=[Choice(finish_reason='stop', index=0, logprobs=ChoiceLogprobs(content=[ChatCompletionTokenLogprob(token='A', bytes=None, logprob=0.0, top_logprobs=[TopLogprob(token='A', bytes=None, logprob=0.0), TopLogprob(token='B', bytes=None, logprob=-22.0625)]), ChatCompletionTokenLogprob(token='<|eot_id|>', bytes=None, logprob=0.0, top_logprobs=[TopLogprob(token='<|eot_id|>', bytes=None, logprob=0.0)])], refusal=None), message=ChatCompletionMessage(content='A', refusal=None, role='assistant', audio=None, function_call=None, tool_calls=None))], created=1733822292, model='/repository', object='chat.completion', service_tier=None, system_fingerprint='2.4.1-sha-d2ed52f', usage=CompletionUsage(completion_tokens=2, prompt_tokens=1200, total_tokens=1202, completion_tokens_details=None, prompt_tokens_details=None)), delta=None, logprobs=[[LogProb(token='A', logprob=0.0, bytes=[]), LogProb(token='B', logprob=-22.0625, bytes=[])], [LogProb(token='<|eot_id|>', logprob=0.0, bytes=[])]], additional_kwargs={'prompt_tokens': 1200, 'completion_tokens': 2, 'total_tokens': 1202}),\n",
      " 'statement': 'The AMOC is not changing',\n",
      " 'statement_negation': 'The AMOC is not changing'}\n"
     ]
    }
   ],
   "source": [
    "import yaml\n",
    "from pprint import pprint\n",
    "\n",
    "from evidence_seeker.confirmation_analysis import (\n",
    "    SimpleConfirmationAnalysisWorkflow\n",
    ")\n",
    "from evidence_seeker.backend import get_openai_llm\n",
    "\n",
    "\n",
    "config_file = \"../configs/simple_confirmation_analysis_config.yaml\" \n",
    "\n",
    "\n",
    "pw = SimpleConfirmationAnalysisWorkflow(config_file=config_file)\n",
    "\n",
    "result = await pw.run(\n",
    "    clarified_claim=claim,\n",
    "    evidence_item=evidence_item\n",
    ")\n",
    "pprint(result)"
   ]
  }
 ],
 "metadata": {
  "kernelspec": {
   "display_name": "evidence-seeker",
   "language": "python",
   "name": "python3"
  },
  "language_info": {
   "codemirror_mode": {
    "name": "ipython",
    "version": 3
   },
   "file_extension": ".py",
   "mimetype": "text/x-python",
   "name": "python",
   "nbconvert_exporter": "python",
   "pygments_lexer": "ipython3",
   "version": "3.12.3"
  }
 },
 "nbformat": 4,
 "nbformat_minor": 2
}
