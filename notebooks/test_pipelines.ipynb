{
 "cells": [
  {
   "cell_type": "markdown",
   "metadata": {},
   "source": [
    "# Testing Pipelines"
   ]
  },
  {
   "cell_type": "markdown",
   "metadata": {},
   "source": [
    "### Initiating observation via Phoenix"
   ]
  },
  {
   "cell_type": "code",
   "execution_count": 1,
   "metadata": {},
   "outputs": [
    {
     "name": "stdout",
     "output_type": "stream",
     "text": [
      "🌍 To view the Phoenix app in your browser, visit http://localhost:6006/\n",
      "📖 For more information on how to use Phoenix, check out https://docs.arize.com/phoenix\n"
     ]
    }
   ],
   "source": [
    "# %pip pip install arize-phoenix\n",
    "# %pip install llama-index-callbacks-arize-phoenix\n",
    "# observability\n",
    "import phoenix as px\n",
    "px.launch_app()\n",
    "\n",
    "import llama_index.core\n",
    "llama_index.core.set_global_handler(\"arize_phoenix\", endpoint=\"http://localhost:6006/v1/traces\")"
   ]
  },
  {
   "cell_type": "markdown",
   "metadata": {},
   "source": [
    "## Preprocessing pipeline"
   ]
  },
  {
   "cell_type": "markdown",
   "metadata": {},
   "source": [
    "### Visualizing workflows"
   ]
  },
  {
   "cell_type": "code",
   "execution_count": 2,
   "metadata": {},
   "outputs": [
    {
     "name": "stderr",
     "output_type": "stream",
     "text": [
      "None of PyTorch, TensorFlow >= 2.0, or Flax have been found. Models won't be available and only tokenizers, configuration and file/data utilities can be used.\n"
     ]
    },
    {
     "name": "stdout",
     "output_type": "stream",
     "text": [
      "<class 'NoneType'>\n",
      "<class 'evidence_seeker.preprocessing.ListAscriptiveClaimsBasedOnAscriptiveAnalysisEvent'>\n",
      "<class 'llama_index.core.workflow.events.StopEvent'>\n",
      "<class 'evidence_seeker.preprocessing.ListDescriptiveClaimsBasedOnDescriptiveAnalysisEvent'>\n",
      "<class 'evidence_seeker.preprocessing.AscriptiveAnalysisEndEvent'>\n",
      "<class 'evidence_seeker.preprocessing.DescriptiveAnalysisEndEvent'>\n",
      "<class 'evidence_seeker.preprocessing.NormativeAnalysisEndEvent'>\n",
      "<class 'evidence_seeker.preprocessing.CollectCheckedClaimsEvent'>\n",
      "<class 'evidence_seeker.preprocessing.ListNormativeClaimsBasedOnNormativeAnalysisEvent'>\n",
      "<class 'evidence_seeker.preprocessing.NormativeAnalysisEvent'>\n",
      "<class 'evidence_seeker.preprocessing.DescriptiveAnalysisEvent'>\n",
      "<class 'evidence_seeker.preprocessing.AscriptiveAnalysisEvent'>\n",
      "<class 'evidence_seeker.preprocessing.NegateClaimEvent'>\n",
      "../tmp/PreprocessingSeparateListingsWorkflow.html\n",
      "<class 'NoneType'>\n",
      "<class 'evidence_seeker.preprocessing.ListClaimsEvent'>\n",
      "<class 'llama_index.core.workflow.events.StopEvent'>\n",
      "<class 'evidence_seeker.preprocessing.ListClaimsEvent'>\n",
      "<class 'evidence_seeker.preprocessing.CollectCheckedClaimsEvent'>\n",
      "<class 'evidence_seeker.preprocessing.ListClaimsEvent'>\n",
      "<class 'evidence_seeker.preprocessing.NormativeAnalysisEvent'>\n",
      "<class 'evidence_seeker.preprocessing.DescriptiveAnalysisEvent'>\n",
      "<class 'evidence_seeker.preprocessing.AscriptiveAnalysisEvent'>\n",
      "<class 'evidence_seeker.preprocessing.NegateClaimEvent'>\n"
     ]
    },
    {
     "name": "stderr",
     "output_type": "stream",
     "text": [
      "WARNING: All log messages before absl::InitializeLog() is called are written to STDERR\n",
      "I0000 00:00:1733747492.716452  276328 fork_posix.cc:75] Other threads are currently calling into gRPC, skipping fork() handlers\n",
      "I0000 00:00:1733747492.751925  276328 fork_posix.cc:75] Other threads are currently calling into gRPC, skipping fork() handlers\n"
     ]
    },
    {
     "name": "stdout",
     "output_type": "stream",
     "text": [
      "../tmp/SimplePreprocessingWorkflow.html\n"
     ]
    },
    {
     "name": "stderr",
     "output_type": "stream",
     "text": [
      "I0000 00:00:1733747492.954175  276328 fork_posix.cc:75] Other threads are currently calling into gRPC, skipping fork() handlers\n"
     ]
    }
   ],
   "source": [
    "\n",
    "import os\n",
    "from llama_index.utils.workflow import draw_all_possible_flows\n",
    "\n",
    "from evidence_seeker import (\n",
    "    PreprocessingSeparateListingsWorkflow,\n",
    "    SimplePreprocessingWorkflow\n",
    ")\n",
    "\n",
    "# create dir ../tmp if not exists\n",
    "os.makedirs(\"../tmp\", exist_ok=True)\n",
    "\n",
    "draw_all_possible_flows(\n",
    "    PreprocessingSeparateListingsWorkflow, filename=\"../tmp/PreprocessingSeparateListingsWorkflow.html\"\n",
    ")\n",
    "\n",
    "draw_all_possible_flows(\n",
    "    SimplePreprocessingWorkflow, filename=\"../tmp/SimplePreprocessingWorkflow.html\"\n",
    ")"
   ]
  },
  {
   "cell_type": "markdown",
   "metadata": {},
   "source": [
    "### Running Workflows directly"
   ]
  },
  {
   "cell_type": "code",
   "execution_count": 3,
   "metadata": {},
   "outputs": [
    {
     "name": "stdout",
     "output_type": "stream",
     "text": [
      "Used api key name: kideku_toxicity_app_nim\n",
      "Instantiating OpenAILike model (model: meta-llama/Llama-3.1-70B-Instruct,base_url: https://huggingface.co/api/integrations/dgx/v1).\n",
      "Analysing ascriptive aspects of claim.\n",
      "Analysing descriptive aspects of claim.\n",
      "Analysing normative aspects of claim.\n",
      "Collecting clarified claims...\n",
      "Collecting clarified claims... still waiting...\n",
      "Collecting clarified claims...\n",
      "Collecting clarified claims... still waiting...\n"
     ]
    },
    {
     "ename": "ValidationError",
     "evalue": "1 validation error for Claims\n  Invalid JSON: EOF while parsing a string at line 4 column 5643 [type=json_invalid, input_value='{\\n  \"claims\": [\\n    {\\...in the long term, as it', input_type=str]\n    For further information visit https://errors.pydantic.dev/2.9/v/json_invalid",
     "output_type": "error",
     "traceback": [
      "\u001b[0;31m---------------------------------------------------------------------------\u001b[0m",
      "\u001b[0;31mValidationError\u001b[0m                           Traceback (most recent call last)",
      "Cell \u001b[0;32mIn[3], line 29\u001b[0m\n\u001b[1;32m     26\u001b[0m pw \u001b[38;5;241m=\u001b[39m PreprocessingSeparateListingsWorkflow(timeout\u001b[38;5;241m=\u001b[39m\u001b[38;5;241m120\u001b[39m, verbose\u001b[38;5;241m=\u001b[39m\u001b[38;5;28;01mFalse\u001b[39;00m, llm\u001b[38;5;241m=\u001b[39mllm, config\u001b[38;5;241m=\u001b[39mconfig_dict)\n\u001b[1;32m     27\u001b[0m \u001b[38;5;66;03m#pw = SimplePreprocessingWorkflow(timeout=120, verbose=False, llm=llm, config=config_dict)\u001b[39;00m\n\u001b[0;32m---> 29\u001b[0m result \u001b[38;5;241m=\u001b[39m \u001b[38;5;28;01mawait\u001b[39;00m pw\u001b[38;5;241m.\u001b[39mrun(claim\u001b[38;5;241m=\u001b[39m\u001b[38;5;124m\"\u001b[39m\u001b[38;5;124mClimate change is the biggest challenge for human kind.\u001b[39m\u001b[38;5;124m\"\u001b[39m)\n\u001b[1;32m     30\u001b[0m pprint(result)\n",
      "File \u001b[0;32m~/git/evidence-seeker/.hatch/evidence-seeker/lib/python3.12/site-packages/llama_index/core/workflow/workflow.py:378\u001b[0m, in \u001b[0;36mWorkflow.run.<locals>._run_workflow\u001b[0;34m()\u001b[0m\n\u001b[1;32m    374\u001b[0m \u001b[38;5;28;01mif\u001b[39;00m exception_raised:\n\u001b[1;32m    375\u001b[0m     \u001b[38;5;66;03m# cancel the stream\u001b[39;00m\n\u001b[1;32m    376\u001b[0m     ctx\u001b[38;5;241m.\u001b[39mwrite_event_to_stream(StopEvent())\n\u001b[0;32m--> 378\u001b[0m     \u001b[38;5;28;01mraise\u001b[39;00m exception_raised\n\u001b[1;32m    380\u001b[0m \u001b[38;5;28;01mif\u001b[39;00m \u001b[38;5;129;01mnot\u001b[39;00m we_done:\n\u001b[1;32m    381\u001b[0m     \u001b[38;5;66;03m# cancel the stream\u001b[39;00m\n\u001b[1;32m    382\u001b[0m     ctx\u001b[38;5;241m.\u001b[39mwrite_event_to_stream(StopEvent())\n",
      "File \u001b[0;32m~/git/evidence-seeker/.hatch/evidence-seeker/lib/python3.12/site-packages/llama_index/core/workflow/workflow.py:233\u001b[0m, in \u001b[0;36mWorkflow._start.<locals>._task\u001b[0;34m(name, queue, step, config)\u001b[0m\n\u001b[1;32m    231\u001b[0m \u001b[38;5;28;01mexcept\u001b[39;00m \u001b[38;5;167;01mException\u001b[39;00m \u001b[38;5;28;01mas\u001b[39;00m e:\n\u001b[1;32m    232\u001b[0m     \u001b[38;5;28;01mif\u001b[39;00m config\u001b[38;5;241m.\u001b[39mretry_policy \u001b[38;5;129;01mis\u001b[39;00m \u001b[38;5;28;01mNone\u001b[39;00m:\n\u001b[0;32m--> 233\u001b[0m         \u001b[38;5;28;01mraise\u001b[39;00m e \u001b[38;5;28;01mfrom\u001b[39;00m \u001b[38;5;28;01mNone\u001b[39;00m\n\u001b[1;32m    235\u001b[0m     delay \u001b[38;5;241m=\u001b[39m config\u001b[38;5;241m.\u001b[39mretry_policy\u001b[38;5;241m.\u001b[39mnext(\n\u001b[1;32m    236\u001b[0m         retry_start_at \u001b[38;5;241m+\u001b[39m time\u001b[38;5;241m.\u001b[39mtime(), attempts, e\n\u001b[1;32m    237\u001b[0m     )\n\u001b[1;32m    238\u001b[0m     \u001b[38;5;28;01mif\u001b[39;00m delay \u001b[38;5;129;01mis\u001b[39;00m \u001b[38;5;28;01mNone\u001b[39;00m:\n\u001b[1;32m    239\u001b[0m         \u001b[38;5;66;03m# We're done retrying\u001b[39;00m\n",
      "File \u001b[0;32m~/git/evidence-seeker/.hatch/evidence-seeker/lib/python3.12/site-packages/llama_index/core/workflow/workflow.py:229\u001b[0m, in \u001b[0;36mWorkflow._start.<locals>._task\u001b[0;34m(name, queue, step, config)\u001b[0m\n\u001b[1;32m    227\u001b[0m \u001b[38;5;28;01mwhile\u001b[39;00m \u001b[38;5;28;01mTrue\u001b[39;00m:\n\u001b[1;32m    228\u001b[0m     \u001b[38;5;28;01mtry\u001b[39;00m:\n\u001b[0;32m--> 229\u001b[0m         new_ev \u001b[38;5;241m=\u001b[39m \u001b[38;5;28;01mawait\u001b[39;00m instrumented_step(\u001b[38;5;241m*\u001b[39m\u001b[38;5;241m*\u001b[39mkwargs)\n\u001b[1;32m    230\u001b[0m         \u001b[38;5;28;01mbreak\u001b[39;00m  \u001b[38;5;66;03m# exit the retrying loop\u001b[39;00m\n\u001b[1;32m    231\u001b[0m     \u001b[38;5;28;01mexcept\u001b[39;00m \u001b[38;5;167;01mException\u001b[39;00m \u001b[38;5;28;01mas\u001b[39;00m e:\n",
      "File \u001b[0;32m~/git/evidence-seeker/.hatch/evidence-seeker/lib/python3.12/site-packages/llama_index/core/instrumentation/dispatcher.py:357\u001b[0m, in \u001b[0;36mDispatcher.span.<locals>.async_wrapper\u001b[0;34m(func, instance, args, kwargs)\u001b[0m\n\u001b[1;32m    349\u001b[0m \u001b[38;5;28mself\u001b[39m\u001b[38;5;241m.\u001b[39mspan_enter(\n\u001b[1;32m    350\u001b[0m     id_\u001b[38;5;241m=\u001b[39mid_,\n\u001b[1;32m    351\u001b[0m     bound_args\u001b[38;5;241m=\u001b[39mbound_args,\n\u001b[0;32m   (...)\u001b[0m\n\u001b[1;32m    354\u001b[0m     tags\u001b[38;5;241m=\u001b[39mtags,\n\u001b[1;32m    355\u001b[0m )\n\u001b[1;32m    356\u001b[0m \u001b[38;5;28;01mtry\u001b[39;00m:\n\u001b[0;32m--> 357\u001b[0m     result \u001b[38;5;241m=\u001b[39m \u001b[38;5;28;01mawait\u001b[39;00m func(\u001b[38;5;241m*\u001b[39margs, \u001b[38;5;241m*\u001b[39m\u001b[38;5;241m*\u001b[39mkwargs)\n\u001b[1;32m    358\u001b[0m \u001b[38;5;28;01mexcept\u001b[39;00m \u001b[38;5;167;01mBaseException\u001b[39;00m \u001b[38;5;28;01mas\u001b[39;00m e:\n\u001b[1;32m    359\u001b[0m     \u001b[38;5;28mself\u001b[39m\u001b[38;5;241m.\u001b[39mevent(SpanDropEvent(span_id\u001b[38;5;241m=\u001b[39mid_, err_str\u001b[38;5;241m=\u001b[39m\u001b[38;5;28mstr\u001b[39m(e)))\n",
      "File \u001b[0;32m~/git/evidence-seeker/src/evidence_seeker/preprocessing/preprocessing_separate_listings_workflow.py:184\u001b[0m, in \u001b[0;36mPreprocessingSeparateListingsWorkflow.list_normative_claims\u001b[0;34m(self, ctx, ev)\u001b[0m\n\u001b[1;32m    180\u001b[0m request_dict \u001b[38;5;241m=\u001b[39m \u001b[38;5;28;01mawait\u001b[39;00m \u001b[38;5;28mself\u001b[39m\u001b[38;5;241m.\u001b[39m_constraint_prompt_step(\n\u001b[1;32m    181\u001b[0m     ctx, ev, json_schema, \u001b[38;5;241m*\u001b[39m\u001b[38;5;241m*\u001b[39mev\u001b[38;5;241m.\u001b[39mrequest_dict\n\u001b[1;32m    182\u001b[0m )\n\u001b[1;32m    183\u001b[0m \u001b[38;5;66;03m# convert the json string to Claims object\u001b[39;00m\n\u001b[0;32m--> 184\u001b[0m request_dict[ev\u001b[38;5;241m.\u001b[39mresult_key] \u001b[38;5;241m=\u001b[39m \u001b[43mClaims\u001b[49m\u001b[38;5;241;43m.\u001b[39;49m\u001b[43mmodel_validate_json\u001b[49m\u001b[43m(\u001b[49m\n\u001b[1;32m    185\u001b[0m \u001b[43m    \u001b[49m\u001b[43mrequest_dict\u001b[49m\u001b[43m[\u001b[49m\u001b[43mev\u001b[49m\u001b[38;5;241;43m.\u001b[39;49m\u001b[43mresult_key\u001b[49m\u001b[43m]\u001b[49m\n\u001b[1;32m    186\u001b[0m \u001b[43m\u001b[49m\u001b[43m)\u001b[49m\n\u001b[1;32m    187\u001b[0m \u001b[38;5;28;01mreturn\u001b[39;00m NormativeAnalysisEndEvent(\n\u001b[1;32m    188\u001b[0m     init_data_dict\u001b[38;5;241m=\u001b[39mev\u001b[38;5;241m.\u001b[39minit_data_dict,\n\u001b[1;32m    189\u001b[0m     request_dict\u001b[38;5;241m=\u001b[39mrequest_dict,\n\u001b[1;32m    190\u001b[0m     result\u001b[38;5;241m=\u001b[39m\u001b[38;5;124mf\u001b[39m\u001b[38;5;124m\"\u001b[39m\u001b[38;5;124mNormative claims:\u001b[39m\u001b[38;5;130;01m\\n\u001b[39;00m\u001b[38;5;124m \u001b[39m\u001b[38;5;132;01m{\u001b[39;00mrequest_dict[ev\u001b[38;5;241m.\u001b[39mresult_key]\u001b[38;5;132;01m}\u001b[39;00m\u001b[38;5;124m\"\u001b[39m,\n\u001b[1;32m    191\u001b[0m )\n",
      "File \u001b[0;32m~/git/evidence-seeker/.hatch/evidence-seeker/lib/python3.12/site-packages/pydantic/main.py:625\u001b[0m, in \u001b[0;36mBaseModel.model_validate_json\u001b[0;34m(cls, json_data, strict, context)\u001b[0m\n\u001b[1;32m    623\u001b[0m \u001b[38;5;66;03m# `__tracebackhide__` tells pytest and some other tools to omit this function from tracebacks\u001b[39;00m\n\u001b[1;32m    624\u001b[0m __tracebackhide__ \u001b[38;5;241m=\u001b[39m \u001b[38;5;28;01mTrue\u001b[39;00m\n\u001b[0;32m--> 625\u001b[0m \u001b[38;5;28;01mreturn\u001b[39;00m \u001b[38;5;28;43mcls\u001b[39;49m\u001b[38;5;241;43m.\u001b[39;49m\u001b[43m__pydantic_validator__\u001b[49m\u001b[38;5;241;43m.\u001b[39;49m\u001b[43mvalidate_json\u001b[49m\u001b[43m(\u001b[49m\u001b[43mjson_data\u001b[49m\u001b[43m,\u001b[49m\u001b[43m \u001b[49m\u001b[43mstrict\u001b[49m\u001b[38;5;241;43m=\u001b[39;49m\u001b[43mstrict\u001b[49m\u001b[43m,\u001b[49m\u001b[43m \u001b[49m\u001b[43mcontext\u001b[49m\u001b[38;5;241;43m=\u001b[39;49m\u001b[43mcontext\u001b[49m\u001b[43m)\u001b[49m\n",
      "\u001b[0;31mValidationError\u001b[0m: 1 validation error for Claims\n  Invalid JSON: EOF while parsing a string at line 4 column 5643 [type=json_invalid, input_value='{\\n  \"claims\": [\\n    {\\...in the long term, as it', input_type=str]\n    For further information visit https://errors.pydantic.dev/2.9/v/json_invalid"
     ]
    }
   ],
   "source": [
    "\n",
    "import yaml\n",
    "from pprint import pprint\n",
    "\n",
    "from evidence_seeker.backend import get_openai_llm\n",
    "from evidence_seeker.preprocessing.preprocessing_separate_listings_workflow import (\n",
    "    PreprocessingSeparateListingsWorkflow,\n",
    ")\n",
    "from evidence_seeker.preprocessing.simple_preprocessing_workflow import SimplePreprocessingWorkflow\n",
    "\n",
    "\n",
    "config_version = \"v0.1\"\n",
    "config_file = \"../config.yaml\" \n",
    "\n",
    "with open(config_file, 'r') as file:\n",
    "    config_dict = yaml.safe_load(file)\n",
    "    if config_dict['config_version'] != config_version:\n",
    "        raise ValueError(f\"The version of the config file does not match the used version ({config_version})\")\n",
    "    \n",
    "#pprint(config_dict)\n",
    "\n",
    "api_key_name = config_dict['models'][config_dict['used_model']]['api_key_name']\n",
    "model = config_dict['models'][config_dict['used_model']]['model']\n",
    "base_url = config_dict['models'][config_dict['used_model']]['base_url']\n",
    "llm=get_openai_llm(api_key_name=api_key_name, model=model, base_url=base_url, max_tokens=2048)\n",
    "\n",
    "pw = PreprocessingSeparateListingsWorkflow(timeout=120, verbose=False, llm=llm, config=config_dict)\n",
    "#pw = SimplePreprocessingWorkflow(timeout=120, verbose=False, llm=llm, config=config_dict)\n",
    "\n",
    "result = await pw.run(claim=\"Climate change is the biggest challenge for human kind.\")\n",
    "pprint(result)"
   ]
  },
  {
   "cell_type": "markdown",
   "metadata": {},
   "source": [
    "### Running ClaimPreprocessor"
   ]
  },
  {
   "cell_type": "code",
   "execution_count": 5,
   "metadata": {},
   "outputs": [
    {
     "name": "stdout",
     "output_type": "stream",
     "text": [
      "Init open ai model meta-llama/Llama-3.1-70B-Instruct (from https://huggingface.co/api/integrations/dgx/v1) withtemperature=0.2 max_tokens=4096and context_window=32000\n",
      "Used api key name: kideku_toxicity_app_nim\n",
      "Instantiating OpenAILike model (model: meta-llama/Llama-3.1-70B-Instruct,base_url: https://huggingface.co/api/integrations/dgx/v1).\n",
      "Analysing ascriptive aspects of claim.\n",
      "Analysing descriptive aspects of claim.\n",
      "Analysing normative aspects of claim.\n",
      "Collecting analyses...\n",
      "Collecting analyses...\n",
      "Collecting analyses...\n",
      "Number of claims: 5\n",
      "Negating claim.\n",
      "Negating claim.\n",
      "Negating claim.\n",
      "Negating claim.\n",
      "Negating claim.\n"
     ]
    }
   ],
   "source": [
    "import yaml\n",
    "from pprint import pprint\n",
    "\n",
    "from evidence_seeker.preprocessing import ClaimPreprocessor\n",
    "\n",
    "config_version = \"v0.1\"\n",
    "config_file = \"../config.yaml\" \n",
    "\n",
    "with open(config_file, 'r') as file:\n",
    "    config_dict = yaml.safe_load(file)\n",
    "    if config_dict['config_version'] != config_version:\n",
    "        raise ValueError(f\"The version of the config file does not match the used version ({config_version})\")\n",
    "\n",
    "preprocessor = ClaimPreprocessor(config=config_dict)\n",
    "checked_claims = await preprocessor(claim=\"Climate change is the biggest challenge for human kind.\") \n"
   ]
  },
  {
   "cell_type": "code",
   "execution_count": 6,
   "metadata": {},
   "outputs": [
    {
     "name": "stdout",
     "output_type": "stream",
     "text": [
      "[CheckedClaim(text='Climate change is a significant threat to human existence', negation='Climate change is not a significant threat to human existence.', uid='0215e190-0d9d-4b25-84c8-ceb75b729e7a', n_evidence=None, average_confirmation=None, evidential_uncertainty=None, verbalized_confirmation=None, documents=None, confirmation_by_document=None, metadata={}),\n",
      " CheckedClaim(text='Climate change requires immediate attention and action', negation='Climate change does not require immediate attention and action.', uid='782019a4-94d0-4b69-8e36-bdeea23b6a86', n_evidence=None, average_confirmation=None, evidential_uncertainty=None, verbalized_confirmation=None, documents=None, confirmation_by_document=None, metadata={}),\n",
      " CheckedClaim(text='The scientific consensus is that climate change is the biggest challenge for humanity', negation='The scientific consensus is that climate change is not the biggest challenge for humanity.', uid='e2bb909d-67cb-43b4-ba7a-4e5fd9adbcd1', n_evidence=None, average_confirmation=None, evidential_uncertainty=None, verbalized_confirmation=None, documents=None, confirmation_by_document=None, metadata={}),\n",
      " CheckedClaim(text='Many experts/scientists believe that climate change is the biggest challenge for humanity', negation='Many experts/scientists do not believe that climate change is the biggest challenge for humanity.', uid='963fe279-2132-4a51-9e3c-a9d5a3ae56e2', n_evidence=None, average_confirmation=None, evidential_uncertainty=None, verbalized_confirmation=None, documents=None, confirmation_by_document=None, metadata={}),\n",
      " CheckedClaim(text='Climate change has the potential to cause severe and far-reaching consequences for human societies and ecosystems', negation='Climate change does not have the potential to cause severe and far-reaching consequences for human societies and ecosystems.', uid='bdcaa34d-07a2-49de-b32f-cefb29b8a187', n_evidence=None, average_confirmation=None, evidential_uncertainty=None, verbalized_confirmation=None, documents=None, confirmation_by_document=None, metadata={})]\n"
     ]
    }
   ],
   "source": [
    "pprint(checked_claims)"
   ]
  },
  {
   "cell_type": "markdown",
   "metadata": {},
   "source": [
    "## Confirmation Analysis Pipeline"
   ]
  },
  {
   "cell_type": "markdown",
   "metadata": {},
   "source": [
    "### Used example"
   ]
  },
  {
   "cell_type": "code",
   "execution_count": 2,
   "metadata": {},
   "outputs": [],
   "source": [
    "from evidence_seeker import (\n",
    "    ConfirmationAnalyzer,\n",
    "    CheckedClaim,\n",
    "    Document\n",
    ")\n",
    "\n",
    "docs = [Document(text='There is high confidence that oxygen levels have \\ndropped in many regions since the mid 20th century and \\nthat the geographic range of many marine organisms has \\nchanged over the last two decades. \\n The amount of ocean warming observed since 1971 \\nwill likely at least double by 2100 under a low warming \\nscenario (SSP1-2.6) and will increase by 4–8 times under \\na high warming scenario (SSP5-8.5).  Stratification (virtually \\ncertain), acidification ( virtually certain ), deoxygenation \\n(high confidence ) and marine heatwave frequency ( high \\nconfidence) will continue to increase in the 21st century. \\n While there is low confidence in 20th century AMOC change, \\nit is very likely that AMOC will decline over the 21st century \\n(Figure TS.11).  {2.3, 3.5, 3.6, 4.3.2, 5.3, 7.2, 9.2, Box\\xa09.2, 12.4}\\nIt is virtually certain that the global ocean has warmed since at least \\n1971, representing about 90% of the increase in the global energy \\ninventory (Section TS.3.1).  The ocean is currently warming faster than \\nat any other time since at least the last deglacial transition (medium \\nconfidence), with warming extending to depths well below 2000 m \\n(very high confidence ).  It is extremely likely that human influence \\nwas the main driver of this recent ocean warming. ', uid='1f47ce98-4105-4ddc-98a9-c4956dab2000', metadata={'page_label': '74', 'file_name': 'IPCC_AR6_WGI_TS.pdf', 'author': 'IPCC Working Group I', 'original_text': 'While there is low confidence in 20th century AMOC change, \\nit is very likely that AMOC will decline over the 21st century \\n(Figure TS.11). '}),\n",
    " Document(text='Based on recent refined \\nanalyses of the available observations, there is high confidence  \\nthat it increased by 4.9 ± 1.5% from 1970–2018, which is about \\ntwice as much as assessed in SROCC, and will continue to increase \\nthroughout the 21st century at a rate depending on the emissions \\nscenario (virtually certain).  {2.3.3, 9.2.1}\\nIt is virtually certain that since 1950 near-surface high-salinity \\nregions have become more saline, while low-salinity regions have \\nbecome fresher, with medium confidence  that this is linked to an \\nintensification of the hydrological cycle (Box TS.6).  It is extremely \\nlikely that human influence has contributed to this salinity change \\nand that the large-scale pattern will grow in amplitude over the 21st \\ncentury (medium confidence).  {2.3.3, 3.5.2, 9.2.2, 12.4.8}\\nThe AMOC was relatively stable during the past 8000 years (medium \\nconfidence).  There is low confidence in the quantification of AMOC \\nchanges in the 20th century because of low agreement in quantitative \\nreconstructed and simulated trends, missing key processes in both \\nmodels and measurements used for formulating proxies, and new \\nmodel evaluations.  Direct observational records since the mid-2000s \\nare too short to determine the relative contributions of internal \\nvariability, natural forcing and anthropogenic forcing to AMOC \\nchange (high confidence).  An AMOC decline over the 21st century \\nis very likely for all SSP scenarios (Figure TS.11b); a possible abrupt \\ndecline is assessed further in Box TS.3. ', uid='6fcd6c0f-99a1-48e7-881f-f79758c54769', metadata={'page_label': '74', 'file_name': 'IPCC_AR6_WGI_TS.pdf', 'author': 'IPCC Working Group I', 'original_text': '{2.3.3, 3.5.2, 9.2.2, 12.4.8}\\nThe AMOC was relatively stable during the past 8000 years (medium \\nconfidence). '}),\n",
    " Document(text='{2.3.3, 3.5.2, 9.2.2, 12.4.8}\\nThe AMOC was relatively stable during the past 8000 years (medium \\nconfidence).  There is low confidence in the quantification of AMOC \\nchanges in the 20th century because of low agreement in quantitative \\nreconstructed and simulated trends, missing key processes in both \\nmodels and measurements used for formulating proxies, and new \\nmodel evaluations.  Direct observational records since the mid-2000s \\nare too short to determine the relative contributions of internal \\nvariability, natural forcing and anthropogenic forcing to AMOC \\nchange (high confidence).  An AMOC decline over the 21st century \\nis very likely for all SSP scenarios (Figure TS.11b); a possible abrupt \\ndecline is assessed further in Box TS.3.  {2.3.3, 3.5.4, 4.3.2, 8.6.1, \\n9.2.3, Cross-Chapter Box\\xa012.3}\\nThere is high confidence that many ocean currents will change in \\nthe 21st century in response to changes in wind stress.   There is low \\nconfidence in 21st century change of Southern Ocean circulation, \\ndespite high confidence  that it is sensitive to changes in wind \\npatterns and increased ice-shelf melt.  Western boundary currents \\nand subtropical gyres have shifted poleward since 1993 ( medium \\nconfidence). ', uid='f52c120f-ff9c-4893-822e-bfca72eaa9c6', metadata={'page_label': '74', 'file_name': 'IPCC_AR6_WGI_TS.pdf', 'author': 'IPCC Working Group I', 'original_text': 'An AMOC decline over the 21st century \\nis very likely for all SSP scenarios (Figure TS.11b); a possible abrupt \\ndecline is assessed further in Box TS.3. '}),\n",
    " Document(text='73\\nTechnical Summary\\nTS\\nBox TS.3 (continued)\\nWhile there is medium confidence  that the projected decline in the AMOC (Section TS.2.4) will not involve an abrupt collapse \\nbefore\\xa02100, such a collapse might be triggered by an unexpected meltwater influx from the Greenland Ice Sheet.  If an AMOC collapse \\nwere to occur, it would very likely cause abrupt shifts in the regional weather patterns and water cycle, such as a southward shift in the \\ntropical rain belt, and could result in weakening of the African and Asian monsoons, strengthening of Southern Hemisphere monsoons, \\nand drying in Europe.  (See also Boxes TS.9 and TS.13).  {4.7.2, 8.6.1, 9.2.3}\\nVery rare extremes and compound or concurrent events, such as the 2018 concurrent heatwaves across the Northern Hemisphere, are \\noften associated with large impacts.  The changing climate state is already altering the likelihood of extreme events, such as decadal \\ndroughts and extreme sea levels, and will continue to do so under future warming. ', uid='1f8242fe-50a2-45e2-bfda-986466f966d4', metadata={'page_label': '73', 'file_name': 'IPCC_AR6_WGI_TS.pdf', 'author': 'IPCC Working Group I', 'original_text': 'If an AMOC collapse \\nwere to occur, it would very likely cause abrupt shifts in the regional weather patterns and water cycle, such as a southward shift in the \\ntropical rain belt, and could result in weakening of the African and Asian monsoons, strengthening of Southern Hemisphere monsoons, \\nand drying in Europe. '}),\n",
    " Document(text='Some processes suspected of having tipping points, such as the Atlantic Meridional Overturning \\nCirculation (AMOC), have been found to often undergo recovery after temperature stabilization with a time delay ( low confidence). \\n However, substantial irreversibility is further substantiated for some cryosphere changes, ocean warming, sea level rise, and ocean \\nacidification.  {4.7.2, 5.3.3, 5.4.9, 9.2.2, 9.2.4, 9.4.1, 9.4.2, 9.6.3}\\nSome climate system components are slow to respond, such as the deep ocean overturning circulation and the ice sheets.  It is likely that \\nunder stabilization of global warming at 1.5°C, 2.0°C or 3.0°C relative to 1850–1900, the AMOC will continue to weaken for several \\ndecades by about 15%, 20% and 30% of its strength and then recover to pre-decline values over several centuries (medium confidence). \\n At sustained warming levels between 2°C and 3°C, there is limited evidence that the Greenland and West Antarctic ice sheets will be lost \\nalmost completely and irreversibly over multiple millennia; both the probability of their complete loss and the rate of mass loss increases \\nwith higher surface temperatures ( high confidence).  At sustained warming levels between 3°C and 5°C, near-complete loss of the \\nGreenland Ice Sheet and complete loss of the West Antarctic Ice Sheet is projected to occur irreversibly over multiple millennia (medium \\nconfidence); with substantial parts or all of Wilkes Subglacial Basin in East Antarctica lost over multiple millennia (low confidence).  Early-\\nwarning signals of accelerated sea level rise from Antarctica could possibly be observed within the next few decades. ', uid='87697b86-aa91-4bdb-b02c-7dbd2af4dd9c', metadata={'page_label': '106', 'file_name': 'IPCC_AR6_WGI_TS.pdf', 'author': 'IPCC Working Group I', 'original_text': 'It is likely that \\nunder stabilization of global warming at 1.5°C, 2.0°C or 3.0°C relative to 1850–1900, the AMOC will continue to weaken for several \\ndecades by about 15%, 20% and 30% of its strength and then recover to pre-decline values over several centuries (medium confidence). \\n'}),\n",
    " Document(text='{2.3.3, 9.2.1}\\nIt is virtually certain that since 1950 near-surface high-salinity \\nregions have become more saline, while low-salinity regions have \\nbecome fresher, with medium confidence  that this is linked to an \\nintensification of the hydrological cycle (Box TS.6).  It is extremely \\nlikely that human influence has contributed to this salinity change \\nand that the large-scale pattern will grow in amplitude over the 21st \\ncentury (medium confidence).  {2.3.3, 3.5.2, 9.2.2, 12.4.8}\\nThe AMOC was relatively stable during the past 8000 years (medium \\nconfidence).  There is low confidence in the quantification of AMOC \\nchanges in the 20th century because of low agreement in quantitative \\nreconstructed and simulated trends, missing key processes in both \\nmodels and measurements used for formulating proxies, and new \\nmodel evaluations.  Direct observational records since the mid-2000s \\nare too short to determine the relative contributions of internal \\nvariability, natural forcing and anthropogenic forcing to AMOC \\nchange (high confidence).  An AMOC decline over the 21st century \\nis very likely for all SSP scenarios (Figure TS.11b); a possible abrupt \\ndecline is assessed further in Box TS.3.  {2.3.3, 3.5.4, 4.3.2, 8.6.1, \\n9.2.3, Cross-Chapter Box\\xa012.3}\\nThere is high confidence that many ocean currents will change in \\nthe 21st century in response to changes in wind stress.  ', uid='abaed8de-7f35-40d8-bc9d-2a6a8e543586', metadata={'page_label': '74', 'file_name': 'IPCC_AR6_WGI_TS.pdf', 'author': 'IPCC Working Group I', 'original_text': 'There is low confidence in the quantification of AMOC \\nchanges in the 20th century because of low agreement in quantitative \\nreconstructed and simulated trends, missing key processes in both \\nmodels and measurements used for formulating proxies, and new \\nmodel evaluations. '}),\n",
    " Document(text='Models that exhibit such tipping points are characterized by abrupt changes once the threshold is crossed, and even \\na return to pre-threshold surface temperatures or to atmospheric carbon dioxide concentrations does not guarantee \\nthat the tipping elements return to their pre-threshold state.  Monitoring and early warning systems are being put into \\nplace to observe tipping elements in the climate system.  {1.3, 1.4.4, 1.5, 4.3.2, Table\\xa04.10, 5.3.4, 5.4.9, 7.5.3, 9.2.2, \\n9.2.4, 9.4.1, 9.4.2, 9.6.3, Cross-chapter Box\\xa012.1}\\nUnderstanding of multi-decadal reversibility (i.e., the system returns to the previous climate state within multiple decades after \\nthe radiative forcing is removed) has improved since AR5 for many atmospheric, land surface and sea ice climate metrics following \\nsea surface temperature recovery.  Some processes suspected of having tipping points, such as the Atlantic Meridional Overturning \\nCirculation (AMOC), have been found to often undergo recovery after temperature stabilization with a time delay ( low confidence). \\n However, substantial irreversibility is further substantiated for some cryosphere changes, ocean warming, sea level rise, and ocean \\nacidification.  {4.7.2, 5.3.3, 5.4.9, 9.2.2, 9.2.4, 9.4.1, 9.4.2, 9.6.3}\\nSome climate system components are slow to respond, such as the deep ocean overturning circulation and the ice sheets.  It is likely that \\nunder stabilization of global warming at 1.5°C, 2.0°C or 3.0°C relative to 1850–1900, the AMOC will continue to weaken for several \\ndecades by about 15%, 20% and 30% of its strength and then recover to pre-decline values over several centuries (medium confidence). \\n', uid='64dce431-7e8d-46cd-9dd8-dc7e2ac18443', metadata={'page_label': '106', 'file_name': 'IPCC_AR6_WGI_TS.pdf', 'author': 'IPCC Working Group I', 'original_text': 'Some processes suspected of having tipping points, such as the Atlantic Meridional Overturning \\nCirculation (AMOC), have been found to often undergo recovery after temperature stabilization with a time delay ( low confidence). \\n'}),\n",
    " Document(text='72\\nTechnical Summary\\nTS\\nBox TS.3 | Low-likelihood, High-warming Storylines\\nFuture global warming exceeding the assessed very likely range cannot be ruled out and is potentially associated \\nwith the highest risks for society and ecosystems.  Such low-likelihood, high-warming storylines tend to exhibit \\nsubstantially greater changes in the intensity of regional drying and wetting than the multi-model mean.  Even at \\nlevels of warming within the very likely range, global and regional low-likelihood outcomes might occur, such as large \\nprecipitation changes, additional sea level rise associated with collapsing ice sheets (see Box TS.4), or abrupt ocean \\ncirculation changes.  While there is medium confidence that the Atlantic Meridional Overturning Circulation (AMOC) \\nwill not experience an abrupt collapse before 2100, if it were to occur, it would very likely cause abrupt shifts in \\nregional weather patterns and water cycle.  The probability of these low-likelihood outcomes increases with higher \\nglobal warming levels.  If the real-world climate sensitivity lies at the high end of the assessed range, then global \\nand regional changes substantially outside the very likely range projections occur for a given emissions scenario. \\n With increasing global warming, some very rare extremes and some compound events (multivariate or concurrent \\nextremes) with low likelihood in past and current climate will become more frequent, and there is a\\xa0higher chance \\nthat events unprecedented in the observational record occur ( high confidence). ', uid='d7162beb-25d2-4653-aecd-2734bfd39693', metadata={'page_label': '72', 'file_name': 'IPCC_AR6_WGI_TS.pdf', 'author': 'IPCC Working Group I', 'original_text': 'While there is medium confidence that the Atlantic Meridional Overturning Circulation (AMOC) \\nwill not experience an abrupt collapse before 2100, if it were to occur, it would very likely cause abrupt shifts in \\nregional weather patterns and water cycle. '})]\n",
    "\n",
    "claim = CheckedClaim(\n",
    "    text=\"The AMOC is slowing down\",\n",
    "    negation=\"The AMOC is not changing\",\n",
    "    uid=\"123\",\n",
    "    documents=docs\n",
    ")\n",
    "evidence_item = docs[0].text\n"
   ]
  },
  {
   "cell_type": "markdown",
   "metadata": {},
   "source": [
    "### Running `ConfirmationAnalyzer`"
   ]
  },
  {
   "cell_type": "code",
   "execution_count": 4,
   "metadata": {},
   "outputs": [
    {
     "name": "stdout",
     "output_type": "stream",
     "text": [
      "{'1f47ce98-4105-4ddc-98a9-c4956dab2000': 0.9366311468505643, '6fcd6c0f-99a1-48e7-881f-f79758c54769': 0.5378353475397207, 'f52c120f-ff9c-4893-822e-bfca72eaa9c6': 0.3276655653091819, '1f8242fe-50a2-45e2-bfda-986466f966d4': 0.40502036963125476, '87697b86-aa91-4bdb-b02c-7dbd2af4dd9c': 0.2906046993400315, 'abaed8de-7f35-40d8-bc9d-2a6a8e543586': 0.2080703532156991, '64dce431-7e8d-46cd-9dd8-dc7e2ac18443': 0.7073955196710597, 'd7162beb-25d2-4653-aecd-2734bfd39693': 0.6922158945091185}\n"
     ]
    }
   ],
   "source": [
    "\n",
    "# so far, only the dummy implementation is available\n",
    "confirmation_analyzer = ConfirmationAnalyzer()\n",
    "checked_claim = await confirmation_analyzer(claim=claim) \n",
    "print(checked_claim.confirmation_by_document)"
   ]
  },
  {
   "cell_type": "markdown",
   "metadata": {},
   "source": [
    "### Running the workflow directly"
   ]
  },
  {
   "cell_type": "code",
   "execution_count": 4,
   "metadata": {},
   "outputs": [
    {
     "name": "stdout",
     "output_type": "stream",
     "text": [
      "Used api key name: token_debatelab_hf_endpoints\n",
      "Instantiating OpenAILike model (model: meta-llama/Llama-3.2-3B-Instruct,base_url: https://dchi8b9swca6gxbe.eu-west-1.aws.endpoints.huggingface.cloud/v1/).\n",
      "Confirmation analysis.\n",
      "Confirmation analysis.\n",
      "Used regex in multiple_choice_confirmation_analysis_event: [A,B]\n",
      "Response format: {'type': 'regex', 'value': '[A,B]'}\n",
      "WARNING: The number of alternative first token is higher than the number of given response choices. Perhaps, the constraint decoding does not work as expected.\n",
      "WARNING: The list of alternative first token is not equal to the given response choices. Perhaps, the constraint decoding does not work as expected.\n",
      "{'evidence_item': 'There is high confidence that oxygen levels have \\n'\n",
      "                  'dropped in many regions since the mid 20th century and \\n'\n",
      "                  'that the geographic range of many marine organisms has \\n'\n",
      "                  'changed over the last two decades. \\n'\n",
      "                  ' The amount of ocean warming observed since 1971 \\n'\n",
      "                  'will likely at least double by 2100 under a low warming \\n'\n",
      "                  'scenario (SSP1-2.6) and will increase by 4–8 times under \\n'\n",
      "                  'a high warming scenario (SSP5-8.5).  Stratification '\n",
      "                  '(virtually \\n'\n",
      "                  'certain), acidification ( virtually certain ), '\n",
      "                  'deoxygenation \\n'\n",
      "                  '(high confidence ) and marine heatwave frequency ( high \\n'\n",
      "                  'confidence) will continue to increase in the 21st '\n",
      "                  'century. \\n'\n",
      "                  ' While there is low confidence in 20th century AMOC '\n",
      "                  'change, \\n'\n",
      "                  'it is very likely that AMOC will decline over the 21st '\n",
      "                  'century \\n'\n",
      "                  '(Figure TS.11).  {2.3, 3.5, 3.6, 4.3.2, 5.3, 7.2, 9.2, '\n",
      "                  'Box\\xa09.2, 12.4}\\n'\n",
      "                  'It is virtually certain that the global ocean has warmed '\n",
      "                  'since at least \\n'\n",
      "                  '1971, representing about 90% of the increase in the global '\n",
      "                  'energy \\n'\n",
      "                  'inventory (Section TS.3.1).  The ocean is currently warming '\n",
      "                  'faster than \\n'\n",
      "                  'at any other time since at least the last deglacial '\n",
      "                  'transition (medium \\n'\n",
      "                  'confidence), with warming extending to depths well below '\n",
      "                  '2000 m \\n'\n",
      "                  '(very high confidence ).  It is extremely likely that human '\n",
      "                  'influence \\n'\n",
      "                  'was the main driver of this recent ocean warming. ',\n",
      " 'freetext_confirmation_analysis_event': 'After analyzing the provided text, I '\n",
      "                                         'have concluded the following:\\n'\n",
      "                                         '\\n'\n",
      "                                         '1. **Entailment of the claim**: The '\n",
      "                                         'text does not directly entail the '\n",
      "                                         'claim that the AMOC (Atlantic '\n",
      "                                         'Meridional Overturning Circulation) '\n",
      "                                         'is slowing down. However, it does '\n",
      "                                         'state that \"it is very likely that '\n",
      "                                         'AMOC will decline over the 21st '\n",
      "                                         'century\" (high confidence), which '\n",
      "                                         'implies a decline in the AMOC. This '\n",
      "                                         'statement is consistent with the '\n",
      "                                         'claim, but it does not explicitly '\n",
      "                                         'state that the AMOC is slowing '\n",
      "                                         'down.\\n'\n",
      "                                         '\\n'\n",
      "                                         '2. **Empirical evidence in favour or '\n",
      "                                         'against the claim**: The text '\n",
      "                                         'provides empirical evidence that '\n",
      "                                         'supports the claim. It mentions that '\n",
      "                                         'the ocean is currently warming '\n",
      "                                         'faster than at any other time since '\n",
      "                                         'at least the last deglacial '\n",
      "                                         'transition (medium confidence), with '\n",
      "                                         'warming extending to depths well '\n",
      "                                         'below 2000 m (very high confidence). '\n",
      "                                         'This evidence suggests that the '\n",
      "                                         'ocean is warming, which is '\n",
      "                                         'consistent with the claim that the '\n",
      "                                         'AMOC is slowing down. Additionally, '\n",
      "                                         'the text mentions that the amount of '\n",
      "                                         'ocean warming observed since 1971 '\n",
      "                                         'will likely at least double by 2100 '\n",
      "                                         'under a low warming scenario '\n",
      "                                         '(SSP1-2.6) and will increase by 4–8 '\n",
      "                                         'times under a high warming scenario '\n",
      "                                         '(SSP5-8.5), which further supports '\n",
      "                                         'the claim.\\n'\n",
      "                                         '\\n'\n",
      "                                         '3. **Trustworthy parties**: The text '\n",
      "                                         'cites various references (e.g., '\n",
      "                                         'Figure TS.11, Section TS.3.1, Box '\n",
      "                                         '9.2, 12.4) that are likely to be '\n",
      "                                         'from trustworthy parties, such as '\n",
      "                                         'experts in the field of oceanography '\n",
      "                                         'and climate science. However, the '\n",
      "                                         'text does not explicitly mention '\n",
      "                                         'specific experts or organizations '\n",
      "                                         'that speak in favour of the claim. '\n",
      "                                         'Nevertheless, the references '\n",
      "                                         'provided are likely to be from '\n",
      "                                         'reputable sources, such as the '\n",
      "                                         'Intergovernmental Panel on Climate '\n",
      "                                         'Change (IPCC) or peer-reviewed '\n",
      "                                         'journals, which increases the '\n",
      "                                         'credibility of the information '\n",
      "                                         'presented.\\n'\n",
      "                                         '\\n'\n",
      "                                         'In conclusion, the text provides '\n",
      "                                         'empirical evidence that supports the '\n",
      "                                         'claim that the AMOC is slowing down, '\n",
      "                                         'but it does not explicitly state the '\n",
      "                                         'claim. The text cites trustworthy '\n",
      "                                         'parties, but the references provided '\n",
      "                                         'are not explicitly mentioned. '\n",
      "                                         'Overall, the text is consistent with '\n",
      "                                         'the claim, but it does not provide '\n",
      "                                         'conclusive evidence to confirm or '\n",
      "                                         'deny it.',\n",
      " 'freetext_confirmation_analysis_event_negation': 'Analysis of the claim and '\n",
      "                                                  'the provided text:\\n'\n",
      "                                                  '\\n'\n",
      "                                                  '1. **Entailment of the '\n",
      "                                                  'claim**: The text does not '\n",
      "                                                  'entail the claim \"The AMOC '\n",
      "                                                  'is not changing\". In fact, '\n",
      "                                                  'it suggests that the '\n",
      "                                                  'Atlantic Meridional '\n",
      "                                                  'Overturning Circulation '\n",
      "                                                  '(AMOC) will decline over '\n",
      "                                                  'the 21st century, which is '\n",
      "                                                  'inconsistent with the '\n",
      "                                                  'claim.\\n'\n",
      "                                                  '\\n'\n",
      "                                                  '2. **Empirical evidence in '\n",
      "                                                  'favour or against the '\n",
      "                                                  'claim**: The text presents '\n",
      "                                                  'empirical evidence that '\n",
      "                                                  'supports the claim that the '\n",
      "                                                  'ocean is warming, and this '\n",
      "                                                  'warming is likely to be '\n",
      "                                                  'driven by human influence. '\n",
      "                                                  'The evidence includes:\\n'\n",
      "                                                  '   - High confidence that '\n",
      "                                                  'oxygen levels have dropped '\n",
      "                                                  'in many regions since the '\n",
      "                                                  'mid-20th century.\\n'\n",
      "                                                  '   - High confidence that '\n",
      "                                                  'the geographic range of '\n",
      "                                                  'many marine organisms has '\n",
      "                                                  'changed over the last two '\n",
      "                                                  'decades.\\n'\n",
      "                                                  '   - Virtually certain '\n",
      "                                                  'stratification, '\n",
      "                                                  'acidification, '\n",
      "                                                  'deoxygenation, and marine '\n",
      "                                                  'heatwave frequency will '\n",
      "                                                  'continue to increase in the '\n",
      "                                                  '21st century.\\n'\n",
      "                                                  '   - Extremely likely that '\n",
      "                                                  'human influence was the '\n",
      "                                                  'main driver of recent ocean '\n",
      "                                                  'warming.\\n'\n",
      "                                                  '   - High confidence that '\n",
      "                                                  'the ocean is currently '\n",
      "                                                  'warming faster than at any '\n",
      "                                                  'other time since at least '\n",
      "                                                  'the last deglacial '\n",
      "                                                  'transition.\\n'\n",
      "                                                  '\\n'\n",
      "                                                  '   However, the text does '\n",
      "                                                  'not provide direct evidence '\n",
      "                                                  'for or against the claim '\n",
      "                                                  'that the AMOC is changing. '\n",
      "                                                  'The statement that \"While '\n",
      "                                                  'there is low confidence in '\n",
      "                                                  '20th century AMOC change, '\n",
      "                                                  'it is very likely that AMOC '\n",
      "                                                  'will decline over the 21st '\n",
      "                                                  'century\" suggests that the '\n",
      "                                                  'AMOC may be changing, but '\n",
      "                                                  'the confidence level is '\n",
      "                                                  'low, which does not provide '\n",
      "                                                  'strong evidence for or '\n",
      "                                                  'against the claim.\\n'\n",
      "                                                  '\\n'\n",
      "                                                  '3. **Trustworthy parties**: '\n",
      "                                                  'The text cites references '\n",
      "                                                  'to various sections of the '\n",
      "                                                  'report, which are likely to '\n",
      "                                                  'be from a trustworthy '\n",
      "                                                  'source, such as the '\n",
      "                                                  'Intergovernmental Panel on '\n",
      "                                                  'Climate Change (IPCC) or a '\n",
      "                                                  'similar reputable '\n",
      "                                                  'scientific organization. '\n",
      "                                                  'However, the text does not '\n",
      "                                                  'explicitly mention specific '\n",
      "                                                  'experts or parties that '\n",
      "                                                  'speak in favour of the '\n",
      "                                                  'claim.',\n",
      " 'multiple_choice_confirmation_analysis_event': 0.9999999999999956,\n",
      " 'statement': 'The AMOC is slowing down',\n",
      " 'statement_negation': 'The AMOC is not changing'}\n"
     ]
    }
   ],
   "source": [
    "import yaml\n",
    "from pprint import pprint\n",
    "\n",
    "from evidence_seeker import (\n",
    "    PreprocessingSeparateListingsWorkflow,\n",
    "    SimpleConfirmationAnalysisWorkflow,\n",
    "    get_openai_llm\n",
    ")\n",
    "\n",
    "\n",
    "config_version = \"v0.1\"\n",
    "config_file = \"../config.yaml\" \n",
    "\n",
    "with open(config_file, 'r') as file:\n",
    "    config_dict = yaml.safe_load(file)\n",
    "    if config_dict['config_version'] != config_version:\n",
    "        raise ValueError(f\"The version of the config file does not match the used version ({config_version})\")\n",
    "    \n",
    "#pprint(config_dict)\n",
    "\n",
    "api_key_name = config_dict['models'][config_dict['used_model']]['api_key_name']\n",
    "model = config_dict['models'][config_dict['used_model']]['model']\n",
    "base_url = config_dict['models'][config_dict['used_model']]['base_url']\n",
    "llm=get_openai_llm(api_key_name=api_key_name, model=model, base_url=base_url, max_tokens=2048)\n",
    "\n",
    "pw = SimpleConfirmationAnalysisWorkflow(timeout=120, verbose=False, llm=llm, config=config_dict)\n",
    "#pw = SimplePreprocessingWorkflow(timeout=120, verbose=False, llm=llm, config=config_dict)\n",
    "\n",
    "result = await pw.run(\n",
    "    clarified_claim=claim,\n",
    "    evidence_item=evidence_item\n",
    ")\n",
    "pprint(result)"
   ]
  }
 ],
 "metadata": {
  "kernelspec": {
   "display_name": "evidence-seeker",
   "language": "python",
   "name": "python3"
  },
  "language_info": {
   "codemirror_mode": {
    "name": "ipython",
    "version": 3
   },
   "file_extension": ".py",
   "mimetype": "text/x-python",
   "name": "python",
   "nbconvert_exporter": "python",
   "pygments_lexer": "ipython3",
   "version": "3.12.3"
  }
 },
 "nbformat": 4,
 "nbformat_minor": 2
}
