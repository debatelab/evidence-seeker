{
 "cells": [
  {
   "cell_type": "markdown",
   "metadata": {},
   "source": [
    "# Testing Pipelines"
   ]
  },
  {
   "cell_type": "markdown",
   "metadata": {},
   "source": [
    "### Initiating observation via Phoenix"
   ]
  },
  {
   "cell_type": "code",
   "execution_count": 1,
   "metadata": {},
   "outputs": [
    {
     "name": "stdout",
     "output_type": "stream",
     "text": [
      "🌍 To view the Phoenix app in your browser, visit http://localhost:6006/\n",
      "📖 For more information on how to use Phoenix, check out https://docs.arize.com/phoenix\n"
     ]
    }
   ],
   "source": [
    "# %pip pip install arize-phoenix\n",
    "# %pip install llama-index-callbacks-arize-phoenix\n",
    "# observability\n",
    "import phoenix as px\n",
    "px.launch_app()\n",
    "\n",
    "import llama_index.core\n",
    "llama_index.core.set_global_handler(\"arize_phoenix\", endpoint=\"http://localhost:6006/v1/traces\")"
   ]
  },
  {
   "cell_type": "markdown",
   "metadata": {},
   "source": [
    "### Save default config"
   ]
  },
  {
   "cell_type": "code",
   "execution_count": 4,
   "metadata": {},
   "outputs": [
    {
     "data": {
      "text/plain": [
       "3489"
      ]
     },
     "execution_count": 4,
     "metadata": {},
     "output_type": "execute_result"
    }
   ],
   "source": [
    "import pathlib\n",
    "import yaml\n",
    "\n",
    "from evidence_seeker.confirmation_analysis import ConfirmationAnalyzerConfig\n",
    "\n",
    "configfile = pathlib.Path(\"../configs/confirmation_analysis_config_default.yaml\")\n",
    "\n",
    "default_config = ConfirmationAnalyzerConfig()\n",
    "default_config_dict = default_config.model_dump()\n",
    "\n",
    "#configfile.write_text(yaml.dump(default_config_dict))\n"
   ]
  },
  {
   "cell_type": "markdown",
   "metadata": {},
   "source": [
    "## Confirmation Analysis Pipeline"
   ]
  },
  {
   "cell_type": "markdown",
   "metadata": {},
   "source": [
    "### Visualizing Workflow"
   ]
  },
  {
   "cell_type": "code",
   "execution_count": 2,
   "metadata": {},
   "outputs": [
    {
     "name": "stderr",
     "output_type": "stream",
     "text": [
      "None of PyTorch, TensorFlow >= 2.0, or Flax have been found. Models won't be available and only tokenizers, configuration and file/data utilities can be used.\n"
     ]
    },
    {
     "name": "stdout",
     "output_type": "stream",
     "text": [
      "<class 'NoneType'>\n",
      "<class 'llama_index.core.workflow.events.StopEvent'>\n",
      "<class 'evidence_seeker.confirmation_analysis.MultipleChoiceConfirmationAnalysisEvent'>\n",
      "<class 'evidence_seeker.confirmation_analysis.CollectAnalysesEvent'>\n",
      "<class 'evidence_seeker.confirmation_analysis.FreetextConfirmationAnalysisEvent'>\n",
      "../TMP/SimpleConfirmationAnalysisWorkflow.html\n"
     ]
    },
    {
     "name": "stderr",
     "output_type": "stream",
     "text": [
      "WARNING: All log messages before absl::InitializeLog() is called are written to STDERR\n",
      "I0000 00:00:1733908524.128929  100746 fork_posix.cc:75] Other threads are currently calling into gRPC, skipping fork() handlers\n",
      "I0000 00:00:1733908524.164964  100746 fork_posix.cc:75] Other threads are currently calling into gRPC, skipping fork() handlers\n"
     ]
    }
   ],
   "source": [
    "\n",
    "import os\n",
    "from llama_index.utils.workflow import draw_all_possible_flows\n",
    "from evidence_seeker.confirmation_analysis import (\n",
    "    SimpleConfirmationAnalysisWorkflow\n",
    ")\n",
    "\n",
    "# create dir ../tmp if not exists\n",
    "os.makedirs(\"../TMP\", exist_ok=True)\n",
    "\n",
    "draw_all_possible_flows(\n",
    "    SimpleConfirmationAnalysisWorkflow, filename=\"../TMP/SimpleConfirmationAnalysisWorkflow.html\"\n",
    ")\n"
   ]
  },
  {
   "cell_type": "markdown",
   "metadata": {},
   "source": [
    "### Used example"
   ]
  },
  {
   "cell_type": "code",
   "execution_count": 1,
   "metadata": {},
   "outputs": [],
   "source": [
    "from evidence_seeker.models import (\n",
    "    CheckedClaim,\n",
    "    Document\n",
    ")\n",
    "\n",
    "docs = [Document(text='There is high confidence that oxygen levels have \\ndropped in many regions since the mid 20th century and \\nthat the geographic range of many marine organisms has \\nchanged over the last two decades. \\n The amount of ocean warming observed since 1971 \\nwill likely at least double by 2100 under a low warming \\nscenario (SSP1-2.6) and will increase by 4–8 times under \\na high warming scenario (SSP5-8.5).  Stratification (virtually \\ncertain), acidification ( virtually certain ), deoxygenation \\n(high confidence ) and marine heatwave frequency ( high \\nconfidence) will continue to increase in the 21st century. \\n While there is low confidence in 20th century AMOC change, \\nit is very likely that AMOC will decline over the 21st century \\n(Figure TS.11).  {2.3, 3.5, 3.6, 4.3.2, 5.3, 7.2, 9.2, Box\\xa09.2, 12.4}\\nIt is virtually certain that the global ocean has warmed since at least \\n1971, representing about 90% of the increase in the global energy \\ninventory (Section TS.3.1).  The ocean is currently warming faster than \\nat any other time since at least the last deglacial transition (medium \\nconfidence), with warming extending to depths well below 2000 m \\n(very high confidence ).  It is extremely likely that human influence \\nwas the main driver of this recent ocean warming. ', uid='1f47ce98-4105-4ddc-98a9-c4956dab2000', metadata={'page_label': '74', 'file_name': 'IPCC_AR6_WGI_TS.pdf', 'author': 'IPCC Working Group I', 'original_text': 'While there is low confidence in 20th century AMOC change, \\nit is very likely that AMOC will decline over the 21st century \\n(Figure TS.11). '}),\n",
    " Document(text='Based on recent refined \\nanalyses of the available observations, there is high confidence  \\nthat it increased by 4.9 ± 1.5% from 1970–2018, which is about \\ntwice as much as assessed in SROCC, and will continue to increase \\nthroughout the 21st century at a rate depending on the emissions \\nscenario (virtually certain).  {2.3.3, 9.2.1}\\nIt is virtually certain that since 1950 near-surface high-salinity \\nregions have become more saline, while low-salinity regions have \\nbecome fresher, with medium confidence  that this is linked to an \\nintensification of the hydrological cycle (Box TS.6).  It is extremely \\nlikely that human influence has contributed to this salinity change \\nand that the large-scale pattern will grow in amplitude over the 21st \\ncentury (medium confidence).  {2.3.3, 3.5.2, 9.2.2, 12.4.8}\\nThe AMOC was relatively stable during the past 8000 years (medium \\nconfidence).  There is low confidence in the quantification of AMOC \\nchanges in the 20th century because of low agreement in quantitative \\nreconstructed and simulated trends, missing key processes in both \\nmodels and measurements used for formulating proxies, and new \\nmodel evaluations.  Direct observational records since the mid-2000s \\nare too short to determine the relative contributions of internal \\nvariability, natural forcing and anthropogenic forcing to AMOC \\nchange (high confidence).  An AMOC decline over the 21st century \\nis very likely for all SSP scenarios (Figure TS.11b); a possible abrupt \\ndecline is assessed further in Box TS.3. ', uid='6fcd6c0f-99a1-48e7-881f-f79758c54769', metadata={'page_label': '74', 'file_name': 'IPCC_AR6_WGI_TS.pdf', 'author': 'IPCC Working Group I', 'original_text': '{2.3.3, 3.5.2, 9.2.2, 12.4.8}\\nThe AMOC was relatively stable during the past 8000 years (medium \\nconfidence). '}),\n",
    " Document(text='{2.3.3, 3.5.2, 9.2.2, 12.4.8}\\nThe AMOC was relatively stable during the past 8000 years (medium \\nconfidence).  There is low confidence in the quantification of AMOC \\nchanges in the 20th century because of low agreement in quantitative \\nreconstructed and simulated trends, missing key processes in both \\nmodels and measurements used for formulating proxies, and new \\nmodel evaluations.  Direct observational records since the mid-2000s \\nare too short to determine the relative contributions of internal \\nvariability, natural forcing and anthropogenic forcing to AMOC \\nchange (high confidence).  An AMOC decline over the 21st century \\nis very likely for all SSP scenarios (Figure TS.11b); a possible abrupt \\ndecline is assessed further in Box TS.3.  {2.3.3, 3.5.4, 4.3.2, 8.6.1, \\n9.2.3, Cross-Chapter Box\\xa012.3}\\nThere is high confidence that many ocean currents will change in \\nthe 21st century in response to changes in wind stress.   There is low \\nconfidence in 21st century change of Southern Ocean circulation, \\ndespite high confidence  that it is sensitive to changes in wind \\npatterns and increased ice-shelf melt.  Western boundary currents \\nand subtropical gyres have shifted poleward since 1993 ( medium \\nconfidence). ', uid='f52c120f-ff9c-4893-822e-bfca72eaa9c6', metadata={'page_label': '74', 'file_name': 'IPCC_AR6_WGI_TS.pdf', 'author': 'IPCC Working Group I', 'original_text': 'An AMOC decline over the 21st century \\nis very likely for all SSP scenarios (Figure TS.11b); a possible abrupt \\ndecline is assessed further in Box TS.3. '}),\n",
    " Document(text='73\\nTechnical Summary\\nTS\\nBox TS.3 (continued)\\nWhile there is medium confidence  that the projected decline in the AMOC (Section TS.2.4) will not involve an abrupt collapse \\nbefore\\xa02100, such a collapse might be triggered by an unexpected meltwater influx from the Greenland Ice Sheet.  If an AMOC collapse \\nwere to occur, it would very likely cause abrupt shifts in the regional weather patterns and water cycle, such as a southward shift in the \\ntropical rain belt, and could result in weakening of the African and Asian monsoons, strengthening of Southern Hemisphere monsoons, \\nand drying in Europe.  (See also Boxes TS.9 and TS.13).  {4.7.2, 8.6.1, 9.2.3}\\nVery rare extremes and compound or concurrent events, such as the 2018 concurrent heatwaves across the Northern Hemisphere, are \\noften associated with large impacts.  The changing climate state is already altering the likelihood of extreme events, such as decadal \\ndroughts and extreme sea levels, and will continue to do so under future warming. ', uid='1f8242fe-50a2-45e2-bfda-986466f966d4', metadata={'page_label': '73', 'file_name': 'IPCC_AR6_WGI_TS.pdf', 'author': 'IPCC Working Group I', 'original_text': 'If an AMOC collapse \\nwere to occur, it would very likely cause abrupt shifts in the regional weather patterns and water cycle, such as a southward shift in the \\ntropical rain belt, and could result in weakening of the African and Asian monsoons, strengthening of Southern Hemisphere monsoons, \\nand drying in Europe. '}),\n",
    " Document(text='Some processes suspected of having tipping points, such as the Atlantic Meridional Overturning \\nCirculation (AMOC), have been found to often undergo recovery after temperature stabilization with a time delay ( low confidence). \\n However, substantial irreversibility is further substantiated for some cryosphere changes, ocean warming, sea level rise, and ocean \\nacidification.  {4.7.2, 5.3.3, 5.4.9, 9.2.2, 9.2.4, 9.4.1, 9.4.2, 9.6.3}\\nSome climate system components are slow to respond, such as the deep ocean overturning circulation and the ice sheets.  It is likely that \\nunder stabilization of global warming at 1.5°C, 2.0°C or 3.0°C relative to 1850–1900, the AMOC will continue to weaken for several \\ndecades by about 15%, 20% and 30% of its strength and then recover to pre-decline values over several centuries (medium confidence). \\n At sustained warming levels between 2°C and 3°C, there is limited evidence that the Greenland and West Antarctic ice sheets will be lost \\nalmost completely and irreversibly over multiple millennia; both the probability of their complete loss and the rate of mass loss increases \\nwith higher surface temperatures ( high confidence).  At sustained warming levels between 3°C and 5°C, near-complete loss of the \\nGreenland Ice Sheet and complete loss of the West Antarctic Ice Sheet is projected to occur irreversibly over multiple millennia (medium \\nconfidence); with substantial parts or all of Wilkes Subglacial Basin in East Antarctica lost over multiple millennia (low confidence).  Early-\\nwarning signals of accelerated sea level rise from Antarctica could possibly be observed within the next few decades. ', uid='87697b86-aa91-4bdb-b02c-7dbd2af4dd9c', metadata={'page_label': '106', 'file_name': 'IPCC_AR6_WGI_TS.pdf', 'author': 'IPCC Working Group I', 'original_text': 'It is likely that \\nunder stabilization of global warming at 1.5°C, 2.0°C or 3.0°C relative to 1850–1900, the AMOC will continue to weaken for several \\ndecades by about 15%, 20% and 30% of its strength and then recover to pre-decline values over several centuries (medium confidence). \\n'}),\n",
    " Document(text='{2.3.3, 9.2.1}\\nIt is virtually certain that since 1950 near-surface high-salinity \\nregions have become more saline, while low-salinity regions have \\nbecome fresher, with medium confidence  that this is linked to an \\nintensification of the hydrological cycle (Box TS.6).  It is extremely \\nlikely that human influence has contributed to this salinity change \\nand that the large-scale pattern will grow in amplitude over the 21st \\ncentury (medium confidence).  {2.3.3, 3.5.2, 9.2.2, 12.4.8}\\nThe AMOC was relatively stable during the past 8000 years (medium \\nconfidence).  There is low confidence in the quantification of AMOC \\nchanges in the 20th century because of low agreement in quantitative \\nreconstructed and simulated trends, missing key processes in both \\nmodels and measurements used for formulating proxies, and new \\nmodel evaluations.  Direct observational records since the mid-2000s \\nare too short to determine the relative contributions of internal \\nvariability, natural forcing and anthropogenic forcing to AMOC \\nchange (high confidence).  An AMOC decline over the 21st century \\nis very likely for all SSP scenarios (Figure TS.11b); a possible abrupt \\ndecline is assessed further in Box TS.3.  {2.3.3, 3.5.4, 4.3.2, 8.6.1, \\n9.2.3, Cross-Chapter Box\\xa012.3}\\nThere is high confidence that many ocean currents will change in \\nthe 21st century in response to changes in wind stress.  ', uid='abaed8de-7f35-40d8-bc9d-2a6a8e543586', metadata={'page_label': '74', 'file_name': 'IPCC_AR6_WGI_TS.pdf', 'author': 'IPCC Working Group I', 'original_text': 'There is low confidence in the quantification of AMOC \\nchanges in the 20th century because of low agreement in quantitative \\nreconstructed and simulated trends, missing key processes in both \\nmodels and measurements used for formulating proxies, and new \\nmodel evaluations. '}),\n",
    " Document(text='Models that exhibit such tipping points are characterized by abrupt changes once the threshold is crossed, and even \\na return to pre-threshold surface temperatures or to atmospheric carbon dioxide concentrations does not guarantee \\nthat the tipping elements return to their pre-threshold state.  Monitoring and early warning systems are being put into \\nplace to observe tipping elements in the climate system.  {1.3, 1.4.4, 1.5, 4.3.2, Table\\xa04.10, 5.3.4, 5.4.9, 7.5.3, 9.2.2, \\n9.2.4, 9.4.1, 9.4.2, 9.6.3, Cross-chapter Box\\xa012.1}\\nUnderstanding of multi-decadal reversibility (i.e., the system returns to the previous climate state within multiple decades after \\nthe radiative forcing is removed) has improved since AR5 for many atmospheric, land surface and sea ice climate metrics following \\nsea surface temperature recovery.  Some processes suspected of having tipping points, such as the Atlantic Meridional Overturning \\nCirculation (AMOC), have been found to often undergo recovery after temperature stabilization with a time delay ( low confidence). \\n However, substantial irreversibility is further substantiated for some cryosphere changes, ocean warming, sea level rise, and ocean \\nacidification.  {4.7.2, 5.3.3, 5.4.9, 9.2.2, 9.2.4, 9.4.1, 9.4.2, 9.6.3}\\nSome climate system components are slow to respond, such as the deep ocean overturning circulation and the ice sheets.  It is likely that \\nunder stabilization of global warming at 1.5°C, 2.0°C or 3.0°C relative to 1850–1900, the AMOC will continue to weaken for several \\ndecades by about 15%, 20% and 30% of its strength and then recover to pre-decline values over several centuries (medium confidence). \\n', uid='64dce431-7e8d-46cd-9dd8-dc7e2ac18443', metadata={'page_label': '106', 'file_name': 'IPCC_AR6_WGI_TS.pdf', 'author': 'IPCC Working Group I', 'original_text': 'Some processes suspected of having tipping points, such as the Atlantic Meridional Overturning \\nCirculation (AMOC), have been found to often undergo recovery after temperature stabilization with a time delay ( low confidence). \\n'}),\n",
    " Document(text='72\\nTechnical Summary\\nTS\\nBox TS.3 | Low-likelihood, High-warming Storylines\\nFuture global warming exceeding the assessed very likely range cannot be ruled out and is potentially associated \\nwith the highest risks for society and ecosystems.  Such low-likelihood, high-warming storylines tend to exhibit \\nsubstantially greater changes in the intensity of regional drying and wetting than the multi-model mean.  Even at \\nlevels of warming within the very likely range, global and regional low-likelihood outcomes might occur, such as large \\nprecipitation changes, additional sea level rise associated with collapsing ice sheets (see Box TS.4), or abrupt ocean \\ncirculation changes.  While there is medium confidence that the Atlantic Meridional Overturning Circulation (AMOC) \\nwill not experience an abrupt collapse before 2100, if it were to occur, it would very likely cause abrupt shifts in \\nregional weather patterns and water cycle.  The probability of these low-likelihood outcomes increases with higher \\nglobal warming levels.  If the real-world climate sensitivity lies at the high end of the assessed range, then global \\nand regional changes substantially outside the very likely range projections occur for a given emissions scenario. \\n With increasing global warming, some very rare extremes and some compound events (multivariate or concurrent \\nextremes) with low likelihood in past and current climate will become more frequent, and there is a\\xa0higher chance \\nthat events unprecedented in the observational record occur ( high confidence). ', uid='d7162beb-25d2-4653-aecd-2734bfd39693', metadata={'page_label': '72', 'file_name': 'IPCC_AR6_WGI_TS.pdf', 'author': 'IPCC Working Group I', 'original_text': 'While there is medium confidence that the Atlantic Meridional Overturning Circulation (AMOC) \\nwill not experience an abrupt collapse before 2100, if it were to occur, it would very likely cause abrupt shifts in \\nregional weather patterns and water cycle. '})]\n",
    "\n",
    "claim = CheckedClaim(\n",
    "    text=\"The AMOC is slowing down\",\n",
    "    negation=\"The AMOC is not changing\",\n",
    "    uid=\"123\",\n",
    "    documents=docs[0:2]\n",
    ")\n",
    "\n"
   ]
  },
  {
   "cell_type": "markdown",
   "metadata": {},
   "source": [
    "### Running `ConfirmationAnalyzer`"
   ]
  },
  {
   "cell_type": "code",
   "execution_count": 2,
   "metadata": {},
   "outputs": [
    {
     "name": "stderr",
     "output_type": "stream",
     "text": [
      "\u001b[32m2024-12-12 13:35:01.173\u001b[0m | \u001b[34m\u001b[1mDEBUG   \u001b[0m | \u001b[36mevidence_seeker.backend\u001b[0m:\u001b[36mget_openai_llm\u001b[0m:\u001b[36m117\u001b[0m - \u001b[34m\u001b[1mInstantiating OpenAILike model (model: meta-llama/Llama-3.1-70B-Instruct,base_url: https://huggingface.co/api/integrations/dgx/v1).\u001b[0m\n",
      "\u001b[32m2024-12-12 13:35:01.177\u001b[0m | \u001b[34m\u001b[1mDEBUG   \u001b[0m | \u001b[36mevidence_seeker.confirmation_analysis.workflows\u001b[0m:\u001b[36mfreetext_analysis\u001b[0m:\u001b[36m72\u001b[0m - \u001b[34m\u001b[1mConfirmation analysis.\u001b[0m\n",
      "\u001b[32m2024-12-12 13:35:01.232\u001b[0m | \u001b[34m\u001b[1mDEBUG   \u001b[0m | \u001b[36mevidence_seeker.confirmation_analysis.workflows\u001b[0m:\u001b[36mfreetext_analysis\u001b[0m:\u001b[36m72\u001b[0m - \u001b[34m\u001b[1mConfirmation analysis.\u001b[0m\n"
     ]
    },
    {
     "name": "stdout",
     "output_type": "stream",
     "text": [
      "Fetching api key via env var: HF_TOKEN_EVIDENCE_SEEKER\n"
     ]
    },
    {
     "name": "stderr",
     "output_type": "stream",
     "text": [
      "\u001b[32m2024-12-12 13:35:05.519\u001b[0m | \u001b[34m\u001b[1mDEBUG   \u001b[0m | \u001b[36mevidence_seeker.backend\u001b[0m:\u001b[36mget_openai_llm\u001b[0m:\u001b[36m117\u001b[0m - \u001b[34m\u001b[1mInstantiating OpenAILike model (model: meta-llama/Llama-3.2-3B-Instruct,base_url: https://dchi8b9swca6gxbe.eu-west-1.aws.endpoints.huggingface.cloud/v1/).\u001b[0m\n",
      "\u001b[32m2024-12-12 13:35:05.521\u001b[0m | \u001b[34m\u001b[1mDEBUG   \u001b[0m | \u001b[36mevidence_seeker.confirmation_analysis.workflows\u001b[0m:\u001b[36mmultiple_choice\u001b[0m:\u001b[36m103\u001b[0m - \u001b[34m\u001b[1mUsed regex in MultipleChoiceConfirmationAnalysis: (\\(A)|(\\(B)|(\\(C)\u001b[0m\n"
     ]
    },
    {
     "name": "stdout",
     "output_type": "stream",
     "text": [
      "Fetching api key via env var: HF_TOKEN_EVIDENCE_SEEKER\n"
     ]
    },
    {
     "name": "stderr",
     "output_type": "stream",
     "text": [
      "\u001b[32m2024-12-12 13:35:06.290\u001b[0m | \u001b[34m\u001b[1mDEBUG   \u001b[0m | \u001b[36mevidence_seeker.confirmation_analysis.workflows\u001b[0m:\u001b[36mmultiple_choice\u001b[0m:\u001b[36m117\u001b[0m - \u001b[34m\u001b[1mReturned probabilities: {'(B': 1.0, '(C': 7.074144948561961e-17, '(A': 2.0531435257962544e-22}\u001b[0m\n"
     ]
    },
    {
     "name": "stdout",
     "output_type": "stream",
     "text": [
      "WARNING: The number of alternative first token is higher than the number of given response choices. Perhaps, the constrained decoding does not work as expected.\n",
      "WARNING: The list of alternative first token is not equal to the given response choices. Perhaps, the constrained decoding does not work as expected.\n"
     ]
    },
    {
     "name": "stderr",
     "output_type": "stream",
     "text": [
      "\u001b[32m2024-12-12 13:35:06.672\u001b[0m | \u001b[34m\u001b[1mDEBUG   \u001b[0m | \u001b[36mevidence_seeker.backend\u001b[0m:\u001b[36mget_openai_llm\u001b[0m:\u001b[36m117\u001b[0m - \u001b[34m\u001b[1mInstantiating OpenAILike model (model: meta-llama/Llama-3.2-3B-Instruct,base_url: https://dchi8b9swca6gxbe.eu-west-1.aws.endpoints.huggingface.cloud/v1/).\u001b[0m\n",
      "\u001b[32m2024-12-12 13:35:06.679\u001b[0m | \u001b[34m\u001b[1mDEBUG   \u001b[0m | \u001b[36mevidence_seeker.confirmation_analysis.workflows\u001b[0m:\u001b[36mmultiple_choice\u001b[0m:\u001b[36m103\u001b[0m - \u001b[34m\u001b[1mUsed regex in MultipleChoiceConfirmationAnalysis: (\\(A)|(\\(B)|(\\(C)\u001b[0m\n"
     ]
    },
    {
     "name": "stdout",
     "output_type": "stream",
     "text": [
      "Fetching api key via env var: HF_TOKEN_EVIDENCE_SEEKER\n"
     ]
    },
    {
     "name": "stderr",
     "output_type": "stream",
     "text": [
      "\u001b[32m2024-12-12 13:35:07.452\u001b[0m | \u001b[34m\u001b[1mDEBUG   \u001b[0m | \u001b[36mevidence_seeker.confirmation_analysis.workflows\u001b[0m:\u001b[36mmultiple_choice\u001b[0m:\u001b[36m117\u001b[0m - \u001b[34m\u001b[1mReturned probabilities: {'(C': 0.8519368999586238, '(A': 0.14806251496708017, '(B': 5.850742960539914e-07}\u001b[0m\n",
      "\u001b[32m2024-12-12 13:35:07.468\u001b[0m | \u001b[34m\u001b[1mDEBUG   \u001b[0m | \u001b[36mevidence_seeker.confirmation_analysis.workflows\u001b[0m:\u001b[36mfreetext_analysis\u001b[0m:\u001b[36m72\u001b[0m - \u001b[34m\u001b[1mConfirmation analysis.\u001b[0m\n",
      "\u001b[32m2024-12-12 13:35:07.500\u001b[0m | \u001b[34m\u001b[1mDEBUG   \u001b[0m | \u001b[36mevidence_seeker.confirmation_analysis.workflows\u001b[0m:\u001b[36mfreetext_analysis\u001b[0m:\u001b[36m72\u001b[0m - \u001b[34m\u001b[1mConfirmation analysis.\u001b[0m\n"
     ]
    },
    {
     "name": "stdout",
     "output_type": "stream",
     "text": [
      "WARNING: The number of alternative first token is higher than the number of given response choices. Perhaps, the constrained decoding does not work as expected.\n",
      "WARNING: The list of alternative first token is not equal to the given response choices. Perhaps, the constrained decoding does not work as expected.\n"
     ]
    },
    {
     "name": "stderr",
     "output_type": "stream",
     "text": [
      "\u001b[32m2024-12-12 13:35:14.604\u001b[0m | \u001b[34m\u001b[1mDEBUG   \u001b[0m | \u001b[36mevidence_seeker.backend\u001b[0m:\u001b[36mget_openai_llm\u001b[0m:\u001b[36m117\u001b[0m - \u001b[34m\u001b[1mInstantiating OpenAILike model (model: meta-llama/Llama-3.2-3B-Instruct,base_url: https://dchi8b9swca6gxbe.eu-west-1.aws.endpoints.huggingface.cloud/v1/).\u001b[0m\n",
      "\u001b[32m2024-12-12 13:35:14.611\u001b[0m | \u001b[34m\u001b[1mDEBUG   \u001b[0m | \u001b[36mevidence_seeker.confirmation_analysis.workflows\u001b[0m:\u001b[36mmultiple_choice\u001b[0m:\u001b[36m103\u001b[0m - \u001b[34m\u001b[1mUsed regex in MultipleChoiceConfirmationAnalysis: (\\(A)|(\\(B)|(\\(C)\u001b[0m\n",
      "\u001b[32m2024-12-12 13:35:14.799\u001b[0m | \u001b[34m\u001b[1mDEBUG   \u001b[0m | \u001b[36mevidence_seeker.backend\u001b[0m:\u001b[36mget_openai_llm\u001b[0m:\u001b[36m117\u001b[0m - \u001b[34m\u001b[1mInstantiating OpenAILike model (model: meta-llama/Llama-3.2-3B-Instruct,base_url: https://dchi8b9swca6gxbe.eu-west-1.aws.endpoints.huggingface.cloud/v1/).\u001b[0m\n",
      "\u001b[32m2024-12-12 13:35:14.800\u001b[0m | \u001b[34m\u001b[1mDEBUG   \u001b[0m | \u001b[36mevidence_seeker.confirmation_analysis.workflows\u001b[0m:\u001b[36mmultiple_choice\u001b[0m:\u001b[36m103\u001b[0m - \u001b[34m\u001b[1mUsed regex in MultipleChoiceConfirmationAnalysis: (\\(A)|(\\(B)|(\\(C)\u001b[0m\n"
     ]
    },
    {
     "name": "stdout",
     "output_type": "stream",
     "text": [
      "Fetching api key via env var: HF_TOKEN_EVIDENCE_SEEKER\n",
      "Fetching api key via env var: HF_TOKEN_EVIDENCE_SEEKER\n"
     ]
    },
    {
     "name": "stderr",
     "output_type": "stream",
     "text": [
      "\u001b[32m2024-12-12 13:35:15.817\u001b[0m | \u001b[34m\u001b[1mDEBUG   \u001b[0m | \u001b[36mevidence_seeker.confirmation_analysis.workflows\u001b[0m:\u001b[36mmultiple_choice\u001b[0m:\u001b[36m117\u001b[0m - \u001b[34m\u001b[1mReturned probabilities: {'(C': 1.0, '(A': 1.2293020642516584e-17, '(B': 4.876643319676632e-23}\u001b[0m\n",
      "\u001b[32m2024-12-12 13:35:15.820\u001b[0m | \u001b[34m\u001b[1mDEBUG   \u001b[0m | \u001b[36mevidence_seeker.confirmation_analysis.workflows\u001b[0m:\u001b[36mmultiple_choice\u001b[0m:\u001b[36m117\u001b[0m - \u001b[34m\u001b[1mReturned probabilities: {'(B': 0.9999999999996523, '(C': 3.476778716493976e-13, '(A': 1.7709775351700213e-18}\u001b[0m\n"
     ]
    },
    {
     "name": "stdout",
     "output_type": "stream",
     "text": [
      "WARNING: The number of alternative first token is higher than the number of given response choices. Perhaps, the constrained decoding does not work as expected.\n",
      "WARNING: The list of alternative first token is not equal to the given response choices. Perhaps, the constrained decoding does not work as expected.\n",
      "WARNING: The number of alternative first token is higher than the number of given response choices. Perhaps, the constrained decoding does not work as expected.\n",
      "WARNING: The list of alternative first token is not equal to the given response choices. Perhaps, the constrained decoding does not work as expected.\n",
      "text='The AMOC is slowing down' negation='The AMOC is not changing' uid='123' n_evidence=None average_confirmation=None evidential_uncertainty=None verbalized_confirmation=None documents=[Document(text='There is high confidence that oxygen levels have \\ndropped in many regions since the mid 20th century and \\nthat the geographic range of many marine organisms has \\nchanged over the last two decades. \\n The amount of ocean warming observed since 1971 \\nwill likely at least double by 2100 under a low warming \\nscenario (SSP1-2.6) and will increase by 4–8 times under \\na high warming scenario (SSP5-8.5).  Stratification (virtually \\ncertain), acidification ( virtually certain ), deoxygenation \\n(high confidence ) and marine heatwave frequency ( high \\nconfidence) will continue to increase in the 21st century. \\n While there is low confidence in 20th century AMOC change, \\nit is very likely that AMOC will decline over the 21st century \\n(Figure TS.11).  {2.3, 3.5, 3.6, 4.3.2, 5.3, 7.2, 9.2, Box\\xa09.2, 12.4}\\nIt is virtually certain that the global ocean has warmed since at least \\n1971, representing about 90% of the increase in the global energy \\ninventory (Section TS.3.1).  The ocean is currently warming faster than \\nat any other time since at least the last deglacial transition (medium \\nconfidence), with warming extending to depths well below 2000 m \\n(very high confidence ).  It is extremely likely that human influence \\nwas the main driver of this recent ocean warming. ', uid='1f47ce98-4105-4ddc-98a9-c4956dab2000', metadata={'page_label': '74', 'file_name': 'IPCC_AR6_WGI_TS.pdf', 'author': 'IPCC Working Group I', 'original_text': 'While there is low confidence in 20th century AMOC change, \\nit is very likely that AMOC will decline over the 21st century \\n(Figure TS.11). '}), Document(text='Based on recent refined \\nanalyses of the available observations, there is high confidence  \\nthat it increased by 4.9 ± 1.5% from 1970–2018, which is about \\ntwice as much as assessed in SROCC, and will continue to increase \\nthroughout the 21st century at a rate depending on the emissions \\nscenario (virtually certain).  {2.3.3, 9.2.1}\\nIt is virtually certain that since 1950 near-surface high-salinity \\nregions have become more saline, while low-salinity regions have \\nbecome fresher, with medium confidence  that this is linked to an \\nintensification of the hydrological cycle (Box TS.6).  It is extremely \\nlikely that human influence has contributed to this salinity change \\nand that the large-scale pattern will grow in amplitude over the 21st \\ncentury (medium confidence).  {2.3.3, 3.5.2, 9.2.2, 12.4.8}\\nThe AMOC was relatively stable during the past 8000 years (medium \\nconfidence).  There is low confidence in the quantification of AMOC \\nchanges in the 20th century because of low agreement in quantitative \\nreconstructed and simulated trends, missing key processes in both \\nmodels and measurements used for formulating proxies, and new \\nmodel evaluations.  Direct observational records since the mid-2000s \\nare too short to determine the relative contributions of internal \\nvariability, natural forcing and anthropogenic forcing to AMOC \\nchange (high confidence).  An AMOC decline over the 21st century \\nis very likely for all SSP scenarios (Figure TS.11b); a possible abrupt \\ndecline is assessed further in Box TS.3. ', uid='6fcd6c0f-99a1-48e7-881f-f79758c54769', metadata={'page_label': '74', 'file_name': 'IPCC_AR6_WGI_TS.pdf', 'author': 'IPCC Working Group I', 'original_text': '{2.3.3, 3.5.2, 9.2.2, 12.4.8}\\nThe AMOC was relatively stable during the past 8000 years (medium \\nconfidence). '})] confirmation_by_document={'1f47ce98-4105-4ddc-98a9-c4956dab2000': 0.14806251496708017, '6fcd6c0f-99a1-48e7-881f-f79758c54769': 1.0522043107346562e-17} metadata={}\n"
     ]
    }
   ],
   "source": [
    "import pathlib\n",
    "from evidence_seeker.confirmation_analysis import (\n",
    "    ConfirmationAnalyzer, ConfirmationAnalyzerConfig\n",
    ")\n",
    "\n",
    "config = ConfirmationAnalyzerConfig()\n",
    "confirmation_analyzer = ConfirmationAnalyzer(config=config)\n",
    "\n",
    "#config_file = pathlib.Path(\"../configs/confirmation_analysis_config_default.yaml\")\n",
    "#confirmation_analyzer = ConfirmationAnalyzer.from_config_file(config_file)\n",
    "\n",
    "\n",
    "checked_claim = await confirmation_analyzer(claim=claim) \n",
    "#print(checked_claim.confirmation_by_document)\n",
    "print(checked_claim)"
   ]
  }
 ],
 "metadata": {
  "kernelspec": {
   "display_name": "evidence-seeker",
   "language": "python",
   "name": "python3"
  },
  "language_info": {
   "codemirror_mode": {
    "name": "ipython",
    "version": 3
   },
   "file_extension": ".py",
   "mimetype": "text/x-python",
   "name": "python",
   "nbconvert_exporter": "python",
   "pygments_lexer": "ipython3",
   "version": "3.10.14"
  }
 },
 "nbformat": 4,
 "nbformat_minor": 2
}
