{
 "cells": [
  {
   "cell_type": "markdown",
   "metadata": {},
   "source": [
    "# Testing Pipelines"
   ]
  },
  {
   "cell_type": "markdown",
   "metadata": {},
   "source": [
    "### Initiating observation via Phoenix"
   ]
  },
  {
   "cell_type": "code",
   "execution_count": 1,
   "metadata": {},
   "outputs": [
    {
     "name": "stdout",
     "output_type": "stream",
     "text": [
      "🌍 To view the Phoenix app in your browser, visit http://localhost:6006/\n",
      "📖 For more information on how to use Phoenix, check out https://docs.arize.com/phoenix\n"
     ]
    }
   ],
   "source": [
    "# %pip pip install arize-phoenix\n",
    "# %pip install llama-index-callbacks-arize-phoenix\n",
    "# observability\n",
    "import phoenix as px\n",
    "px.launch_app()\n",
    "\n",
    "import llama_index.core\n",
    "llama_index.core.set_global_handler(\"arize_phoenix\", endpoint=\"http://localhost:6006/v1/traces\")"
   ]
  },
  {
   "cell_type": "markdown",
   "metadata": {},
   "source": [
    "### Save default config"
   ]
  },
  {
   "cell_type": "code",
   "execution_count": 4,
   "metadata": {},
   "outputs": [
    {
     "data": {
      "text/plain": [
       "3489"
      ]
     },
     "execution_count": 4,
     "metadata": {},
     "output_type": "execute_result"
    }
   ],
   "source": [
    "import pathlib\n",
    "import yaml\n",
    "\n",
    "from evidence_seeker.confirmation_analysis import ConfirmationAnalyzerConfig\n",
    "\n",
    "configfile = pathlib.Path(\"../configs/confirmation_analysis_config_default.yaml\")\n",
    "\n",
    "default_config = ConfirmationAnalyzerConfig()\n",
    "default_config_dict = default_config.model_dump()\n",
    "\n",
    "configfile.write_text(yaml.dump(default_config_dict))\n"
   ]
  },
  {
   "cell_type": "markdown",
   "metadata": {},
   "source": [
    "## Confirmation Analysis Pipeline"
   ]
  },
  {
   "cell_type": "markdown",
   "metadata": {},
   "source": [
    "### Visualizing Workflow"
   ]
  },
  {
   "cell_type": "code",
   "execution_count": 2,
   "metadata": {},
   "outputs": [
    {
     "name": "stderr",
     "output_type": "stream",
     "text": [
      "None of PyTorch, TensorFlow >= 2.0, or Flax have been found. Models won't be available and only tokenizers, configuration and file/data utilities can be used.\n"
     ]
    },
    {
     "name": "stdout",
     "output_type": "stream",
     "text": [
      "<class 'NoneType'>\n",
      "<class 'llama_index.core.workflow.events.StopEvent'>\n",
      "<class 'evidence_seeker.confirmation_analysis.MultipleChoiceConfirmationAnalysisEvent'>\n",
      "<class 'evidence_seeker.confirmation_analysis.CollectAnalysesEvent'>\n",
      "<class 'evidence_seeker.confirmation_analysis.FreetextConfirmationAnalysisEvent'>\n",
      "../TMP/SimpleConfirmationAnalysisWorkflow.html\n"
     ]
    },
    {
     "name": "stderr",
     "output_type": "stream",
     "text": [
      "WARNING: All log messages before absl::InitializeLog() is called are written to STDERR\n",
      "I0000 00:00:1733908524.128929  100746 fork_posix.cc:75] Other threads are currently calling into gRPC, skipping fork() handlers\n",
      "I0000 00:00:1733908524.164964  100746 fork_posix.cc:75] Other threads are currently calling into gRPC, skipping fork() handlers\n"
     ]
    }
   ],
   "source": [
    "\n",
    "import os\n",
    "from llama_index.utils.workflow import draw_all_possible_flows\n",
    "from evidence_seeker.confirmation_analysis import (\n",
    "    SimpleConfirmationAnalysisWorkflow\n",
    ")\n",
    "\n",
    "# create dir ../tmp if not exists\n",
    "os.makedirs(\"../TMP\", exist_ok=True)\n",
    "\n",
    "draw_all_possible_flows(\n",
    "    SimpleConfirmationAnalysisWorkflow, filename=\"../TMP/SimpleConfirmationAnalysisWorkflow.html\"\n",
    ")\n"
   ]
  },
  {
   "cell_type": "markdown",
   "metadata": {},
   "source": [
    "### Used example"
   ]
  },
  {
   "cell_type": "code",
   "execution_count": 1,
   "metadata": {},
   "outputs": [
    {
     "name": "stderr",
     "output_type": "stream",
     "text": [
      "None of PyTorch, TensorFlow >= 2.0, or Flax have been found. Models won't be available and only tokenizers, configuration and file/data utilities can be used.\n"
     ]
    }
   ],
   "source": [
    "from evidence_seeker.models import (\n",
    "    CheckedClaim,\n",
    "    Document\n",
    ")\n",
    "\n",
    "docs = [Document(text='There is high confidence that oxygen levels have \\ndropped in many regions since the mid 20th century and \\nthat the geographic range of many marine organisms has \\nchanged over the last two decades. \\n The amount of ocean warming observed since 1971 \\nwill likely at least double by 2100 under a low warming \\nscenario (SSP1-2.6) and will increase by 4–8 times under \\na high warming scenario (SSP5-8.5).  Stratification (virtually \\ncertain), acidification ( virtually certain ), deoxygenation \\n(high confidence ) and marine heatwave frequency ( high \\nconfidence) will continue to increase in the 21st century. \\n While there is low confidence in 20th century AMOC change, \\nit is very likely that AMOC will decline over the 21st century \\n(Figure TS.11).  {2.3, 3.5, 3.6, 4.3.2, 5.3, 7.2, 9.2, Box\\xa09.2, 12.4}\\nIt is virtually certain that the global ocean has warmed since at least \\n1971, representing about 90% of the increase in the global energy \\ninventory (Section TS.3.1).  The ocean is currently warming faster than \\nat any other time since at least the last deglacial transition (medium \\nconfidence), with warming extending to depths well below 2000 m \\n(very high confidence ).  It is extremely likely that human influence \\nwas the main driver of this recent ocean warming. ', uid='1f47ce98-4105-4ddc-98a9-c4956dab2000', metadata={'page_label': '74', 'file_name': 'IPCC_AR6_WGI_TS.pdf', 'author': 'IPCC Working Group I', 'original_text': 'While there is low confidence in 20th century AMOC change, \\nit is very likely that AMOC will decline over the 21st century \\n(Figure TS.11). '}),\n",
    " Document(text='Based on recent refined \\nanalyses of the available observations, there is high confidence  \\nthat it increased by 4.9 ± 1.5% from 1970–2018, which is about \\ntwice as much as assessed in SROCC, and will continue to increase \\nthroughout the 21st century at a rate depending on the emissions \\nscenario (virtually certain).  {2.3.3, 9.2.1}\\nIt is virtually certain that since 1950 near-surface high-salinity \\nregions have become more saline, while low-salinity regions have \\nbecome fresher, with medium confidence  that this is linked to an \\nintensification of the hydrological cycle (Box TS.6).  It is extremely \\nlikely that human influence has contributed to this salinity change \\nand that the large-scale pattern will grow in amplitude over the 21st \\ncentury (medium confidence).  {2.3.3, 3.5.2, 9.2.2, 12.4.8}\\nThe AMOC was relatively stable during the past 8000 years (medium \\nconfidence).  There is low confidence in the quantification of AMOC \\nchanges in the 20th century because of low agreement in quantitative \\nreconstructed and simulated trends, missing key processes in both \\nmodels and measurements used for formulating proxies, and new \\nmodel evaluations.  Direct observational records since the mid-2000s \\nare too short to determine the relative contributions of internal \\nvariability, natural forcing and anthropogenic forcing to AMOC \\nchange (high confidence).  An AMOC decline over the 21st century \\nis very likely for all SSP scenarios (Figure TS.11b); a possible abrupt \\ndecline is assessed further in Box TS.3. ', uid='6fcd6c0f-99a1-48e7-881f-f79758c54769', metadata={'page_label': '74', 'file_name': 'IPCC_AR6_WGI_TS.pdf', 'author': 'IPCC Working Group I', 'original_text': '{2.3.3, 3.5.2, 9.2.2, 12.4.8}\\nThe AMOC was relatively stable during the past 8000 years (medium \\nconfidence). '}),\n",
    " Document(text='{2.3.3, 3.5.2, 9.2.2, 12.4.8}\\nThe AMOC was relatively stable during the past 8000 years (medium \\nconfidence).  There is low confidence in the quantification of AMOC \\nchanges in the 20th century because of low agreement in quantitative \\nreconstructed and simulated trends, missing key processes in both \\nmodels and measurements used for formulating proxies, and new \\nmodel evaluations.  Direct observational records since the mid-2000s \\nare too short to determine the relative contributions of internal \\nvariability, natural forcing and anthropogenic forcing to AMOC \\nchange (high confidence).  An AMOC decline over the 21st century \\nis very likely for all SSP scenarios (Figure TS.11b); a possible abrupt \\ndecline is assessed further in Box TS.3.  {2.3.3, 3.5.4, 4.3.2, 8.6.1, \\n9.2.3, Cross-Chapter Box\\xa012.3}\\nThere is high confidence that many ocean currents will change in \\nthe 21st century in response to changes in wind stress.   There is low \\nconfidence in 21st century change of Southern Ocean circulation, \\ndespite high confidence  that it is sensitive to changes in wind \\npatterns and increased ice-shelf melt.  Western boundary currents \\nand subtropical gyres have shifted poleward since 1993 ( medium \\nconfidence). ', uid='f52c120f-ff9c-4893-822e-bfca72eaa9c6', metadata={'page_label': '74', 'file_name': 'IPCC_AR6_WGI_TS.pdf', 'author': 'IPCC Working Group I', 'original_text': 'An AMOC decline over the 21st century \\nis very likely for all SSP scenarios (Figure TS.11b); a possible abrupt \\ndecline is assessed further in Box TS.3. '}),\n",
    " Document(text='73\\nTechnical Summary\\nTS\\nBox TS.3 (continued)\\nWhile there is medium confidence  that the projected decline in the AMOC (Section TS.2.4) will not involve an abrupt collapse \\nbefore\\xa02100, such a collapse might be triggered by an unexpected meltwater influx from the Greenland Ice Sheet.  If an AMOC collapse \\nwere to occur, it would very likely cause abrupt shifts in the regional weather patterns and water cycle, such as a southward shift in the \\ntropical rain belt, and could result in weakening of the African and Asian monsoons, strengthening of Southern Hemisphere monsoons, \\nand drying in Europe.  (See also Boxes TS.9 and TS.13).  {4.7.2, 8.6.1, 9.2.3}\\nVery rare extremes and compound or concurrent events, such as the 2018 concurrent heatwaves across the Northern Hemisphere, are \\noften associated with large impacts.  The changing climate state is already altering the likelihood of extreme events, such as decadal \\ndroughts and extreme sea levels, and will continue to do so under future warming. ', uid='1f8242fe-50a2-45e2-bfda-986466f966d4', metadata={'page_label': '73', 'file_name': 'IPCC_AR6_WGI_TS.pdf', 'author': 'IPCC Working Group I', 'original_text': 'If an AMOC collapse \\nwere to occur, it would very likely cause abrupt shifts in the regional weather patterns and water cycle, such as a southward shift in the \\ntropical rain belt, and could result in weakening of the African and Asian monsoons, strengthening of Southern Hemisphere monsoons, \\nand drying in Europe. '}),\n",
    " Document(text='Some processes suspected of having tipping points, such as the Atlantic Meridional Overturning \\nCirculation (AMOC), have been found to often undergo recovery after temperature stabilization with a time delay ( low confidence). \\n However, substantial irreversibility is further substantiated for some cryosphere changes, ocean warming, sea level rise, and ocean \\nacidification.  {4.7.2, 5.3.3, 5.4.9, 9.2.2, 9.2.4, 9.4.1, 9.4.2, 9.6.3}\\nSome climate system components are slow to respond, such as the deep ocean overturning circulation and the ice sheets.  It is likely that \\nunder stabilization of global warming at 1.5°C, 2.0°C or 3.0°C relative to 1850–1900, the AMOC will continue to weaken for several \\ndecades by about 15%, 20% and 30% of its strength and then recover to pre-decline values over several centuries (medium confidence). \\n At sustained warming levels between 2°C and 3°C, there is limited evidence that the Greenland and West Antarctic ice sheets will be lost \\nalmost completely and irreversibly over multiple millennia; both the probability of their complete loss and the rate of mass loss increases \\nwith higher surface temperatures ( high confidence).  At sustained warming levels between 3°C and 5°C, near-complete loss of the \\nGreenland Ice Sheet and complete loss of the West Antarctic Ice Sheet is projected to occur irreversibly over multiple millennia (medium \\nconfidence); with substantial parts or all of Wilkes Subglacial Basin in East Antarctica lost over multiple millennia (low confidence).  Early-\\nwarning signals of accelerated sea level rise from Antarctica could possibly be observed within the next few decades. ', uid='87697b86-aa91-4bdb-b02c-7dbd2af4dd9c', metadata={'page_label': '106', 'file_name': 'IPCC_AR6_WGI_TS.pdf', 'author': 'IPCC Working Group I', 'original_text': 'It is likely that \\nunder stabilization of global warming at 1.5°C, 2.0°C or 3.0°C relative to 1850–1900, the AMOC will continue to weaken for several \\ndecades by about 15%, 20% and 30% of its strength and then recover to pre-decline values over several centuries (medium confidence). \\n'}),\n",
    " Document(text='{2.3.3, 9.2.1}\\nIt is virtually certain that since 1950 near-surface high-salinity \\nregions have become more saline, while low-salinity regions have \\nbecome fresher, with medium confidence  that this is linked to an \\nintensification of the hydrological cycle (Box TS.6).  It is extremely \\nlikely that human influence has contributed to this salinity change \\nand that the large-scale pattern will grow in amplitude over the 21st \\ncentury (medium confidence).  {2.3.3, 3.5.2, 9.2.2, 12.4.8}\\nThe AMOC was relatively stable during the past 8000 years (medium \\nconfidence).  There is low confidence in the quantification of AMOC \\nchanges in the 20th century because of low agreement in quantitative \\nreconstructed and simulated trends, missing key processes in both \\nmodels and measurements used for formulating proxies, and new \\nmodel evaluations.  Direct observational records since the mid-2000s \\nare too short to determine the relative contributions of internal \\nvariability, natural forcing and anthropogenic forcing to AMOC \\nchange (high confidence).  An AMOC decline over the 21st century \\nis very likely for all SSP scenarios (Figure TS.11b); a possible abrupt \\ndecline is assessed further in Box TS.3.  {2.3.3, 3.5.4, 4.3.2, 8.6.1, \\n9.2.3, Cross-Chapter Box\\xa012.3}\\nThere is high confidence that many ocean currents will change in \\nthe 21st century in response to changes in wind stress.  ', uid='abaed8de-7f35-40d8-bc9d-2a6a8e543586', metadata={'page_label': '74', 'file_name': 'IPCC_AR6_WGI_TS.pdf', 'author': 'IPCC Working Group I', 'original_text': 'There is low confidence in the quantification of AMOC \\nchanges in the 20th century because of low agreement in quantitative \\nreconstructed and simulated trends, missing key processes in both \\nmodels and measurements used for formulating proxies, and new \\nmodel evaluations. '}),\n",
    " Document(text='Models that exhibit such tipping points are characterized by abrupt changes once the threshold is crossed, and even \\na return to pre-threshold surface temperatures or to atmospheric carbon dioxide concentrations does not guarantee \\nthat the tipping elements return to their pre-threshold state.  Monitoring and early warning systems are being put into \\nplace to observe tipping elements in the climate system.  {1.3, 1.4.4, 1.5, 4.3.2, Table\\xa04.10, 5.3.4, 5.4.9, 7.5.3, 9.2.2, \\n9.2.4, 9.4.1, 9.4.2, 9.6.3, Cross-chapter Box\\xa012.1}\\nUnderstanding of multi-decadal reversibility (i.e., the system returns to the previous climate state within multiple decades after \\nthe radiative forcing is removed) has improved since AR5 for many atmospheric, land surface and sea ice climate metrics following \\nsea surface temperature recovery.  Some processes suspected of having tipping points, such as the Atlantic Meridional Overturning \\nCirculation (AMOC), have been found to often undergo recovery after temperature stabilization with a time delay ( low confidence). \\n However, substantial irreversibility is further substantiated for some cryosphere changes, ocean warming, sea level rise, and ocean \\nacidification.  {4.7.2, 5.3.3, 5.4.9, 9.2.2, 9.2.4, 9.4.1, 9.4.2, 9.6.3}\\nSome climate system components are slow to respond, such as the deep ocean overturning circulation and the ice sheets.  It is likely that \\nunder stabilization of global warming at 1.5°C, 2.0°C or 3.0°C relative to 1850–1900, the AMOC will continue to weaken for several \\ndecades by about 15%, 20% and 30% of its strength and then recover to pre-decline values over several centuries (medium confidence). \\n', uid='64dce431-7e8d-46cd-9dd8-dc7e2ac18443', metadata={'page_label': '106', 'file_name': 'IPCC_AR6_WGI_TS.pdf', 'author': 'IPCC Working Group I', 'original_text': 'Some processes suspected of having tipping points, such as the Atlantic Meridional Overturning \\nCirculation (AMOC), have been found to often undergo recovery after temperature stabilization with a time delay ( low confidence). \\n'}),\n",
    " Document(text='72\\nTechnical Summary\\nTS\\nBox TS.3 | Low-likelihood, High-warming Storylines\\nFuture global warming exceeding the assessed very likely range cannot be ruled out and is potentially associated \\nwith the highest risks for society and ecosystems.  Such low-likelihood, high-warming storylines tend to exhibit \\nsubstantially greater changes in the intensity of regional drying and wetting than the multi-model mean.  Even at \\nlevels of warming within the very likely range, global and regional low-likelihood outcomes might occur, such as large \\nprecipitation changes, additional sea level rise associated with collapsing ice sheets (see Box TS.4), or abrupt ocean \\ncirculation changes.  While there is medium confidence that the Atlantic Meridional Overturning Circulation (AMOC) \\nwill not experience an abrupt collapse before 2100, if it were to occur, it would very likely cause abrupt shifts in \\nregional weather patterns and water cycle.  The probability of these low-likelihood outcomes increases with higher \\nglobal warming levels.  If the real-world climate sensitivity lies at the high end of the assessed range, then global \\nand regional changes substantially outside the very likely range projections occur for a given emissions scenario. \\n With increasing global warming, some very rare extremes and some compound events (multivariate or concurrent \\nextremes) with low likelihood in past and current climate will become more frequent, and there is a\\xa0higher chance \\nthat events unprecedented in the observational record occur ( high confidence). ', uid='d7162beb-25d2-4653-aecd-2734bfd39693', metadata={'page_label': '72', 'file_name': 'IPCC_AR6_WGI_TS.pdf', 'author': 'IPCC Working Group I', 'original_text': 'While there is medium confidence that the Atlantic Meridional Overturning Circulation (AMOC) \\nwill not experience an abrupt collapse before 2100, if it were to occur, it would very likely cause abrupt shifts in \\nregional weather patterns and water cycle. '})]\n",
    "\n",
    "claim = CheckedClaim(\n",
    "    text=\"The AMOC is slowing down\",\n",
    "    negation=\"The AMOC is not changing\",\n",
    "    uid=\"123\",\n",
    "    documents=docs[0:2]\n",
    ")\n",
    "\n"
   ]
  },
  {
   "cell_type": "markdown",
   "metadata": {},
   "source": [
    "### Running `ConfirmationAnalyzer`"
   ]
  },
  {
   "cell_type": "code",
   "execution_count": 3,
   "metadata": {},
   "outputs": [
    {
     "name": "stderr",
     "output_type": "stream",
     "text": [
      "\u001b[32m2024-12-12 09:13:08.329\u001b[0m | \u001b[34m\u001b[1mDEBUG   \u001b[0m | \u001b[36mevidence_seeker.backend\u001b[0m:\u001b[36mget_openai_llm\u001b[0m:\u001b[36m117\u001b[0m - \u001b[34m\u001b[1mInstantiating OpenAILike model (model: meta-llama/Llama-3.1-70B-Instruct,base_url: https://huggingface.co/api/integrations/dgx/v1).\u001b[0m\n",
      "\u001b[32m2024-12-12 09:13:08.332\u001b[0m | \u001b[34m\u001b[1mDEBUG   \u001b[0m | \u001b[36mevidence_seeker.confirmation_analysis.workflows\u001b[0m:\u001b[36mfreetext_analysis\u001b[0m:\u001b[36m72\u001b[0m - \u001b[34m\u001b[1mConfirmation analysis.\u001b[0m\n",
      "\u001b[32m2024-12-12 09:13:08.378\u001b[0m | \u001b[34m\u001b[1mDEBUG   \u001b[0m | \u001b[36mevidence_seeker.confirmation_analysis.workflows\u001b[0m:\u001b[36mfreetext_analysis\u001b[0m:\u001b[36m72\u001b[0m - \u001b[34m\u001b[1mConfirmation analysis.\u001b[0m\n"
     ]
    },
    {
     "name": "stdout",
     "output_type": "stream",
     "text": [
      "Fetching api key via env var: HF_TOKEN_EVIDENCE_SEEKER\n"
     ]
    },
    {
     "name": "stderr",
     "output_type": "stream",
     "text": [
      "\u001b[32m2024-12-12 09:13:12.467\u001b[0m | \u001b[34m\u001b[1mDEBUG   \u001b[0m | \u001b[36mevidence_seeker.backend\u001b[0m:\u001b[36mget_openai_llm\u001b[0m:\u001b[36m117\u001b[0m - \u001b[34m\u001b[1mInstantiating OpenAILike model (model: meta-llama/Llama-3.2-3B-Instruct,base_url: https://dchi8b9swca6gxbe.eu-west-1.aws.endpoints.huggingface.cloud/v1/).\u001b[0m\n",
      "\u001b[32m2024-12-12 09:13:12.468\u001b[0m | \u001b[34m\u001b[1mDEBUG   \u001b[0m | \u001b[36mevidence_seeker.confirmation_analysis.workflows\u001b[0m:\u001b[36mmultiple_choice\u001b[0m:\u001b[36m102\u001b[0m - \u001b[34m\u001b[1mUsed regex in MultipleChoiceConfirmationAnalysis: [ABC]\u001b[0m\n",
      "\u001b[32m2024-12-12 09:13:12.517\u001b[0m | \u001b[34m\u001b[1mDEBUG   \u001b[0m | \u001b[36mevidence_seeker.backend\u001b[0m:\u001b[36mget_openai_llm\u001b[0m:\u001b[36m117\u001b[0m - \u001b[34m\u001b[1mInstantiating OpenAILike model (model: meta-llama/Llama-3.2-3B-Instruct,base_url: https://dchi8b9swca6gxbe.eu-west-1.aws.endpoints.huggingface.cloud/v1/).\u001b[0m\n",
      "\u001b[32m2024-12-12 09:13:12.518\u001b[0m | \u001b[34m\u001b[1mDEBUG   \u001b[0m | \u001b[36mevidence_seeker.confirmation_analysis.workflows\u001b[0m:\u001b[36mmultiple_choice\u001b[0m:\u001b[36m102\u001b[0m - \u001b[34m\u001b[1mUsed regex in MultipleChoiceConfirmationAnalysis: [ABC]\u001b[0m\n"
     ]
    },
    {
     "name": "stdout",
     "output_type": "stream",
     "text": [
      "Fetching api key via env var: HF_TOKEN_EVIDENCE_SEEKER\n",
      "Fetching api key via env var: HF_TOKEN_EVIDENCE_SEEKER\n"
     ]
    },
    {
     "name": "stderr",
     "output_type": "stream",
     "text": [
      "\u001b[32m2024-12-12 09:13:14.989\u001b[0m | \u001b[34m\u001b[1mDEBUG   \u001b[0m | \u001b[36mevidence_seeker.confirmation_analysis.workflows\u001b[0m:\u001b[36mmultiple_choice\u001b[0m:\u001b[36m116\u001b[0m - \u001b[34m\u001b[1mReturned probabilities: {'A': np.float64(0.9999999999999059), 'C': np.float64(9.357622968839294e-14), 'B': np.float64(6.711761854005965e-16)}\u001b[0m\n",
      "\u001b[32m2024-12-12 09:13:14.992\u001b[0m | \u001b[34m\u001b[1mDEBUG   \u001b[0m | \u001b[36mevidence_seeker.confirmation_analysis.workflows\u001b[0m:\u001b[36mmultiple_choice\u001b[0m:\u001b[36m116\u001b[0m - \u001b[34m\u001b[1mReturned probabilities: {'B': np.float64(1.0), 'C': np.float64(1.4828213355760042e-17), 'A': np.float64(4.821267946339375e-21)}\u001b[0m\n",
      "\u001b[32m2024-12-12 09:13:14.995\u001b[0m | \u001b[34m\u001b[1mDEBUG   \u001b[0m | \u001b[36mevidence_seeker.confirmation_analysis.workflows\u001b[0m:\u001b[36mfreetext_analysis\u001b[0m:\u001b[36m72\u001b[0m - \u001b[34m\u001b[1mConfirmation analysis.\u001b[0m\n",
      "\u001b[32m2024-12-12 09:13:15.002\u001b[0m | \u001b[34m\u001b[1mDEBUG   \u001b[0m | \u001b[36mevidence_seeker.confirmation_analysis.workflows\u001b[0m:\u001b[36mfreetext_analysis\u001b[0m:\u001b[36m72\u001b[0m - \u001b[34m\u001b[1mConfirmation analysis.\u001b[0m\n",
      "\u001b[32m2024-12-12 09:13:22.076\u001b[0m | \u001b[34m\u001b[1mDEBUG   \u001b[0m | \u001b[36mevidence_seeker.backend\u001b[0m:\u001b[36mget_openai_llm\u001b[0m:\u001b[36m117\u001b[0m - \u001b[34m\u001b[1mInstantiating OpenAILike model (model: meta-llama/Llama-3.2-3B-Instruct,base_url: https://dchi8b9swca6gxbe.eu-west-1.aws.endpoints.huggingface.cloud/v1/).\u001b[0m\n",
      "\u001b[32m2024-12-12 09:13:22.077\u001b[0m | \u001b[34m\u001b[1mDEBUG   \u001b[0m | \u001b[36mevidence_seeker.confirmation_analysis.workflows\u001b[0m:\u001b[36mmultiple_choice\u001b[0m:\u001b[36m102\u001b[0m - \u001b[34m\u001b[1mUsed regex in MultipleChoiceConfirmationAnalysis: [ABC]\u001b[0m\n",
      "\u001b[32m2024-12-12 09:13:22.271\u001b[0m | \u001b[34m\u001b[1mDEBUG   \u001b[0m | \u001b[36mevidence_seeker.backend\u001b[0m:\u001b[36mget_openai_llm\u001b[0m:\u001b[36m117\u001b[0m - \u001b[34m\u001b[1mInstantiating OpenAILike model (model: meta-llama/Llama-3.2-3B-Instruct,base_url: https://dchi8b9swca6gxbe.eu-west-1.aws.endpoints.huggingface.cloud/v1/).\u001b[0m\n",
      "\u001b[32m2024-12-12 09:13:22.272\u001b[0m | \u001b[34m\u001b[1mDEBUG   \u001b[0m | \u001b[36mevidence_seeker.confirmation_analysis.workflows\u001b[0m:\u001b[36mmultiple_choice\u001b[0m:\u001b[36m102\u001b[0m - \u001b[34m\u001b[1mUsed regex in MultipleChoiceConfirmationAnalysis: [ABC]\u001b[0m\n"
     ]
    },
    {
     "name": "stdout",
     "output_type": "stream",
     "text": [
      "Fetching api key via env var: HF_TOKEN_EVIDENCE_SEEKER\n",
      "Fetching api key via env var: HF_TOKEN_EVIDENCE_SEEKER\n"
     ]
    },
    {
     "name": "stderr",
     "output_type": "stream",
     "text": [
      "\u001b[32m2024-12-12 09:13:22.974\u001b[0m | \u001b[34m\u001b[1mDEBUG   \u001b[0m | \u001b[36mevidence_seeker.confirmation_analysis.workflows\u001b[0m:\u001b[36mmultiple_choice\u001b[0m:\u001b[36m116\u001b[0m - \u001b[34m\u001b[1mReturned probabilities: {'C': np.float64(0.9999999999999856), 'A': np.float64(1.435037960133805e-14), 'B': np.float64(5.525960833850168e-23)}\u001b[0m\n",
      "\u001b[32m2024-12-12 09:13:22.978\u001b[0m | \u001b[34m\u001b[1mDEBUG   \u001b[0m | \u001b[36mevidence_seeker.confirmation_analysis.workflows\u001b[0m:\u001b[36mmultiple_choice\u001b[0m:\u001b[36m116\u001b[0m - \u001b[34m\u001b[1mReturned probabilities: {'B': np.float64(0.999999999999263), 'C': np.float64(7.360340600573476e-13), 'A': np.float64(8.095930175206634e-16)}\u001b[0m\n"
     ]
    },
    {
     "name": "stdout",
     "output_type": "stream",
     "text": [
      "text='The AMOC is slowing down' negation='The AMOC is not changing' uid='123' n_evidence=None average_confirmation=None evidential_uncertainty=None verbalized_confirmation=None documents=[Document(text='There is high confidence that oxygen levels have \\ndropped in many regions since the mid 20th century and \\nthat the geographic range of many marine organisms has \\nchanged over the last two decades. \\n The amount of ocean warming observed since 1971 \\nwill likely at least double by 2100 under a low warming \\nscenario (SSP1-2.6) and will increase by 4–8 times under \\na high warming scenario (SSP5-8.5).  Stratification (virtually \\ncertain), acidification ( virtually certain ), deoxygenation \\n(high confidence ) and marine heatwave frequency ( high \\nconfidence) will continue to increase in the 21st century. \\n While there is low confidence in 20th century AMOC change, \\nit is very likely that AMOC will decline over the 21st century \\n(Figure TS.11).  {2.3, 3.5, 3.6, 4.3.2, 5.3, 7.2, 9.2, Box\\xa09.2, 12.4}\\nIt is virtually certain that the global ocean has warmed since at least \\n1971, representing about 90% of the increase in the global energy \\ninventory (Section TS.3.1).  The ocean is currently warming faster than \\nat any other time since at least the last deglacial transition (medium \\nconfidence), with warming extending to depths well below 2000 m \\n(very high confidence ).  It is extremely likely that human influence \\nwas the main driver of this recent ocean warming. ', uid='1f47ce98-4105-4ddc-98a9-c4956dab2000', metadata={'page_label': '74', 'file_name': 'IPCC_AR6_WGI_TS.pdf', 'author': 'IPCC Working Group I', 'original_text': 'While there is low confidence in 20th century AMOC change, \\nit is very likely that AMOC will decline over the 21st century \\n(Figure TS.11). '}), Document(text='Based on recent refined \\nanalyses of the available observations, there is high confidence  \\nthat it increased by 4.9 ± 1.5% from 1970–2018, which is about \\ntwice as much as assessed in SROCC, and will continue to increase \\nthroughout the 21st century at a rate depending on the emissions \\nscenario (virtually certain).  {2.3.3, 9.2.1}\\nIt is virtually certain that since 1950 near-surface high-salinity \\nregions have become more saline, while low-salinity regions have \\nbecome fresher, with medium confidence  that this is linked to an \\nintensification of the hydrological cycle (Box TS.6).  It is extremely \\nlikely that human influence has contributed to this salinity change \\nand that the large-scale pattern will grow in amplitude over the 21st \\ncentury (medium confidence).  {2.3.3, 3.5.2, 9.2.2, 12.4.8}\\nThe AMOC was relatively stable during the past 8000 years (medium \\nconfidence).  There is low confidence in the quantification of AMOC \\nchanges in the 20th century because of low agreement in quantitative \\nreconstructed and simulated trends, missing key processes in both \\nmodels and measurements used for formulating proxies, and new \\nmodel evaluations.  Direct observational records since the mid-2000s \\nare too short to determine the relative contributions of internal \\nvariability, natural forcing and anthropogenic forcing to AMOC \\nchange (high confidence).  An AMOC decline over the 21st century \\nis very likely for all SSP scenarios (Figure TS.11b); a possible abrupt \\ndecline is assessed further in Box TS.3. ', uid='6fcd6c0f-99a1-48e7-881f-f79758c54769', metadata={'page_label': '74', 'file_name': 'IPCC_AR6_WGI_TS.pdf', 'author': 'IPCC Working Group I', 'original_text': '{2.3.3, 3.5.2, 9.2.2, 12.4.8}\\nThe AMOC was relatively stable during the past 8000 years (medium \\nconfidence). '})] confirmation_by_document={'1f47ce98-4105-4ddc-98a9-c4956dab2000': 0.9999999999999059, '6fcd6c0f-99a1-48e7-881f-f79758c54769': 1.3540786583817388e-14} metadata={}\n"
     ]
    }
   ],
   "source": [
    "from evidence_seeker.confirmation_analysis import (\n",
    "    ConfirmationAnalyzer, ConfirmationAnalyzerConfig\n",
    ")\n",
    "\n",
    "#config_file = \"../configs/simple_confirmation_analysis_config.yaml\" \n",
    "config = ConfirmationAnalyzerConfig()\n",
    "\n",
    "confirmation_analyzer = ConfirmationAnalyzer(config=config)\n",
    "checked_claim = await confirmation_analyzer(claim=claim) \n",
    "#print(checked_claim.confirmation_by_document)\n",
    "print(checked_claim)"
   ]
  },
  {
   "cell_type": "markdown",
   "metadata": {},
   "source": [
    "### Running the workflow directly"
   ]
  },
  {
   "cell_type": "code",
   "execution_count": 4,
   "metadata": {},
   "outputs": [
    {
     "name": "stdout",
     "output_type": "stream",
     "text": [
      "Loading config from ../configs/simple_confirmation_analysis_config.yaml\n",
      "Used api key name: kideku_toxicity_app_nim\n",
      "Instantiating OpenAILike model (model: meta-llama/Llama-3.1-70B-Instruct,base_url: https://huggingface.co/api/integrations/dgx/v1).\n",
      "Confirmation analysis.\n",
      "Using workflow model: model_1 for freetext_confirmation_analysis_event\n",
      "Confirmation analysis.\n",
      "Using workflow model: model_1 for freetext_confirmation_analysis_event\n",
      "Used regex in multiple_choice_confirmation_analysis_event: [AB]\n",
      "Using event specific model: model_3 for multiple_choice_confirmation_analysis_event\n",
      "Used api key name: token_debatelab_hf_endpoints\n",
      "Instantiating OpenAILike model (model: meta-llama/Llama-3.2-3B-Instruct,base_url: https://dchi8b9swca6gxbe.eu-west-1.aws.endpoints.huggingface.cloud/v1/).\n",
      "Using event specific model: model_3 for multiple_choice_confirmation_analysis_event\n",
      "Used regex in multiple_choice_confirmation_analysis_event: [AB]\n",
      "Using event specific model: model_3 for multiple_choice_confirmation_analysis_event\n",
      "Using event specific model: model_3 for multiple_choice_confirmation_analysis_event\n",
      "Returned probabilities (MC branch 'negation' ): {'A': 0.9999573507117904, 'B': 4.2649288209634826e-05}\n",
      "Returned probabilities (MC branch 'claim' ): {'A': 0.9999967112399573, 'B': 3.288760042826672e-06}\n",
      "{'confirmation': 3.93605281668874e-05,\n",
      " 'evidence_item': 'There is high confidence that oxygen levels have \\n'\n",
      "                  'dropped in many regions since the mid 20th century and \\n'\n",
      "                  'that the geographic range of many marine organisms has \\n'\n",
      "                  'changed over the last two decades. \\n'\n",
      "                  ' The amount of ocean warming observed since 1971 \\n'\n",
      "                  'will likely at least double by 2100 under a low warming \\n'\n",
      "                  'scenario (SSP1-2.6) and will increase by 4–8 times under \\n'\n",
      "                  'a high warming scenario (SSP5-8.5).  Stratification '\n",
      "                  '(virtually \\n'\n",
      "                  'certain), acidification ( virtually certain ), '\n",
      "                  'deoxygenation \\n'\n",
      "                  '(high confidence ) and marine heatwave frequency ( high \\n'\n",
      "                  'confidence) will continue to increase in the 21st '\n",
      "                  'century. \\n'\n",
      "                  ' While there is low confidence in 20th century AMOC '\n",
      "                  'change, \\n'\n",
      "                  'it is very likely that AMOC will decline over the 21st '\n",
      "                  'century \\n'\n",
      "                  '(Figure TS.11).  {2.3, 3.5, 3.6, 4.3.2, 5.3, 7.2, 9.2, '\n",
      "                  'Box\\xa09.2, 12.4}\\n'\n",
      "                  'It is virtually certain that the global ocean has warmed '\n",
      "                  'since at least \\n'\n",
      "                  '1971, representing about 90% of the increase in the global '\n",
      "                  'energy \\n'\n",
      "                  'inventory (Section TS.3.1).  The ocean is currently warming '\n",
      "                  'faster than \\n'\n",
      "                  'at any other time since at least the last deglacial '\n",
      "                  'transition (medium \\n'\n",
      "                  'confidence), with warming extending to depths well below '\n",
      "                  '2000 m \\n'\n",
      "                  '(very high confidence ).  It is extremely likely that human '\n",
      "                  'influence \\n'\n",
      "                  'was the main driver of this recent ocean warming. ',\n",
      " 'freetext_confirmation_analysis_event': 'Here are the results of my '\n",
      "                                         'analysis:\\n'\n",
      "                                         '\\n'\n",
      "                                         '**1. Entailment/Inconsistency**: The '\n",
      "                                         'text does not entail the claim \"The '\n",
      "                                         'AMOC is slowing down\" because it '\n",
      "                                         'does not state that the AMOC is '\n",
      "                                         'currently slowing down. However, it '\n",
      "                                         'is not inconsistent with the claim '\n",
      "                                         'either. The text only mentions that '\n",
      "                                         'it is \"very likely\" that the AMOC '\n",
      "                                         'will decline over the 21st century '\n",
      "                                         '(Figure TS.11), which implies a '\n",
      "                                         'future slowdown, but does not '\n",
      "                                         'provide information about the '\n",
      "                                         'current state of the AMOC.\\n'\n",
      "                                         '\\n'\n",
      "                                         '**2. Empirical Evidence**: The text '\n",
      "                                         'does not provide empirical evidence '\n",
      "                                         'in favour or against the claim. '\n",
      "                                         'While it discusses various aspects '\n",
      "                                         'of ocean warming and changes in '\n",
      "                                         'ocean properties, it does not '\n",
      "                                         'present data or observations about '\n",
      "                                         'the current state of the AMOC. The '\n",
      "                                         'text only mentions the likelihood of '\n",
      "                                         'a future decline in the AMOC, but '\n",
      "                                         'does not provide evidence about its '\n",
      "                                         'current trend.\\n'\n",
      "                                         '\\n'\n",
      "                                         '**3. Trustworthy Parties**: The text '\n",
      "                                         'does not cite specific experts or '\n",
      "                                         'trustworthy parties that speak in '\n",
      "                                         'favour of the claim. The text '\n",
      "                                         'appears to be a summary of '\n",
      "                                         'scientific findings, likely from a '\n",
      "                                         'report or assessment, but it does '\n",
      "                                         'not attribute the information to '\n",
      "                                         'specific experts or studies. The '\n",
      "                                         'text uses phrases such as \"high '\n",
      "                                         'confidence\", \"very likely\", and '\n",
      "                                         '\"virtually certain\", which suggest a '\n",
      "                                         'consensus among scientists, but it '\n",
      "                                         'does not provide explicit citations '\n",
      "                                         'or quotes from experts.\\n'\n",
      "                                         '\\n'\n",
      "                                         'In summary, the text does not '\n",
      "                                         'confirm or disconfirm the claim \"The '\n",
      "                                         'AMOC is slowing down\" based on '\n",
      "                                         'empirical evidence or expert '\n",
      "                                         'opinions. It only provides '\n",
      "                                         'information about the likelihood of '\n",
      "                                         'a future decline in the AMOC, '\n",
      "                                         'without commenting on its current '\n",
      "                                         'state.',\n",
      " 'multiple_choice_confirmation_analysis_event': ChatResponse(message=ChatMessage(role=<MessageRole.ASSISTANT: 'assistant'>, content='A', additional_kwargs={}), raw=ChatCompletion(id='', choices=[Choice(finish_reason='stop', index=0, logprobs=ChoiceLogprobs(content=[ChatCompletionTokenLogprob(token='A', bytes=None, logprob=-3.33786e-06, top_logprobs=[TopLogprob(token='A', bytes=None, logprob=-3.33786e-06), TopLogprob(token='B', bytes=None, logprob=-12.625)]), ChatCompletionTokenLogprob(token='<|eot_id|>', bytes=None, logprob=0.0, top_logprobs=[TopLogprob(token='<|eot_id|>', bytes=None, logprob=0.0)])], refusal=None), message=ChatCompletionMessage(content='A', refusal=None, role='assistant', audio=None, function_call=None, tool_calls=None))], created=1733849008, model='/repository', object='chat.completion', service_tier=None, system_fingerprint='2.4.1-sha-d2ed52f', usage=CompletionUsage(completion_tokens=2, prompt_tokens=834, total_tokens=836, completion_tokens_details=None, prompt_tokens_details=None)), delta=None, logprobs=[[LogProb(token='A', logprob=-3.33786e-06, bytes=[]), LogProb(token='B', logprob=-12.625, bytes=[])], [LogProb(token='<|eot_id|>', logprob=0.0, bytes=[])]], additional_kwargs={'prompt_tokens': 834, 'completion_tokens': 2, 'total_tokens': 836}),\n",
      " 'statement': 'The AMOC is slowing down'}\n"
     ]
    }
   ],
   "source": [
    "from pprint import pprint\n",
    "\n",
    "from evidence_seeker.confirmation_analysis import (\n",
    "    SimpleConfirmationAnalysisWorkflow\n",
    ")\n",
    "\n",
    "config_file = \"../configs/simple_confirmation_analysis_config.yaml\" \n",
    "pw = SimpleConfirmationAnalysisWorkflow(config_file=config_file)\n",
    "\n",
    "evidence_item = docs[0].text\n",
    "\n",
    "result = await pw.run(\n",
    "    clarified_claim=claim,\n",
    "    evidence_item=evidence_item\n",
    ")\n",
    "pprint(result)\n",
    "print(result['confirmation'])"
   ]
  },
  {
   "cell_type": "code",
   "execution_count": null,
   "metadata": {},
   "outputs": [],
   "source": []
  }
 ],
 "metadata": {
  "kernelspec": {
   "display_name": "evidence-seeker",
   "language": "python",
   "name": "python3"
  },
  "language_info": {
   "codemirror_mode": {
    "name": "ipython",
    "version": 3
   },
   "file_extension": ".py",
   "mimetype": "text/x-python",
   "name": "python",
   "nbconvert_exporter": "python",
   "pygments_lexer": "ipython3",
   "version": "3.12.3"
  }
 },
 "nbformat": 4,
 "nbformat_minor": 2
}
