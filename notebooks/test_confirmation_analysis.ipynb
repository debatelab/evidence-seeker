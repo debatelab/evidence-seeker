{
 "cells": [
  {
   "cell_type": "markdown",
   "metadata": {},
   "source": [
    "# Testing Pipelines"
   ]
  },
  {
   "cell_type": "markdown",
   "metadata": {},
   "source": [
    "### Initiating observation via Phoenix"
   ]
  },
  {
   "cell_type": "code",
   "execution_count": 1,
   "metadata": {},
   "outputs": [
    {
     "name": "stdout",
     "output_type": "stream",
     "text": [
      "🌍 To view the Phoenix app in your browser, visit http://localhost:6006/\n",
      "📖 For more information on how to use Phoenix, check out https://docs.arize.com/phoenix\n"
     ]
    }
   ],
   "source": [
    "# %pip pip install arize-phoenix\n",
    "# %pip install llama-index-callbacks-arize-phoenix\n",
    "# observability\n",
    "import phoenix as px\n",
    "px.launch_app()\n",
    "\n",
    "import llama_index.core\n",
    "llama_index.core.set_global_handler(\"arize_phoenix\", endpoint=\"http://localhost:6006/v1/traces\")"
   ]
  },
  {
   "cell_type": "markdown",
   "metadata": {},
   "source": [
    "### Save default config"
   ]
  },
  {
   "cell_type": "code",
   "execution_count": 8,
   "metadata": {},
   "outputs": [
    {
     "name": "stderr",
     "output_type": "stream",
     "text": [
      "\u001b[32m2025-07-22 20:03:34.209\u001b[0m | \u001b[33m\u001b[1mWARNING \u001b[0m | \u001b[36mevidence_seeker.confirmation_analysis.config\u001b[0m:\u001b[36mload_env_file\u001b[0m:\u001b[36m153\u001b[0m - \u001b[33m\u001b[1mNo environment file with API keys specified for confirmation analyzer. Please set 'env_file' to a valid path if you want to load environment variables from a file.\u001b[0m\n"
     ]
    },
    {
     "data": {
      "text/plain": [
       "3447"
      ]
     },
     "execution_count": 8,
     "metadata": {},
     "output_type": "execute_result"
    }
   ],
   "source": [
    "import pathlib\n",
    "import yaml\n",
    "\n",
    "from evidence_seeker import (\n",
    "    ConfirmationAnalyzerConfig,\n",
    "    ConfirmationAnalyzerStepConfig,\n",
    "    MultipleChoiceTaskStepConfig,\n",
    ")\n",
    "configfile = pathlib.Path(\"../configs/confirmation_analysis_config_default.yaml\")\n",
    "#configfile = pathlib.Path(\"../src/evidence_seeker/package_data/config/confirmation_analysis_config.yaml\")\n",
    "\n",
    "default_prompt_template = (\n",
    "    \"Your task is to sum up the results of a rich textual entailment analysis.\\n\"\n",
    "    \"\\n\"\n",
    "    \"<TEXT>{evidence_item}</TEXT>\\n\"\n",
    "    \"\\n\"\n",
    "    \"<HYPOTHESIS>{statement}</HYPOTHESIS>\\n\"\n",
    "    \"\\n\"\n",
    "    \"Our previous analysis has yielded the following result:\\n\"\n",
    "    \"\\n\"\n",
    "    \"<RESULT>\\n\"\n",
    "    \"{freetext_confirmation_analysis}\\n\"\n",
    "    \"</RESULT>\\n\"\n",
    "    \"\\n\"\n",
    "    \"Please sum up this result by deciding which of the following choices is correct.\\n\"\n",
    "    \"\\n\"\n",
    "    \"{answer_options}\\n\"\n",
    "    \"\\n\"\n",
    "    \"Just answer with the label ('A', 'B' or 'C') of the correct choice.\\n\"\n",
    "    \"\\n\"\n",
    ")\n",
    "\n",
    "models={\n",
    "    '<key_model_one>': {\n",
    "        \"name\": \"<your_model_name>\",\n",
    "        \"description\": \"<description_of_your_model>\",\n",
    "        \"base_url\": \"<your_base_url>\",\n",
    "        \"model\": \"<your_model_identifier>\",\n",
    "        \"backend_type\": \"<backend_type_of_your_model>\",\n",
    "        \"max_tokens\": 1024,\n",
    "        \"temperature\": 0.2,\n",
    "        \"api_key\": \"<your_api_key_name>\",\n",
    "        \"timeout\": 260\n",
    "    },\n",
    "    '<key_model_two>': {\n",
    "        \"name\": \"<your_model_name>\",\n",
    "        \"description\": \"<description_of_your_model>\",\n",
    "        \"base_url\": \"<your_base_url>\",\n",
    "        \"model\": \"<your_model_identifier>\",\n",
    "        \"backend_type\": \"<backend_type_of_your_model>\",\n",
    "        \"max_tokens\": 1024,\n",
    "        \"temperature\": 0.2,\n",
    "        \"api_key\": \"<your_api_key_name>\",\n",
    "        \"timeout\": 260\n",
    "    },\n",
    "}\n",
    "\n",
    "# defining model specific step configs for the multiple choice confirmation analysis step \n",
    "multiple_choice_confirmation_analysis = ConfirmationAnalyzerStepConfig(\n",
    "    name=\"multiple_choice_confirmation_analysis\",\n",
    "    description=\"Multiple choice RTE task given CoT trace.\",\n",
    "    llm_specific_configs={\n",
    "        \"key_model_one\": MultipleChoiceTaskStepConfig(\n",
    "            prompt_template=default_prompt_template,\n",
    "            guidance_type=\"<guidance_type>\",\n",
    "            logprobs_type=\"<logprobs_type>\",\n",
    "        ),\n",
    "    }\n",
    ")\n",
    "\n",
    "default_config = ConfirmationAnalyzerConfig(\n",
    "    used_model_key=\"<key_model_one>\",\n",
    "    models=models,\n",
    "    multiple_choice_confirmation_analysis=multiple_choice_confirmation_analysis,\n",
    ")\n",
    "default_config_dict = default_config.model_dump()\n",
    "\n",
    "configfile.write_text(yaml.dump(default_config_dict))\n"
   ]
  },
  {
   "cell_type": "markdown",
   "metadata": {},
   "source": [
    "### Visualizing Workflow"
   ]
  },
  {
   "cell_type": "code",
   "execution_count": 2,
   "metadata": {},
   "outputs": [
    {
     "name": "stdout",
     "output_type": "stream",
     "text": [
      "<class 'NoneType'>\n",
      "<class 'llama_index.core.workflow.events.StopEvent'>\n",
      "<class 'evidence_seeker.confirmation_analysis.workflows.MultipleChoiceConfirmationAnalysisEvent'>\n",
      "<class 'evidence_seeker.confirmation_analysis.workflows.CollectAnalysesEvent'>\n",
      "<class 'evidence_seeker.confirmation_analysis.workflows.FreetextConfirmationAnalysisEvent'>\n",
      "../TMP/SimpleConfirmationAnalysisWorkflow.html\n"
     ]
    }
   ],
   "source": [
    "\n",
    "import os\n",
    "from llama_index.utils.workflow import draw_all_possible_flows\n",
    "from evidence_seeker.confirmation_analysis.workflows import (\n",
    "    SimpleConfirmationAnalysisWorkflow\n",
    ")\n",
    "\n",
    "# create dir ../tmp if not exists\n",
    "os.makedirs(\"../TMP\", exist_ok=True)\n",
    "\n",
    "draw_all_possible_flows(\n",
    "    SimpleConfirmationAnalysisWorkflow, filename=\"../TMP/SimpleConfirmationAnalysisWorkflow.html\"\n",
    ")\n"
   ]
  },
  {
   "cell_type": "markdown",
   "metadata": {},
   "source": [
    "## Confirmation Analysis Pipeline"
   ]
  },
  {
   "cell_type": "markdown",
   "metadata": {},
   "source": [
    "### Configuration"
   ]
  },
  {
   "cell_type": "code",
   "execution_count": null,
   "metadata": {},
   "outputs": [
    {
     "name": "stderr",
     "output_type": "stream",
     "text": [
      "\u001b[32m2025-07-22 20:00:47.375\u001b[0m | \u001b[1mINFO    \u001b[0m | \u001b[36mevidence_seeker.confirmation_analysis.config\u001b[0m:\u001b[36mload_env_file\u001b[0m:\u001b[36m173\u001b[0m - \u001b[1mLoaded environment variables from '../.env'\u001b[0m\n"
     ]
    }
   ],
   "source": [
    "from evidence_seeker import (\n",
    "    ConfirmationAnalyzerConfig,\n",
    "    ConfirmationAnalyzerStepConfig,\n",
    "    MultipleChoiceTaskStepConfig\n",
    ")\n",
    "models =  {\n",
    "    # local models via lmstudio\n",
    "    'lmstudio':{\n",
    "        \"name\": \"meta-llama-3.1-8b-instruct\",\n",
    "        \"description\": \"Local model served via LMStudio\",\n",
    "        \"base_url\": \"http://127.0.0.1:1234/v1/\",\n",
    "        #\"model\": \"meta-llama-3.1-8b-instruct\",\n",
    "        \"model\": \"meta-llama-3.1-8b-instruct\",\n",
    "        \"backend_type\": \"openai\",\n",
    "        \"max_tokens\": 1024,\n",
    "        \"temperature\": 0.2,\n",
    "        \"api_key\": \"not_needed\",\n",
    "        \"timeout\": 180\n",
    "    },\n",
    "    # together.ai via hf inference provider\n",
    "    'together.ai': {\n",
    "        \"name\": \"Meta-Llama-3-Instruct\",\n",
    "        \"description\": \"Model served via Together.ai over HuggingFace\",\n",
    "        \"base_url\": \"https://router.huggingface.co/together/v1\",\n",
    "        \"model\": \"meta-llama/Llama-3.2-3B-Instruct-Turbo\",\n",
    "        \"api_key_name\": \"hf_debatelab_inference_provider\",\n",
    "        \"backend_type\": \"openai\",\n",
    "        \"default_headers\": {\"X-HF-Bill-To\": \"DebateLabKIT\"},\n",
    "        \"max_tokens\": 1024,\n",
    "        \"temperature\": 0.2,\n",
    "        \"timeout\": 260\n",
    "    },\n",
    "    # hf inference via hf inference provider\n",
    "    'hf_inference_api': {\n",
    "        \"name\": \"meta-llama/Llama-3.1-8B-Instruct\",\n",
    "        \"description\": \"Model served over HuggingFace Inference API\",\n",
    "        \"base_url\": \"https://router.huggingface.co/hf-inference/models/meta-llama/Llama-3.1-8B-Instruct/v1\",\n",
    "        \"model\": \"meta-llama/Llama-3.1-8B-Instruct\",\n",
    "        \"api_key_name\": \"hf_debatelab_inference_provider\",\n",
    "        \"backend_type\": \"tgi\",\n",
    "        \"default_headers\": {\"X-HF-Bill-To\": \"DebateLabKIT\"},\n",
    "        \"max_tokens\": 1024,\n",
    "        \"temperature\": 0.2,\n",
    "        \"timeout\": 260\n",
    "    },\n",
    "}\n",
    "\n",
    "default_prompt_template = (\n",
    "    \"Your task is to sum up the results of a rich textual entailment analysis.\\n\"\n",
    "    \"\\n\"\n",
    "    \"<TEXT>{evidence_item}</TEXT>\\n\"\n",
    "    \"\\n\"\n",
    "    \"<HYPOTHESIS>{statement}</HYPOTHESIS>\\n\"\n",
    "    \"\\n\"\n",
    "    \"Our previous analysis has yielded the following result:\\n\"\n",
    "    \"\\n\"\n",
    "    \"<RESULT>\\n\"\n",
    "    \"{freetext_confirmation_analysis}\\n\"\n",
    "    \"</RESULT>\\n\"\n",
    "    \"\\n\"\n",
    "    \"Please sum up this result by deciding which of the following choices is correct.\\n\"\n",
    "    \"\\n\"\n",
    "    \"{answer_options}\\n\"\n",
    "    \"\\n\"\n",
    "    \"Just answer with the label ('A', 'B' or 'C') of the correct choice.\\n\"\n",
    "    \"\\n\"\n",
    ")\n",
    "# defining model specific step configs for the multiple choice confirmation analysis step \n",
    "multiple_choice_confirmation_analysis = ConfirmationAnalyzerStepConfig(\n",
    "    name=\"multiple_choice_confirmation_analysis\",\n",
    "    description=\"Multiple choice RTE task given CoT trace.\",\n",
    "    llm_specific_configs={\n",
    "        # TODO: Test confirmation component with prompted structured output.\n",
    "        # Background: We should test the decoding regex again for the answer labels \"(A\", ...\n",
    "        \"lmstudio\": MultipleChoiceTaskStepConfig(\n",
    "            # TODO: refactor template to account for the opening '('\n",
    "            prompt_template=default_prompt_template,\n",
    "            #answer_labels=[\"A\", \"B\", \"C\"],\n",
    "            answer_labels=[\"(A\", \"(B\", \"(C\"],\n",
    "            # should be increased in production\n",
    "            n_repetitions_mcq=3,\n",
    "            delim_str=\".\",\n",
    "            guidance_type=\"prompted\",\n",
    "            logprobs_type=\"estimate\",\n",
    "            # validation_regex=r\"^[\\.\\(]?(A|B|C)[\\.\\):]?$\",\n",
    "            # TODO: refactor regex to account for the opening '('\n",
    "            validation_regex=r\"^[\\.\\(]?(A|B|C)[\\.\\):]?$\",\n",
    "        ),\n",
    "        \"together.ai\": MultipleChoiceTaskStepConfig(\n",
    "            prompt_template=default_prompt_template,\n",
    "            answer_labels=[\"A\", \"B\", \"C\"],\n",
    "            delim_str=\"\",\n",
    "            guidance_type=\"json\",\n",
    "            logprobs_type=\"openai_like\",\n",
    "        ),\n",
    "        # for now, (22.7.25) this model is not accesible in this way\n",
    "        # TODO: find working model and test confirmation component with regex/grammar constraint\n",
    "        # Background: We should test the decoding regex again for the answer labels \"(A\", ...\n",
    "        \"hf_inference_api\": MultipleChoiceTaskStepConfig(\n",
    "            prompt_template=default_prompt_template,\n",
    "            answer_labels=[\"(A\", \"(B\", \"(C\"],\n",
    "            delim_str=\".\",\n",
    "            guidance_type=\"regex\",\n",
    "            #constrained_decoding_regex=\"(A)|(B)|(C)\",\n",
    "            constrained_decoding_regex=r\"^(\\(A|\\(B|\\(C)$\",\n",
    "            logprobs_type=\"openai_like\",\n",
    "        ),\n",
    "    }\n",
    ")\n",
    "\n",
    "config = ConfirmationAnalyzerConfig(\n",
    "    timeout=1200,\n",
    "    env_file=\"../.env\",\n",
    "    used_model_key=\"together.ai\",\n",
    "    models=models,\n",
    "    multiple_choice_confirmation_analysis=multiple_choice_confirmation_analysis,\n",
    ")\n",
    "\n",
    "# print(config.multiple_choice_confirmation_analysis.llm_specific_configs['together.ai'].model_dump_json(indent=2))"
   ]
  },
  {
   "cell_type": "markdown",
   "metadata": {},
   "source": [
    "### Used example"
   ]
  },
  {
   "cell_type": "code",
   "execution_count": 5,
   "metadata": {},
   "outputs": [],
   "source": [
    "from evidence_seeker.datamodels import (\n",
    "    CheckedClaim,\n",
    "    Document\n",
    ")\n",
    "\n",
    "docs = [\n",
    "    Document(text='There is high confidence that oxygen levels have \\ndropped in many regions since the mid 20th century and \\nthat the geographic range of many marine organisms has \\nchanged over the last two decades. \\n The amount of ocean warming observed since 1971 \\nwill likely at least double by 2100 under a low warming \\nscenario (SSP1-2.6) and will increase by 4–8 times under \\na high warming scenario (SSP5-8.5).  Stratification (virtually \\ncertain), acidification ( virtually certain ), deoxygenation \\n(high confidence ) and marine heatwave frequency ( high \\nconfidence) will continue to increase in the 21st century. \\n While there is low confidence in 20th century AMOC change, \\nit is very likely that AMOC will decline over the 21st century \\n(Figure TS.11).  {2.3, 3.5, 3.6, 4.3.2, 5.3, 7.2, 9.2, Box\\xa09.2, 12.4}\\nIt is virtually certain that the global ocean has warmed since at least \\n1971, representing about 90% of the increase in the global energy \\ninventory (Section TS.3.1).  The ocean is currently warming faster than \\nat any other time since at least the last deglacial transition (medium \\nconfidence), with warming extending to depths well below 2000 m \\n(very high confidence ).  It is extremely likely that human influence \\nwas the main driver of this recent ocean warming. ', uid='1f47ce98-4105-4ddc-98a9-c4956dab2000', metadata={'page_label': '74', 'file_name': 'IPCC_AR6_WGI_TS.pdf', 'author': 'IPCC Working Group I', 'original_text': 'While there is low confidence in 20th century AMOC change, \\nit is very likely that AMOC will decline over the 21st century \\n(Figure TS.11). '}),\n",
    "    Document(text='Based on recent refined \\nanalyses of the available observations, there is high confidence  \\nthat it increased by 4.9 ± 1.5% from 1970–2018, which is about \\ntwice as much as assessed in SROCC, and will continue to increase \\nthroughout the 21st century at a rate depending on the emissions \\nscenario (virtually certain).  {2.3.3, 9.2.1}\\nIt is virtually certain that since 1950 near-surface high-salinity \\nregions have become more saline, while low-salinity regions have \\nbecome fresher, with medium confidence  that this is linked to an \\nintensification of the hydrological cycle (Box TS.6).  It is extremely \\nlikely that human influence has contributed to this salinity change \\nand that the large-scale pattern will grow in amplitude over the 21st \\ncentury (medium confidence).  {2.3.3, 3.5.2, 9.2.2, 12.4.8}\\nThe AMOC was relatively stable during the past 8000 years (medium \\nconfidence).  There is low confidence in the quantification of AMOC \\nchanges in the 20th century because of low agreement in quantitative \\nreconstructed and simulated trends, missing key processes in both \\nmodels and measurements used for formulating proxies, and new \\nmodel evaluations.  Direct observational records since the mid-2000s \\nare too short to determine the relative contributions of internal \\nvariability, natural forcing and anthropogenic forcing to AMOC \\nchange (high confidence).  An AMOC decline over the 21st century \\nis very likely for all SSP scenarios (Figure TS.11b); a possible abrupt \\ndecline is assessed further in Box TS.3. ', uid='6fcd6c0f-99a1-48e7-881f-f79758c54769', metadata={'page_label': '74', 'file_name': 'IPCC_AR6_WGI_TS.pdf', 'author': 'IPCC Working Group I', 'original_text': '{2.3.3, 3.5.2, 9.2.2, 12.4.8}\\nThe AMOC was relatively stable during the past 8000 years (medium \\nconfidence). '}),\n",
    "    Document(text='{2.3.3, 3.5.2, 9.2.2, 12.4.8}\\nThe AMOC was relatively stable during the past 8000 years (medium \\nconfidence).  There is low confidence in the quantification of AMOC \\nchanges in the 20th century because of low agreement in quantitative \\nreconstructed and simulated trends, missing key processes in both \\nmodels and measurements used for formulating proxies, and new \\nmodel evaluations.  Direct observational records since the mid-2000s \\nare too short to determine the relative contributions of internal \\nvariability, natural forcing and anthropogenic forcing to AMOC \\nchange (high confidence).  An AMOC decline over the 21st century \\nis very likely for all SSP scenarios (Figure TS.11b); a possible abrupt \\ndecline is assessed further in Box TS.3.  {2.3.3, 3.5.4, 4.3.2, 8.6.1, \\n9.2.3, Cross-Chapter Box\\xa012.3}\\nThere is high confidence that many ocean currents will change in \\nthe 21st century in response to changes in wind stress.   There is low \\nconfidence in 21st century change of Southern Ocean circulation, \\ndespite high confidence  that it is sensitive to changes in wind \\npatterns and increased ice-shelf melt.  Western boundary currents \\nand subtropical gyres have shifted poleward since 1993 ( medium \\nconfidence). ', uid='f52c120f-ff9c-4893-822e-bfca72eaa9c6', metadata={'page_label': '74', 'file_name': 'IPCC_AR6_WGI_TS.pdf', 'author': 'IPCC Working Group I', 'original_text': 'An AMOC decline over the 21st century \\nis very likely for all SSP scenarios (Figure TS.11b); a possible abrupt \\ndecline is assessed further in Box TS.3. '}),\n",
    "    Document(text='73\\nTechnical Summary\\nTS\\nBox TS.3 (continued)\\nWhile there is medium confidence  that the projected decline in the AMOC (Section TS.2.4) will not involve an abrupt collapse \\nbefore\\xa02100, such a collapse might be triggered by an unexpected meltwater influx from the Greenland Ice Sheet.  If an AMOC collapse \\nwere to occur, it would very likely cause abrupt shifts in the regional weather patterns and water cycle, such as a southward shift in the \\ntropical rain belt, and could result in weakening of the African and Asian monsoons, strengthening of Southern Hemisphere monsoons, \\nand drying in Europe.  (See also Boxes TS.9 and TS.13).  {4.7.2, 8.6.1, 9.2.3}\\nVery rare extremes and compound or concurrent events, such as the 2018 concurrent heatwaves across the Northern Hemisphere, are \\noften associated with large impacts.  The changing climate state is already altering the likelihood of extreme events, such as decadal \\ndroughts and extreme sea levels, and will continue to do so under future warming. ', uid='1f8242fe-50a2-45e2-bfda-986466f966d4', metadata={'page_label': '73', 'file_name': 'IPCC_AR6_WGI_TS.pdf', 'author': 'IPCC Working Group I', 'original_text': 'If an AMOC collapse \\nwere to occur, it would very likely cause abrupt shifts in the regional weather patterns and water cycle, such as a southward shift in the \\ntropical rain belt, and could result in weakening of the African and Asian monsoons, strengthening of Southern Hemisphere monsoons, \\nand drying in Europe. '}),\n",
    "    Document(text='Some processes suspected of having tipping points, such as the Atlantic Meridional Overturning \\nCirculation (AMOC), have been found to often undergo recovery after temperature stabilization with a time delay ( low confidence). \\n However, substantial irreversibility is further substantiated for some cryosphere changes, ocean warming, sea level rise, and ocean \\nacidification.  {4.7.2, 5.3.3, 5.4.9, 9.2.2, 9.2.4, 9.4.1, 9.4.2, 9.6.3}\\nSome climate system components are slow to respond, such as the deep ocean overturning circulation and the ice sheets.  It is likely that \\nunder stabilization of global warming at 1.5°C, 2.0°C or 3.0°C relative to 1850–1900, the AMOC will continue to weaken for several \\ndecades by about 15%, 20% and 30% of its strength and then recover to pre-decline values over several centuries (medium confidence). \\n At sustained warming levels between 2°C and 3°C, there is limited evidence that the Greenland and West Antarctic ice sheets will be lost \\nalmost completely and irreversibly over multiple millennia; both the probability of their complete loss and the rate of mass loss increases \\nwith higher surface temperatures ( high confidence).  At sustained warming levels between 3°C and 5°C, near-complete loss of the \\nGreenland Ice Sheet and complete loss of the West Antarctic Ice Sheet is projected to occur irreversibly over multiple millennia (medium \\nconfidence); with substantial parts or all of Wilkes Subglacial Basin in East Antarctica lost over multiple millennia (low confidence).  Early-\\nwarning signals of accelerated sea level rise from Antarctica could possibly be observed within the next few decades. ', uid='87697b86-aa91-4bdb-b02c-7dbd2af4dd9c', metadata={'page_label': '106', 'file_name': 'IPCC_AR6_WGI_TS.pdf', 'author': 'IPCC Working Group I', 'original_text': 'It is likely that \\nunder stabilization of global warming at 1.5°C, 2.0°C or 3.0°C relative to 1850–1900, the AMOC will continue to weaken for several \\ndecades by about 15%, 20% and 30% of its strength and then recover to pre-decline values over several centuries (medium confidence). \\n'}),\n",
    "    Document(text='{2.3.3, 9.2.1}\\nIt is virtually certain that since 1950 near-surface high-salinity \\nregions have become more saline, while low-salinity regions have \\nbecome fresher, with medium confidence  that this is linked to an \\nintensification of the hydrological cycle (Box TS.6).  It is extremely \\nlikely that human influence has contributed to this salinity change \\nand that the large-scale pattern will grow in amplitude over the 21st \\ncentury (medium confidence).  {2.3.3, 3.5.2, 9.2.2, 12.4.8}\\nThe AMOC was relatively stable during the past 8000 years (medium \\nconfidence).  There is low confidence in the quantification of AMOC \\nchanges in the 20th century because of low agreement in quantitative \\nreconstructed and simulated trends, missing key processes in both \\nmodels and measurements used for formulating proxies, and new \\nmodel evaluations.  Direct observational records since the mid-2000s \\nare too short to determine the relative contributions of internal \\nvariability, natural forcing and anthropogenic forcing to AMOC \\nchange (high confidence).  An AMOC decline over the 21st century \\nis very likely for all SSP scenarios (Figure TS.11b); a possible abrupt \\ndecline is assessed further in Box TS.3.  {2.3.3, 3.5.4, 4.3.2, 8.6.1, \\n9.2.3, Cross-Chapter Box\\xa012.3}\\nThere is high confidence that many ocean currents will change in \\nthe 21st century in response to changes in wind stress.  ', uid='abaed8de-7f35-40d8-bc9d-2a6a8e543586', metadata={'page_label': '74', 'file_name': 'IPCC_AR6_WGI_TS.pdf', 'author': 'IPCC Working Group I', 'original_text': 'There is low confidence in the quantification of AMOC \\nchanges in the 20th century because of low agreement in quantitative \\nreconstructed and simulated trends, missing key processes in both \\nmodels and measurements used for formulating proxies, and new \\nmodel evaluations. '}),\n",
    "    Document(text='Models that exhibit such tipping points are characterized by abrupt changes once the threshold is crossed, and even \\na return to pre-threshold surface temperatures or to atmospheric carbon dioxide concentrations does not guarantee \\nthat the tipping elements return to their pre-threshold state.  Monitoring and early warning systems are being put into \\nplace to observe tipping elements in the climate system.  {1.3, 1.4.4, 1.5, 4.3.2, Table\\xa04.10, 5.3.4, 5.4.9, 7.5.3, 9.2.2, \\n9.2.4, 9.4.1, 9.4.2, 9.6.3, Cross-chapter Box\\xa012.1}\\nUnderstanding of multi-decadal reversibility (i.e., the system returns to the previous climate state within multiple decades after \\nthe radiative forcing is removed) has improved since AR5 for many atmospheric, land surface and sea ice climate metrics following \\nsea surface temperature recovery.  Some processes suspected of having tipping points, such as the Atlantic Meridional Overturning \\nCirculation (AMOC), have been found to often undergo recovery after temperature stabilization with a time delay ( low confidence). \\n However, substantial irreversibility is further substantiated for some cryosphere changes, ocean warming, sea level rise, and ocean \\nacidification.  {4.7.2, 5.3.3, 5.4.9, 9.2.2, 9.2.4, 9.4.1, 9.4.2, 9.6.3}\\nSome climate system components are slow to respond, such as the deep ocean overturning circulation and the ice sheets.  It is likely that \\nunder stabilization of global warming at 1.5°C, 2.0°C or 3.0°C relative to 1850–1900, the AMOC will continue to weaken for several \\ndecades by about 15%, 20% and 30% of its strength and then recover to pre-decline values over several centuries (medium confidence). \\n', uid='64dce431-7e8d-46cd-9dd8-dc7e2ac18443', metadata={'page_label': '106', 'file_name': 'IPCC_AR6_WGI_TS.pdf', 'author': 'IPCC Working Group I', 'original_text': 'Some processes suspected of having tipping points, such as the Atlantic Meridional Overturning \\nCirculation (AMOC), have been found to often undergo recovery after temperature stabilization with a time delay ( low confidence). \\n'}),\n",
    "    Document(text='72\\nTechnical Summary\\nTS\\nBox TS.3 | Low-likelihood, High-warming Storylines\\nFuture global warming exceeding the assessed very likely range cannot be ruled out and is potentially associated \\nwith the highest risks for society and ecosystems.  Such low-likelihood, high-warming storylines tend to exhibit \\nsubstantially greater changes in the intensity of regional drying and wetting than the multi-model mean.  Even at \\nlevels of warming within the very likely range, global and regional low-likelihood outcomes might occur, such as large \\nprecipitation changes, additional sea level rise associated with collapsing ice sheets (see Box TS.4), or abrupt ocean \\ncirculation changes.  While there is medium confidence that the Atlantic Meridional Overturning Circulation (AMOC) \\nwill not experience an abrupt collapse before 2100, if it were to occur, it would very likely cause abrupt shifts in \\nregional weather patterns and water cycle.  The probability of these low-likelihood outcomes increases with higher \\nglobal warming levels.  If the real-world climate sensitivity lies at the high end of the assessed range, then global \\nand regional changes substantially outside the very likely range projections occur for a given emissions scenario. \\n With increasing global warming, some very rare extremes and some compound events (multivariate or concurrent \\nextremes) with low likelihood in past and current climate will become more frequent, and there is a\\xa0higher chance \\nthat events unprecedented in the observational record occur ( high confidence). ', uid='d7162beb-25d2-4653-aecd-2734bfd39693', metadata={'page_label': '72', 'file_name': 'IPCC_AR6_WGI_TS.pdf', 'author': 'IPCC Working Group I', 'original_text': 'While there is medium confidence that the Atlantic Meridional Overturning Circulation (AMOC) \\nwill not experience an abrupt collapse before 2100, if it were to occur, it would very likely cause abrupt shifts in \\nregional weather patterns and water cycle. '})\n",
    "]\n",
    "\n",
    "claim = CheckedClaim(\n",
    "    text=\"The AMOC is slowing down\",\n",
    "    negation=\"The AMOC is not changing\",\n",
    "    uid=\"123\",\n",
    "    documents=docs[0:1]\n",
    ")\n"
   ]
  },
  {
   "cell_type": "markdown",
   "metadata": {},
   "source": [
    "### Running `ConfirmationAnalyzer`"
   ]
  },
  {
   "cell_type": "code",
   "execution_count": 6,
   "metadata": {},
   "outputs": [
    {
     "name": "stderr",
     "output_type": "stream",
     "text": [
      "\u001b[32m2025-07-22 20:00:55.691\u001b[0m | \u001b[34m\u001b[1mDEBUG   \u001b[0m | \u001b[36mevidence_seeker.confirmation_analysis.workflows\u001b[0m:\u001b[36m__init__\u001b[0m:\u001b[36m83\u001b[0m - \u001b[34m\u001b[1mUsing 1 repetitions for multiple choice confirmation entailement question.\u001b[0m\n",
      "\u001b[32m2025-07-22 20:00:55.697\u001b[0m | \u001b[34m\u001b[1mDEBUG   \u001b[0m | \u001b[36mevidence_seeker.confirmation_analysis.workflows\u001b[0m:\u001b[36m__init__\u001b[0m:\u001b[36m87\u001b[0m - \u001b[34m\u001b[1mUsing json as guidance type for multiple choice entailement question.\u001b[0m\n",
      "\u001b[32m2025-07-22 20:00:55.698\u001b[0m | \u001b[34m\u001b[1mDEBUG   \u001b[0m | \u001b[36mevidence_seeker.confirmation_analysis.workflows\u001b[0m:\u001b[36m__init__\u001b[0m:\u001b[36m91\u001b[0m - \u001b[34m\u001b[1mUsing openai_like as logits retrieval type.\u001b[0m\n",
      "\u001b[32m2025-07-22 20:00:55.705\u001b[0m | \u001b[34m\u001b[1mDEBUG   \u001b[0m | \u001b[36mevidence_seeker.confirmation_analysis.workflows\u001b[0m:\u001b[36mfreetext_analysis\u001b[0m:\u001b[36m131\u001b[0m - \u001b[34m\u001b[1mConfirmation analysis.\u001b[0m\n",
      "\u001b[32m2025-07-22 20:00:55.709\u001b[0m | \u001b[34m\u001b[1mDEBUG   \u001b[0m | \u001b[36mevidence_seeker.backend\u001b[0m:\u001b[36mget_openai_llm\u001b[0m:\u001b[36m236\u001b[0m - \u001b[34m\u001b[1mFetching api key via env var: hf_debatelab_inference_provider\u001b[0m\n",
      "\u001b[32m2025-07-22 20:00:55.712\u001b[0m | \u001b[34m\u001b[1mDEBUG   \u001b[0m | \u001b[36mevidence_seeker.backend\u001b[0m:\u001b[36mget_openai_llm\u001b[0m:\u001b[36m249\u001b[0m - \u001b[34m\u001b[1mInstantiating OpenAILike model (model: meta-llama/Llama-3.2-3B-Instruct-Turbo,base_url: https://router.huggingface.co/together/v1).\u001b[0m\n",
      "\u001b[32m2025-07-22 20:00:57.181\u001b[0m | \u001b[34m\u001b[1mDEBUG   \u001b[0m | \u001b[36mevidence_seeker.confirmation_analysis.workflows\u001b[0m:\u001b[36mfreetext_analysis\u001b[0m:\u001b[36m131\u001b[0m - \u001b[34m\u001b[1mConfirmation analysis.\u001b[0m\n",
      "\u001b[32m2025-07-22 20:01:07.439\u001b[0m | \u001b[34m\u001b[1mDEBUG   \u001b[0m | \u001b[36mevidence_seeker.confirmation_analysis.workflows\u001b[0m:\u001b[36mcollect_analyses\u001b[0m:\u001b[36m241\u001b[0m - \u001b[34m\u001b[1mProbs for the claim: [0.999999999999992]\u001b[0m\n",
      "\u001b[32m2025-07-22 20:01:07.440\u001b[0m | \u001b[34m\u001b[1mDEBUG   \u001b[0m | \u001b[36mevidence_seeker.confirmation_analysis.workflows\u001b[0m:\u001b[36mcollect_analyses\u001b[0m:\u001b[36m242\u001b[0m - \u001b[34m\u001b[1mProbs for the negation: [9.237449638291856e-09]\u001b[0m\n"
     ]
    },
    {
     "name": "stdout",
     "output_type": "stream",
     "text": [
      "Confirmation scores by document: {'1f47ce98-4105-4ddc-98a9-c4956dab2000': np.float64(0.9999999907625424)}\n",
      "text='The AMOC is slowing down' negation='The AMOC is not changing' uid='123' statement_type=None n_evidence=None average_confirmation=None evidential_uncertainty=None verbalized_confirmation=None documents=[Document(text='There is high confidence that oxygen levels have \\ndropped in many regions since the mid 20th century and \\nthat the geographic range of many marine organisms has \\nchanged over the last two decades. \\n The amount of ocean warming observed since 1971 \\nwill likely at least double by 2100 under a low warming \\nscenario (SSP1-2.6) and will increase by 4–8 times under \\na high warming scenario (SSP5-8.5).  Stratification (virtually \\ncertain), acidification ( virtually certain ), deoxygenation \\n(high confidence ) and marine heatwave frequency ( high \\nconfidence) will continue to increase in the 21st century. \\n While there is low confidence in 20th century AMOC change, \\nit is very likely that AMOC will decline over the 21st century \\n(Figure TS.11).  {2.3, 3.5, 3.6, 4.3.2, 5.3, 7.2, 9.2, Box\\xa09.2, 12.4}\\nIt is virtually certain that the global ocean has warmed since at least \\n1971, representing about 90% of the increase in the global energy \\ninventory (Section TS.3.1).  The ocean is currently warming faster than \\nat any other time since at least the last deglacial transition (medium \\nconfidence), with warming extending to depths well below 2000 m \\n(very high confidence ).  It is extremely likely that human influence \\nwas the main driver of this recent ocean warming. ', uid='1f47ce98-4105-4ddc-98a9-c4956dab2000', metadata={'page_label': '74', 'file_name': 'IPCC_AR6_WGI_TS.pdf', 'author': 'IPCC Working Group I', 'original_text': 'While there is low confidence in 20th century AMOC change, \\nit is very likely that AMOC will decline over the 21st century \\n(Figure TS.11). '})] confirmation_by_document={'1f47ce98-4105-4ddc-98a9-c4956dab2000': np.float64(0.9999999907625424)} metadata={}\n"
     ]
    }
   ],
   "source": [
    "from evidence_seeker import ConfirmationAnalyzer \n",
    "\n",
    "confirmation_analyzer = ConfirmationAnalyzer(config=config)\n",
    "\n",
    "# import pathlib\n",
    "# config_file = pathlib.Path(\"../configs/confirmation_analysis_config_default.yaml\")\n",
    "# confirmation_analyzer = ConfirmationAnalyzer.from_config_file(config_file)\n",
    "\n",
    "checked_claim = await confirmation_analyzer(claim=claim) \n",
    "print(f\"Confirmation scores by document: {checked_claim.confirmation_by_document}\")\n",
    "print(checked_claim)"
   ]
  }
 ],
 "metadata": {
  "kernelspec": {
   "display_name": "evse-dev_env.py3.12",
   "language": "python",
   "name": "python3"
  },
  "language_info": {
   "codemirror_mode": {
    "name": "ipython",
    "version": 3
   },
   "file_extension": ".py",
   "mimetype": "text/x-python",
   "name": "python",
   "nbconvert_exporter": "python",
   "pygments_lexer": "ipython3",
   "version": "3.12.9"
  }
 },
 "nbformat": 4,
 "nbformat_minor": 2
}
