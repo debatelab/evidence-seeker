{
 "cells": [
  {
   "cell_type": "markdown",
   "metadata": {},
   "source": [
    "# Testing Pipelines"
   ]
  },
  {
   "cell_type": "markdown",
   "metadata": {},
   "source": [
    "### Initiating observation via Phoenix"
   ]
  },
  {
   "cell_type": "code",
   "execution_count": 12,
   "metadata": {},
   "outputs": [
    {
     "name": "stdout",
     "output_type": "stream",
     "text": [
      "🌍 To view the Phoenix app in your browser, visit http://localhost:6006/\n",
      "📖 For more information on how to use Phoenix, check out https://docs.arize.com/phoenix\n"
     ]
    }
   ],
   "source": [
    "# %pip pip install arize-phoenix\n",
    "# %pip install llama-index-callbacks-arize-phoenix\n",
    "\n",
    "# observability\n",
    "import phoenix as px\n",
    "px.launch_app()\n",
    "\n",
    "import llama_index.core\n",
    "llama_index.core.set_global_handler(\"arize_phoenix\", endpoint=\"http://localhost:6006/v1/traces\")"
   ]
  },
  {
   "cell_type": "markdown",
   "metadata": {},
   "source": [
    "## Preprocessing pipeline"
   ]
  },
  {
   "cell_type": "markdown",
   "metadata": {},
   "source": [
    "### Visualizing workflows"
   ]
  },
  {
   "cell_type": "code",
   "execution_count": 3,
   "metadata": {},
   "outputs": [
    {
     "name": "stdout",
     "output_type": "stream",
     "text": [
      "<class 'NoneType'>\n",
      "<class 'evidence_seeker.preprocessing.preprocessing_separate_listings_workflow.ListAscriptiveClaimsBasedOnAscriptiveAnalysisEvent'>\n",
      "<class 'llama_index.core.workflow.events.StopEvent'>\n",
      "<class 'evidence_seeker.preprocessing.preprocessing_separate_listings_workflow.ListDescriptiveClaimsBasedOnDescriptiveAnalysisEvent'>\n",
      "<class 'evidence_seeker.preprocessing.preprocessing_separate_listings_workflow.AscriptiveAnalysisEndEvent'>\n",
      "<class 'evidence_seeker.preprocessing.preprocessing_separate_listings_workflow.DescriptiveAnalysisEndEvent'>\n",
      "<class 'evidence_seeker.preprocessing.preprocessing_separate_listings_workflow.NormativeAnalysisEndEvent'>\n",
      "<class 'evidence_seeker.preprocessing.preprocessing_separate_listings_workflow.CollectClarifiedClaimsEvent'>\n",
      "<class 'evidence_seeker.preprocessing.preprocessing_separate_listings_workflow.ListNormativeClaimsBasedOnNormativeAnalysisEvent'>\n",
      "<class 'evidence_seeker.preprocessing.preprocessing_separate_listings_workflow.NormativeAnalysisEvent'>\n",
      "<class 'evidence_seeker.preprocessing.preprocessing_separate_listings_workflow.DescriptiveAnalysisEvent'>\n",
      "<class 'evidence_seeker.preprocessing.preprocessing_separate_listings_workflow.AscriptiveAnalysisEvent'>\n",
      "<class 'evidence_seeker.preprocessing.preprocessing_separate_listings_workflow.NegateClaimEvent'>\n",
      "../tmp/PreprocessingSeparateListingsWorkflow.html\n",
      "<class 'NoneType'>\n",
      "<class 'evidence_seeker.preprocessing.simple_preprocessing_workflow.ListClaimsEvent'>\n",
      "<class 'llama_index.core.workflow.events.StopEvent'>\n",
      "<class 'evidence_seeker.preprocessing.simple_preprocessing_workflow.ListClaimsEvent'>\n",
      "<class 'evidence_seeker.preprocessing.simple_preprocessing_workflow.CollectClarifiedClaimsEvent'>\n",
      "<class 'evidence_seeker.preprocessing.simple_preprocessing_workflow.ListClaimsEvent'>\n",
      "<class 'evidence_seeker.preprocessing.simple_preprocessing_workflow.NormativeAnalysisEvent'>\n",
      "<class 'evidence_seeker.preprocessing.simple_preprocessing_workflow.DescriptiveAnalysisEvent'>\n",
      "<class 'evidence_seeker.preprocessing.simple_preprocessing_workflow.AscriptiveAnalysisEvent'>\n",
      "<class 'evidence_seeker.preprocessing.simple_preprocessing_workflow.NegateClaimEvent'>\n",
      "../tmp/SimplePreprocessingWorkflow.html\n"
     ]
    }
   ],
   "source": [
    "\n",
    "import os\n",
    "from llama_index.utils.workflow import draw_all_possible_flows\n",
    "\n",
    "from evidence_seeker.preprocessing.preprocessing_separate_listings_workflow import (\n",
    "    PreprocessingSeparateListingsWorkflow,\n",
    ")\n",
    "from evidence_seeker.preprocessing.simple_preprocessing_workflow import SimplePreprocessingWorkflow\n",
    "\n",
    "\n",
    "\n",
    "# create dir ../tmp if not exists\n",
    "os.makedirs(\"../tmp\", exist_ok=True)\n",
    "\n",
    "draw_all_possible_flows(\n",
    "    PreprocessingSeparateListingsWorkflow, filename=\"../tmp/PreprocessingSeparateListingsWorkflow.html\"\n",
    ")\n",
    "\n",
    "draw_all_possible_flows(\n",
    "    SimplePreprocessingWorkflow, filename=\"../tmp/SimplePreprocessingWorkflow.html\"\n",
    ")"
   ]
  },
  {
   "cell_type": "markdown",
   "metadata": {},
   "source": [
    "### Running Workflows directly"
   ]
  },
  {
   "cell_type": "code",
   "execution_count": 1,
   "metadata": {},
   "outputs": [
    {
     "name": "stdout",
     "output_type": "stream",
     "text": [
      "Loading config from ../configs/simple_preprocessing_config.yaml\n",
      "Used api key name: kideku_toxicity_app_nim\n",
      "Instantiating OpenAILike model (model: meta-llama/Llama-3.1-70B-Instruct,base_url: https://huggingface.co/api/integrations/dgx/v1).\n",
      "Analysing ascriptive aspects of claim.\n",
      "Using workflow model: model_1 for ascriptive_analysis_event\n",
      "Analysing descriptive aspects of claim.\n",
      "Using workflow model: model_1 for descriptive_analysis_event\n",
      "Analysing normative aspects of claim.\n",
      "Using workflow model: model_1 for normative_analysis_event\n",
      "Collecting analyses...\n",
      "Collecting analyses...\n",
      "Collecting analyses...\n",
      "Using workflow model: model_1 for list_claims_event\n",
      "Using workflow model: model_1 for list_claims_event\n",
      "Number of claims: 1\n",
      "Negating claim.\n",
      "Using workflow model: model_1 for negate_claim_event\n",
      "{'claim': 'The rate of climate change is increasing over time.',\n",
      " 'clarified_claims': [CheckedClaim(text='The rate of climate change is increasing over time. The factual content of this claim is: Climate change is occurring. There is a rate of climate change. The rate of climate change is changing over time. The rate of climate change is increasing. The ascriptive content of this claim is: None', negation='The rate of climate change is not increasing over time.', uid='701990da-8334-46df-81f5-18f6df420d9f', n_evidence=None, average_confirmation=None, evidential_uncertainty=None, verbalized_confirmation=None, documents=None, confirmation_by_document=None, metadata={})],\n",
      " 'descriptive_analysis_event': 'Let\\'s break down the claim \"The rate of '\n",
      "                               'climate change is increasing over time.\"\\n'\n",
      "                               '\\n'\n",
      "                               'Upon analysis, I identify the following '\n",
      "                               'factual or descriptive statements implied by '\n",
      "                               'the claim:\\n'\n",
      "                               '\\n'\n",
      "                               '1. **Climate change is occurring**: This '\n",
      "                               'statement implies that there is a change in '\n",
      "                               \"the Earth's climate, which can be verified or \"\n",
      "                               'falsified through scientific analysis of '\n",
      "                               'temperature records, ice core data, and other '\n",
      "                               'indicators.\\n'\n",
      "                               '2. **There is a rate of climate change**: This '\n",
      "                               'statement suggests that climate change is '\n",
      "                               'happening at a measurable pace, which can be '\n",
      "                               'quantified and tracked over time.\\n'\n",
      "                               '3. **The rate of climate change is changing '\n",
      "                               'over time**: This statement implies that the '\n",
      "                               'rate of climate change is not constant, but '\n",
      "                               'rather is increasing, decreasing, or '\n",
      "                               'fluctuating over time.\\n'\n",
      "                               '4. **The rate of climate change is '\n",
      "                               'increasing**: This statement specifically '\n",
      "                               'asserts that the rate of climate change is '\n",
      "                               'becoming faster over time, which can be '\n",
      "                               'verified or falsified through analysis of '\n",
      "                               'trends in climate data.\\n'\n",
      "                               '\\n'\n",
      "                               'Ambiguity and vagueness in the claim:\\n'\n",
      "                               '\\n'\n",
      "                               '* The claim does not specify what aspect of '\n",
      "                               'climate change is increasing (e.g., '\n",
      "                               'temperature, sea level rise, extreme weather '\n",
      "                               'events).\\n'\n",
      "                               '* The claim does not provide a timeframe for '\n",
      "                               'the increase in the rate of climate change '\n",
      "                               '(e.g., over the past decade, century, or '\n",
      "                               'millennium).\\n'\n",
      "                               '* The claim does not define what is meant by '\n",
      "                               '\"increasing\" (e.g., is it a linear increase, '\n",
      "                               'an acceleration, or a tipping point).\\n'\n",
      "                               '\\n'\n",
      "                               'Alternative interpretations:\\n'\n",
      "                               '\\n'\n",
      "                               '* One possible interpretation is that the '\n",
      "                               'claim refers to an increase in the rate of '\n",
      "                               'global warming, specifically the rise in '\n",
      "                               'average global temperature.\\n'\n",
      "                               '* Another interpretation is that the claim '\n",
      "                               'refers to an increase in the frequency or '\n",
      "                               'severity of extreme weather events, such as '\n",
      "                               'heatwaves, droughts, or heavy precipitation '\n",
      "                               'events.\\n'\n",
      "                               '\\n'\n",
      "                               'List of identified factual or descriptive '\n",
      "                               'statements:\\n'\n",
      "                               '\\n'\n",
      "                               '1. Climate change is occurring.\\n'\n",
      "                               '2. There is a rate of climate change.\\n'\n",
      "                               '3. The rate of climate change is changing over '\n",
      "                               'time.\\n'\n",
      "                               '4. The rate of climate change is increasing.\\n'\n",
      "                               '\\n'\n",
      "                               'Each of these statements can be verified or '\n",
      "                               'falsified through empirical observation and '\n",
      "                               'scientific analysis.',\n",
      " 'list_claims_event': '{\\n'\n",
      "                      '  \"claims\": [\\n'\n",
      "                      '    {\\n'\n",
      "                      '      \"claim\": \"The rate of climate change is '\n",
      "                      'increasing over time. The factual content of this claim '\n",
      "                      'is: Climate change is occurring. There is a rate of '\n",
      "                      'climate change. The rate of climate change is changing '\n",
      "                      'over time. The rate of climate change is increasing. '\n",
      "                      'The ascriptive content of this claim is: None\"\\n'\n",
      "                      '    }\\n'\n",
      "                      '  ]\\n'\n",
      "                      '}',\n",
      " 'negate_claim_event': 'The rate of climate change is not increasing over '\n",
      "                       'time.'}\n"
     ]
    }
   ],
   "source": [
    "\n",
    "import yaml\n",
    "from pprint import pprint\n",
    "\n",
    "from evidence_seeker.backend import get_openai_llm\n",
    "from evidence_seeker.preprocessing.preprocessing_separate_listings_workflow import (\n",
    "    PreprocessingSeparateListingsWorkflow,\n",
    ")\n",
    "from evidence_seeker.preprocessing.simple_preprocessing_workflow import SimplePreprocessingWorkflow\n",
    "\n",
    "\n",
    "# config_file = \"../config.yaml\" \n",
    "\n",
    "config_file = \"../configs/preprocessing_separate_listings_config.yaml\" \n",
    "pw = PreprocessingSeparateListingsWorkflow(config_file=config_file)\n",
    "\n",
    "#config_file = \"../configs/simple_preprocessing_config.yaml\" \n",
    "#pw = SimplePreprocessingWorkflow(config_file=config_file)\n",
    "\n",
    "examples = [\n",
    "    \"Climate change is the biggest challenge for human kind.\",\n",
    "    \"Climate change is getting ever and ever faster.\",\n",
    "    \"The rate of climate change is increasing over time.\",\n",
    "]\n",
    "result = await pw.run(claim=examples[2])\n",
    "pprint(result)"
   ]
  },
  {
   "cell_type": "markdown",
   "metadata": {},
   "source": [
    "### Running ClaimPreprocessor"
   ]
  },
  {
   "cell_type": "code",
   "execution_count": 1,
   "metadata": {},
   "outputs": [
    {
     "name": "stdout",
     "output_type": "stream",
     "text": [
      "Loading config from ../configs/preprocessing_separate_listings_config.yaml\n",
      "Used api key name: kideku_toxicity_app_nim\n",
      "Instantiating OpenAILike model (model: meta-llama/Llama-3.1-70B-Instruct,base_url: https://huggingface.co/api/integrations/dgx/v1).\n",
      "Analysing ascriptive aspects of claim.\n",
      "Using workflow model: model_1 for ascriptive_analysis_event\n",
      "Analysing descriptive aspects of claim.\n",
      "Using workflow model: model_1 for descriptive_analysis_event\n",
      "Analysing normative aspects of claim.\n",
      "Using workflow model: model_1 for normative_analysis_event\n",
      "Using workflow model: model_1 for list_ascriptive_claims_event_based_on_ascriptive_analysis\n",
      "Using workflow model: model_1 for list_ascriptive_claims_event_based_on_ascriptive_analysis\n",
      "Collecting clarified claims...\n",
      "Collecting clarified claims... still waiting...\n",
      "Using workflow model: model_1 for list_normative_claims_event_based_on_normative_analysis\n",
      "Using workflow model: model_1 for list_normative_claims_event_based_on_normative_analysis\n",
      "Collecting clarified claims...\n",
      "Collecting clarified claims... still waiting...\n",
      "Using workflow model: model_1 for list_descriptive_claims_event_based_on_descriptive_analysis\n",
      "Using workflow model: model_1 for list_descriptive_claims_event_based_on_descriptive_analysis\n",
      "Collecting clarified claims...\n",
      "Number of claims: 5\n",
      "Negating claim.\n",
      "Using workflow model: model_1 for negate_claim_event\n",
      "Negating claim.\n",
      "Using workflow model: model_1 for negate_claim_event\n",
      "Negating claim.\n",
      "Using workflow model: model_1 for negate_claim_event\n",
      "Negating claim.\n",
      "Using workflow model: model_1 for negate_claim_event\n",
      "Negating claim.\n",
      "Using workflow model: model_1 for negate_claim_event\n"
     ]
    }
   ],
   "source": [
    "import yaml\n",
    "from pprint import pprint\n",
    "\n",
    "from evidence_seeker.preprocessing import ClaimPreprocessor\n",
    "\n",
    "config_file = \"../configs/preprocessing_separate_listings_config.yaml\" \n",
    "#config_file = \"../configs/simple_preprocessing_config.yaml\" \n",
    "\n",
    "# Note: Use preprocessor workflow is currently hardset in `ClaimPreprocessor`\n",
    "preprocessor = ClaimPreprocessor(config_file=config_file)\n",
    "clarified_claims = await preprocessor(claim=\"Climate change is the biggest challenge for human kind.\") \n"
   ]
  },
  {
   "cell_type": "code",
   "execution_count": 2,
   "metadata": {},
   "outputs": [
    {
     "name": "stdout",
     "output_type": "stream",
     "text": [
      "[CheckedClaim(text='Climate change has significant impacts on human societies', negation='Climate change has no significant impacts on human societies.', uid='f369af94-8095-42cc-b644-6655d061ff45', n_evidence=None, average_confirmation=None, evidential_uncertainty=None, verbalized_confirmation=None, documents=None, confirmation_by_document=None, metadata={'statement_type': 'descriptive'}),\n",
      " CheckedClaim(text='Climate change is a real phenomenon', negation='Climate change is not a real phenomenon.', uid='d86f500a-8ca7-40cd-b1ae-3a8535146f57', n_evidence=None, average_confirmation=None, evidential_uncertainty=None, verbalized_confirmation=None, documents=None, confirmation_by_document=None, metadata={'statement_type': 'descriptive'}),\n",
      " CheckedClaim(text='Climate change should be prioritized above other challenges facing humanity.', negation='Climate change should not be prioritized above other challenges facing humanity.', uid='4fda9896-4710-4901-901e-3bdf57721cbf', n_evidence=None, average_confirmation=None, evidential_uncertainty=None, verbalized_confirmation=None, documents=None, confirmation_by_document=None, metadata={'statement_type': 'normative'}),\n",
      " CheckedClaim(text='Climate change is a global issue', negation='Climate change is not a global issue.', uid='ae2f049c-3fbf-450e-8328-afd95cad9c37', n_evidence=None, average_confirmation=None, evidential_uncertainty=None, verbalized_confirmation=None, documents=None, confirmation_by_document=None, metadata={'statement_type': 'descriptive'}),\n",
      " CheckedClaim(text='Climate change poses a significant threat to human well-being', negation='Climate change does not pose a significant threat to human well-being.', uid='703da677-9552-4d5b-8574-5cf841155cfd', n_evidence=None, average_confirmation=None, evidential_uncertainty=None, verbalized_confirmation=None, documents=None, confirmation_by_document=None, metadata={'statement_type': 'descriptive'})]\n"
     ]
    }
   ],
   "source": [
    "pprint(clarified_claims)"
   ]
  }
 ],
 "metadata": {
  "kernelspec": {
   "display_name": "evidence-seeker",
   "language": "python",
   "name": "python3"
  },
  "language_info": {
   "codemirror_mode": {
    "name": "ipython",
    "version": 3
   },
   "file_extension": ".py",
   "mimetype": "text/x-python",
   "name": "python",
   "nbconvert_exporter": "python",
   "pygments_lexer": "ipython3",
   "version": "3.10.14"
  }
 },
 "nbformat": 4,
 "nbformat_minor": 2
}
