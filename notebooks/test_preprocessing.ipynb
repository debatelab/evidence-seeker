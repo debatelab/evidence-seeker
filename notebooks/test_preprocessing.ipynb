{
 "cells": [
  {
   "cell_type": "markdown",
   "metadata": {},
   "source": [
    "# Testing Pipelines"
   ]
  },
  {
   "cell_type": "markdown",
   "metadata": {},
   "source": [
    "### Initiating observation via Phoenix"
   ]
  },
  {
   "cell_type": "code",
   "execution_count": 1,
   "metadata": {},
   "outputs": [
    {
     "name": "stdout",
     "output_type": "stream",
     "text": [
      "🌍 To view the Phoenix app in your browser, visit http://localhost:6006/\n",
      "📖 For more information on how to use Phoenix, check out https://docs.arize.com/phoenix\n"
     ]
    }
   ],
   "source": [
    "# %pip pip install arize-phoenix\n",
    "# %pip install llama-index-callbacks-arize-phoenix\n",
    "\n",
    "# observability\n",
    "import phoenix as px\n",
    "px.launch_app()\n",
    "\n",
    "import llama_index.core\n",
    "llama_index.core.set_global_handler(\"arize_phoenix\", endpoint=\"http://localhost:6006/v1/traces\")"
   ]
  },
  {
   "cell_type": "markdown",
   "metadata": {},
   "source": [
    "## Preprocessing pipeline"
   ]
  },
  {
   "cell_type": "markdown",
   "metadata": {},
   "source": [
    "### Visualizing workflows"
   ]
  },
  {
   "cell_type": "code",
   "execution_count": 2,
   "metadata": {},
   "outputs": [
    {
     "name": "stderr",
     "output_type": "stream",
     "text": [
      "None of PyTorch, TensorFlow >= 2.0, or Flax have been found. Models won't be available and only tokenizers, configuration and file/data utilities can be used.\n"
     ]
    },
    {
     "name": "stdout",
     "output_type": "stream",
     "text": [
      "<class 'NoneType'>\n",
      "<class 'evidence_seeker.preprocessing.workflows.ListAscriptiveClaimsEvent'>\n",
      "<class 'llama_index.core.workflow.events.StopEvent'>\n",
      "<class 'evidence_seeker.preprocessing.workflows.ListDescriptiveClaimsEvent'>\n",
      "<class 'evidence_seeker.preprocessing.workflows.NegateClaimEvent'>\n",
      "<class 'evidence_seeker.preprocessing.workflows.StartedNegatingClaims'>\n",
      "<class 'evidence_seeker.preprocessing.workflows.NegateClaimEvent'>\n",
      "<class 'evidence_seeker.preprocessing.workflows.StartedNegatingClaims'>\n",
      "<class 'evidence_seeker.preprocessing.workflows.NegateClaimEvent'>\n",
      "<class 'evidence_seeker.preprocessing.workflows.StartedNegatingClaims'>\n",
      "<class 'evidence_seeker.preprocessing.workflows.CollectClarifiedClaimsEvent'>\n",
      "<class 'evidence_seeker.preprocessing.workflows.ListNormativeClaimsEvent'>\n",
      "<class 'evidence_seeker.preprocessing.workflows.NormativeAnalysisEvent'>\n",
      "<class 'evidence_seeker.preprocessing.workflows.DescriptiveAnalysisEvent'>\n",
      "<class 'evidence_seeker.preprocessing.workflows.AscriptiveAnalysisEvent'>\n",
      "../TMP/PreprocessingWorkflow.html\n"
     ]
    },
    {
     "name": "stderr",
     "output_type": "stream",
     "text": [
      "WARNING: All log messages before absl::InitializeLog() is called are written to STDERR\n",
      "I0000 00:00:1734196016.452777  549171 fork_posix.cc:75] Other threads are currently calling into gRPC, skipping fork() handlers\n",
      "I0000 00:00:1734196016.491641  549171 fork_posix.cc:75] Other threads are currently calling into gRPC, skipping fork() handlers\n"
     ]
    }
   ],
   "source": [
    "\n",
    "import os\n",
    "from llama_index.utils.workflow import draw_all_possible_flows\n",
    "\n",
    "from evidence_seeker.preprocessing.workflows import (\n",
    "    PreprocessingWorkflow,\n",
    ")\n",
    "\n",
    "draw_all_possible_flows(\n",
    "    PreprocessingWorkflow, filename=\"../TMP/PreprocessingWorkflow.html\"\n",
    ")\n"
   ]
  },
  {
   "cell_type": "markdown",
   "metadata": {},
   "source": [
    "### Save default config"
   ]
  },
  {
   "cell_type": "code",
   "execution_count": 3,
   "metadata": {},
   "outputs": [
    {
     "data": {
      "text/plain": [
       "7841"
      ]
     },
     "execution_count": 3,
     "metadata": {},
     "output_type": "execute_result"
    }
   ],
   "source": [
    "import pathlib\n",
    "import yaml\n",
    "\n",
    "from evidence_seeker.preprocessing import ClaimPreprocessingConfig\n",
    "\n",
    "configfile = pathlib.Path(\"../configs/preprocessing_config_default.yaml\")\n",
    "\n",
    "default_config = ClaimPreprocessingConfig()\n",
    "default_config_dict = default_config.model_dump()\n",
    "\n",
    "#configfile.write_text(yaml.dump(default_config_dict))\n"
   ]
  },
  {
   "cell_type": "markdown",
   "metadata": {},
   "source": [
    "### Running ClaimPreprocessor"
   ]
  },
  {
   "cell_type": "code",
   "execution_count": 5,
   "metadata": {},
   "outputs": [
    {
     "data": {
      "text/plain": [
       "{'$defs': {'Claim': {'description': 'A claim or statement.',\n",
       "   'properties': {'text': {'description': 'The claim expressed as one sentence.',\n",
       "     'title': 'Text',\n",
       "     'type': 'string'}},\n",
       "   'required': ['text'],\n",
       "   'title': 'Claim',\n",
       "   'type': 'object'}},\n",
       " 'description': 'A list of claims.',\n",
       " 'properties': {'aussagen': {'description': 'A list of claims.',\n",
       "   'items': {'$ref': '#/$defs/Claim'},\n",
       "   'title': 'Aussagen',\n",
       "   'type': 'array'}},\n",
       " 'required': ['aussagen'],\n",
       " 'title': 'Claims',\n",
       " 'type': 'object'}"
      ]
     },
     "execution_count": 5,
     "metadata": {},
     "output_type": "execute_result"
    }
   ],
   "source": [
    "from evidence_seeker.preprocessing.workflows import Claims\n",
    "\n",
    "Claims.model_json_schema()"
   ]
  },
  {
   "cell_type": "code",
   "execution_count": 2,
   "metadata": {},
   "outputs": [
    {
     "name": "stderr",
     "output_type": "stream",
     "text": [
      "None of PyTorch, TensorFlow >= 2.0, or Flax have been found. Models won't be available and only tokenizers, configuration and file/data utilities can be used.\n",
      "\u001b[32m2024-12-14 18:19:26.524\u001b[0m | \u001b[34m\u001b[1mDEBUG   \u001b[0m | \u001b[36mevidence_seeker.backend\u001b[0m:\u001b[36mget_openai_llm\u001b[0m:\u001b[36m109\u001b[0m - \u001b[34m\u001b[1mFetching api key via env var: HF_TOKEN_EVIDENCE_SEEKER\u001b[0m\n",
      "\u001b[32m2024-12-14 18:19:26.526\u001b[0m | \u001b[34m\u001b[1mDEBUG   \u001b[0m | \u001b[36mevidence_seeker.backend\u001b[0m:\u001b[36mget_openai_llm\u001b[0m:\u001b[36m117\u001b[0m - \u001b[34m\u001b[1mInstantiating OpenAILike model (model: meta-llama/Llama-3.1-70B-Instruct,base_url: https://ev6086dt6s7nn1b5.us-east-1.aws.endpoints.huggingface.cloud/v1/).\u001b[0m\n"
     ]
    }
   ],
   "source": [
    "from pprint import pprint\n",
    "\n",
    "from evidence_seeker.preprocessing import ClaimPreprocessor, ClaimPreprocessingConfig\n",
    "import pathlib\n",
    "\n",
    "#config_file = pathlib.Path(\"../configs/confirmation_analysis_config_default.yaml\")\n",
    "#confirmation_analyzer = ConfirmationAnalyzer.from_config_file(config_file)\n",
    "\n",
    "\n",
    "#config_file = \"../configs/preprocessing_config_default.yaml\" \n",
    "#config = ClaimPreprocessingConfig.from_config_file(config_file)\n",
    "\n",
    "config = ClaimPreprocessingConfig()\n",
    "preprocessor = ClaimPreprocessor(config=config)\n",
    "\n",
    "example_inputs = [\n",
    "    \"Die Osterweiterung hat die EU-Institutionen nachhaltig geschwächt.\",\n",
    "    \"In den knapp 70 Jahren seit ihrer Gründung hat es in der Bundeswehr immer wieder rechtsextremistische Vorfälle gegeben.\",\n",
    "    \"In der Bundeswehr gibt es keinen politischen Extremismus.\",\n",
    "    \"Die Bundesrepublik verfolgt eine orientierungslose Anpassungspolitik, weshalb zunehmend andere Staaten und Institutionen die deutsche Außen- und Sicherheitspolitik beeinflussen und steuern.\"\n",
    "]\n",
    "\n"
   ]
  },
  {
   "cell_type": "code",
   "execution_count": 3,
   "metadata": {},
   "outputs": [
    {
     "name": "stderr",
     "output_type": "stream",
     "text": [
      "\u001b[32m2024-12-14 18:19:36.357\u001b[0m | \u001b[34m\u001b[1mDEBUG   \u001b[0m | \u001b[36mevidence_seeker.preprocessing.workflows\u001b[0m:\u001b[36mascriptive_analysis\u001b[0m:\u001b[36m175\u001b[0m - \u001b[34m\u001b[1mAnalysing ascriptive aspects of claim.\u001b[0m\n"
     ]
    },
    {
     "name": "stderr",
     "output_type": "stream",
     "text": [
      "\u001b[32m2024-12-14 18:19:36.406\u001b[0m | \u001b[34m\u001b[1mDEBUG   \u001b[0m | \u001b[36mevidence_seeker.preprocessing.workflows\u001b[0m:\u001b[36mdescriptive_analysis\u001b[0m:\u001b[36m124\u001b[0m - \u001b[34m\u001b[1mAnalysing descriptive aspects of claim.\u001b[0m\n",
      "\u001b[32m2024-12-14 18:19:36.458\u001b[0m | \u001b[34m\u001b[1mDEBUG   \u001b[0m | \u001b[36mevidence_seeker.preprocessing.workflows\u001b[0m:\u001b[36mnormative_analysis\u001b[0m:\u001b[36m226\u001b[0m - \u001b[34m\u001b[1mAnalysing normative aspects of claim.\u001b[0m\n",
      "\u001b[32m2024-12-14 18:20:09.618\u001b[0m | \u001b[34m\u001b[1mDEBUG   \u001b[0m | \u001b[36mevidence_seeker.preprocessing.workflows\u001b[0m:\u001b[36mnegate_claim\u001b[0m:\u001b[36m275\u001b[0m - \u001b[34m\u001b[1mNegating claim.\u001b[0m\n",
      "\u001b[32m2024-12-14 18:20:09.625\u001b[0m | \u001b[34m\u001b[1mDEBUG   \u001b[0m | \u001b[36mevidence_seeker.preprocessing.workflows\u001b[0m:\u001b[36mnegate_claim\u001b[0m:\u001b[36m275\u001b[0m - \u001b[34m\u001b[1mNegating claim.\u001b[0m\n",
      "\u001b[32m2024-12-14 18:20:09.631\u001b[0m | \u001b[34m\u001b[1mDEBUG   \u001b[0m | \u001b[36mevidence_seeker.preprocessing.workflows\u001b[0m:\u001b[36mnegate_claim\u001b[0m:\u001b[36m275\u001b[0m - \u001b[34m\u001b[1mNegating claim.\u001b[0m\n",
      "\u001b[32m2024-12-14 18:20:09.637\u001b[0m | \u001b[34m\u001b[1mDEBUG   \u001b[0m | \u001b[36mevidence_seeker.preprocessing.workflows\u001b[0m:\u001b[36mnegate_claim\u001b[0m:\u001b[36m275\u001b[0m - \u001b[34m\u001b[1mNegating claim.\u001b[0m\n",
      "\u001b[32m2024-12-14 18:20:12.952\u001b[0m | \u001b[34m\u001b[1mDEBUG   \u001b[0m | \u001b[36mevidence_seeker.preprocessing.workflows\u001b[0m:\u001b[36mnegate_claim\u001b[0m:\u001b[36m275\u001b[0m - \u001b[34m\u001b[1mNegating claim.\u001b[0m\n",
      "\u001b[32m2024-12-14 18:20:12.959\u001b[0m | \u001b[34m\u001b[1mDEBUG   \u001b[0m | \u001b[36mevidence_seeker.preprocessing.workflows\u001b[0m:\u001b[36mnegate_claim\u001b[0m:\u001b[36m275\u001b[0m - \u001b[34m\u001b[1mNegating claim.\u001b[0m\n"
     ]
    },
    {
     "name": "stdout",
     "output_type": "stream",
     "text": [
      "[{'average_confirmation': None,\n",
      "  'confirmation_by_document': None,\n",
      "  'documents': None,\n",
      "  'evidential_uncertainty': None,\n",
      "  'metadata': {},\n",
      "  'n_evidence': None,\n",
      "  'negation': 'Eine \"orientierungslose\" Anpassungspolitik ist wünschenswert.',\n",
      "  'statement_type': <StatementType.NORMATIVE: 'normative'>,\n",
      "  'text': 'Eine \"orientierungslose\" Anpassungspolitik ist nicht wünschenswert.',\n",
      "  'uid': '518b1aff-02bc-4c61-a8d2-b782a2cf2107',\n",
      "  'verbalized_confirmation': None},\n",
      " {'average_confirmation': None,\n",
      "  'confirmation_by_document': None,\n",
      "  'documents': None,\n",
      "  'evidential_uncertainty': None,\n",
      "  'metadata': {},\n",
      "  'n_evidence': None,\n",
      "  'negation': 'Die Bundesrepublik sollte keine orientiertere Anpassungspolitik '\n",
      "              'verfolgen.',\n",
      "  'statement_type': <StatementType.NORMATIVE: 'normative'>,\n",
      "  'text': 'Die Bundesrepublik sollte eine orientiertere Anpassungspolitik '\n",
      "          'verfolgen.',\n",
      "  'uid': '31dc13d1-386d-43ca-bc7f-898114a2f2df',\n",
      "  'verbalized_confirmation': None},\n",
      " {'average_confirmation': None,\n",
      "  'confirmation_by_document': None,\n",
      "  'documents': None,\n",
      "  'evidential_uncertainty': None,\n",
      "  'metadata': {},\n",
      "  'n_evidence': None,\n",
      "  'negation': 'Die Bundesrepublik sollte ihre Außen- und Sicherheitspolitik '\n",
      "              'nicht selbst bestimmen, sondern von externen Einflüssen '\n",
      "              'abhängig sein.',\n",
      "  'statement_type': <StatementType.NORMATIVE: 'normative'>,\n",
      "  'text': 'Die Bundesrepublik sollte ihre Außen- und Sicherheitspolitik selbst '\n",
      "          'bestimmen und nicht von externen Einflüssen abhängig sein.',\n",
      "  'uid': '82c0b218-b291-4dc6-8746-c281fa761fd1',\n",
      "  'verbalized_confirmation': None},\n",
      " {'average_confirmation': None,\n",
      "  'confirmation_by_document': None,\n",
      "  'documents': None,\n",
      "  'evidential_uncertainty': None,\n",
      "  'metadata': {},\n",
      "  'n_evidence': None,\n",
      "  'negation': 'Es ist wünschenswert, wenn andere Staaten und Institutionen die '\n",
      "              'deutsche Außen- und Sicherheitspolitik beeinflussen und '\n",
      "              'steuern.',\n",
      "  'statement_type': <StatementType.NORMATIVE: 'normative'>,\n",
      "  'text': 'Es ist nicht wünschenswert, wenn andere Staaten und Institutionen '\n",
      "          'die deutsche Außen- und Sicherheitspolitik beeinflussen und '\n",
      "          'steuern.',\n",
      "  'uid': '790fe4bc-bb5d-4649-aabd-55e0dea42c95',\n",
      "  'verbalized_confirmation': None},\n",
      " {'average_confirmation': None,\n",
      "  'confirmation_by_document': None,\n",
      "  'documents': None,\n",
      "  'evidential_uncertainty': None,\n",
      "  'metadata': {},\n",
      "  'n_evidence': None,\n",
      "  'negation': 'Die Bundesrepublik Deutschland verfolgt eine klare Ausrichtung '\n",
      "              'in ihrer Außen- und Sicherheitspolitik.',\n",
      "  'statement_type': <StatementType.DESCRIPTIVE: 'descriptive'>,\n",
      "  'text': 'Die Bundesrepublik Deutschland verfolgt keine klare Ausrichtung in '\n",
      "          'ihrer Außen- und Sicherheitspolitik.',\n",
      "  'uid': '346fe226-80db-48f5-9610-d30a0cdf88ca',\n",
      "  'verbalized_confirmation': None},\n",
      " {'average_confirmation': None,\n",
      "  'confirmation_by_document': None,\n",
      "  'documents': None,\n",
      "  'evidential_uncertainty': None,\n",
      "  'metadata': {},\n",
      "  'n_evidence': None,\n",
      "  'negation': 'Die deutsche Außen- und Sicherheitspolitik wird nicht von '\n",
      "              'anderen Staaten und Institutionen beeinflusst.',\n",
      "  'statement_type': <StatementType.DESCRIPTIVE: 'descriptive'>,\n",
      "  'text': 'Die deutsche Außen- und Sicherheitspolitik wird zunehmend von '\n",
      "          'anderen Staaten und Institutionen beeinflusst.',\n",
      "  'uid': '2ba29647-5da4-4d73-b82c-8f911a38a992',\n",
      "  'verbalized_confirmation': None}]\n"
     ]
    }
   ],
   "source": [
    "clarified_claims = await preprocessor(claim=example_inputs[-1]) \n",
    "pprint([cc.model_dump() for cc in clarified_claims])"
   ]
  },
  {
   "cell_type": "code",
   "execution_count": null,
   "metadata": {},
   "outputs": [],
   "source": []
  }
 ],
 "metadata": {
  "kernelspec": {
   "display_name": "evidence-seeker",
   "language": "python",
   "name": "python3"
  },
  "language_info": {
   "codemirror_mode": {
    "name": "ipython",
    "version": 3
   },
   "file_extension": ".py",
   "mimetype": "text/x-python",
   "name": "python",
   "nbconvert_exporter": "python",
   "pygments_lexer": "ipython3",
   "version": "3.12.3"
  }
 },
 "nbformat": 4,
 "nbformat_minor": 2
}
