{
 "cells": [
  {
   "cell_type": "markdown",
   "metadata": {},
   "source": [
    "# Preprocessing Component"
   ]
  },
  {
   "cell_type": "markdown",
   "metadata": {},
   "source": [
    "## Initiating observation via Phoenix"
   ]
  },
  {
   "cell_type": "code",
   "execution_count": 1,
   "metadata": {},
   "outputs": [
    {
     "name": "stdout",
     "output_type": "stream",
     "text": [
      "🌍 To view the Phoenix app in your browser, visit http://localhost:6006/\n",
      "📖 For more information on how to use Phoenix, check out https://docs.arize.com/phoenix\n"
     ]
    }
   ],
   "source": [
    "# %pip pip install arize-phoenix\n",
    "# %pip install llama-index-callbacks-arize-phoenix\n",
    "\n",
    "# observability\n",
    "import phoenix as px\n",
    "px.launch_app()\n",
    "\n",
    "import llama_index.core\n",
    "llama_index.core.set_global_handler(\"arize_phoenix\", endpoint=\"http://localhost:6006/v1/traces\")"
   ]
  },
  {
   "cell_type": "markdown",
   "metadata": {},
   "source": [
    "## Visualizing steps of the preprocessing workflow"
   ]
  },
  {
   "cell_type": "code",
   "execution_count": 2,
   "metadata": {},
   "outputs": [
    {
     "name": "stderr",
     "output_type": "stream",
     "text": [
      "None of PyTorch, TensorFlow >= 2.0, or Flax have been found. Models won't be available and only tokenizers, configuration and file/data utilities can be used.\n"
     ]
    },
    {
     "name": "stdout",
     "output_type": "stream",
     "text": [
      "<class 'NoneType'>\n",
      "<class 'evidence_seeker.preprocessing.workflows.ListAscriptiveClaimsEvent'>\n",
      "<class 'llama_index.core.workflow.events.StopEvent'>\n",
      "<class 'evidence_seeker.preprocessing.workflows.ListDescriptiveClaimsEvent'>\n",
      "<class 'evidence_seeker.preprocessing.workflows.NegateClaimEvent'>\n",
      "<class 'evidence_seeker.preprocessing.workflows.StartedNegatingClaims'>\n",
      "<class 'evidence_seeker.preprocessing.workflows.NegateClaimEvent'>\n",
      "<class 'evidence_seeker.preprocessing.workflows.StartedNegatingClaims'>\n",
      "<class 'evidence_seeker.preprocessing.workflows.NegateClaimEvent'>\n",
      "<class 'evidence_seeker.preprocessing.workflows.StartedNegatingClaims'>\n",
      "<class 'evidence_seeker.preprocessing.workflows.CollectClarifiedClaimsEvent'>\n",
      "<class 'evidence_seeker.preprocessing.workflows.ListNormativeClaimsEvent'>\n",
      "<class 'evidence_seeker.preprocessing.workflows.NormativeAnalysisEvent'>\n",
      "<class 'evidence_seeker.preprocessing.workflows.DescriptiveAnalysisEvent'>\n",
      "<class 'evidence_seeker.preprocessing.workflows.AscriptiveAnalysisEvent'>\n",
      "../TMP/PreprocessingWorkflow.html\n"
     ]
    },
    {
     "name": "stderr",
     "output_type": "stream",
     "text": [
      "WARNING: All log messages before absl::InitializeLog() is called are written to STDERR\n",
      "I0000 00:00:1734196016.452777  549171 fork_posix.cc:75] Other threads are currently calling into gRPC, skipping fork() handlers\n",
      "I0000 00:00:1734196016.491641  549171 fork_posix.cc:75] Other threads are currently calling into gRPC, skipping fork() handlers\n"
     ]
    }
   ],
   "source": [
    "\n",
    "import os\n",
    "from llama_index.utils.workflow import draw_all_possible_flows\n",
    "\n",
    "from evidence_seeker.preprocessing.workflows import (\n",
    "    PreprocessingWorkflow,\n",
    ")\n",
    "\n",
    "draw_all_possible_flows(\n",
    "    PreprocessingWorkflow, filename=\"../TMP/PreprocessingWorkflow.html\"\n",
    ")\n"
   ]
  },
  {
   "cell_type": "markdown",
   "metadata": {},
   "source": [
    "## Save default config"
   ]
  },
  {
   "cell_type": "code",
   "execution_count": 5,
   "metadata": {},
   "outputs": [
    {
     "name": "stderr",
     "output_type": "stream",
     "text": [
      "\u001b[32m2025-07-22 07:47:06.419\u001b[0m | \u001b[1mINFO    \u001b[0m | \u001b[36mevidence_seeker.preprocessing.config\u001b[0m:\u001b[36mload_env_file\u001b[0m:\u001b[36m75\u001b[0m - \u001b[1mLoaded environment variables from '../.env'\u001b[0m\n"
     ]
    },
    {
     "data": {
      "text/plain": [
       "8042"
      ]
     },
     "execution_count": 5,
     "metadata": {},
     "output_type": "execute_result"
    }
   ],
   "source": [
    "import pathlib\n",
    "import yaml\n",
    "\n",
    "from evidence_seeker import ClaimPreprocessingConfig\n",
    "\n",
    "configfile = pathlib.Path(\"../configs/preprocessing_config_default.yaml\")\n",
    "#configfile = pathlib.Path(\"../src/evidence_seeker/package_data/config/preprocessing_config.yaml\")\n",
    "\n",
    "default_config = ClaimPreprocessingConfig(\n",
    "    used_model_key=\"<key_model_one>\",\n",
    "    env_file=\"../.env\",\n",
    "    models={\n",
    "        '<key_model_one>': {\n",
    "            \"name\": \"<your_model_name>\",\n",
    "            \"description\": \"<description_of_your_model>\",\n",
    "            \"base_url\": \"<your_base_url>\",\n",
    "            \"model\": \"<your_model_identifier>\",\n",
    "            \"backend_type\": \"<backend_type_of_your_model>\",\n",
    "            \"max_tokens\": 1024,\n",
    "            \"temperature\": 0.2,\n",
    "            \"api_key\": \"<your_api_key_name>\",\n",
    "            \"timeout\": 260\n",
    "        },\n",
    "        '<key_model_two>': {\n",
    "            \"name\": \"<your_model_name>\",\n",
    "            \"description\": \"<description_of_your_model>\",\n",
    "            \"base_url\": \"<your_base_url>\",\n",
    "            \"model\": \"<your_model_identifier>\",\n",
    "            \"backend_type\": \"<backend_type_of_your_model>\",\n",
    "            \"max_tokens\": 1024,\n",
    "            \"temperature\": 0.2,\n",
    "            \"api_key\": \"<your_api_key_name>\",\n",
    "            \"timeout\": 260\n",
    "        },\n",
    "    }\n",
    ")\n",
    "default_config_dict = default_config.model_dump()\n",
    "\n",
    "configfile.write_text(yaml.dump(default_config_dict))\n"
   ]
  },
  {
   "cell_type": "markdown",
   "metadata": {},
   "source": [
    "## Running ClaimPreprocessor"
   ]
  },
  {
   "cell_type": "markdown",
   "metadata": {},
   "source": [
    "### Example inputs"
   ]
  },
  {
   "cell_type": "code",
   "execution_count": 1,
   "metadata": {},
   "outputs": [],
   "source": [
    "example_inputs = [\n",
    "    \"Die Osterweiterung hat die EU-Institutionen nachhaltig geschwächt.\",\n",
    "    \"In den knapp 70 Jahren seit ihrer Gründung hat es in der Bundeswehr immer wieder rechtsextremistische Vorfälle gegeben.\",\n",
    "    \"In der Bundeswehr gibt es keinen politischen Extremismus.\",\n",
    "    \"Die Bundesrepublik verfolgt eine orientierungslose Anpassungspolitik, weshalb zunehmend andere Staaten und Institutionen die deutsche Außen- und Sicherheitspolitik beeinflussen und steuern.\",\n",
    "]\n",
    "\n",
    "example_ascriptions = [\n",
    "    \"Petra Krüger behauptet, dass es in der Bundeswehr keinen politischen Extremismus gibt.\",\n",
    "    \"Der indische Premierminister Modi hält Putin für seinen Freund.\",\n",
    "    \"Heike Krieger zufolge verbietet das humanitäre Völkerrecht Kriegsführung nicht per se.\",\n",
    "    \"Jörn Leonhard schreibt, dass die Anzahl hybrider Kriege zugenommen hat.\",\n",
    "    \"Laut Andreas Schüller sind die Genfer Konventionen oft hinter ihrem Anspruch, die Zivilbevölkerung zu schützen, zurückgeblieben.\"\n",
    "    \"Der Autorin zufolge verbietet das humanitäre Völkerrecht Kriegsführung nicht per se.\",\n",
    "    \"Tim Smith schreibt, dass die Anzahl hybrider Kriege zugenommen hat.\",\n",
    "    \"Laut dem Autor sind die Genfer Konventionen oft hinter ihrem Anspruch, die Zivilbevölkerung zu schützen, zurückgeblieben.\"\n",
    "    \"Claudia Gatzka schreibt, dass sich ihre Einstellung zur parteipolitischen Lage in Deutschland mit ihrem großen Freundeskreis deckt.\",\n",
    "    \"Die Autorin schreibt, dass sich ihre Einstellung zur parteipolitischen Lage in Deutschland mit ihrem großen Freundeskreis deckt.\",\n",
    "]\n"
   ]
  },
  {
   "cell_type": "markdown",
   "metadata": {},
   "source": [
    "### Initializing config object"
   ]
  },
  {
   "cell_type": "code",
   "execution_count": 1,
   "metadata": {},
   "outputs": [
    {
     "name": "stderr",
     "output_type": "stream",
     "text": [
      "\u001b[32m2025-07-22 11:41:52.402\u001b[0m | \u001b[1mINFO    \u001b[0m | \u001b[36mevidence_seeker.preprocessing.config\u001b[0m:\u001b[36mload_env_file\u001b[0m:\u001b[36m77\u001b[0m - \u001b[1mLoaded environment variables from '../.env'\u001b[0m\n"
     ]
    }
   ],
   "source": [
    "from evidence_seeker import ClaimPreprocessingConfig\n",
    "\n",
    "preprocessor = None\n",
    "config = ClaimPreprocessingConfig(\n",
    "    timeout=1200,\n",
    "    env_file=\"../.env\",\n",
    "    used_model_key=\"together.ai\",\n",
    "    models={\n",
    "        'lmstudio': {\n",
    "                \"name\": \"mllama-3.2-1b-instruct\",\n",
    "                \"description\": \"Local model served via LMStudio\",\n",
    "                \"base_url\": \"http://127.0.0.1:1234/v1/\",\n",
    "                \"model\": \"llama-3.2-1b-instruct\",\n",
    "                \"backend_type\": \"openai\",\n",
    "                \"max_tokens\": 1024,\n",
    "                \"temperature\": 0.2,\n",
    "                \"api_key\": \"not_needed\",\n",
    "                \"timeout\": 260\n",
    "            },\n",
    "        'together.ai': {\n",
    "            \"name\": \"Meta-Llama-3-Instruct\",\n",
    "            \"description\": \"Model served via Together.ai over HuggingFace\",\n",
    "            \"base_url\": \"https://router.huggingface.co/together/v1\",\n",
    "            \"model\": \"meta-llama/Llama-3.2-3B-Instruct-Turbo\",\n",
    "            \"api_key_name\": \"hf_debatelab_inference_provider\",\n",
    "            \"backend_type\": \"openai\",\n",
    "            \"default_headers\": {\"X-HF-Bill-To\": \"DebateLabKIT\"},\n",
    "            \"max_tokens\": 1024,\n",
    "            \"temperature\": 0.2,\n",
    "            \"timeout\": 260\n",
    "        },\n",
    "        'hf_inference_api': {\n",
    "            \"name\": \"meta-llama/Llama-3.1-8B-Instruct\",\n",
    "            \"description\": \"Model served over HuggingFace Inference API\",\n",
    "            \"base_url\": \"https://router.huggingface.co/hf-inference/models/meta-llama/Llama-3.1-8B-Instruct/v1\",\n",
    "            \"model\": \"meta-llama/Llama-3.1-8B-Instruct\",\n",
    "            \"api_key_name\": \"hf_debatelab_inference_provider\",\n",
    "            \"backend_type\": \"tgi\",\n",
    "            \"default_headers\": {\"X-HF-Bill-To\": \"DebateLabKIT\"},\n",
    "            \"max_tokens\": 1024,\n",
    "            \"temperature\": 0.2,\n",
    "            \"timeout\": 260\n",
    "        },\n",
    "    }\n",
    ")"
   ]
  },
  {
   "cell_type": "markdown",
   "metadata": {},
   "source": [
    "### Instantiating preprocessor from yaml config file"
   ]
  },
  {
   "cell_type": "code",
   "execution_count": 4,
   "metadata": {},
   "outputs": [
    {
     "name": "stderr",
     "output_type": "stream",
     "text": [
      "\u001b[32m2025-07-22 11:15:45.739\u001b[0m | \u001b[33m\u001b[1mWARNING \u001b[0m | \u001b[36mevidence_seeker.preprocessing.config\u001b[0m:\u001b[36mload_env_file\u001b[0m:\u001b[36m57\u001b[0m - \u001b[33m\u001b[1mNo environment file with API keys specified for preprocessor. Please set 'env_file' to a valid path if you want to load environment variables from a file.\u001b[0m\n"
     ]
    }
   ],
   "source": [
    "from evidence_seeker import ClaimPreprocessor\n",
    "\n",
    "config_file = \"../configs/preprocessing_config_default.yaml\" \n",
    "\n",
    "preprocessor = ClaimPreprocessor.from_config_file(config_file)"
   ]
  },
  {
   "cell_type": "markdown",
   "metadata": {},
   "source": [
    "### Loading config from a yaml string"
   ]
  },
  {
   "cell_type": "code",
   "execution_count": 4,
   "metadata": {},
   "outputs": [
    {
     "name": "stderr",
     "output_type": "stream",
     "text": [
      "\u001b[32m2025-07-22 12:53:15.219\u001b[0m | \u001b[1mINFO    \u001b[0m | \u001b[36mevidence_seeker.preprocessing.config\u001b[0m:\u001b[36mload_env_file\u001b[0m:\u001b[36m77\u001b[0m - \u001b[1mLoaded environment variables from '../.env'\u001b[0m\n"
     ]
    },
    {
     "name": "stdout",
     "output_type": "stream",
     "text": [
      "You are a helpful assistant with outstanding expertise in critical thinking and logico-semantic analysis. \n",
      "You have a background in philosophy and experience in fact checking and debate analysis.\n",
      "You read instructions carefully and follow them precisely. You give concise and clear answers.\n",
      "together.ai\n",
      "{'name': 'Meta-Llama-3-Instruct', 'description': 'Model served via Together.ai over HuggingFace', 'base_url': 'https://router.huggingface.co/together/v1', 'model': 'meta-llama/Llama-3.2-3B-Instruct-Turbo', 'api_key_name': 'hf_debatelab_inference_provider', 'backend_type': 'openai', 'default_headers': {'X-HF-Bill-To': 'DebateLabKIT'}, 'max_tokens': 2048, 'temperature': 0.2, 'timeout': 260}\n"
     ]
    }
   ],
   "source": [
    "from evidence_seeker import ClaimPreprocessingConfig\n",
    "import yaml\n",
    "\n",
    "# Define a multiline YAML string\n",
    "yaml_string = \"\"\"\n",
    "timeout: 1200\n",
    "env_file: ../.env\n",
    "used_model_key: together.ai\n",
    "models:\n",
    "  together.ai:\n",
    "    name: Meta-Llama-3-Instruct\n",
    "    description: Model served via Together.ai over HuggingFace\n",
    "    base_url: https://router.huggingface.co/together/v1\n",
    "    model: meta-llama/Llama-3.2-3B-Instruct-Turbo\n",
    "    api_key_name: hf_debatelab_inference_provider\n",
    "    backend_type: openai\n",
    "    default_headers: \n",
    "      X-HF-Bill-To: DebateLabKIT\n",
    "    max_tokens: 2048\n",
    "    temperature: 0.2\n",
    "    timeout: 260\n",
    "  thages:\n",
    "    name: Meta-Llama-3-Instruct\n",
    "    description: Thages CompPhil²MMAE model (can only be used within KIT net)\n",
    "    base_url: http://thages.philosophie.kit.edu:8080/v1\n",
    "    model: meta-llama/Llama-3.1-8B-Instruct\n",
    "    api_key_name: thages\n",
    "    backend_type: tgi\n",
    "    max_tokens: 1024\n",
    "    temperature: 0.2\n",
    "    timeout: 260\n",
    "\n",
    "\"\"\"\n",
    "\n",
    "config = ClaimPreprocessingConfig(**yaml.safe_load(yaml_string))\n",
    "preprocessor = None\n",
    "# Parameters that are not specified in the YAML string will be set to their default values\n",
    "print(config.system_prompt)\n",
    "print(config.used_model_key)\n",
    "print(config.models[\"together.ai\"])\n",
    "\n"
   ]
  },
  {
   "cell_type": "markdown",
   "metadata": {},
   "source": [
    "### Running the preprocessor"
   ]
  },
  {
   "cell_type": "code",
   "execution_count": 3,
   "metadata": {},
   "outputs": [
    {
     "name": "stderr",
     "output_type": "stream",
     "text": [
      "\u001b[32m2025-07-22 11:15:23.051\u001b[0m | \u001b[34m\u001b[1mDEBUG   \u001b[0m | \u001b[36mevidence_seeker.preprocessing.workflows\u001b[0m:\u001b[36mascriptive_analysis\u001b[0m:\u001b[36m195\u001b[0m - \u001b[34m\u001b[1mAnalysing ascriptive aspects of claim 'Die Osterweiterung hat die EU-Institutionen nachhaltig geschwächt.'.\u001b[0m\n",
      "\u001b[32m2025-07-22 11:15:23.058\u001b[0m | \u001b[34m\u001b[1mDEBUG   \u001b[0m | \u001b[36mevidence_seeker.backend\u001b[0m:\u001b[36mget_openai_llm\u001b[0m:\u001b[36m236\u001b[0m - \u001b[34m\u001b[1mFetching api key via env var: hf_debatelab_inference_provider\u001b[0m\n",
      "\u001b[32m2025-07-22 11:15:23.062\u001b[0m | \u001b[34m\u001b[1mDEBUG   \u001b[0m | \u001b[36mevidence_seeker.backend\u001b[0m:\u001b[36mget_openai_llm\u001b[0m:\u001b[36m249\u001b[0m - \u001b[34m\u001b[1mInstantiating OpenAILike model (model: meta-llama/Llama-3.2-3B-Instruct-Turbo,base_url: https://router.huggingface.co/together/v1).\u001b[0m\n",
      "\u001b[32m2025-07-22 11:15:23.185\u001b[0m | \u001b[34m\u001b[1mDEBUG   \u001b[0m | \u001b[36mevidence_seeker.preprocessing.workflows\u001b[0m:\u001b[36mdescriptive_analysis\u001b[0m:\u001b[36m136\u001b[0m - \u001b[34m\u001b[1mAnalysing descriptive aspects of claim 'Die Osterweiterung hat die EU-Institutionen nachhaltig geschwächt.'.\u001b[0m\n",
      "\u001b[32m2025-07-22 11:15:23.202\u001b[0m | \u001b[34m\u001b[1mDEBUG   \u001b[0m | \u001b[36mevidence_seeker.preprocessing.workflows\u001b[0m:\u001b[36mnormative_analysis\u001b[0m:\u001b[36m252\u001b[0m - \u001b[34m\u001b[1mAnalysing normative aspects of claim: 'Die Osterweiterung hat die EU-Institutionen nachhaltig geschwächt.'.\u001b[0m\n",
      "\u001b[32m2025-07-22 11:15:29.109\u001b[0m | \u001b[34m\u001b[1mDEBUG   \u001b[0m | \u001b[36mevidence_seeker.preprocessing.workflows\u001b[0m:\u001b[36mlist_descriptive_claims\u001b[0m:\u001b[36m176\u001b[0m - \u001b[34m\u001b[1mIdentified 3 decriptive interpretations.\u001b[0m\n",
      "\u001b[32m2025-07-22 11:15:30.956\u001b[0m | \u001b[34m\u001b[1mDEBUG   \u001b[0m | \u001b[36mevidence_seeker.preprocessing.workflows\u001b[0m:\u001b[36mlist_ascriptive_claims\u001b[0m:\u001b[36m234\u001b[0m - \u001b[34m\u001b[1mIdentified 2 ascriptive interpretations.\u001b[0m\n",
      "\u001b[32m2025-07-22 11:15:32.695\u001b[0m | \u001b[34m\u001b[1mDEBUG   \u001b[0m | \u001b[36mevidence_seeker.preprocessing.workflows\u001b[0m:\u001b[36mlist_normative_claims\u001b[0m:\u001b[36m291\u001b[0m - \u001b[34m\u001b[1mIdentified 3 normative interpretations.\u001b[0m\n"
     ]
    }
   ],
   "source": [
    "from evidence_seeker import ClaimPreprocessor\n",
    "import asyncio\n",
    "\n",
    "if preprocessor is None:\n",
    "    preprocessor = ClaimPreprocessor(config=config)\n",
    "\n",
    "coros = [preprocessor(claim=claim) for claim in example_inputs[:1]]\n",
    "results = await asyncio.gather(*coros)"
   ]
  },
  {
   "cell_type": "code",
   "execution_count": 8,
   "metadata": {},
   "outputs": [
    {
     "name": "stdout",
     "output_type": "stream",
     "text": [
      "[{'average_confirmation': None,\n",
      "  'confirmation_by_document': None,\n",
      "  'documents': None,\n",
      "  'evidential_uncertainty': None,\n",
      "  'metadata': {},\n",
      "  'n_evidence': None,\n",
      "  'negation': 'Die Osterweiterung hat die EU-Institutionen nicht geschwächt',\n",
      "  'statement_type': <StatementType.NORMATIVE: 'normative'>,\n",
      "  'text': 'Die Osterweiterung hat die EU-Institutionen nachhaltig geschwächt',\n",
      "  'uid': 'eba87f7e-f9a2-47ab-965a-bd180d42c42e',\n",
      "  'verbalized_confirmation': None},\n",
      " {'average_confirmation': None,\n",
      "  'confirmation_by_document': None,\n",
      "  'documents': None,\n",
      "  'evidential_uncertainty': None,\n",
      "  'metadata': {},\n",
      "  'n_evidence': None,\n",
      "  'negation': 'Die EU-Institutionen sind stärker.',\n",
      "  'statement_type': <StatementType.NORMATIVE: 'normative'>,\n",
      "  'text': 'Die EU-Institutionen sind weniger stark',\n",
      "  'uid': '24ed8673-6dcc-4f29-9ee5-afcd296a4052',\n",
      "  'verbalized_confirmation': None},\n",
      " {'average_confirmation': None,\n",
      "  'confirmation_by_document': None,\n",
      "  'documents': None,\n",
      "  'evidential_uncertainty': None,\n",
      "  'metadata': {},\n",
      "  'n_evidence': None,\n",
      "  'negation': 'Die EU-Institutionen sind stark.',\n",
      "  'statement_type': <StatementType.NORMATIVE: 'normative'>,\n",
      "  'text': 'Die EU-Institutionen sind schwach',\n",
      "  'uid': 'cce1366b-100f-4405-a828-09e438ebd603',\n",
      "  'verbalized_confirmation': None},\n",
      " {'average_confirmation': None,\n",
      "  'confirmation_by_document': None,\n",
      "  'documents': None,\n",
      "  'evidential_uncertainty': None,\n",
      "  'metadata': {},\n",
      "  'n_evidence': None,\n",
      "  'negation': 'Die EU-Institutionen sind nachhaltig gestärkt',\n",
      "  'statement_type': <StatementType.NORMATIVE: 'normative'>,\n",
      "  'text': 'Die EU-Institutionen sind nachhaltig geschwächt',\n",
      "  'uid': '14b30fdb-3a3b-4b23-be68-378724d89d19',\n",
      "  'verbalized_confirmation': None},\n",
      " {'average_confirmation': None,\n",
      "  'confirmation_by_document': None,\n",
      "  'documents': None,\n",
      "  'evidential_uncertainty': None,\n",
      "  'metadata': {},\n",
      "  'n_evidence': None,\n",
      "  'negation': 'Die Osterweiterung hat die EU-Institutionen nicht geschwächt',\n",
      "  'statement_type': <StatementType.DESCRIPTIVE: 'descriptive'>,\n",
      "  'text': 'Die Osterweiterung hat die EU-Institutionen nachhaltig geschwächt',\n",
      "  'uid': '6c68d8a7-5e3c-4f11-993a-7b0860ed3e4a',\n",
      "  'verbalized_confirmation': None},\n",
      " {'average_confirmation': None,\n",
      "  'confirmation_by_document': None,\n",
      "  'documents': None,\n",
      "  'evidential_uncertainty': None,\n",
      "  'metadata': {},\n",
      "  'n_evidence': None,\n",
      "  'negation': 'Die EU-Institutionen sind nicht gleich Die EU-Institutionen.',\n",
      "  'statement_type': <StatementType.DESCRIPTIVE: 'descriptive'>,\n",
      "  'text': 'Die EU-Institutionen = Die EU-Institutionen',\n",
      "  'uid': '69fde33e-fdb7-4a3c-974e-b62208592c57',\n",
      "  'verbalized_confirmation': None},\n",
      " {'average_confirmation': None,\n",
      "  'confirmation_by_document': None,\n",
      "  'documents': None,\n",
      "  'evidential_uncertainty': None,\n",
      "  'metadata': {},\n",
      "  'n_evidence': None,\n",
      "  'negation': 'Die Osterweiterung hat die EU-Institutionen nicht geschwächt',\n",
      "  'statement_type': <StatementType.DESCRIPTIVE: 'descriptive'>,\n",
      "  'text': 'Die Osterweiterung hat die EU-Institutionen permanent geschwächt',\n",
      "  'uid': 'b1021591-58ee-4373-8409-42d0ef28d2e5',\n",
      "  'verbalized_confirmation': None},\n",
      " {'average_confirmation': None,\n",
      "  'confirmation_by_document': None,\n",
      "  'documents': None,\n",
      "  'evidential_uncertainty': None,\n",
      "  'metadata': {},\n",
      "  'n_evidence': None,\n",
      "  'negation': 'Die EU-Institutionen sind nachhaltig stärker als bisher',\n",
      "  'statement_type': <StatementType.DESCRIPTIVE: 'descriptive'>,\n",
      "  'text': 'Die EU-Institutionen sind nachhaltig geschwächt',\n",
      "  'uid': 'ada5f892-f90a-4642-8408-a11abdf382cc',\n",
      "  'verbalized_confirmation': None},\n",
      " {'average_confirmation': None,\n",
      "  'confirmation_by_document': None,\n",
      "  'documents': None,\n",
      "  'evidential_uncertainty': None,\n",
      "  'metadata': {},\n",
      "  'n_evidence': None,\n",
      "  'negation': 'Die Osterweiterung hat die EU-Institutionen stärken.',\n",
      "  'statement_type': <StatementType.DESCRIPTIVE: 'descriptive'>,\n",
      "  'text': 'Die Osterweiterung hat die EU-Institutionen geschwächt',\n",
      "  'uid': 'de9ec53e-a070-4e60-a9e8-9d63377620da',\n",
      "  'verbalized_confirmation': None},\n",
      " {'average_confirmation': None,\n",
      "  'confirmation_by_document': None,\n",
      "  'documents': None,\n",
      "  'evidential_uncertainty': None,\n",
      "  'metadata': {},\n",
      "  'n_evidence': None,\n",
      "  'negation': 'Die Osterweiterung hat die EU-Institutionen stärkt, und diese '\n",
      "              'Stärkung ist nachhaltig.',\n",
      "  'statement_type': <StatementType.ASCRIPTIVE: 'ascriptive'>,\n",
      "  'text': 'Die Osterweiterung hat die EU-Institutionen geschwächt, und diese '\n",
      "          'Schwächung ist nachhaltig.',\n",
      "  'uid': '4b7935f6-46dd-4fd6-ada6-da36d0fc6bf5',\n",
      "  'verbalized_confirmation': None},\n",
      " {'average_confirmation': None,\n",
      "  'confirmation_by_document': None,\n",
      "  'documents': None,\n",
      "  'evidential_uncertainty': None,\n",
      "  'metadata': {},\n",
      "  'n_evidence': None,\n",
      "  'negation': 'Die Osterweiterung hat die EU-Institutionen nicht nachhaltig '\n",
      "              'geschwächt.',\n",
      "  'statement_type': <StatementType.ASCRIPTIVE: 'ascriptive'>,\n",
      "  'text': 'Die Osterweiterung hat die EU-Institutionen nachhaltig geschwächt.',\n",
      "  'uid': '3a754faf-b115-4ce6-a276-bba5c60ece4b',\n",
      "  'verbalized_confirmation': None},\n",
      " {'average_confirmation': None,\n",
      "  'confirmation_by_document': None,\n",
      "  'documents': None,\n",
      "  'evidential_uncertainty': None,\n",
      "  'metadata': {},\n",
      "  'n_evidence': None,\n",
      "  'negation': 'Die EU-Institutionen sind nachhaltig gestärkt worden, weil die '\n",
      "              'Osterweiterung die EU-Institutionen gestärkt hat.',\n",
      "  'statement_type': <StatementType.ASCRIPTIVE: 'ascriptive'>,\n",
      "  'text': 'Die EU-Institutionen sind nachhaltig geschwächt worden, weil die '\n",
      "          'Osterweiterung die EU-Institutionen geschwächt hat.',\n",
      "  'uid': '71f7a548-4e8e-43ee-ab83-cf227ccbe8a5',\n",
      "  'verbalized_confirmation': None},\n",
      " {'average_confirmation': None,\n",
      "  'confirmation_by_document': None,\n",
      "  'documents': None,\n",
      "  'evidential_uncertainty': None,\n",
      "  'metadata': {},\n",
      "  'n_evidence': None,\n",
      "  'negation': 'Die EU-Institutionen sind nicht permanent geschwächt.',\n",
      "  'statement_type': <StatementType.DESCRIPTIVE: 'descriptive'>,\n",
      "  'text': 'Die EU-Institutionen sind permanent geschwächt',\n",
      "  'uid': '279debe7-262f-4f98-9b54-870ea4498029',\n",
      "  'verbalized_confirmation': None},\n",
      " {'average_confirmation': None,\n",
      "  'confirmation_by_document': None,\n",
      "  'documents': None,\n",
      "  'evidential_uncertainty': None,\n",
      "  'metadata': {},\n",
      "  'n_evidence': None,\n",
      "  'negation': 'Die Osterweiterung ist nicht gleich der Osterweiterung.',\n",
      "  'statement_type': <StatementType.DESCRIPTIVE: 'descriptive'>,\n",
      "  'text': 'Die Osterweiterung = Die Osterweiterung',\n",
      "  'uid': '6c9724ac-a14f-4ef3-8ddd-e8e7eb6ba0d7',\n",
      "  'verbalized_confirmation': None}]\n"
     ]
    }
   ],
   "source": [
    "from pprint import pprint\n",
    "\n",
    "for clarified_claims in results:\n",
    "    pprint([cc.model_dump() for cc in clarified_claims])"
   ]
  }
 ],
 "metadata": {
  "kernelspec": {
   "display_name": "evse-dev_env.py3.12",
   "language": "python",
   "name": "python3"
  },
  "language_info": {
   "codemirror_mode": {
    "name": "ipython",
    "version": 3
   },
   "file_extension": ".py",
   "mimetype": "text/x-python",
   "name": "python",
   "nbconvert_exporter": "python",
   "pygments_lexer": "ipython3",
   "version": "3.12.9"
  }
 },
 "nbformat": 4,
 "nbformat_minor": 2
}
